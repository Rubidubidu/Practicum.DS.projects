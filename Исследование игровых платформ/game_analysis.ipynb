{
 "cells": [
  {
   "cell_type": "markdown",
   "metadata": {},
   "source": [
    "# Анализ игр\n",
    "Нам передали данные об играх.\n",
    "\n",
    "***Описание данных:*** CSV-файл с данными об играх. О качестве данных ничего неизвестно, так что понадобится провести их обзор и подготовку.\n",
    "\n",
    "Описание столбцов датасета:\n",
    "- `Name` — название игры;\n",
    "- `Platform` — платформа;\n",
    "- `Year_of_Release` — год выпуска;\n",
    "- `Genre` — жанр игры;\n",
    "- `NA_sales` — продажи в Северной Америке (миллионы проданных копий);\n",
    "- `EU_sales` — продажи в Европе (миллионы проданных копий);\n",
    "- `JP_sales` — продажи в Японии (миллионы проданных копий);\n",
    "- `Other_sales` — продажи в других странах (миллионы проданных копий);\n",
    "- `Critic_Score` — оценка критиков (максимум 100);\n",
    "- `User_Score` — оценка пользователей (максимум 10);\n",
    "- `Rating` — рейтинг от организации ESRB (англ. Entertainment Software Rating Board). Эта ассоциация определяет рейтинг компьютерных игр и присваивает им подходящую возрастную категорию.\n",
    "\n",
    "Данные за 2016 год могут быть неполными.\n",
    "\n",
    "***Цель исследования:*** Проанализировать данные, составить портрет пользователя и проверить некоторые гипотезы, которые помогут спрогнозировать продажи.\n",
    "\n",
    "***Ход исследования:*** Планируется 6 этапов:\n",
    "- Обзор данных\n",
    "- Подготовка данных\n",
    "- Исследовательский анализ данных\n",
    "- Составление портрета пользователя каждого региона\n",
    "- Проверка гипотез\n",
    "- Общий вывод"
   ]
  },
  {
   "cell_type": "code",
   "execution_count": 2,
   "metadata": {},
   "outputs": [],
   "source": [
    "# Импортируем необходимые библиотеки.\n",
    "import pandas as pd\n",
    "import numpy as np\n",
    "import seaborn as sns\n",
    "from scipy import stats as st\n",
    "import matplotlib.pyplot as plt"
   ]
  },
  {
   "cell_type": "markdown",
   "metadata": {},
   "source": [
    "## Обзор данных"
   ]
  },
  {
   "cell_type": "code",
   "execution_count": 3,
   "metadata": {},
   "outputs": [
    {
     "data": {
      "text/html": [
       "<div>\n",
       "<style scoped>\n",
       "    .dataframe tbody tr th:only-of-type {\n",
       "        vertical-align: middle;\n",
       "    }\n",
       "\n",
       "    .dataframe tbody tr th {\n",
       "        vertical-align: top;\n",
       "    }\n",
       "\n",
       "    .dataframe thead th {\n",
       "        text-align: right;\n",
       "    }\n",
       "</style>\n",
       "<table border=\"1\" class=\"dataframe\">\n",
       "  <thead>\n",
       "    <tr style=\"text-align: right;\">\n",
       "      <th></th>\n",
       "      <th>Name</th>\n",
       "      <th>Platform</th>\n",
       "      <th>Year_of_Release</th>\n",
       "      <th>Genre</th>\n",
       "      <th>NA_sales</th>\n",
       "      <th>EU_sales</th>\n",
       "      <th>JP_sales</th>\n",
       "      <th>Other_sales</th>\n",
       "      <th>Critic_Score</th>\n",
       "      <th>User_Score</th>\n",
       "      <th>Rating</th>\n",
       "    </tr>\n",
       "  </thead>\n",
       "  <tbody>\n",
       "    <tr>\n",
       "      <th>0</th>\n",
       "      <td>Wii Sports</td>\n",
       "      <td>Wii</td>\n",
       "      <td>2006.0</td>\n",
       "      <td>Sports</td>\n",
       "      <td>41.36</td>\n",
       "      <td>28.96</td>\n",
       "      <td>3.77</td>\n",
       "      <td>8.45</td>\n",
       "      <td>76.0</td>\n",
       "      <td>8</td>\n",
       "      <td>E</td>\n",
       "    </tr>\n",
       "    <tr>\n",
       "      <th>1</th>\n",
       "      <td>Super Mario Bros.</td>\n",
       "      <td>NES</td>\n",
       "      <td>1985.0</td>\n",
       "      <td>Platform</td>\n",
       "      <td>29.08</td>\n",
       "      <td>3.58</td>\n",
       "      <td>6.81</td>\n",
       "      <td>0.77</td>\n",
       "      <td>NaN</td>\n",
       "      <td>NaN</td>\n",
       "      <td>NaN</td>\n",
       "    </tr>\n",
       "    <tr>\n",
       "      <th>2</th>\n",
       "      <td>Mario Kart Wii</td>\n",
       "      <td>Wii</td>\n",
       "      <td>2008.0</td>\n",
       "      <td>Racing</td>\n",
       "      <td>15.68</td>\n",
       "      <td>12.76</td>\n",
       "      <td>3.79</td>\n",
       "      <td>3.29</td>\n",
       "      <td>82.0</td>\n",
       "      <td>8.3</td>\n",
       "      <td>E</td>\n",
       "    </tr>\n",
       "    <tr>\n",
       "      <th>3</th>\n",
       "      <td>Wii Sports Resort</td>\n",
       "      <td>Wii</td>\n",
       "      <td>2009.0</td>\n",
       "      <td>Sports</td>\n",
       "      <td>15.61</td>\n",
       "      <td>10.93</td>\n",
       "      <td>3.28</td>\n",
       "      <td>2.95</td>\n",
       "      <td>80.0</td>\n",
       "      <td>8</td>\n",
       "      <td>E</td>\n",
       "    </tr>\n",
       "    <tr>\n",
       "      <th>4</th>\n",
       "      <td>Pokemon Red/Pokemon Blue</td>\n",
       "      <td>GB</td>\n",
       "      <td>1996.0</td>\n",
       "      <td>Role-Playing</td>\n",
       "      <td>11.27</td>\n",
       "      <td>8.89</td>\n",
       "      <td>10.22</td>\n",
       "      <td>1.00</td>\n",
       "      <td>NaN</td>\n",
       "      <td>NaN</td>\n",
       "      <td>NaN</td>\n",
       "    </tr>\n",
       "    <tr>\n",
       "      <th>5</th>\n",
       "      <td>Tetris</td>\n",
       "      <td>GB</td>\n",
       "      <td>1989.0</td>\n",
       "      <td>Puzzle</td>\n",
       "      <td>23.20</td>\n",
       "      <td>2.26</td>\n",
       "      <td>4.22</td>\n",
       "      <td>0.58</td>\n",
       "      <td>NaN</td>\n",
       "      <td>NaN</td>\n",
       "      <td>NaN</td>\n",
       "    </tr>\n",
       "    <tr>\n",
       "      <th>6</th>\n",
       "      <td>New Super Mario Bros.</td>\n",
       "      <td>DS</td>\n",
       "      <td>2006.0</td>\n",
       "      <td>Platform</td>\n",
       "      <td>11.28</td>\n",
       "      <td>9.14</td>\n",
       "      <td>6.50</td>\n",
       "      <td>2.88</td>\n",
       "      <td>89.0</td>\n",
       "      <td>8.5</td>\n",
       "      <td>E</td>\n",
       "    </tr>\n",
       "    <tr>\n",
       "      <th>7</th>\n",
       "      <td>Wii Play</td>\n",
       "      <td>Wii</td>\n",
       "      <td>2006.0</td>\n",
       "      <td>Misc</td>\n",
       "      <td>13.96</td>\n",
       "      <td>9.18</td>\n",
       "      <td>2.93</td>\n",
       "      <td>2.84</td>\n",
       "      <td>58.0</td>\n",
       "      <td>6.6</td>\n",
       "      <td>E</td>\n",
       "    </tr>\n",
       "    <tr>\n",
       "      <th>8</th>\n",
       "      <td>New Super Mario Bros. Wii</td>\n",
       "      <td>Wii</td>\n",
       "      <td>2009.0</td>\n",
       "      <td>Platform</td>\n",
       "      <td>14.44</td>\n",
       "      <td>6.94</td>\n",
       "      <td>4.70</td>\n",
       "      <td>2.24</td>\n",
       "      <td>87.0</td>\n",
       "      <td>8.4</td>\n",
       "      <td>E</td>\n",
       "    </tr>\n",
       "    <tr>\n",
       "      <th>9</th>\n",
       "      <td>Duck Hunt</td>\n",
       "      <td>NES</td>\n",
       "      <td>1984.0</td>\n",
       "      <td>Shooter</td>\n",
       "      <td>26.93</td>\n",
       "      <td>0.63</td>\n",
       "      <td>0.28</td>\n",
       "      <td>0.47</td>\n",
       "      <td>NaN</td>\n",
       "      <td>NaN</td>\n",
       "      <td>NaN</td>\n",
       "    </tr>\n",
       "  </tbody>\n",
       "</table>\n",
       "</div>"
      ],
      "text/plain": [
       "                        Name Platform  Year_of_Release         Genre  \\\n",
       "0                 Wii Sports      Wii           2006.0        Sports   \n",
       "1          Super Mario Bros.      NES           1985.0      Platform   \n",
       "2             Mario Kart Wii      Wii           2008.0        Racing   \n",
       "3          Wii Sports Resort      Wii           2009.0        Sports   \n",
       "4   Pokemon Red/Pokemon Blue       GB           1996.0  Role-Playing   \n",
       "5                     Tetris       GB           1989.0        Puzzle   \n",
       "6      New Super Mario Bros.       DS           2006.0      Platform   \n",
       "7                   Wii Play      Wii           2006.0          Misc   \n",
       "8  New Super Mario Bros. Wii      Wii           2009.0      Platform   \n",
       "9                  Duck Hunt      NES           1984.0       Shooter   \n",
       "\n",
       "   NA_sales  EU_sales  JP_sales  Other_sales  Critic_Score User_Score Rating  \n",
       "0     41.36     28.96      3.77         8.45          76.0          8      E  \n",
       "1     29.08      3.58      6.81         0.77           NaN        NaN    NaN  \n",
       "2     15.68     12.76      3.79         3.29          82.0        8.3      E  \n",
       "3     15.61     10.93      3.28         2.95          80.0          8      E  \n",
       "4     11.27      8.89     10.22         1.00           NaN        NaN    NaN  \n",
       "5     23.20      2.26      4.22         0.58           NaN        NaN    NaN  \n",
       "6     11.28      9.14      6.50         2.88          89.0        8.5      E  \n",
       "7     13.96      9.18      2.93         2.84          58.0        6.6      E  \n",
       "8     14.44      6.94      4.70         2.24          87.0        8.4      E  \n",
       "9     26.93      0.63      0.28         0.47           NaN        NaN    NaN  "
      ]
     },
     "execution_count": 3,
     "metadata": {},
     "output_type": "execute_result"
    }
   ],
   "source": [
    "# Откроем фаил и изучим его.\n",
    "data = pd.read_csv('/datasets/games.csv')\n",
    "data.head(10)"
   ]
  },
  {
   "cell_type": "code",
   "execution_count": 4,
   "metadata": {},
   "outputs": [
    {
     "name": "stdout",
     "output_type": "stream",
     "text": [
      "<class 'pandas.core.frame.DataFrame'>\n",
      "RangeIndex: 16715 entries, 0 to 16714\n",
      "Data columns (total 11 columns):\n",
      " #   Column           Non-Null Count  Dtype  \n",
      "---  ------           --------------  -----  \n",
      " 0   Name             16713 non-null  object \n",
      " 1   Platform         16715 non-null  object \n",
      " 2   Year_of_Release  16446 non-null  float64\n",
      " 3   Genre            16713 non-null  object \n",
      " 4   NA_sales         16715 non-null  float64\n",
      " 5   EU_sales         16715 non-null  float64\n",
      " 6   JP_sales         16715 non-null  float64\n",
      " 7   Other_sales      16715 non-null  float64\n",
      " 8   Critic_Score     8137 non-null   float64\n",
      " 9   User_Score       10014 non-null  object \n",
      " 10  Rating           9949 non-null   object \n",
      "dtypes: float64(6), object(5)\n",
      "memory usage: 1.4+ MB\n"
     ]
    }
   ],
   "source": [
    "data.info()"
   ]
  },
  {
   "cell_type": "code",
   "execution_count": 5,
   "metadata": {},
   "outputs": [
    {
     "data": {
      "text/plain": [
       "16715"
      ]
     },
     "execution_count": 5,
     "metadata": {},
     "output_type": "execute_result"
    }
   ],
   "source": [
    "# Отметим изначальное количество строк данных\n",
    "data_starting_entries = data.shape[0]\n",
    "data_starting_entries"
   ]
  },
  {
   "cell_type": "markdown",
   "metadata": {},
   "source": [
    "**Промежуточный вывод:** Видим данные об играх (название, платформа, год релиза, жанр), их продажах (в Северной Америке, Европе, Японии и других местах), оценки критиков, пользователей и возрастной рейтинг."
   ]
  },
  {
   "cell_type": "markdown",
   "metadata": {},
   "source": [
    "## Подготовка данных"
   ]
  },
  {
   "cell_type": "code",
   "execution_count": 6,
   "metadata": {},
   "outputs": [
    {
     "data": {
      "text/html": [
       "<div>\n",
       "<style scoped>\n",
       "    .dataframe tbody tr th:only-of-type {\n",
       "        vertical-align: middle;\n",
       "    }\n",
       "\n",
       "    .dataframe tbody tr th {\n",
       "        vertical-align: top;\n",
       "    }\n",
       "\n",
       "    .dataframe thead th {\n",
       "        text-align: right;\n",
       "    }\n",
       "</style>\n",
       "<table border=\"1\" class=\"dataframe\">\n",
       "  <thead>\n",
       "    <tr style=\"text-align: right;\">\n",
       "      <th></th>\n",
       "      <th>name</th>\n",
       "      <th>platform</th>\n",
       "      <th>year_of_release</th>\n",
       "      <th>genre</th>\n",
       "      <th>na_sales</th>\n",
       "      <th>eu_sales</th>\n",
       "      <th>jp_sales</th>\n",
       "      <th>other_sales</th>\n",
       "      <th>critic_score</th>\n",
       "      <th>user_score</th>\n",
       "      <th>rating</th>\n",
       "    </tr>\n",
       "  </thead>\n",
       "  <tbody>\n",
       "    <tr>\n",
       "      <th>0</th>\n",
       "      <td>Wii Sports</td>\n",
       "      <td>Wii</td>\n",
       "      <td>2006.0</td>\n",
       "      <td>Sports</td>\n",
       "      <td>41.36</td>\n",
       "      <td>28.96</td>\n",
       "      <td>3.77</td>\n",
       "      <td>8.45</td>\n",
       "      <td>76.0</td>\n",
       "      <td>8</td>\n",
       "      <td>E</td>\n",
       "    </tr>\n",
       "    <tr>\n",
       "      <th>1</th>\n",
       "      <td>Super Mario Bros.</td>\n",
       "      <td>NES</td>\n",
       "      <td>1985.0</td>\n",
       "      <td>Platform</td>\n",
       "      <td>29.08</td>\n",
       "      <td>3.58</td>\n",
       "      <td>6.81</td>\n",
       "      <td>0.77</td>\n",
       "      <td>NaN</td>\n",
       "      <td>NaN</td>\n",
       "      <td>NaN</td>\n",
       "    </tr>\n",
       "    <tr>\n",
       "      <th>2</th>\n",
       "      <td>Mario Kart Wii</td>\n",
       "      <td>Wii</td>\n",
       "      <td>2008.0</td>\n",
       "      <td>Racing</td>\n",
       "      <td>15.68</td>\n",
       "      <td>12.76</td>\n",
       "      <td>3.79</td>\n",
       "      <td>3.29</td>\n",
       "      <td>82.0</td>\n",
       "      <td>8.3</td>\n",
       "      <td>E</td>\n",
       "    </tr>\n",
       "    <tr>\n",
       "      <th>3</th>\n",
       "      <td>Wii Sports Resort</td>\n",
       "      <td>Wii</td>\n",
       "      <td>2009.0</td>\n",
       "      <td>Sports</td>\n",
       "      <td>15.61</td>\n",
       "      <td>10.93</td>\n",
       "      <td>3.28</td>\n",
       "      <td>2.95</td>\n",
       "      <td>80.0</td>\n",
       "      <td>8</td>\n",
       "      <td>E</td>\n",
       "    </tr>\n",
       "    <tr>\n",
       "      <th>4</th>\n",
       "      <td>Pokemon Red/Pokemon Blue</td>\n",
       "      <td>GB</td>\n",
       "      <td>1996.0</td>\n",
       "      <td>Role-Playing</td>\n",
       "      <td>11.27</td>\n",
       "      <td>8.89</td>\n",
       "      <td>10.22</td>\n",
       "      <td>1.00</td>\n",
       "      <td>NaN</td>\n",
       "      <td>NaN</td>\n",
       "      <td>NaN</td>\n",
       "    </tr>\n",
       "  </tbody>\n",
       "</table>\n",
       "</div>"
      ],
      "text/plain": [
       "                       name platform  year_of_release         genre  na_sales  \\\n",
       "0                Wii Sports      Wii           2006.0        Sports     41.36   \n",
       "1         Super Mario Bros.      NES           1985.0      Platform     29.08   \n",
       "2            Mario Kart Wii      Wii           2008.0        Racing     15.68   \n",
       "3         Wii Sports Resort      Wii           2009.0        Sports     15.61   \n",
       "4  Pokemon Red/Pokemon Blue       GB           1996.0  Role-Playing     11.27   \n",
       "\n",
       "   eu_sales  jp_sales  other_sales  critic_score user_score rating  \n",
       "0     28.96      3.77         8.45          76.0          8      E  \n",
       "1      3.58      6.81         0.77           NaN        NaN    NaN  \n",
       "2     12.76      3.79         3.29          82.0        8.3      E  \n",
       "3     10.93      3.28         2.95          80.0          8      E  \n",
       "4      8.89     10.22         1.00           NaN        NaN    NaN  "
      ]
     },
     "execution_count": 6,
     "metadata": {},
     "output_type": "execute_result"
    }
   ],
   "source": [
    "# Приведем названия столбцов к нижнему регистру.\n",
    "data.columns = data.columns.str.lower()\n",
    "data.head()"
   ]
  },
  {
   "cell_type": "code",
   "execution_count": 7,
   "metadata": {},
   "outputs": [
    {
     "data": {
      "text/plain": [
       "name                  2\n",
       "platform              0\n",
       "year_of_release     269\n",
       "genre                 2\n",
       "na_sales              0\n",
       "eu_sales              0\n",
       "jp_sales              0\n",
       "other_sales           0\n",
       "critic_score       8578\n",
       "user_score         6701\n",
       "rating             6766\n",
       "dtype: int64"
      ]
     },
     "execution_count": 7,
     "metadata": {},
     "output_type": "execute_result"
    }
   ],
   "source": [
    "# Обработаем пропущенные значения.\n",
    "data.isna().sum()"
   ]
  },
  {
   "cell_type": "code",
   "execution_count": 8,
   "metadata": {},
   "outputs": [],
   "source": [
    "# Уберем строки с пропущенным названием, жанром и годом релиза.\n",
    "# Это важные данные для анализа, а небольшим количеством пропусков\n",
    "# можно принебречь.\n",
    "data = data.dropna(subset = ['name', 'genre', 'year_of_release'])"
   ]
  },
  {
   "cell_type": "code",
   "execution_count": 9,
   "metadata": {},
   "outputs": [],
   "source": [
    "# Заполним пропуски в critic_score.\n",
    "# Так как причины отсутствия рейтинга могут быть разными,\n",
    "# от нехватки/отсутствия обзоров до\n",
    "# ошибки при переносе,\n",
    "# корректно будет заменить оценку на какую-нибудь легко исключаемую\n",
    "# при анализе данных, например -1.\n",
    "data['critic_score'] = data['critic_score'].fillna(-1)"
   ]
  },
  {
   "cell_type": "code",
   "execution_count": 10,
   "metadata": {},
   "outputs": [
    {
     "data": {
      "text/plain": [
       "array(['8', nan, '8.3', '8.5', '6.6', '8.4', '8.6', '7.7', '6.3', '7.4',\n",
       "       '8.2', '9', '7.9', '8.1', '8.7', '7.1', '3.4', '5.3', '4.8', '3.2',\n",
       "       '8.9', '6.4', '7.8', '7.5', '2.6', '7.2', '9.2', '7', '7.3', '4.3',\n",
       "       '7.6', '5.7', '5', '9.1', '6.5', 'tbd', '8.8', '6.9', '9.4', '6.8',\n",
       "       '6.1', '6.7', '5.4', '4', '4.9', '4.5', '9.3', '6.2', '4.2', '6',\n",
       "       '3.7', '4.1', '5.8', '5.6', '5.5', '4.4', '4.6', '5.9', '3.9',\n",
       "       '3.1', '2.9', '5.2', '3.3', '4.7', '5.1', '3.5', '2.5', '1.9', '3',\n",
       "       '2.7', '2.2', '2', '9.5', '2.1', '3.6', '2.8', '1.8', '3.8', '0',\n",
       "       '1.6', '9.6', '2.4', '1.7', '1.1', '0.3', '1.5', '0.7', '1.2',\n",
       "       '2.3', '0.5', '1.3', '0.2', '0.6', '1.4', '0.9', '1', '9.7'],\n",
       "      dtype=object)"
      ]
     },
     "execution_count": 10,
     "metadata": {},
     "output_type": "execute_result"
    }
   ],
   "source": [
    "# Так же поступим и с user_score, но надо проверить значения в столбце.\n",
    "data['user_score'].unique()"
   ]
  },
  {
   "cell_type": "code",
   "execution_count": 11,
   "metadata": {},
   "outputs": [],
   "source": [
    "# Видим, что помимо \"nan\" есть еще \"tbd\" (to be determined) -\n",
    "# видимо на момент составления таблицы данных для выставления оценки\n",
    "# пользователей было недостаточно.\n",
    "\n",
    "# Приведем пропуски к одному виду.\n",
    "data['user_score'] = (data['user_score'].replace(['nan', 'tbd'], np.nan, regex=True))\n",
    "# Заменим эти значения на -1.\n",
    "data['user_score'] = data['user_score'].fillna(-1)"
   ]
  },
  {
   "cell_type": "code",
   "execution_count": 12,
   "metadata": {},
   "outputs": [],
   "source": [
    "# Пропуски в столбце рейтинга обозначим как неизвестные значения, т.к.\n",
    "# присвоить определенный рейтинг разным играм будет некорректно.\n",
    "data['rating'] = data['rating'].fillna('unknown')"
   ]
  },
  {
   "cell_type": "code",
   "execution_count": 13,
   "metadata": {},
   "outputs": [],
   "source": [
    "# Восстановим индексы.\n",
    "data = data.reset_index(drop=True)"
   ]
  },
  {
   "cell_type": "code",
   "execution_count": 14,
   "metadata": {},
   "outputs": [],
   "source": [
    "# Преобразуем данные в нужные типы:\n",
    "\n",
    "# Год релиза - целое число.\n",
    "data['year_of_release'] = data['year_of_release'].astype(int)\n",
    "\n",
    "# Оценки критиков от 0 до 100 - тоже.\n",
    "data['critic_score'] = data['critic_score'].astype(int)\n",
    "\n",
    "# Оценки пользователей от 0 до 10 могут быть дробным числом.\n",
    "data['user_score'] = data['user_score'].astype(float)"
   ]
  },
  {
   "cell_type": "code",
   "execution_count": 15,
   "metadata": {},
   "outputs": [
    {
     "data": {
      "text/html": [
       "<div>\n",
       "<style scoped>\n",
       "    .dataframe tbody tr th:only-of-type {\n",
       "        vertical-align: middle;\n",
       "    }\n",
       "\n",
       "    .dataframe tbody tr th {\n",
       "        vertical-align: top;\n",
       "    }\n",
       "\n",
       "    .dataframe thead th {\n",
       "        text-align: right;\n",
       "    }\n",
       "</style>\n",
       "<table border=\"1\" class=\"dataframe\">\n",
       "  <thead>\n",
       "    <tr style=\"text-align: right;\">\n",
       "      <th></th>\n",
       "      <th>name</th>\n",
       "      <th>platform</th>\n",
       "      <th>year_of_release</th>\n",
       "      <th>genre</th>\n",
       "      <th>na_sales</th>\n",
       "      <th>eu_sales</th>\n",
       "      <th>jp_sales</th>\n",
       "      <th>other_sales</th>\n",
       "      <th>critic_score</th>\n",
       "      <th>user_score</th>\n",
       "      <th>rating</th>\n",
       "      <th>total_sales</th>\n",
       "    </tr>\n",
       "  </thead>\n",
       "  <tbody>\n",
       "    <tr>\n",
       "      <th>0</th>\n",
       "      <td>Wii Sports</td>\n",
       "      <td>Wii</td>\n",
       "      <td>2006</td>\n",
       "      <td>Sports</td>\n",
       "      <td>41.36</td>\n",
       "      <td>28.96</td>\n",
       "      <td>3.77</td>\n",
       "      <td>8.45</td>\n",
       "      <td>76</td>\n",
       "      <td>8.0</td>\n",
       "      <td>E</td>\n",
       "      <td>82.54</td>\n",
       "    </tr>\n",
       "    <tr>\n",
       "      <th>1</th>\n",
       "      <td>Super Mario Bros.</td>\n",
       "      <td>NES</td>\n",
       "      <td>1985</td>\n",
       "      <td>Platform</td>\n",
       "      <td>29.08</td>\n",
       "      <td>3.58</td>\n",
       "      <td>6.81</td>\n",
       "      <td>0.77</td>\n",
       "      <td>-1</td>\n",
       "      <td>-1.0</td>\n",
       "      <td>unknown</td>\n",
       "      <td>40.24</td>\n",
       "    </tr>\n",
       "    <tr>\n",
       "      <th>2</th>\n",
       "      <td>Mario Kart Wii</td>\n",
       "      <td>Wii</td>\n",
       "      <td>2008</td>\n",
       "      <td>Racing</td>\n",
       "      <td>15.68</td>\n",
       "      <td>12.76</td>\n",
       "      <td>3.79</td>\n",
       "      <td>3.29</td>\n",
       "      <td>82</td>\n",
       "      <td>8.3</td>\n",
       "      <td>E</td>\n",
       "      <td>35.52</td>\n",
       "    </tr>\n",
       "    <tr>\n",
       "      <th>3</th>\n",
       "      <td>Wii Sports Resort</td>\n",
       "      <td>Wii</td>\n",
       "      <td>2009</td>\n",
       "      <td>Sports</td>\n",
       "      <td>15.61</td>\n",
       "      <td>10.93</td>\n",
       "      <td>3.28</td>\n",
       "      <td>2.95</td>\n",
       "      <td>80</td>\n",
       "      <td>8.0</td>\n",
       "      <td>E</td>\n",
       "      <td>32.77</td>\n",
       "    </tr>\n",
       "    <tr>\n",
       "      <th>4</th>\n",
       "      <td>Pokemon Red/Pokemon Blue</td>\n",
       "      <td>GB</td>\n",
       "      <td>1996</td>\n",
       "      <td>Role-Playing</td>\n",
       "      <td>11.27</td>\n",
       "      <td>8.89</td>\n",
       "      <td>10.22</td>\n",
       "      <td>1.00</td>\n",
       "      <td>-1</td>\n",
       "      <td>-1.0</td>\n",
       "      <td>unknown</td>\n",
       "      <td>31.38</td>\n",
       "    </tr>\n",
       "  </tbody>\n",
       "</table>\n",
       "</div>"
      ],
      "text/plain": [
       "                       name platform  year_of_release         genre  na_sales  \\\n",
       "0                Wii Sports      Wii             2006        Sports     41.36   \n",
       "1         Super Mario Bros.      NES             1985      Platform     29.08   \n",
       "2            Mario Kart Wii      Wii             2008        Racing     15.68   \n",
       "3         Wii Sports Resort      Wii             2009        Sports     15.61   \n",
       "4  Pokemon Red/Pokemon Blue       GB             1996  Role-Playing     11.27   \n",
       "\n",
       "   eu_sales  jp_sales  other_sales  critic_score  user_score   rating  \\\n",
       "0     28.96      3.77         8.45            76         8.0        E   \n",
       "1      3.58      6.81         0.77            -1        -1.0  unknown   \n",
       "2     12.76      3.79         3.29            82         8.3        E   \n",
       "3     10.93      3.28         2.95            80         8.0        E   \n",
       "4      8.89     10.22         1.00            -1        -1.0  unknown   \n",
       "\n",
       "   total_sales  \n",
       "0        82.54  \n",
       "1        40.24  \n",
       "2        35.52  \n",
       "3        32.77  \n",
       "4        31.38  "
      ]
     },
     "execution_count": 15,
     "metadata": {},
     "output_type": "execute_result"
    }
   ],
   "source": [
    "# Добавим столбец суммарных продаж во всех регионах.\n",
    "data['total_sales'] = data['na_sales'] + data['eu_sales'] + data['jp_sales'] + data['other_sales']\n",
    "data.head()"
   ]
  },
  {
   "cell_type": "code",
   "execution_count": 16,
   "metadata": {},
   "outputs": [
    {
     "data": {
      "text/plain": [
       "0.9837870176488184"
      ]
     },
     "execution_count": 16,
     "metadata": {},
     "output_type": "execute_result"
    }
   ],
   "source": [
    "# Проверим, какая доля от изначального количества данных осталась после фильтрации.\n",
    "data.shape[0] / data_starting_entries"
   ]
  },
  {
   "cell_type": "markdown",
   "metadata": {},
   "source": [
    "**Промежуточный вывод:** Количество данных от изначальных - 98.4%. Данные об оценках и возрастном рейтинге игр имели серьезное число пропусков, что может сказаться на анализе, несмотря на замену."
   ]
  },
  {
   "cell_type": "markdown",
   "metadata": {},
   "source": [
    "## Исследовательский анализ данных"
   ]
  },
  {
   "cell_type": "markdown",
   "metadata": {},
   "source": [
    "### Посмотрите, сколько игр выпускалось в разные годы. Важны ли данные за все периоды?"
   ]
  },
  {
   "cell_type": "code",
   "execution_count": 17,
   "metadata": {},
   "outputs": [
    {
     "data": {
      "text/plain": [
       "year_of_release\n",
       "1980       9\n",
       "1981      46\n",
       "1982      36\n",
       "1983      17\n",
       "1984      14\n",
       "1985      14\n",
       "1986      21\n",
       "1987      16\n",
       "1988      15\n",
       "1989      17\n",
       "1990      16\n",
       "1991      41\n",
       "1992      43\n",
       "1993      60\n",
       "1994     121\n",
       "1995     219\n",
       "1996     263\n",
       "1997     289\n",
       "1998     379\n",
       "1999     338\n",
       "2000     350\n",
       "2001     482\n",
       "2002     829\n",
       "2003     775\n",
       "2004     762\n",
       "2005     939\n",
       "2006    1006\n",
       "2007    1197\n",
       "2008    1427\n",
       "2009    1426\n",
       "2010    1255\n",
       "2011    1136\n",
       "2012     653\n",
       "2013     544\n",
       "2014     581\n",
       "2015     606\n",
       "2016     502\n",
       "Name: name, dtype: int64"
      ]
     },
     "execution_count": 17,
     "metadata": {},
     "output_type": "execute_result"
    }
   ],
   "source": [
    "# Посмотрим, сколько игр было выпущено за каждый год.\n",
    "data.groupby('year_of_release')['name'].count()"
   ]
  },
  {
   "cell_type": "markdown",
   "metadata": {},
   "source": [
    "**Промежуточный вывод:** С 1980 по 1994 год выпускалось гораздо меньше игр, чем после. При более подробном анализе эти данные можно либо объеденить в одну категорию, либо отбросить, что менее желательно."
   ]
  },
  {
   "cell_type": "markdown",
   "metadata": {},
   "source": [
    "### Посмотрите, как менялись продажи по платформам. Выберите платформы с наибольшими суммарными продажами и постройте распределение по годам. За какой характерный срок появляются новые и исчезают старые платформы?"
   ]
  },
  {
   "cell_type": "code",
   "execution_count": 18,
   "metadata": {},
   "outputs": [
    {
     "data": {
      "text/plain": [
       "platform\n",
       "PS2     1233.56\n",
       "X360     961.24\n",
       "PS3      931.34\n",
       "Wii      891.18\n",
       "DS       802.78\n",
       "PS       727.58\n",
       "PS4      314.14\n",
       "GBA      312.88\n",
       "PSP      289.53\n",
       "3DS      257.81\n",
       "PC       255.76\n",
       "GB       254.43\n",
       "XB       251.57\n",
       "NES      251.05\n",
       "N64      218.01\n",
       "SNES     200.04\n",
       "GC       196.73\n",
       "XOne     159.32\n",
       "2600      86.48\n",
       "WiiU      82.19\n",
       "PSV       53.81\n",
       "SAT       33.59\n",
       "GEN       28.35\n",
       "DC        15.95\n",
       "SCD        1.86\n",
       "NG         1.44\n",
       "WS         1.42\n",
       "TG16       0.16\n",
       "3DO        0.10\n",
       "GG         0.04\n",
       "PCFX       0.03\n",
       "Name: total_sales, dtype: float64"
      ]
     },
     "execution_count": 18,
     "metadata": {},
     "output_type": "execute_result"
    }
   ],
   "source": [
    "# Посмотрим, какую выручку принесла каждая платформа.\n",
    "data.groupby('platform')['total_sales'].sum().sort_values(ascending=False)"
   ]
  },
  {
   "cell_type": "markdown",
   "metadata": {},
   "source": [
    "**Промежуточный вывод:** Видим, что наибольшие суммарные продажи были у PS2, следом идут платформы одного поколения X360, PS3 и Wii, затем предшественник Wii DS и предшественник PS2 PS. Меньше всего продаж у старых редких японских платформ, не ушедших далеко за пределы островного государства."
   ]
  },
  {
   "cell_type": "code",
   "execution_count": 19,
   "metadata": {},
   "outputs": [
    {
     "data": {
      "image/png": "[encoded data removed]",
      "text/plain": [
       "<Figure size 1152x576 with 1 Axes>"
      ]
     },
     "metadata": {
      "needs_background": "light"
     },
     "output_type": "display_data"
    }
   ],
   "source": [
    "# Соберем данные в сводную таблицу.\n",
    "platform_sales = data.pivot_table(index = 'year_of_release', values = 'total_sales', \n",
    "                                  columns = 'platform', aggfunc = 'sum')\n",
    "# Построим график распределения по годам для топ-6 платформ по продажам.\n",
    "# 6 платформ берем из-за небольшой разницы между 5 и 6 местом,\n",
    "# в то время как между 6 и 7 местом разница по продажам уже почти в 2 раза.\n",
    "plt.figure(figsize=(16, 8))\n",
    "plt.plot(platform_sales['PS2'], marker = 'o', label = 'PS2')\n",
    "plt.plot(platform_sales['X360'], marker = 'o', label = 'X360')\n",
    "plt.plot(platform_sales['PS3'], marker = 'o', label = 'PS3')\n",
    "plt.plot(platform_sales['Wii'], marker = 'o', label = 'Wii')\n",
    "plt.plot(platform_sales['DS'], marker = 'o', label = 'DS')\n",
    "plt.plot(platform_sales['PS'], marker = 'o', label = 'PS')\n",
    "plt.title('Распределение по годам для топ-6 платформ по продажам')\n",
    "plt.xlabel('Год')\n",
    "plt.ylabel('Продажи, млн. копий')\n",
    "plt.grid()\n",
    "plt.legend(loc='upper left')\n",
    "plt.show()"
   ]
  },
  {
   "cell_type": "markdown",
   "metadata": {},
   "source": [
    "**Промежуточный вывод:** Видим, что цикл существования платформ с наибольшими продажами составил примерно 10 лет. Стоит учитывать, что на этот цикл оказывают непосредственное влияние сами разработчики платформ, постепенно вводя в эксплуатацию новые платформы и выводя старые."
   ]
  },
  {
   "cell_type": "markdown",
   "metadata": {},
   "source": [
    "### Возьмите данные за соответствующий актуальный период. Актуальный период определите самостоятельно в результате исследования предыдущих вопросов. Основной фактор — эти данные помогут построить прогноз на 2017 год. Не учитывайте в работе данные за предыдущие годы."
   ]
  },
  {
   "cell_type": "code",
   "execution_count": 20,
   "metadata": {},
   "outputs": [
    {
     "data": {
      "text/html": [
       "<div>\n",
       "<style scoped>\n",
       "    .dataframe tbody tr th:only-of-type {\n",
       "        vertical-align: middle;\n",
       "    }\n",
       "\n",
       "    .dataframe tbody tr th {\n",
       "        vertical-align: top;\n",
       "    }\n",
       "\n",
       "    .dataframe thead th {\n",
       "        text-align: right;\n",
       "    }\n",
       "</style>\n",
       "<table border=\"1\" class=\"dataframe\">\n",
       "  <thead>\n",
       "    <tr style=\"text-align: right;\">\n",
       "      <th></th>\n",
       "      <th>name</th>\n",
       "      <th>platform</th>\n",
       "      <th>year_of_release</th>\n",
       "      <th>genre</th>\n",
       "      <th>na_sales</th>\n",
       "      <th>eu_sales</th>\n",
       "      <th>jp_sales</th>\n",
       "      <th>other_sales</th>\n",
       "      <th>critic_score</th>\n",
       "      <th>user_score</th>\n",
       "      <th>rating</th>\n",
       "      <th>total_sales</th>\n",
       "    </tr>\n",
       "  </thead>\n",
       "  <tbody>\n",
       "    <tr>\n",
       "      <th>16</th>\n",
       "      <td>Grand Theft Auto V</td>\n",
       "      <td>PS3</td>\n",
       "      <td>2013</td>\n",
       "      <td>Action</td>\n",
       "      <td>7.02</td>\n",
       "      <td>9.09</td>\n",
       "      <td>0.98</td>\n",
       "      <td>3.96</td>\n",
       "      <td>97</td>\n",
       "      <td>8.2</td>\n",
       "      <td>M</td>\n",
       "      <td>21.05</td>\n",
       "    </tr>\n",
       "    <tr>\n",
       "      <th>23</th>\n",
       "      <td>Grand Theft Auto V</td>\n",
       "      <td>X360</td>\n",
       "      <td>2013</td>\n",
       "      <td>Action</td>\n",
       "      <td>9.66</td>\n",
       "      <td>5.14</td>\n",
       "      <td>0.06</td>\n",
       "      <td>1.41</td>\n",
       "      <td>97</td>\n",
       "      <td>8.1</td>\n",
       "      <td>M</td>\n",
       "      <td>16.27</td>\n",
       "    </tr>\n",
       "    <tr>\n",
       "      <th>31</th>\n",
       "      <td>Call of Duty: Black Ops 3</td>\n",
       "      <td>PS4</td>\n",
       "      <td>2015</td>\n",
       "      <td>Shooter</td>\n",
       "      <td>6.03</td>\n",
       "      <td>5.86</td>\n",
       "      <td>0.36</td>\n",
       "      <td>2.38</td>\n",
       "      <td>-1</td>\n",
       "      <td>-1.0</td>\n",
       "      <td>unknown</td>\n",
       "      <td>14.63</td>\n",
       "    </tr>\n",
       "    <tr>\n",
       "      <th>33</th>\n",
       "      <td>Pokemon X/Pokemon Y</td>\n",
       "      <td>3DS</td>\n",
       "      <td>2013</td>\n",
       "      <td>Role-Playing</td>\n",
       "      <td>5.28</td>\n",
       "      <td>4.19</td>\n",
       "      <td>4.35</td>\n",
       "      <td>0.78</td>\n",
       "      <td>-1</td>\n",
       "      <td>-1.0</td>\n",
       "      <td>unknown</td>\n",
       "      <td>14.60</td>\n",
       "    </tr>\n",
       "    <tr>\n",
       "      <th>42</th>\n",
       "      <td>Grand Theft Auto V</td>\n",
       "      <td>PS4</td>\n",
       "      <td>2014</td>\n",
       "      <td>Action</td>\n",
       "      <td>3.96</td>\n",
       "      <td>6.31</td>\n",
       "      <td>0.38</td>\n",
       "      <td>1.97</td>\n",
       "      <td>97</td>\n",
       "      <td>8.3</td>\n",
       "      <td>M</td>\n",
       "      <td>12.62</td>\n",
       "    </tr>\n",
       "  </tbody>\n",
       "</table>\n",
       "</div>"
      ],
      "text/plain": [
       "                         name platform  year_of_release         genre  \\\n",
       "16         Grand Theft Auto V      PS3             2013        Action   \n",
       "23         Grand Theft Auto V     X360             2013        Action   \n",
       "31  Call of Duty: Black Ops 3      PS4             2015       Shooter   \n",
       "33        Pokemon X/Pokemon Y      3DS             2013  Role-Playing   \n",
       "42         Grand Theft Auto V      PS4             2014        Action   \n",
       "\n",
       "    na_sales  eu_sales  jp_sales  other_sales  critic_score  user_score  \\\n",
       "16      7.02      9.09      0.98         3.96            97         8.2   \n",
       "23      9.66      5.14      0.06         1.41            97         8.1   \n",
       "31      6.03      5.86      0.36         2.38            -1        -1.0   \n",
       "33      5.28      4.19      4.35         0.78            -1        -1.0   \n",
       "42      3.96      6.31      0.38         1.97            97         8.3   \n",
       "\n",
       "     rating  total_sales  \n",
       "16        M        21.05  \n",
       "23        M        16.27  \n",
       "31  unknown        14.63  \n",
       "33  unknown        14.60  \n",
       "42        M        12.62  "
      ]
     },
     "execution_count": 20,
     "metadata": {},
     "output_type": "execute_result"
    }
   ],
   "source": [
    "# Возьмем актуальный период 4 года - с 2013 по 2016 год.\n",
    "# Таким образом мы охватим все платформы на подъеме и отсечем большинство\n",
    "# отживших срок, учитывая при этом\n",
    "# более свежие данные о конце срока некоторых платформ.\n",
    "data_rel = data.query('year_of_release >= 2013')\n",
    "\n",
    "# Так же уберем платформы, у которых нет данных о продажах за 2016 год.\n",
    "# Обычно выпуск и продажа игр на таких платформах не возобновляется.\n",
    "data_plat = data_rel.query('year_of_release >= 2016')['platform']\n",
    "data_rel = data_rel.query('platform in @data_plat')\n",
    "data_rel.head()"
   ]
  },
  {
   "cell_type": "markdown",
   "metadata": {},
   "source": [
    "### Какие платформы лидируют по продажам, растут или падают? Выберите несколько потенциально прибыльных платформ."
   ]
  },
  {
   "cell_type": "code",
   "execution_count": 48,
   "metadata": {},
   "outputs": [
    {
     "data": {
      "image/png": "[encoded data removed]",
      "text/plain": [
       "<Figure size 1152x576 with 1 Axes>"
      ]
     },
     "metadata": {
      "needs_background": "light"
     },
     "output_type": "display_data"
    }
   ],
   "source": [
    "# Соберем данные в сводную таблицу.\n",
    "platform_sales_rel = data_rel.pivot_table(index = 'year_of_release', values = 'total_sales', \n",
    "                                          columns = 'platform', aggfunc = 'sum')\n",
    "# Построим график распределения за актуальный период для платформ по продажам.\n",
    "plt.figure(figsize=(16, 8))\n",
    "# Так как в этот раз мы не знаем названия платформ заранее, воспользуемся циклом.\n",
    "for col in platform_sales_rel.columns:\n",
    "    plt.plot(platform_sales_rel.loc[:, col], marker=\"o\", label=col)\n",
    "plt.xticks(plt.xticks()[0][1::2])\n",
    "plt.title('Распределение за актуальный период для платформ по продажам')\n",
    "plt.xlabel('Год')\n",
    "plt.ylabel('Продажи, млн. копий')\n",
    "plt.grid()\n",
    "plt.legend(loc='upper right')\n",
    "plt.show()"
   ]
  },
  {
   "cell_type": "markdown",
   "metadata": {},
   "source": [
    "**Промежуточный вывод:** Судя по графику, лидерами продаж за актуальный период являются PS4, XOne и 3DS. Роста продаж по состоянию на 2016 год на графике не наблюдается, однако стоит учитывать, что данные за 2016 год неполные. Скорее всего, PS4 и XOne приближаются к пику своего цикла. Разумно ориентироваться на них в плане прибыльности."
   ]
  },
  {
   "cell_type": "markdown",
   "metadata": {},
   "source": [
    "### Постройте график «ящик с усами» по глобальным продажам игр в разбивке по платформам. Опишите результат."
   ]
  },
  {
   "cell_type": "code",
   "execution_count": 22,
   "metadata": {},
   "outputs": [
    {
     "data": {
      "image/png": "[encoded data removed]",
      "text/plain": [
       "<Figure size 1152x576 with 1 Axes>"
      ]
     },
     "metadata": {
      "needs_background": "light"
     },
     "output_type": "display_data"
    }
   ],
   "source": [
    "# Построим график.\n",
    "plt.figure(figsize=(16, 8))\n",
    "sns.boxplot(x='platform', y='total_sales', data=data_rel)\n",
    "plt.ylim(0, 25)\n",
    "plt.title('Распределение по глобальным продажам игр в разбивке по платформам')\n",
    "plt.xlabel('Платформа')\n",
    "plt.ylabel('Продажи, млн. копий')\n",
    "plt.show()"
   ]
  },
  {
   "cell_type": "code",
   "execution_count": 23,
   "metadata": {},
   "outputs": [
    {
     "data": {
      "image/png": "[encoded data removed]",
      "text/plain": [
       "<Figure size 1152x576 with 1 Axes>"
      ]
     },
     "metadata": {
      "needs_background": "light"
     },
     "output_type": "display_data"
    }
   ],
   "source": [
    "# Рассмотрим поближе.\n",
    "plt.figure(figsize=(16, 8))\n",
    "sns.boxplot(x='platform', y='total_sales', data=data_rel)\n",
    "plt.ylim(0, 2)\n",
    "plt.title('Распределение по глобальным продажам игр в разбивке по платформам')\n",
    "plt.xlabel('Платформа')\n",
    "plt.ylabel('Продажи, млн. копий')\n",
    "plt.show()"
   ]
  },
  {
   "cell_type": "markdown",
   "metadata": {},
   "source": [
    "**Промежуточный вывод:** Видим смещение медиан к нижнему квартилю у всех платформ, что означает, что на них выходит много игр с небольшими продажами. Выбросы вверх вполне объяснимы бестселлерами, тогда как близость нижнего \"уса\" к 0 объяснима не только провальными играми, но и нишевыми или региональными продуктами."
   ]
  },
  {
   "cell_type": "markdown",
   "metadata": {},
   "source": [
    "### Посмотрите, как влияют на продажи внутри одной популярной платформы отзывы пользователей и критиков. Постройте диаграмму рассеяния и посчитайте корреляцию между отзывами и продажами. Сформулируйте выводы."
   ]
  },
  {
   "cell_type": "code",
   "execution_count": 24,
   "metadata": {},
   "outputs": [
    {
     "data": {
      "text/html": [
       "<div>\n",
       "<style scoped>\n",
       "    .dataframe tbody tr th:only-of-type {\n",
       "        vertical-align: middle;\n",
       "    }\n",
       "\n",
       "    .dataframe tbody tr th {\n",
       "        vertical-align: top;\n",
       "    }\n",
       "\n",
       "    .dataframe thead th {\n",
       "        text-align: right;\n",
       "    }\n",
       "</style>\n",
       "<table border=\"1\" class=\"dataframe\">\n",
       "  <thead>\n",
       "    <tr style=\"text-align: right;\">\n",
       "      <th></th>\n",
       "      <th>name</th>\n",
       "      <th>platform</th>\n",
       "      <th>year_of_release</th>\n",
       "      <th>genre</th>\n",
       "      <th>na_sales</th>\n",
       "      <th>eu_sales</th>\n",
       "      <th>jp_sales</th>\n",
       "      <th>other_sales</th>\n",
       "      <th>critic_score</th>\n",
       "      <th>user_score</th>\n",
       "      <th>rating</th>\n",
       "      <th>total_sales</th>\n",
       "    </tr>\n",
       "  </thead>\n",
       "  <tbody>\n",
       "    <tr>\n",
       "      <th>31</th>\n",
       "      <td>Call of Duty: Black Ops 3</td>\n",
       "      <td>PS4</td>\n",
       "      <td>2015</td>\n",
       "      <td>Shooter</td>\n",
       "      <td>6.03</td>\n",
       "      <td>5.86</td>\n",
       "      <td>0.36</td>\n",
       "      <td>2.38</td>\n",
       "      <td>-1</td>\n",
       "      <td>-1.0</td>\n",
       "      <td>unknown</td>\n",
       "      <td>14.63</td>\n",
       "    </tr>\n",
       "    <tr>\n",
       "      <th>42</th>\n",
       "      <td>Grand Theft Auto V</td>\n",
       "      <td>PS4</td>\n",
       "      <td>2014</td>\n",
       "      <td>Action</td>\n",
       "      <td>3.96</td>\n",
       "      <td>6.31</td>\n",
       "      <td>0.38</td>\n",
       "      <td>1.97</td>\n",
       "      <td>97</td>\n",
       "      <td>8.3</td>\n",
       "      <td>M</td>\n",
       "      <td>12.62</td>\n",
       "    </tr>\n",
       "    <tr>\n",
       "      <th>77</th>\n",
       "      <td>FIFA 16</td>\n",
       "      <td>PS4</td>\n",
       "      <td>2015</td>\n",
       "      <td>Sports</td>\n",
       "      <td>1.12</td>\n",
       "      <td>6.12</td>\n",
       "      <td>0.06</td>\n",
       "      <td>1.28</td>\n",
       "      <td>82</td>\n",
       "      <td>4.3</td>\n",
       "      <td>E</td>\n",
       "      <td>8.58</td>\n",
       "    </tr>\n",
       "    <tr>\n",
       "      <th>87</th>\n",
       "      <td>Star Wars Battlefront (2015)</td>\n",
       "      <td>PS4</td>\n",
       "      <td>2015</td>\n",
       "      <td>Shooter</td>\n",
       "      <td>2.99</td>\n",
       "      <td>3.49</td>\n",
       "      <td>0.22</td>\n",
       "      <td>1.28</td>\n",
       "      <td>-1</td>\n",
       "      <td>-1.0</td>\n",
       "      <td>unknown</td>\n",
       "      <td>7.98</td>\n",
       "    </tr>\n",
       "    <tr>\n",
       "      <th>92</th>\n",
       "      <td>Call of Duty: Advanced Warfare</td>\n",
       "      <td>PS4</td>\n",
       "      <td>2014</td>\n",
       "      <td>Shooter</td>\n",
       "      <td>2.81</td>\n",
       "      <td>3.48</td>\n",
       "      <td>0.14</td>\n",
       "      <td>1.23</td>\n",
       "      <td>83</td>\n",
       "      <td>5.7</td>\n",
       "      <td>M</td>\n",
       "      <td>7.66</td>\n",
       "    </tr>\n",
       "  </tbody>\n",
       "</table>\n",
       "</div>"
      ],
      "text/plain": [
       "                              name platform  year_of_release    genre  \\\n",
       "31       Call of Duty: Black Ops 3      PS4             2015  Shooter   \n",
       "42              Grand Theft Auto V      PS4             2014   Action   \n",
       "77                         FIFA 16      PS4             2015   Sports   \n",
       "87    Star Wars Battlefront (2015)      PS4             2015  Shooter   \n",
       "92  Call of Duty: Advanced Warfare      PS4             2014  Shooter   \n",
       "\n",
       "    na_sales  eu_sales  jp_sales  other_sales  critic_score  user_score  \\\n",
       "31      6.03      5.86      0.36         2.38            -1        -1.0   \n",
       "42      3.96      6.31      0.38         1.97            97         8.3   \n",
       "77      1.12      6.12      0.06         1.28            82         4.3   \n",
       "87      2.99      3.49      0.22         1.28            -1        -1.0   \n",
       "92      2.81      3.48      0.14         1.23            83         5.7   \n",
       "\n",
       "     rating  total_sales  \n",
       "31  unknown        14.63  \n",
       "42        M        12.62  \n",
       "77        E         8.58  \n",
       "87  unknown         7.98  \n",
       "92        M         7.66  "
      ]
     },
     "execution_count": 24,
     "metadata": {},
     "output_type": "execute_result"
    }
   ],
   "source": [
    "# Рассмотрим данные для платформы PS4 как самой перспективной\n",
    "# судя по графику за актуальный период.\n",
    "data_PS4 = data_rel.query('platform == \"PS4\"')\n",
    "data_PS4.head()"
   ]
  },
  {
   "cell_type": "code",
   "execution_count": 25,
   "metadata": {},
   "outputs": [
    {
     "data": {
      "image/png": "[encoded data removed]",
      "text/plain": [
       "<Figure size 1152x576 with 1 Axes>"
      ]
     },
     "metadata": {
      "needs_background": "light"
     },
     "output_type": "display_data"
    }
   ],
   "source": [
    "# Построим диаграмму рассеяния отзывов критиков.\n",
    "plt.figure(figsize=(16, 8))\n",
    "plt.scatter(x='critic_score', y='total_sales', data=data_PS4)\n",
    "plt.xlim(0, 100)\n",
    "plt.title('Диаграмма рассеяния отзывов критиков')\n",
    "plt.xlabel('Оценка критиков')\n",
    "plt.ylabel('Продажи, млн. копий')\n",
    "plt.grid()\n",
    "plt.show()"
   ]
  },
  {
   "cell_type": "markdown",
   "metadata": {},
   "source": [
    "**Промежуточный вывод:** Видим, что с увеличением оценки критиков, игры чаще продаются большим тиражом."
   ]
  },
  {
   "cell_type": "code",
   "execution_count": 26,
   "metadata": {},
   "outputs": [
    {
     "data": {
      "image/png": "[encoded data removed]",
      "text/plain": [
       "<Figure size 1152x576 with 1 Axes>"
      ]
     },
     "metadata": {
      "needs_background": "light"
     },
     "output_type": "display_data"
    }
   ],
   "source": [
    "# Построим диаграмму рассеяния отзывов пользователей.\n",
    "plt.figure(figsize=(16, 8))\n",
    "plt.scatter(x='user_score', y='total_sales', data=data_PS4)\n",
    "plt.xlim(0, 10)\n",
    "plt.title('Диаграмма рассеяния отзывов пользователей')\n",
    "plt.xlabel('Оценка пользователей')\n",
    "plt.ylabel('Продажи, млн. копий')\n",
    "plt.grid()\n",
    "plt.show()"
   ]
  },
  {
   "cell_type": "markdown",
   "metadata": {},
   "source": [
    "**Промежуточный вывод:** А вот оценка пользователей уже не сказывается на продажах."
   ]
  },
  {
   "cell_type": "code",
   "execution_count": 27,
   "metadata": {},
   "outputs": [],
   "source": [
    "# Для подсчета корреляции уберем отрицательные значения,\n",
    "# которые мы подставляли вместо пропусков.\n",
    "data_PS4_crit = data_PS4[(data_PS4['critic_score'] != -1)]\n",
    "data_PS4_user = data_PS4[(data_PS4['user_score'] != -1)]"
   ]
  },
  {
   "cell_type": "code",
   "execution_count": 28,
   "metadata": {},
   "outputs": [
    {
     "name": "stdout",
     "output_type": "stream",
     "text": [
      "Корреляция между оценками критиков и числом продаж игр равна 0.407\n",
      "Корреляция между оценками пользователей и числом продаж игр равна -0.032\n"
     ]
    }
   ],
   "source": [
    "# Посчитаем корреляцию для обоих случаев.\n",
    "crit_corr = data_PS4_crit['total_sales'].corr(data_PS4_crit['critic_score'])\n",
    "user_corr = data_PS4_user['total_sales'].corr(data_PS4_user['user_score'])\n",
    "print(f'Корреляция между оценками критиков и числом продаж игр равна {crit_corr.round(3)}')\n",
    "print(f'Корреляция между оценками пользователей и числом продаж игр равна {user_corr.round(3)}')"
   ]
  },
  {
   "cell_type": "markdown",
   "metadata": {},
   "source": [
    "**Промежуточный вывод:** Корреляция в 0.4 говорит о наличии связи между оценками критиков и количеством продаж, однако не слишком сильной. В то же время корреляция около 0 говорит об отсутствтии связи между оценками пользователей и количеством продаж."
   ]
  },
  {
   "cell_type": "markdown",
   "metadata": {},
   "source": [
    "### Соотнесите выводы с продажами игр на других платформах."
   ]
  },
  {
   "cell_type": "code",
   "execution_count": 29,
   "metadata": {},
   "outputs": [
    {
     "data": {
      "image/png": "[encoded data removed]",
      "text/plain": [
       "<Figure size 1152x576 with 1 Axes>"
      ]
     },
     "metadata": {
      "needs_background": "light"
     },
     "output_type": "display_data"
    },
    {
     "data": {
      "image/png": "[encoded data removed]",
      "text/plain": [
       "<Figure size 1152x576 with 1 Axes>"
      ]
     },
     "metadata": {
      "needs_background": "light"
     },
     "output_type": "display_data"
    },
    {
     "data": {
      "image/png": "[encoded data removed]",
      "text/plain": [
       "<Figure size 1152x576 with 1 Axes>"
      ]
     },
     "metadata": {
      "needs_background": "light"
     },
     "output_type": "display_data"
    },
    {
     "data": {
      "image/png": "[encoded data removed]",
      "text/plain": [
       "<Figure size 1152x576 with 1 Axes>"
      ]
     },
     "metadata": {
      "needs_background": "light"
     },
     "output_type": "display_data"
    },
    {
     "data": {
      "image/png": "[encoded data removed]",
      "text/plain": [
       "<Figure size 1152x576 with 1 Axes>"
      ]
     },
     "metadata": {
      "needs_background": "light"
     },
     "output_type": "display_data"
    },
    {
     "data": {
      "image/png": "[encoded data removed]",
      "text/plain": [
       "<Figure size 1152x576 with 1 Axes>"
      ]
     },
     "metadata": {
      "needs_background": "light"
     },
     "output_type": "display_data"
    },
    {
     "data": {
      "image/png": "[encoded data removed]",
      "text/plain": [
       "<Figure size 1152x576 with 1 Axes>"
      ]
     },
     "metadata": {
      "needs_background": "light"
     },
     "output_type": "display_data"
    },
    {
     "data": {
      "image/png": "[encoded data removed]",
      "text/plain": [
       "<Figure size 1152x576 with 1 Axes>"
      ]
     },
     "metadata": {
      "needs_background": "light"
     },
     "output_type": "display_data"
    },
    {
     "data": {
      "image/png": "[encoded data removed]",
      "text/plain": [
       "<Figure size 1152x576 with 1 Axes>"
      ]
     },
     "metadata": {
      "needs_background": "light"
     },
     "output_type": "display_data"
    },
    {
     "data": {
      "image/png": "[encoded data removed]",
      "text/plain": [
       "<Figure size 1152x576 with 1 Axes>"
      ]
     },
     "metadata": {
      "needs_background": "light"
     },
     "output_type": "display_data"
    },
    {
     "data": {
      "image/png": "[encoded data removed]",
      "text/plain": [
       "<Figure size 1152x576 with 1 Axes>"
      ]
     },
     "metadata": {
      "needs_background": "light"
     },
     "output_type": "display_data"
    },
    {
     "data": {
      "image/png": "[encoded data removed]",
      "text/plain": [
       "<Figure size 1152x576 with 1 Axes>"
      ]
     },
     "metadata": {
      "needs_background": "light"
     },
     "output_type": "display_data"
    },
    {
     "data": {
      "image/png": "[encoded data removed]",
      "text/plain": [
       "<Figure size 1152x576 with 1 Axes>"
      ]
     },
     "metadata": {
      "needs_background": "light"
     },
     "output_type": "display_data"
    },
    {
     "data": {
      "image/png": "[encoded data removed]",
      "text/plain": [
       "<Figure size 1152x576 with 1 Axes>"
      ]
     },
     "metadata": {
      "needs_background": "light"
     },
     "output_type": "display_data"
    },
    {
     "data": {
      "image/png": "[encoded data removed]",
      "text/plain": [
       "<Figure size 1152x576 with 1 Axes>"
      ]
     },
     "metadata": {
      "needs_background": "light"
     },
     "output_type": "display_data"
    },
    {
     "data": {
      "image/png": "[encoded data removed]",
      "text/plain": [
       "<Figure size 1152x576 with 1 Axes>"
      ]
     },
     "metadata": {
      "needs_background": "light"
     },
     "output_type": "display_data"
    },
    {
     "data": {
      "image/png": "[encoded data removed]",
      "text/plain": [
       "<Figure size 1152x576 with 1 Axes>"
      ]
     },
     "metadata": {
      "needs_background": "light"
     },
     "output_type": "display_data"
    },
    {
     "data": {
      "image/png": "[encoded data removed]",
      "text/plain": [
       "<Figure size 1152x576 with 1 Axes>"
      ]
     },
     "metadata": {
      "needs_background": "light"
     },
     "output_type": "display_data"
    }
   ],
   "source": [
    "# Используем цикл для диаграмм рассеивания.\n",
    "for platform in data_rel['platform'].unique():\n",
    "    data = data_rel.query('platform == @platform')\n",
    "    \n",
    "    plt.figure(figsize=(16, 8))\n",
    "    plt.scatter(x='critic_score', y='total_sales', data=data)\n",
    "    plt.xlim(0, 100)\n",
    "    plt.title(f'Диаграмма рассеяния отзывов критиков на платформе {platform}')\n",
    "    plt.xlabel('Оценка критиков')\n",
    "    plt.ylabel('Продажи, млн. копий')\n",
    "    plt.grid()\n",
    "    plt.figure(figsize=(16, 8))\n",
    "    plt.scatter(x='user_score', y='total_sales', data=data)\n",
    "    plt.xlim(0, 10)\n",
    "    plt.title(f'Диаграмма рассеяния отзывов пользователей на платформе {platform}')\n",
    "    plt.xlabel('Оценка пользователей')\n",
    "    plt.ylabel('Продажи, млн. копий')\n",
    "    plt.grid()\n",
    "    plt.show()"
   ]
  },
  {
   "cell_type": "code",
   "execution_count": 30,
   "metadata": {},
   "outputs": [
    {
     "name": "stdout",
     "output_type": "stream",
     "text": [
      "Корреляция между оценками критиков и числом продаж игр на платформе PS3 равна: 0.334\n",
      "Корреляция между оценками критиков и числом продаж игр на платформе X360 равна: 0.35\n",
      "Корреляция между оценками критиков и числом продаж игр на платформе PS4 равна: 0.407\n",
      "Корреляция между оценками критиков и числом продаж игр на платформе WiiU равна: 0.376\n",
      "Корреляция между оценками критиков и числом продаж игр на платформе XOne равна: 0.417\n",
      "Корреляция между оценками критиков и числом продаж игр на платформе 3DS равна: 0.357\n",
      "Корреляция между оценками критиков и числом продаж игр на платформе PC равна: 0.196\n",
      "Корреляция между оценками критиков и числом продаж игр на платформе PSV равна: 0.255\n",
      "Корреляция между оценками пользователей и числом продаж игр на платформе PS3 равна: 0.002\n",
      "Корреляция между оценками пользователей и числом продаж игр на платформе X360 равна: -0.012\n",
      "Корреляция между оценками пользователей и числом продаж игр на платформе PS4 равна: -0.032\n",
      "Корреляция между оценками пользователей и числом продаж игр на платформе WiiU равна: 0.419\n",
      "Корреляция между оценками пользователей и числом продаж игр на платформе XOne равна: -0.069\n",
      "Корреляция между оценками пользователей и числом продаж игр на платформе 3DS равна: 0.242\n",
      "Корреляция между оценками пользователей и числом продаж игр на платформе Wii равна: 0.683\n",
      "Корреляция между оценками пользователей и числом продаж игр на платформе PC равна: -0.094\n",
      "Корреляция между оценками пользователей и числом продаж игр на платформе PSV равна: 0.001\n"
     ]
    }
   ],
   "source": [
    "# Для подсчета корреляции уберем отрицательные значения,\n",
    "# которые мы подставляли вместо пропусков.\n",
    "data_crit = data_rel.query('critic_score != -1')\n",
    "data_user = data_rel.query('user_score != -1')\n",
    "\n",
    "# Посчитаем корреляцию для платформ.\n",
    "for platform in data_crit['platform'].unique():\n",
    "    d = data_crit.query('platform == @platform')['total_sales'].corr(data_crit['critic_score'])\n",
    "    print(f'Корреляция между оценками критиков и числом продаж игр на платформе {platform} равна: {d.round(3)}')\n",
    "    \n",
    "for platform in data_user['platform'].unique():\n",
    "    d = data_user.query('platform == @platform')['total_sales'].corr(data_user['user_score'])\n",
    "    print(f'Корреляция между оценками пользователей и числом продаж игр на платформе {platform} равна: {d.round(3)}')"
   ]
  },
  {
   "cell_type": "markdown",
   "metadata": {},
   "source": [
    "**Промежуточный вывод:** Вывод корреляции между оценками и числом продаж игр на топовых платформах дает нам интересные результаты. В целом корреляция между оценками критиков и числом продаж игр примерно одинакова и говорит о слабой, но присутствующей взаимосвязи между отзывами и продажами. Однако PC является исключением, корреляция там заметно ближе к 0, то есть влияния почти нет.\n",
    "\n",
    "Корреляция между оценками пользователей и числом продаж игр на топовых платформах в целом близка к 0, что говорит об отсутствии влияния на продажи. Однако платформы Wii, 3DS и WiiU являются исключениями, корреляция там заметно дальше от 0, что говорит о наличии влияния оценок пользователей на продажи.\n",
    "\n",
    "Оба случая являются интересными еще и по той причине, что, как правило, обзоры критиков появляются до начала продаж, а обзоры пользователей - после, причем пользователь перед этим как правило приобретает копию игры."
   ]
  },
  {
   "cell_type": "markdown",
   "metadata": {},
   "source": [
    "### Посмотрите на общее распределение игр по жанрам. Что можно сказать о самых прибыльных жанрах? Выделяются ли жанры с высокими и низкими продажами?"
   ]
  },
  {
   "cell_type": "code",
   "execution_count": 31,
   "metadata": {},
   "outputs": [
    {
     "data": {
      "text/plain": [
       "genre\n",
       "Action          752\n",
       "Role-Playing    285\n",
       "Adventure       211\n",
       "Sports          208\n",
       "Shooter         187\n",
       "Misc            146\n",
       "Racing           85\n",
       "Fighting         79\n",
       "Platform         72\n",
       "Simulation       61\n",
       "Strategy         55\n",
       "Puzzle           17\n",
       "Name: name, dtype: int64"
      ]
     },
     "execution_count": 31,
     "metadata": {},
     "output_type": "execute_result"
    }
   ],
   "source": [
    "# Посмотрим, сколько игр было выпущено в каждом жанре.\n",
    "data_rel.groupby('genre')['name'].count().sort_values(ascending=False)"
   ]
  },
  {
   "cell_type": "code",
   "execution_count": 32,
   "metadata": {},
   "outputs": [
    {
     "data": {
      "text/plain": [
       "genre\n",
       "Shooter         0.450\n",
       "Sports          0.250\n",
       "Platform        0.225\n",
       "Fighting        0.130\n",
       "Role-Playing    0.120\n",
       "Racing          0.120\n",
       "Misc            0.115\n",
       "Action          0.110\n",
       "Simulation      0.100\n",
       "Strategy        0.080\n",
       "Puzzle          0.060\n",
       "Adventure       0.030\n",
       "Name: total_sales, dtype: float64"
      ]
     },
     "execution_count": 32,
     "metadata": {},
     "output_type": "execute_result"
    }
   ],
   "source": [
    "# Посмотрим, какую выручку принес каждый конкретный жанр.\n",
    "# Возьмем медиану для каждого жанра из-за выбросов в виде блокбастеров.\n",
    "data_rel.groupby('genre')['total_sales'].median().sort_values(ascending=False)"
   ]
  },
  {
   "cell_type": "markdown",
   "metadata": {},
   "source": [
    "**Промежуточный вывод:** Лидером по медианной прибыли за игру является жанр Shooter, за ним идет Sports, затем Platform. Выделяются и аутсайдеры: наихудший по продажам жанр Adventure и идущие за ним Strategy и Puzzle. Однако не стоит забывать, что разработка игр в лидирующих жанрах обходится дороже, что значит риск провала такой игры выше."
   ]
  },
  {
   "cell_type": "markdown",
   "metadata": {},
   "source": [
    "## Составление портрета пользователя каждого региона"
   ]
  },
  {
   "cell_type": "markdown",
   "metadata": {},
   "source": [
    "### Определите для пользователя каждого региона (NA, EU, JP) cамые популярные платформы (топ-5). Опишите различия в долях продаж."
   ]
  },
  {
   "cell_type": "code",
   "execution_count": 33,
   "metadata": {},
   "outputs": [
    {
     "data": {
      "text/html": [
       "<div>\n",
       "<style scoped>\n",
       "    .dataframe tbody tr th:only-of-type {\n",
       "        vertical-align: middle;\n",
       "    }\n",
       "\n",
       "    .dataframe tbody tr th {\n",
       "        vertical-align: top;\n",
       "    }\n",
       "\n",
       "    .dataframe thead th {\n",
       "        text-align: right;\n",
       "    }\n",
       "</style>\n",
       "<table border=\"1\" class=\"dataframe\">\n",
       "  <thead>\n",
       "    <tr style=\"text-align: right;\">\n",
       "      <th></th>\n",
       "      <th>na_sales</th>\n",
       "      <th>eu_sales</th>\n",
       "      <th>jp_sales</th>\n",
       "    </tr>\n",
       "    <tr>\n",
       "      <th>platform</th>\n",
       "      <th></th>\n",
       "      <th></th>\n",
       "      <th></th>\n",
       "    </tr>\n",
       "  </thead>\n",
       "  <tbody>\n",
       "    <tr>\n",
       "      <th>3DS</th>\n",
       "      <td>38.20</td>\n",
       "      <td>30.96</td>\n",
       "      <td>67.81</td>\n",
       "    </tr>\n",
       "    <tr>\n",
       "      <th>PC</th>\n",
       "      <td>11.11</td>\n",
       "      <td>25.36</td>\n",
       "      <td>0.00</td>\n",
       "    </tr>\n",
       "    <tr>\n",
       "      <th>PS3</th>\n",
       "      <td>63.50</td>\n",
       "      <td>67.81</td>\n",
       "      <td>23.35</td>\n",
       "    </tr>\n",
       "    <tr>\n",
       "      <th>PS4</th>\n",
       "      <td>108.74</td>\n",
       "      <td>141.09</td>\n",
       "      <td>15.96</td>\n",
       "    </tr>\n",
       "    <tr>\n",
       "      <th>PSV</th>\n",
       "      <td>5.04</td>\n",
       "      <td>6.10</td>\n",
       "      <td>18.59</td>\n",
       "    </tr>\n",
       "    <tr>\n",
       "      <th>Wii</th>\n",
       "      <td>6.56</td>\n",
       "      <td>5.93</td>\n",
       "      <td>0.05</td>\n",
       "    </tr>\n",
       "    <tr>\n",
       "      <th>WiiU</th>\n",
       "      <td>29.21</td>\n",
       "      <td>19.85</td>\n",
       "      <td>10.88</td>\n",
       "    </tr>\n",
       "    <tr>\n",
       "      <th>X360</th>\n",
       "      <td>81.66</td>\n",
       "      <td>42.52</td>\n",
       "      <td>0.51</td>\n",
       "    </tr>\n",
       "    <tr>\n",
       "      <th>XOne</th>\n",
       "      <td>93.12</td>\n",
       "      <td>51.59</td>\n",
       "      <td>0.34</td>\n",
       "    </tr>\n",
       "  </tbody>\n",
       "</table>\n",
       "</div>"
      ],
      "text/plain": [
       "          na_sales  eu_sales  jp_sales\n",
       "platform                              \n",
       "3DS          38.20     30.96     67.81\n",
       "PC           11.11     25.36      0.00\n",
       "PS3          63.50     67.81     23.35\n",
       "PS4         108.74    141.09     15.96\n",
       "PSV           5.04      6.10     18.59\n",
       "Wii           6.56      5.93      0.05\n",
       "WiiU         29.21     19.85     10.88\n",
       "X360         81.66     42.52      0.51\n",
       "XOne         93.12     51.59      0.34"
      ]
     },
     "execution_count": 33,
     "metadata": {},
     "output_type": "execute_result"
    }
   ],
   "source": [
    "# Составим общую таблицу выручки (как показателя популярности) по платформам для регионов.\n",
    "data_rel.groupby('platform')[['na_sales', 'eu_sales', 'jp_sales']].sum()"
   ]
  },
  {
   "cell_type": "code",
   "execution_count": 34,
   "metadata": {},
   "outputs": [
    {
     "name": "stdout",
     "output_type": "stream",
     "text": [
      "Продажи в Северной Америке по платформам, млн. копий:\n"
     ]
    },
    {
     "data": {
      "text/plain": [
       "platform\n",
       "PS4     108.74\n",
       "XOne     93.12\n",
       "X360     81.66\n",
       "PS3      63.50\n",
       "3DS      38.20\n",
       "Name: na_sales, dtype: float64"
      ]
     },
     "execution_count": 34,
     "metadata": {},
     "output_type": "execute_result"
    }
   ],
   "source": [
    "# Выделим топ-5 для каждого региона по отдельности.\n",
    "print('Продажи в Северной Америке по платформам, млн. копий:')\n",
    "data_rel.groupby('platform')['na_sales'].sum().sort_values(ascending=False).head()"
   ]
  },
  {
   "cell_type": "code",
   "execution_count": 35,
   "metadata": {},
   "outputs": [
    {
     "name": "stdout",
     "output_type": "stream",
     "text": [
      "Продажи в Европе по платформам, млн. копий:\n"
     ]
    },
    {
     "data": {
      "text/plain": [
       "platform\n",
       "PS4     141.09\n",
       "PS3      67.81\n",
       "XOne     51.59\n",
       "X360     42.52\n",
       "3DS      30.96\n",
       "Name: eu_sales, dtype: float64"
      ]
     },
     "execution_count": 35,
     "metadata": {},
     "output_type": "execute_result"
    }
   ],
   "source": [
    "print('Продажи в Европе по платформам, млн. копий:')\n",
    "data_rel.groupby('platform')['eu_sales'].sum().sort_values(ascending=False).head()"
   ]
  },
  {
   "cell_type": "code",
   "execution_count": 36,
   "metadata": {},
   "outputs": [
    {
     "name": "stdout",
     "output_type": "stream",
     "text": [
      "Продажи в Японии по платформам, млн. копий:\n"
     ]
    },
    {
     "data": {
      "text/plain": [
       "platform\n",
       "3DS     67.81\n",
       "PS3     23.35\n",
       "PSV     18.59\n",
       "PS4     15.96\n",
       "WiiU    10.88\n",
       "Name: jp_sales, dtype: float64"
      ]
     },
     "execution_count": 36,
     "metadata": {},
     "output_type": "execute_result"
    }
   ],
   "source": [
    "print('Продажи в Японии по платформам, млн. копий:')\n",
    "data_rel.groupby('platform')['jp_sales'].sum().sort_values(ascending=False).head()"
   ]
  },
  {
   "cell_type": "markdown",
   "metadata": {},
   "source": [
    "**Промежуточный вывод:** В Америке, самом крупном по выручке регионе, популярны платформы прошлого и текущего поколения разработки Sony и Microsoft. Лидирует PS4, за ней следом идут XOne и X360, затем PS3 и закрывает топ-5 платформа Nintendo 3DS.\n",
    "\n",
    "В Европе также лидирует PS4, следом идут PS3 и XOne, затем X360 и закрывает топ-5 платформа Nintendo 3DS.\n",
    "\n",
    "В Японии, наименьшем из трех по выручке регионе, в лидерах местные платформы, 3DS, PS3, портативная PSV, PS4 и гибридная WiiU.\n",
    "\n",
    "Отметим, что в Японии предпочтение отдается платформам отечественной разработки, в Европе и Америке японские и американские платформы идут ровнее, с перевесом японских. Также в Японии в топ-5 есть портативные девайсы. Возможно это связано с доступностью того или иного устройства и местоположением геймера в течение дня."
   ]
  },
  {
   "cell_type": "markdown",
   "metadata": {},
   "source": [
    "### Определите для пользователя каждого региона (NA, EU, JP) самые популярные жанры (топ-5). Поясните разницу."
   ]
  },
  {
   "cell_type": "code",
   "execution_count": 37,
   "metadata": {},
   "outputs": [
    {
     "data": {
      "text/html": [
       "<div>\n",
       "<style scoped>\n",
       "    .dataframe tbody tr th:only-of-type {\n",
       "        vertical-align: middle;\n",
       "    }\n",
       "\n",
       "    .dataframe tbody tr th {\n",
       "        vertical-align: top;\n",
       "    }\n",
       "\n",
       "    .dataframe thead th {\n",
       "        text-align: right;\n",
       "    }\n",
       "</style>\n",
       "<table border=\"1\" class=\"dataframe\">\n",
       "  <thead>\n",
       "    <tr style=\"text-align: right;\">\n",
       "      <th></th>\n",
       "      <th>na_sales</th>\n",
       "      <th>eu_sales</th>\n",
       "      <th>jp_sales</th>\n",
       "    </tr>\n",
       "    <tr>\n",
       "      <th>genre</th>\n",
       "      <th></th>\n",
       "      <th></th>\n",
       "      <th></th>\n",
       "    </tr>\n",
       "  </thead>\n",
       "  <tbody>\n",
       "    <tr>\n",
       "      <th>Action</th>\n",
       "      <td>125.83</td>\n",
       "      <td>117.87</td>\n",
       "      <td>39.65</td>\n",
       "    </tr>\n",
       "    <tr>\n",
       "      <th>Adventure</th>\n",
       "      <td>7.14</td>\n",
       "      <td>8.22</td>\n",
       "      <td>5.11</td>\n",
       "    </tr>\n",
       "    <tr>\n",
       "      <th>Fighting</th>\n",
       "      <td>15.55</td>\n",
       "      <td>8.55</td>\n",
       "      <td>7.63</td>\n",
       "    </tr>\n",
       "    <tr>\n",
       "      <th>Misc</th>\n",
       "      <td>27.46</td>\n",
       "      <td>20.00</td>\n",
       "      <td>9.03</td>\n",
       "    </tr>\n",
       "    <tr>\n",
       "      <th>Platform</th>\n",
       "      <td>17.93</td>\n",
       "      <td>15.15</td>\n",
       "      <td>4.79</td>\n",
       "    </tr>\n",
       "    <tr>\n",
       "      <th>Puzzle</th>\n",
       "      <td>0.83</td>\n",
       "      <td>1.00</td>\n",
       "      <td>1.18</td>\n",
       "    </tr>\n",
       "    <tr>\n",
       "      <th>Racing</th>\n",
       "      <td>12.96</td>\n",
       "      <td>20.19</td>\n",
       "      <td>2.30</td>\n",
       "    </tr>\n",
       "    <tr>\n",
       "      <th>Role-Playing</th>\n",
       "      <td>46.40</td>\n",
       "      <td>36.97</td>\n",
       "      <td>50.01</td>\n",
       "    </tr>\n",
       "    <tr>\n",
       "      <th>Shooter</th>\n",
       "      <td>109.74</td>\n",
       "      <td>87.86</td>\n",
       "      <td>6.61</td>\n",
       "    </tr>\n",
       "    <tr>\n",
       "      <th>Simulation</th>\n",
       "      <td>4.75</td>\n",
       "      <td>10.84</td>\n",
       "      <td>4.52</td>\n",
       "    </tr>\n",
       "    <tr>\n",
       "      <th>Sports</th>\n",
       "      <td>65.27</td>\n",
       "      <td>60.34</td>\n",
       "      <td>4.91</td>\n",
       "    </tr>\n",
       "    <tr>\n",
       "      <th>Strategy</th>\n",
       "      <td>3.28</td>\n",
       "      <td>4.22</td>\n",
       "      <td>1.75</td>\n",
       "    </tr>\n",
       "  </tbody>\n",
       "</table>\n",
       "</div>"
      ],
      "text/plain": [
       "              na_sales  eu_sales  jp_sales\n",
       "genre                                     \n",
       "Action          125.83    117.87     39.65\n",
       "Adventure         7.14      8.22      5.11\n",
       "Fighting         15.55      8.55      7.63\n",
       "Misc             27.46     20.00      9.03\n",
       "Platform         17.93     15.15      4.79\n",
       "Puzzle            0.83      1.00      1.18\n",
       "Racing           12.96     20.19      2.30\n",
       "Role-Playing     46.40     36.97     50.01\n",
       "Shooter         109.74     87.86      6.61\n",
       "Simulation        4.75     10.84      4.52\n",
       "Sports           65.27     60.34      4.91\n",
       "Strategy          3.28      4.22      1.75"
      ]
     },
     "execution_count": 37,
     "metadata": {},
     "output_type": "execute_result"
    }
   ],
   "source": [
    "# Составим общую таблицу выручки по жанрам для регионов.\n",
    "data_rel.groupby('genre')[['na_sales', 'eu_sales', 'jp_sales']].sum()"
   ]
  },
  {
   "cell_type": "code",
   "execution_count": 38,
   "metadata": {},
   "outputs": [
    {
     "name": "stdout",
     "output_type": "stream",
     "text": [
      "Продажи в Северной Америке по жанрам, млн. копий:\n"
     ]
    },
    {
     "data": {
      "text/plain": [
       "genre\n",
       "Action          125.83\n",
       "Shooter         109.74\n",
       "Sports           65.27\n",
       "Role-Playing     46.40\n",
       "Misc             27.46\n",
       "Name: na_sales, dtype: float64"
      ]
     },
     "execution_count": 38,
     "metadata": {},
     "output_type": "execute_result"
    }
   ],
   "source": [
    "# Выделим топ-5 для каждого региона по отдельности.\n",
    "print('Продажи в Северной Америке по жанрам, млн. копий:')\n",
    "data_rel.groupby('genre')['na_sales'].sum().sort_values(ascending=False).head()"
   ]
  },
  {
   "cell_type": "code",
   "execution_count": 39,
   "metadata": {},
   "outputs": [
    {
     "name": "stdout",
     "output_type": "stream",
     "text": [
      "Продажи в Европе по жанрам, млн. копий:\n"
     ]
    },
    {
     "data": {
      "text/plain": [
       "genre\n",
       "Action          117.87\n",
       "Shooter          87.86\n",
       "Sports           60.34\n",
       "Role-Playing     36.97\n",
       "Racing           20.19\n",
       "Name: eu_sales, dtype: float64"
      ]
     },
     "execution_count": 39,
     "metadata": {},
     "output_type": "execute_result"
    }
   ],
   "source": [
    "print('Продажи в Европе по жанрам, млн. копий:')\n",
    "data_rel.groupby('genre')['eu_sales'].sum().sort_values(ascending=False).head()"
   ]
  },
  {
   "cell_type": "code",
   "execution_count": 40,
   "metadata": {},
   "outputs": [
    {
     "name": "stdout",
     "output_type": "stream",
     "text": [
      "Продажи в Японии по жанрам, млн. копий:\n"
     ]
    },
    {
     "data": {
      "text/plain": [
       "genre\n",
       "Role-Playing    50.01\n",
       "Action          39.65\n",
       "Misc             9.03\n",
       "Fighting         7.63\n",
       "Shooter          6.61\n",
       "Name: jp_sales, dtype: float64"
      ]
     },
     "execution_count": 40,
     "metadata": {},
     "output_type": "execute_result"
    }
   ],
   "source": [
    "print('Продажи в Японии по жанрам, млн. копий:')\n",
    "data_rel.groupby('genre')['jp_sales'].sum().sort_values(ascending=False).head()"
   ]
  },
  {
   "cell_type": "markdown",
   "metadata": {},
   "source": [
    "**Промежуточный вывод:** В плане жанров Америка и Европа схожи: экшены на первом месте, затем шутеры, спортивные и ролевые игры. Разница в 5ой позиции, игры непопулярных жанров, вместе собранные в категорию Misc (\"Другие\"), в Америке и гонки в Европе.\n",
    "\n",
    "В Японии же все наоборот: ролевые игры впереди экшенов, непопулярных жанров, файтингов и шутеров. Скорее всего сказывается разница в культурах, кроме того японский игропром знаменит своими ролевыми играми и платформерами."
   ]
  },
  {
   "cell_type": "markdown",
   "metadata": {},
   "source": [
    "### Влияет ли рейтинг ESRB на продажи в отдельном регионе?"
   ]
  },
  {
   "cell_type": "code",
   "execution_count": 41,
   "metadata": {},
   "outputs": [
    {
     "data": {
      "text/html": [
       "<div>\n",
       "<style scoped>\n",
       "    .dataframe tbody tr th:only-of-type {\n",
       "        vertical-align: middle;\n",
       "    }\n",
       "\n",
       "    .dataframe tbody tr th {\n",
       "        vertical-align: top;\n",
       "    }\n",
       "\n",
       "    .dataframe thead th {\n",
       "        text-align: right;\n",
       "    }\n",
       "</style>\n",
       "<table border=\"1\" class=\"dataframe\">\n",
       "  <thead>\n",
       "    <tr style=\"text-align: right;\">\n",
       "      <th></th>\n",
       "      <th>na_sales</th>\n",
       "      <th>eu_sales</th>\n",
       "      <th>jp_sales</th>\n",
       "    </tr>\n",
       "    <tr>\n",
       "      <th>rating</th>\n",
       "      <th></th>\n",
       "      <th></th>\n",
       "      <th></th>\n",
       "    </tr>\n",
       "  </thead>\n",
       "  <tbody>\n",
       "    <tr>\n",
       "      <th>E</th>\n",
       "      <td>78.94</td>\n",
       "      <td>82.80</td>\n",
       "      <td>15.00</td>\n",
       "    </tr>\n",
       "    <tr>\n",
       "      <th>E10+</th>\n",
       "      <td>54.02</td>\n",
       "      <td>42.53</td>\n",
       "      <td>5.89</td>\n",
       "    </tr>\n",
       "    <tr>\n",
       "      <th>M</th>\n",
       "      <td>165.21</td>\n",
       "      <td>145.32</td>\n",
       "      <td>14.11</td>\n",
       "    </tr>\n",
       "    <tr>\n",
       "      <th>T</th>\n",
       "      <td>49.79</td>\n",
       "      <td>41.95</td>\n",
       "      <td>20.44</td>\n",
       "    </tr>\n",
       "  </tbody>\n",
       "</table>\n",
       "</div>"
      ],
      "text/plain": [
       "        na_sales  eu_sales  jp_sales\n",
       "rating                              \n",
       "E          78.94     82.80     15.00\n",
       "E10+       54.02     42.53      5.89\n",
       "M         165.21    145.32     14.11\n",
       "T          49.79     41.95     20.44"
      ]
     },
     "execution_count": 41,
     "metadata": {},
     "output_type": "execute_result"
    }
   ],
   "source": [
    "# Составим общую таблицу выручки по возрастному рейтингу для регионов.\n",
    "# Уберем пропуски и рейтинг RP («Rating Pending» — «Рейтинг ожидается») из данных.\n",
    "data_rating = data_rel.query('rating != \"unknown\" and rating != \"RP\"')\n",
    "data_rating.groupby('rating')[['na_sales', 'eu_sales', 'jp_sales']].sum()"
   ]
  },
  {
   "cell_type": "markdown",
   "metadata": {},
   "source": [
    "**Промежуточный вывод:** Видим, что в Америке и Европе лидируют игры рейтинга M («Mature» — «Для взрослых»), затем следует рейтинг E («Everyone» — «Для всех»), затем почти вровень идут игры E10+ («Everyone 10 and older» — «Для всех от 10 лет и старше») и T («Teen» — «Подросткам»).\n",
    "\n",
    "В Японии все опять наоборот: сначала T, затем E, M и E10+. Скорее всего тут дело не столько в самом рейтинге, сколько опять же в жанрах, ведь зачастую экшены и шутеры - это игры с содержанием взрослых тем, тогда как ролевые игры и платформеры проще сделать подходящими для более юных пользователей.\n",
    "\n",
    "Это же касается и рейтинга E10+ для всех регионов - зачастую такие игры \"подгоняются\" под рейтинг E. Так что можно предположить, что рейтинг косвенно, но все же влияет на продажи, но я бы рекомендовал рассмотреть это совместно с жанрами, например, хорошо ли продается шутер с рейтингом E относительно шутера с рейтингом M."
   ]
  },
  {
   "cell_type": "markdown",
   "metadata": {},
   "source": [
    "## Проверка гипотез"
   ]
  },
  {
   "cell_type": "markdown",
   "metadata": {},
   "source": [
    "### Средние пользовательские рейтинги платформ Xbox One и PC одинаковые."
   ]
  },
  {
   "cell_type": "markdown",
   "metadata": {},
   "source": [
    "Cоставим нулевую и альтернативную гипотезы. За нулевую гипотезу берем равенство выборок, чтобы в альтернативной проверять их различие.\n",
    "\n",
    "H0: Средние пользовательские рейтинги платформ Xbox One и PC одинаковые.\n",
    "\n",
    "H1: Средние пользовательские рейтинги платформ Xbox One и PC разные. (Двухсторонняя H1)\n",
    "\n",
    "Так как выборок две и они независимы, проведем двухвыборочный t-тест для независимых выборок."
   ]
  },
  {
   "cell_type": "code",
   "execution_count": 42,
   "metadata": {
    "scrolled": true
   },
   "outputs": [
    {
     "name": "stdout",
     "output_type": "stream",
     "text": [
      "p-value: 0.14012658403611647\n",
      "Нет оснований отвергнуть нулевую гипотезу\n"
     ]
    }
   ],
   "source": [
    "alpha = 0.05 # уровень статистической значимости\n",
    "\n",
    "XOne_rating = data_rel.query('platform == \"XOne\" and user_score != -1')['user_score']\n",
    "PC_rating = data_rel.query('platform == \"PC\" and user_score != -1')['user_score']\n",
    "\n",
    "# Проводим t-тест для двух выборок, в качестве альтернативной используем двухстороннюю гипотезу.\n",
    "results = st.ttest_ind(XOne_rating, PC_rating, alternative='two-sided')\n",
    "\n",
    "print(f'p-value: {results.pvalue}')\n",
    "\n",
    "# Проверяем p-value.\n",
    "if results.pvalue < alpha:\n",
    "    print('Отвергаем нулевую гипотезу')\n",
    "else:\n",
    "    print('Нет оснований отвергнуть нулевую гипотезу')"
   ]
  },
  {
   "cell_type": "markdown",
   "metadata": {},
   "source": [
    "**Промежуточный вывод:** Тест показывает, что нет оснований отвергать нулевую гипотезу, составленную как \"Средние пользовательские рейтинги платформ Xbox One и PC одинаковые.\" Значит, можно считать, что это действительно так."
   ]
  },
  {
   "cell_type": "markdown",
   "metadata": {},
   "source": [
    "### Средние пользовательские рейтинги жанров Action и Sports разные."
   ]
  },
  {
   "cell_type": "markdown",
   "metadata": {},
   "source": [
    "Cоставим нулевую и альтернативную гипотезы. За нулевую гипотезу берем равенство выборок, чтобы в альтернативной проверять их различие.\n",
    "\n",
    "H0: Средние пользовательские рейтинги жанров Action и Sports одинаковые.\n",
    "\n",
    "H1: Средние пользовательские рейтинги жанров Action и Sports разные. (Двухсторонняя H1)\n",
    "\n",
    "Так как выборок две и они независимы, проведем двухвыборочный t-тест для независимых выборок."
   ]
  },
  {
   "cell_type": "code",
   "execution_count": 43,
   "metadata": {},
   "outputs": [
    {
     "name": "stdout",
     "output_type": "stream",
     "text": [
      "p-value: 1.8791962987532298e-27\n",
      "Отвергаем нулевую гипотезу\n"
     ]
    }
   ],
   "source": [
    "alpha = 0.05 # уровень статистической значимости\n",
    "\n",
    "Action_rating = data_rel.query('genre == \"Action\" and user_score != -1')['user_score']\n",
    "Sports_rating = data_rel.query('genre == \"Sports\" and user_score != -1')['user_score']\n",
    "\n",
    "# Проводим t-тест для двух выборок, в качестве альтернативной используем двухстороннюю гипотезу.\n",
    "results = st.ttest_ind(Action_rating, Sports_rating, alternative='two-sided')\n",
    "print(f'p-value: {results.pvalue}')\n",
    "\n",
    "# Проверяем p-value.\n",
    "if results.pvalue < alpha:\n",
    "    print('Отвергаем нулевую гипотезу')\n",
    "else:\n",
    "    print('Нет оснований отвергнуть нулевую гипотезу')"
   ]
  },
  {
   "cell_type": "markdown",
   "metadata": {},
   "source": [
    "**Промежуточный вывод:** Тест показывает, что следует отвергнуть нулевую гипотезу в пользу альтернативной, которую мы составили как \"Средние пользовательские рейтинги жанров Action и Sports разные.\" Значит, можно считать, что это действительно так."
   ]
  },
  {
   "cell_type": "markdown",
   "metadata": {},
   "source": [
    "## Общий вывод"
   ]
  },
  {
   "cell_type": "markdown",
   "metadata": {},
   "source": [
    "**Подготовка данных:** Привели названия столбцов к нижнему регистру, обработали пропущенные значения, заменили типы данных на нужные. Добавили столбец с суммарными продажами по всем регионам. Данные об оценках и возрастном рейтинге игр имели серьезное число пропусков, что могло сказаться на анализе, несмотря на замену.\n",
    "\n",
    "**Анализ данных:** Посмотрели, сколько игр выпускалось в разные годы. С 1980 по 1994 год выпускалось гораздо меньше игр, чем после. При более подробном анализе эти данные можно либо объеденить в одну категорию, либо отбросить, что менее желательно.\n",
    "\n",
    "Посмотрели, как менялись продажи по платформам. Наибольшие суммарные продажи были у PS2, следом идут платформы одного поколения X360, PS3 и Wii, затем предшественник Wii DS и предшественник PS2 PS. Меньше всего продаж у старых редких японских платформ, не ушедших далеко за пределы островного государства.\n",
    "\n",
    "Построим график распределения по годам для лучших платформ по продажам. Цикл существования платформ с наибольшими продажами составил примерно 10 лет. Стоит учитывать, что на этот цикл оказывают непосредственное влияние сами разработчики платформ, постепенно вводя в эксплуатацию новые платформы и выводя старые.\n",
    "\n",
    "Для дальнейшего анализа определили актуальный период в 4 года - с 2013 по 2016 год. Таким образом мы охватили все платформы на подъеме и отсекли большинство отживших срок, учитывая при этом более свежие данные о конце срока некоторых платформ. Также убрали платформы, у которых нет данных о продажах за 2016 год. Обычно выпуск и продажа игр на таких платформах не возобновляется.\n",
    "\n",
    "Выделили лидеров продаж за актуальный период: PS4, XOne и 3DS. Роста продаж по состоянию на 2016 год не наблюдается, однако стоит учитывать, что данные за 2016 год неполные. Скорее всего, PS4 и XOne приближаются к пику своего цикла. Разумно ориентироваться на них в плане прибыльности.\n",
    "\n",
    "Построили график «ящик с усами» по глобальным продажам игр в разбивке по платформам. На нем видим смещение медиан к нижнему квартилю у всех платформ, что означает, что на них выходит много игр с небольшими продажами. Выбросы вверх вполне объяснимы бестселлерами, тогда как близость нижнего \"уса\" к 0 объяснима не только провальными играми, но и нишевыми или региональными продуктами.\n",
    "\n",
    "Посмотрели, как влияют на продажи внутри платформы PS4 отзывы пользователей и критиков. Построили диаграмму рассеяния и посчитали корреляцию между отзывами и продажами. Соотнесли выводы с продажами игр на других актуальных платформах. Вывод корреляции между оценками и числом продаж игр на топовых платформах дал интересные результаты:\n",
    "- В целом корреляция между оценками критиков и числом продаж игр примерно одинакова и говорит о слабой, но присутствующей взаимосвязи между отзывами и продажами. Однако PSV является исключением, корреляция там заметно ближе к 0, то есть влияния почти нет.\n",
    "- Корреляция между оценками пользователей и числом продаж игр на топовых платформах в целом близка к 0, что говорит об отсутствии влияния на продажи. Однако платформы 3DS и WiiU являются исключениями, корреляция там заметно дальше от 0, что говорит о наличии влияния оценок пользователей на продажи.\n",
    "- Оба случая являются интересными еще и по той причине, что, как правило, обзоры критиков появляются до начала продаж, а обзоры пользователей - после, причем пользователь перед этим как правило приобретает копию игры.\n",
    "\n",
    "Посмотрели на общее распределение игр по жанрам. Лидером по медианной прибыли за игру является жанр Shooter, за ним идет Sports, затем Platform. Выделяются и аутсайдеры: наихудший по продажам жанр Adventure и идущие за ним Strategy и Puzzle. Однако не стоит забывать, что разработка игр в лидирующих жанрах обходится дороже, что значит риск провала такой игры выше.\n",
    "\n",
    "**Портреты пользователей регионов NA, EU, JP:**\n",
    "\n",
    "*Популярные платформы:*\n",
    "- В Америке, самом крупном по выручке регионе, популярны платформы прошлого и текущего поколения разработки Sony и Microsoft. Лидирует PS4, за ней следом идут XOne и X360, затем PS3 и закрывает топ-5 платформа Nintendo 3DS.\n",
    "- В Европе также лидирует PS4, следом идут PS3 и XOne, затем X360 и закрывает топ-5 платформа Nintendo 3DS.\n",
    "- В Японии, наименьшем из трех по выручке регионе, в лидерах местные платформы, 3DS, PS3, портативная PSV, PS4 и гибридная WiiU.\n",
    "Отметим, что в Японии предпочтение отдается платформам отечественной разработки, в Европе и Америке японские и американские платформы идут ровнее, с перевесом японских. Также в Японии в топ-5 есть портативные девайсы. Возможно это связано с доступностью того или иного устройства и местоположением геймера в течение дня.\n",
    "\n",
    "*Популярные жанры:*\n",
    "- В плане жанров Америка и Европа схожи: экшены на первом месте, затем шутеры, спортивные и ролевые игры. Разница в 5ой позиции, игры непопулярных жанров, вместе собранные в категорию Misc (\"Другие\"), в Америке и гонки в Европе.\n",
    "- В Японии же все наоборот: ролевые игры впереди экшенов, непопулярных жанров, файтингов и шутеров. Скорее всего сказывается разница в культурах, кроме того японский игропром знаменит своими ролевыми играми и платформерами.\n",
    "\n",
    "*Влияние возрастного рейтинга ESRB:*\n",
    "- В Америке и Европе лидируют игры рейтинга M («Mature» — «Для взрослых»), затем следует рейтинг E («Everyone» — «Для всех»), затем почти вровень идут игры E10+ («Everyone 10 and older» — «Для всех от 10 лет и старше») и T («Teen» — «Подросткам»).\n",
    "- В Японии все опять наоборот: сначала T, затем E, M и E10+. Скорее всего тут дело не столько в самом рейтинге, сколько опять же в жанрах, ведь зачастую экшены и шутеры - это игры с содержанием взрослых тем, тогда как ролевые игры и платформеры проще сделать подходящими для более юных пользователей.\n",
    "- Это же касается и рейтинга E10+ для всех регионов - зачастую такие игры \"подгоняются\" под рейтинг E. Так что можно предположить, что рейтинг косвенно, но все же влияет на продажи.\n",
    "\n",
    "**Проверка гипотез:** Использовали t-тесты, чтобы проверить следующие гипотезы:\n",
    "- Средние пользовательские рейтинги платформ Xbox One и PC одинаковые? Да, у нас нет оснований полагать, что они разные.\n",
    "- Средние пользовательские рейтинги жанров Action и Sports разные? Да, у нас нет оснований полагать, что они равны.\n",
    "\n",
    "**Рекомендации:** Рекомендую рассмотреть рейтинг ESRB совместно с жанрами, например, хорошо ли продается шутер с рейтингом E относительно шутера с рейтингом M. Также, при подготовке рекламных кампаний стоит учитывать возможность выпуска новых платформ и игр-бестселлеров."
   ]
  }
 ],
 "metadata": {
  "ExecuteTimeLog": [
   {
    "duration": 54,
    "start_time": "2024-08-19T14:26:55.165Z"
   },
   {
    "duration": 1187,
    "start_time": "2024-08-19T14:26:59.602Z"
   },
   {
    "duration": 250,
    "start_time": "2024-08-19T14:27:00.791Z"
   },
   {
    "duration": 18,
    "start_time": "2024-08-19T14:27:34.037Z"
   },
   {
    "duration": 79,
    "start_time": "2024-08-19T14:40:05.677Z"
   },
   {
    "duration": 71,
    "start_time": "2024-08-19T14:40:30.483Z"
   },
   {
    "duration": 14,
    "start_time": "2024-08-19T14:47:03.491Z"
   },
   {
    "duration": 3,
    "start_time": "2024-08-19T14:48:24.662Z"
   },
   {
    "duration": 76,
    "start_time": "2024-08-19T14:50:56.909Z"
   },
   {
    "duration": 11,
    "start_time": "2024-08-19T14:58:07.200Z"
   },
   {
    "duration": 12,
    "start_time": "2024-08-19T15:00:43.214Z"
   },
   {
    "duration": 17,
    "start_time": "2024-08-19T15:00:52.884Z"
   },
   {
    "duration": 10,
    "start_time": "2024-08-19T15:00:59.220Z"
   },
   {
    "duration": 47,
    "start_time": "2024-08-20T22:27:25.724Z"
   },
   {
    "duration": 1215,
    "start_time": "2024-08-20T22:27:31.317Z"
   },
   {
    "duration": 228,
    "start_time": "2024-08-20T22:27:32.534Z"
   },
   {
    "duration": 16,
    "start_time": "2024-08-20T22:27:32.763Z"
   },
   {
    "duration": 14,
    "start_time": "2024-08-20T22:27:32.782Z"
   },
   {
    "duration": 9,
    "start_time": "2024-08-20T22:27:32.798Z"
   },
   {
    "duration": 27,
    "start_time": "2024-08-20T22:27:32.809Z"
   },
   {
    "duration": 3,
    "start_time": "2024-08-20T22:27:32.838Z"
   },
   {
    "duration": 143,
    "start_time": "2024-08-20T22:27:32.842Z"
   },
   {
    "duration": 74,
    "start_time": "2024-08-20T22:27:32.987Z"
   },
   {
    "duration": 132,
    "start_time": "2024-08-20T22:30:32.792Z"
   },
   {
    "duration": 1116,
    "start_time": "2024-08-20T22:30:48.765Z"
   },
   {
    "duration": 1166,
    "start_time": "2024-08-20T22:31:07.902Z"
   },
   {
    "duration": 2,
    "start_time": "2024-08-20T22:31:22.748Z"
   },
   {
    "duration": 1111,
    "start_time": "2024-08-20T22:31:27.515Z"
   },
   {
    "duration": 3,
    "start_time": "2024-08-20T22:31:30.735Z"
   },
   {
    "duration": 76,
    "start_time": "2024-08-20T22:31:30.740Z"
   },
   {
    "duration": 14,
    "start_time": "2024-08-20T22:31:30.818Z"
   },
   {
    "duration": 21,
    "start_time": "2024-08-20T22:31:30.834Z"
   },
   {
    "duration": 29,
    "start_time": "2024-08-20T22:31:30.857Z"
   },
   {
    "duration": 14,
    "start_time": "2024-08-20T22:31:30.887Z"
   },
   {
    "duration": 1236,
    "start_time": "2024-08-20T22:31:30.903Z"
   },
   {
    "duration": 136,
    "start_time": "2024-08-20T22:31:32.141Z"
   },
   {
    "duration": 23,
    "start_time": "2024-08-20T22:31:32.279Z"
   },
   {
    "duration": 1193,
    "start_time": "2024-08-20T22:31:54.527Z"
   },
   {
    "duration": 19,
    "start_time": "2024-08-20T22:33:22.704Z"
   },
   {
    "duration": 3,
    "start_time": "2024-08-20T22:33:35.278Z"
   },
   {
    "duration": 94,
    "start_time": "2024-08-20T22:33:35.283Z"
   },
   {
    "duration": 14,
    "start_time": "2024-08-20T22:33:35.379Z"
   },
   {
    "duration": 13,
    "start_time": "2024-08-20T22:33:35.394Z"
   },
   {
    "duration": 40,
    "start_time": "2024-08-20T22:33:35.409Z"
   },
   {
    "duration": 13,
    "start_time": "2024-08-20T22:33:35.450Z"
   },
   {
    "duration": 17,
    "start_time": "2024-08-20T22:33:35.465Z"
   },
   {
    "duration": 0,
    "start_time": "2024-08-20T22:33:35.483Z"
   },
   {
    "duration": 14,
    "start_time": "2024-08-20T22:34:37.987Z"
   },
   {
    "duration": 8,
    "start_time": "2024-08-20T22:38:18.184Z"
   },
   {
    "duration": 6,
    "start_time": "2024-08-20T22:38:38.167Z"
   },
   {
    "duration": 4,
    "start_time": "2024-08-20T22:41:35.118Z"
   },
   {
    "duration": 5,
    "start_time": "2024-08-20T22:42:27.877Z"
   },
   {
    "duration": 30,
    "start_time": "2024-08-20T22:46:17.975Z"
   },
   {
    "duration": 5,
    "start_time": "2024-08-20T22:46:44.474Z"
   },
   {
    "duration": 3,
    "start_time": "2024-08-20T22:46:47.600Z"
   },
   {
    "duration": 79,
    "start_time": "2024-08-20T22:46:47.608Z"
   },
   {
    "duration": 14,
    "start_time": "2024-08-20T22:46:47.689Z"
   },
   {
    "duration": 15,
    "start_time": "2024-08-20T22:46:47.705Z"
   },
   {
    "duration": 22,
    "start_time": "2024-08-20T22:46:47.721Z"
   },
   {
    "duration": 58,
    "start_time": "2024-08-20T22:46:47.745Z"
   },
   {
    "duration": 5,
    "start_time": "2024-08-20T22:46:47.805Z"
   },
   {
    "duration": 6,
    "start_time": "2024-08-20T22:46:47.812Z"
   },
   {
    "duration": 5,
    "start_time": "2024-08-20T22:46:47.819Z"
   },
   {
    "duration": 33,
    "start_time": "2024-08-20T22:46:47.825Z"
   },
   {
    "duration": 17,
    "start_time": "2024-08-20T22:46:47.860Z"
   },
   {
    "duration": 5,
    "start_time": "2024-08-20T22:47:18.498Z"
   },
   {
    "duration": 15,
    "start_time": "2024-08-20T22:47:26.384Z"
   },
   {
    "duration": 5,
    "start_time": "2024-08-20T22:51:46.465Z"
   },
   {
    "duration": 3,
    "start_time": "2024-08-20T22:52:19.116Z"
   },
   {
    "duration": 95,
    "start_time": "2024-08-20T22:52:19.121Z"
   },
   {
    "duration": 18,
    "start_time": "2024-08-20T22:52:19.218Z"
   },
   {
    "duration": 17,
    "start_time": "2024-08-20T22:52:19.238Z"
   },
   {
    "duration": 31,
    "start_time": "2024-08-20T22:52:19.258Z"
   },
   {
    "duration": 14,
    "start_time": "2024-08-20T22:52:19.291Z"
   },
   {
    "duration": 19,
    "start_time": "2024-08-20T22:52:19.306Z"
   },
   {
    "duration": 20,
    "start_time": "2024-08-20T22:52:19.327Z"
   },
   {
    "duration": 37,
    "start_time": "2024-08-20T22:52:19.349Z"
   },
   {
    "duration": 15,
    "start_time": "2024-08-20T22:52:19.388Z"
   },
   {
    "duration": 28,
    "start_time": "2024-08-20T22:52:19.405Z"
   },
   {
    "duration": 47,
    "start_time": "2024-08-20T22:52:19.435Z"
   },
   {
    "duration": 10,
    "start_time": "2024-08-20T22:52:42.750Z"
   },
   {
    "duration": 17,
    "start_time": "2024-08-20T22:53:05.741Z"
   },
   {
    "duration": 9,
    "start_time": "2024-08-20T22:53:14.753Z"
   },
   {
    "duration": 3,
    "start_time": "2024-08-20T22:53:17.335Z"
   },
   {
    "duration": 63,
    "start_time": "2024-08-20T22:53:17.395Z"
   },
   {
    "duration": 17,
    "start_time": "2024-08-20T22:53:17.461Z"
   },
   {
    "duration": 16,
    "start_time": "2024-08-20T22:53:17.480Z"
   },
   {
    "duration": 11,
    "start_time": "2024-08-20T22:53:17.497Z"
   },
   {
    "duration": 12,
    "start_time": "2024-08-20T22:53:17.537Z"
   },
   {
    "duration": 20,
    "start_time": "2024-08-20T22:53:17.551Z"
   },
   {
    "duration": 6,
    "start_time": "2024-08-20T22:53:17.574Z"
   },
   {
    "duration": 32,
    "start_time": "2024-08-20T22:53:17.582Z"
   },
   {
    "duration": 3,
    "start_time": "2024-08-20T22:53:17.616Z"
   },
   {
    "duration": 15,
    "start_time": "2024-08-20T22:53:17.621Z"
   },
   {
    "duration": 11,
    "start_time": "2024-08-20T22:53:17.638Z"
   },
   {
    "duration": 17,
    "start_time": "2024-08-20T22:53:17.650Z"
   },
   {
    "duration": 4,
    "start_time": "2024-08-20T22:54:26.584Z"
   },
   {
    "duration": 3,
    "start_time": "2024-08-20T22:54:31.680Z"
   },
   {
    "duration": 90,
    "start_time": "2024-08-20T22:54:31.685Z"
   },
   {
    "duration": 13,
    "start_time": "2024-08-20T22:54:31.776Z"
   },
   {
    "duration": 4,
    "start_time": "2024-08-20T22:54:31.790Z"
   },
   {
    "duration": 15,
    "start_time": "2024-08-20T22:54:31.796Z"
   },
   {
    "duration": 31,
    "start_time": "2024-08-20T22:54:31.812Z"
   },
   {
    "duration": 8,
    "start_time": "2024-08-20T22:54:31.845Z"
   },
   {
    "duration": 9,
    "start_time": "2024-08-20T22:54:31.855Z"
   },
   {
    "duration": 5,
    "start_time": "2024-08-20T22:54:31.866Z"
   },
   {
    "duration": 49,
    "start_time": "2024-08-20T22:54:31.873Z"
   },
   {
    "duration": 16,
    "start_time": "2024-08-20T22:54:31.924Z"
   },
   {
    "duration": 10,
    "start_time": "2024-08-20T22:54:31.941Z"
   },
   {
    "duration": 33,
    "start_time": "2024-08-20T22:54:31.952Z"
   },
   {
    "duration": 4,
    "start_time": "2024-08-20T22:54:54.328Z"
   },
   {
    "duration": 4,
    "start_time": "2024-08-20T22:55:03.062Z"
   },
   {
    "duration": 117,
    "start_time": "2024-08-20T22:55:03.067Z"
   },
   {
    "duration": 15,
    "start_time": "2024-08-20T22:55:03.186Z"
   },
   {
    "duration": 6,
    "start_time": "2024-08-20T22:55:03.203Z"
   },
   {
    "duration": 30,
    "start_time": "2024-08-20T22:55:03.211Z"
   },
   {
    "duration": 34,
    "start_time": "2024-08-20T22:55:03.243Z"
   },
   {
    "duration": 37,
    "start_time": "2024-08-20T22:55:03.278Z"
   },
   {
    "duration": 25,
    "start_time": "2024-08-20T22:55:03.316Z"
   },
   {
    "duration": 38,
    "start_time": "2024-08-20T22:55:03.343Z"
   },
   {
    "duration": 28,
    "start_time": "2024-08-20T22:55:03.383Z"
   },
   {
    "duration": 27,
    "start_time": "2024-08-20T22:55:03.413Z"
   },
   {
    "duration": 19,
    "start_time": "2024-08-20T22:55:03.442Z"
   },
   {
    "duration": 37,
    "start_time": "2024-08-20T22:55:03.462Z"
   },
   {
    "duration": 4,
    "start_time": "2024-08-20T22:55:03.502Z"
   },
   {
    "duration": 5,
    "start_time": "2024-08-20T23:09:14.336Z"
   },
   {
    "duration": 16,
    "start_time": "2024-08-20T23:09:24.497Z"
   },
   {
    "duration": 15,
    "start_time": "2024-08-20T23:16:19.377Z"
   },
   {
    "duration": 24,
    "start_time": "2024-08-20T23:20:26.131Z"
   },
   {
    "duration": 19,
    "start_time": "2024-08-20T23:20:41.229Z"
   },
   {
    "duration": 12,
    "start_time": "2024-08-20T23:20:53.202Z"
   },
   {
    "duration": 18,
    "start_time": "2024-08-20T23:21:01.040Z"
   },
   {
    "duration": 10,
    "start_time": "2024-08-20T23:21:12.611Z"
   },
   {
    "duration": 7,
    "start_time": "2024-08-20T23:42:43.421Z"
   },
   {
    "duration": 8,
    "start_time": "2024-08-20T23:43:28.165Z"
   },
   {
    "duration": 9,
    "start_time": "2024-08-20T23:49:34.501Z"
   },
   {
    "duration": 7,
    "start_time": "2024-08-20T23:50:14.204Z"
   },
   {
    "duration": 7,
    "start_time": "2024-08-20T23:50:42.759Z"
   },
   {
    "duration": 3,
    "start_time": "2024-08-21T00:08:31.214Z"
   },
   {
    "duration": 72,
    "start_time": "2024-08-21T00:08:31.219Z"
   },
   {
    "duration": 13,
    "start_time": "2024-08-21T00:08:31.293Z"
   },
   {
    "duration": 34,
    "start_time": "2024-08-21T00:08:31.307Z"
   },
   {
    "duration": 66,
    "start_time": "2024-08-21T00:08:31.342Z"
   },
   {
    "duration": 94,
    "start_time": "2024-08-21T00:08:31.410Z"
   },
   {
    "duration": 87,
    "start_time": "2024-08-21T00:08:31.506Z"
   },
   {
    "duration": 59,
    "start_time": "2024-08-21T00:08:31.595Z"
   },
   {
    "duration": 14,
    "start_time": "2024-08-21T00:08:31.656Z"
   },
   {
    "duration": 26,
    "start_time": "2024-08-21T00:08:31.672Z"
   },
   {
    "duration": 5,
    "start_time": "2024-08-21T00:08:31.699Z"
   },
   {
    "duration": 25,
    "start_time": "2024-08-21T00:08:31.705Z"
   },
   {
    "duration": 8,
    "start_time": "2024-08-21T00:08:31.731Z"
   },
   {
    "duration": 15,
    "start_time": "2024-08-21T00:08:31.740Z"
   },
   {
    "duration": 4,
    "start_time": "2024-08-21T00:08:31.756Z"
   },
   {
    "duration": 23,
    "start_time": "2024-08-21T00:08:31.762Z"
   },
   {
    "duration": 48,
    "start_time": "2024-08-21T00:08:31.787Z"
   },
   {
    "duration": 7,
    "start_time": "2024-08-21T00:08:31.837Z"
   },
   {
    "duration": 20,
    "start_time": "2024-08-21T00:16:13.863Z"
   },
   {
    "duration": 528,
    "start_time": "2024-08-21T00:16:30.965Z"
   },
   {
    "duration": 17,
    "start_time": "2024-08-21T00:17:23.302Z"
   },
   {
    "duration": 17,
    "start_time": "2024-08-21T00:19:26.059Z"
   },
   {
    "duration": 16,
    "start_time": "2024-08-21T00:20:32.448Z"
   },
   {
    "duration": 483,
    "start_time": "2024-08-21T00:20:44.595Z"
   },
   {
    "duration": 1258,
    "start_time": "2024-08-21T00:22:54.370Z"
   },
   {
    "duration": 1304,
    "start_time": "2024-08-21T00:23:08.178Z"
   },
   {
    "duration": 631,
    "start_time": "2024-08-21T00:23:17.191Z"
   },
   {
    "duration": 1315,
    "start_time": "2024-08-21T00:23:45.510Z"
   },
   {
    "duration": 515,
    "start_time": "2024-08-21T00:23:55.849Z"
   },
   {
    "duration": 17,
    "start_time": "2024-08-21T00:27:51.387Z"
   },
   {
    "duration": 848,
    "start_time": "2024-08-21T00:28:29.783Z"
   },
   {
    "duration": 253,
    "start_time": "2024-08-21T00:29:13.570Z"
   },
   {
    "duration": 222,
    "start_time": "2024-08-21T00:30:28.579Z"
   },
   {
    "duration": 229,
    "start_time": "2024-08-21T00:30:55.647Z"
   },
   {
    "duration": 10,
    "start_time": "2024-08-21T00:48:04.362Z"
   },
   {
    "duration": 8,
    "start_time": "2024-08-21T00:48:26.632Z"
   },
   {
    "duration": 4,
    "start_time": "2024-08-21T00:48:33.983Z"
   },
   {
    "duration": 65,
    "start_time": "2024-08-21T00:48:33.989Z"
   },
   {
    "duration": 13,
    "start_time": "2024-08-21T00:48:34.056Z"
   },
   {
    "duration": 17,
    "start_time": "2024-08-21T00:48:34.071Z"
   },
   {
    "duration": 18,
    "start_time": "2024-08-21T00:48:34.090Z"
   },
   {
    "duration": 10,
    "start_time": "2024-08-21T00:48:34.109Z"
   },
   {
    "duration": 8,
    "start_time": "2024-08-21T00:48:34.120Z"
   },
   {
    "duration": 32,
    "start_time": "2024-08-21T00:48:34.137Z"
   },
   {
    "duration": 6,
    "start_time": "2024-08-21T00:48:34.170Z"
   },
   {
    "duration": 37,
    "start_time": "2024-08-21T00:48:34.178Z"
   },
   {
    "duration": 4,
    "start_time": "2024-08-21T00:48:34.217Z"
   },
   {
    "duration": 19,
    "start_time": "2024-08-21T00:48:34.222Z"
   },
   {
    "duration": 7,
    "start_time": "2024-08-21T00:48:34.243Z"
   },
   {
    "duration": 15,
    "start_time": "2024-08-21T00:48:34.252Z"
   },
   {
    "duration": 4,
    "start_time": "2024-08-21T00:48:34.268Z"
   },
   {
    "duration": 18,
    "start_time": "2024-08-21T00:48:34.273Z"
   },
   {
    "duration": 7,
    "start_time": "2024-08-21T00:48:34.293Z"
   },
   {
    "duration": 258,
    "start_time": "2024-08-21T00:48:34.301Z"
   },
   {
    "duration": 9,
    "start_time": "2024-08-21T00:48:34.561Z"
   },
   {
    "duration": 13,
    "start_time": "2024-08-21T00:49:26.999Z"
   },
   {
    "duration": 7,
    "start_time": "2024-08-21T00:50:46.140Z"
   },
   {
    "duration": 6,
    "start_time": "2024-08-21T00:50:59.683Z"
   },
   {
    "duration": 10,
    "start_time": "2024-08-21T00:57:08.056Z"
   },
   {
    "duration": 5,
    "start_time": "2024-08-21T00:57:11.187Z"
   },
   {
    "duration": 48,
    "start_time": "2024-08-21T10:16:52.339Z"
   },
   {
    "duration": 1183,
    "start_time": "2024-08-21T10:17:00.439Z"
   },
   {
    "duration": 328,
    "start_time": "2024-08-21T10:17:01.624Z"
   },
   {
    "duration": 17,
    "start_time": "2024-08-21T10:17:01.953Z"
   },
   {
    "duration": 51,
    "start_time": "2024-08-21T10:17:01.971Z"
   },
   {
    "duration": 26,
    "start_time": "2024-08-21T10:17:02.024Z"
   },
   {
    "duration": 16,
    "start_time": "2024-08-21T10:17:02.051Z"
   },
   {
    "duration": 18,
    "start_time": "2024-08-21T10:17:02.069Z"
   },
   {
    "duration": 4,
    "start_time": "2024-08-21T10:17:02.089Z"
   },
   {
    "duration": 15,
    "start_time": "2024-08-21T10:17:02.094Z"
   },
   {
    "duration": 28,
    "start_time": "2024-08-21T10:17:02.110Z"
   },
   {
    "duration": 15,
    "start_time": "2024-08-21T10:17:02.139Z"
   },
   {
    "duration": 13,
    "start_time": "2024-08-21T10:17:02.156Z"
   },
   {
    "duration": 25,
    "start_time": "2024-08-21T10:17:02.170Z"
   },
   {
    "duration": 28,
    "start_time": "2024-08-21T10:17:02.198Z"
   },
   {
    "duration": 16,
    "start_time": "2024-08-21T10:17:02.227Z"
   },
   {
    "duration": 64,
    "start_time": "2024-08-21T10:17:02.245Z"
   },
   {
    "duration": 19,
    "start_time": "2024-08-21T10:17:02.311Z"
   },
   {
    "duration": 290,
    "start_time": "2024-08-21T10:17:02.332Z"
   },
   {
    "duration": 7,
    "start_time": "2024-08-21T10:17:02.623Z"
   },
   {
    "duration": 189,
    "start_time": "2024-08-21T10:17:02.632Z"
   },
   {
    "duration": 223,
    "start_time": "2024-08-21T10:18:30.197Z"
   },
   {
    "duration": 325,
    "start_time": "2024-08-21T10:19:03.529Z"
   },
   {
    "duration": 58,
    "start_time": "2024-08-21T10:22:07.991Z"
   },
   {
    "duration": 66,
    "start_time": "2024-08-21T10:22:45.877Z"
   },
   {
    "duration": 1053,
    "start_time": "2024-08-21T10:24:21.415Z"
   },
   {
    "duration": 279,
    "start_time": "2024-08-21T10:24:35.725Z"
   },
   {
    "duration": 1006,
    "start_time": "2024-08-21T10:24:50.245Z"
   },
   {
    "duration": 15,
    "start_time": "2024-08-21T10:25:12.393Z"
   },
   {
    "duration": 175,
    "start_time": "2024-08-21T10:29:09.791Z"
   },
   {
    "duration": 188,
    "start_time": "2024-08-21T10:29:18.406Z"
   },
   {
    "duration": 32,
    "start_time": "2024-08-21T10:29:31.749Z"
   },
   {
    "duration": 329,
    "start_time": "2024-08-21T10:29:37.621Z"
   },
   {
    "duration": 22,
    "start_time": "2024-08-21T10:30:22.396Z"
   },
   {
    "duration": 27,
    "start_time": "2024-08-21T10:31:38.426Z"
   },
   {
    "duration": 293,
    "start_time": "2024-08-21T10:31:44.525Z"
   },
   {
    "duration": 301,
    "start_time": "2024-08-21T10:31:59.519Z"
   },
   {
    "duration": 293,
    "start_time": "2024-08-21T10:32:18.538Z"
   },
   {
    "duration": 1053,
    "start_time": "2024-08-21T10:32:39.221Z"
   },
   {
    "duration": 24,
    "start_time": "2024-08-21T10:33:01.379Z"
   },
   {
    "duration": 205,
    "start_time": "2024-08-21T10:35:30.509Z"
   },
   {
    "duration": 200,
    "start_time": "2024-08-21T10:35:44.058Z"
   },
   {
    "duration": 232,
    "start_time": "2024-08-21T10:36:28.181Z"
   },
   {
    "duration": 274,
    "start_time": "2024-08-21T10:36:35.457Z"
   },
   {
    "duration": 224,
    "start_time": "2024-08-21T10:37:36.441Z"
   },
   {
    "duration": 1532,
    "start_time": "2024-08-21T10:46:57.408Z"
   },
   {
    "duration": 5,
    "start_time": "2024-08-21T10:47:38.806Z"
   },
   {
    "duration": 79,
    "start_time": "2024-08-21T10:47:38.813Z"
   },
   {
    "duration": 16,
    "start_time": "2024-08-21T10:47:38.894Z"
   },
   {
    "duration": 18,
    "start_time": "2024-08-21T10:47:38.912Z"
   },
   {
    "duration": 15,
    "start_time": "2024-08-21T10:47:38.932Z"
   },
   {
    "duration": 10,
    "start_time": "2024-08-21T10:47:38.949Z"
   },
   {
    "duration": 24,
    "start_time": "2024-08-21T10:47:38.961Z"
   },
   {
    "duration": 5,
    "start_time": "2024-08-21T10:47:38.987Z"
   },
   {
    "duration": 8,
    "start_time": "2024-08-21T10:47:38.994Z"
   },
   {
    "duration": 36,
    "start_time": "2024-08-21T10:47:39.005Z"
   },
   {
    "duration": 6,
    "start_time": "2024-08-21T10:47:39.043Z"
   },
   {
    "duration": 5,
    "start_time": "2024-08-21T10:47:39.051Z"
   },
   {
    "duration": 34,
    "start_time": "2024-08-21T10:47:39.058Z"
   },
   {
    "duration": 24,
    "start_time": "2024-08-21T10:47:39.094Z"
   },
   {
    "duration": 4,
    "start_time": "2024-08-21T10:47:39.120Z"
   },
   {
    "duration": 20,
    "start_time": "2024-08-21T10:47:39.125Z"
   },
   {
    "duration": 11,
    "start_time": "2024-08-21T10:47:39.147Z"
   },
   {
    "duration": 319,
    "start_time": "2024-08-21T10:47:39.159Z"
   },
   {
    "duration": 11,
    "start_time": "2024-08-21T10:47:39.480Z"
   },
   {
    "duration": 1585,
    "start_time": "2024-08-21T10:47:39.493Z"
   },
   {
    "duration": 21,
    "start_time": "2024-08-21T10:48:41.642Z"
   },
   {
    "duration": 161,
    "start_time": "2024-08-21T10:48:54.009Z"
   },
   {
    "duration": 150,
    "start_time": "2024-08-21T10:49:10.848Z"
   },
   {
    "duration": 22,
    "start_time": "2024-08-21T10:49:56.456Z"
   },
   {
    "duration": 1561,
    "start_time": "2024-08-21T10:50:17.504Z"
   },
   {
    "duration": 26,
    "start_time": "2024-08-21T10:50:56.261Z"
   },
   {
    "duration": 1421,
    "start_time": "2024-08-21T10:51:15.718Z"
   },
   {
    "duration": 1419,
    "start_time": "2024-08-21T10:53:50.542Z"
   },
   {
    "duration": 1503,
    "start_time": "2024-08-21T10:54:31.713Z"
   },
   {
    "duration": 19,
    "start_time": "2024-08-21T10:54:49.475Z"
   },
   {
    "duration": 5,
    "start_time": "2024-08-21T11:00:32.382Z"
   },
   {
    "duration": 93,
    "start_time": "2024-08-21T11:00:32.397Z"
   },
   {
    "duration": 26,
    "start_time": "2024-08-21T11:00:32.491Z"
   },
   {
    "duration": 16,
    "start_time": "2024-08-21T11:00:32.519Z"
   },
   {
    "duration": 45,
    "start_time": "2024-08-21T11:00:32.537Z"
   },
   {
    "duration": 43,
    "start_time": "2024-08-21T11:00:32.584Z"
   },
   {
    "duration": 37,
    "start_time": "2024-08-21T11:00:32.629Z"
   },
   {
    "duration": 15,
    "start_time": "2024-08-21T11:00:32.667Z"
   },
   {
    "duration": 24,
    "start_time": "2024-08-21T11:00:32.683Z"
   },
   {
    "duration": 49,
    "start_time": "2024-08-21T11:00:32.709Z"
   },
   {
    "duration": 5,
    "start_time": "2024-08-21T11:00:32.760Z"
   },
   {
    "duration": 40,
    "start_time": "2024-08-21T11:00:32.766Z"
   },
   {
    "duration": 14,
    "start_time": "2024-08-21T11:00:32.807Z"
   },
   {
    "duration": 49,
    "start_time": "2024-08-21T11:00:32.823Z"
   },
   {
    "duration": 4,
    "start_time": "2024-08-21T11:00:32.873Z"
   },
   {
    "duration": 35,
    "start_time": "2024-08-21T11:00:32.879Z"
   },
   {
    "duration": 24,
    "start_time": "2024-08-21T11:00:32.915Z"
   },
   {
    "duration": 276,
    "start_time": "2024-08-21T11:00:32.940Z"
   },
   {
    "duration": 6,
    "start_time": "2024-08-21T11:00:33.218Z"
   },
   {
    "duration": 1578,
    "start_time": "2024-08-21T11:00:33.225Z"
   },
   {
    "duration": 22,
    "start_time": "2024-08-21T11:00:34.804Z"
   },
   {
    "duration": 311,
    "start_time": "2024-08-21T11:03:26.297Z"
   },
   {
    "duration": 5,
    "start_time": "2024-08-21T11:03:35.895Z"
   },
   {
    "duration": 94,
    "start_time": "2024-08-21T11:03:35.910Z"
   },
   {
    "duration": 14,
    "start_time": "2024-08-21T11:03:36.010Z"
   },
   {
    "duration": 5,
    "start_time": "2024-08-21T11:03:36.026Z"
   },
   {
    "duration": 47,
    "start_time": "2024-08-21T11:03:36.032Z"
   },
   {
    "duration": 96,
    "start_time": "2024-08-21T11:03:36.081Z"
   },
   {
    "duration": 30,
    "start_time": "2024-08-21T11:03:36.179Z"
   },
   {
    "duration": 4,
    "start_time": "2024-08-21T11:03:36.212Z"
   },
   {
    "duration": 10,
    "start_time": "2024-08-21T11:03:36.218Z"
   },
   {
    "duration": 27,
    "start_time": "2024-08-21T11:03:36.229Z"
   },
   {
    "duration": 5,
    "start_time": "2024-08-21T11:03:36.258Z"
   },
   {
    "duration": 18,
    "start_time": "2024-08-21T11:03:36.265Z"
   },
   {
    "duration": 24,
    "start_time": "2024-08-21T11:03:36.285Z"
   },
   {
    "duration": 39,
    "start_time": "2024-08-21T11:03:36.311Z"
   },
   {
    "duration": 10,
    "start_time": "2024-08-21T11:03:36.352Z"
   },
   {
    "duration": 16,
    "start_time": "2024-08-21T11:03:36.363Z"
   },
   {
    "duration": 26,
    "start_time": "2024-08-21T11:03:36.381Z"
   },
   {
    "duration": 258,
    "start_time": "2024-08-21T11:03:36.408Z"
   },
   {
    "duration": 28,
    "start_time": "2024-08-21T11:03:36.668Z"
   },
   {
    "duration": 316,
    "start_time": "2024-08-21T11:03:36.702Z"
   },
   {
    "duration": 31,
    "start_time": "2024-08-21T11:04:32.177Z"
   },
   {
    "duration": 19,
    "start_time": "2024-08-21T11:06:12.123Z"
   },
   {
    "duration": 297,
    "start_time": "2024-08-21T11:11:18.558Z"
   },
   {
    "duration": 430,
    "start_time": "2024-08-21T11:27:52.270Z"
   },
   {
    "duration": 301,
    "start_time": "2024-08-21T11:28:16.324Z"
   },
   {
    "duration": 331,
    "start_time": "2024-08-21T11:30:39.322Z"
   },
   {
    "duration": 320,
    "start_time": "2024-08-21T11:33:36.946Z"
   },
   {
    "duration": 4,
    "start_time": "2024-08-21T13:05:33.130Z"
   },
   {
    "duration": 94,
    "start_time": "2024-08-21T13:05:33.136Z"
   },
   {
    "duration": 15,
    "start_time": "2024-08-21T13:05:33.232Z"
   },
   {
    "duration": 4,
    "start_time": "2024-08-21T13:05:33.248Z"
   },
   {
    "duration": 20,
    "start_time": "2024-08-21T13:05:33.254Z"
   },
   {
    "duration": 13,
    "start_time": "2024-08-21T13:05:33.293Z"
   },
   {
    "duration": 8,
    "start_time": "2024-08-21T13:05:33.307Z"
   },
   {
    "duration": 12,
    "start_time": "2024-08-21T13:05:33.317Z"
   },
   {
    "duration": 6,
    "start_time": "2024-08-21T13:05:33.330Z"
   },
   {
    "duration": 25,
    "start_time": "2024-08-21T13:05:33.338Z"
   },
   {
    "duration": 4,
    "start_time": "2024-08-21T13:05:33.365Z"
   },
   {
    "duration": 29,
    "start_time": "2024-08-21T13:05:33.371Z"
   },
   {
    "duration": 13,
    "start_time": "2024-08-21T13:05:33.402Z"
   },
   {
    "duration": 30,
    "start_time": "2024-08-21T13:05:33.416Z"
   },
   {
    "duration": 4,
    "start_time": "2024-08-21T13:05:33.448Z"
   },
   {
    "duration": 8,
    "start_time": "2024-08-21T13:05:33.453Z"
   },
   {
    "duration": 9,
    "start_time": "2024-08-21T13:05:33.463Z"
   },
   {
    "duration": 265,
    "start_time": "2024-08-21T13:05:33.473Z"
   },
   {
    "duration": 8,
    "start_time": "2024-08-21T13:05:33.740Z"
   },
   {
    "duration": 338,
    "start_time": "2024-08-21T13:05:33.750Z"
   },
   {
    "duration": 252,
    "start_time": "2024-08-21T13:05:34.089Z"
   },
   {
    "duration": 261,
    "start_time": "2024-08-21T13:05:41.902Z"
   },
   {
    "duration": 274,
    "start_time": "2024-08-21T13:06:12.465Z"
   },
   {
    "duration": 425,
    "start_time": "2024-08-21T13:09:46.414Z"
   },
   {
    "duration": 315,
    "start_time": "2024-08-21T13:09:59.645Z"
   },
   {
    "duration": 360,
    "start_time": "2024-08-21T13:10:17.497Z"
   },
   {
    "duration": 300,
    "start_time": "2024-08-21T13:20:58.946Z"
   },
   {
    "duration": 287,
    "start_time": "2024-08-21T13:21:10.559Z"
   },
   {
    "duration": 19,
    "start_time": "2024-08-21T13:27:06.074Z"
   },
   {
    "duration": 64,
    "start_time": "2024-08-21T13:29:35.848Z"
   },
   {
    "duration": 73,
    "start_time": "2024-08-21T13:29:35.914Z"
   },
   {
    "duration": 15,
    "start_time": "2024-08-21T13:29:35.989Z"
   },
   {
    "duration": 4,
    "start_time": "2024-08-21T13:29:36.006Z"
   },
   {
    "duration": 63,
    "start_time": "2024-08-21T13:29:36.013Z"
   },
   {
    "duration": 20,
    "start_time": "2024-08-21T13:29:36.078Z"
   },
   {
    "duration": 11,
    "start_time": "2024-08-21T13:29:36.100Z"
   },
   {
    "duration": 6,
    "start_time": "2024-08-21T13:29:36.113Z"
   },
   {
    "duration": 7,
    "start_time": "2024-08-21T13:29:36.121Z"
   },
   {
    "duration": 44,
    "start_time": "2024-08-21T13:29:36.130Z"
   },
   {
    "duration": 5,
    "start_time": "2024-08-21T13:29:36.176Z"
   },
   {
    "duration": 10,
    "start_time": "2024-08-21T13:29:36.182Z"
   },
   {
    "duration": 7,
    "start_time": "2024-08-21T13:29:36.193Z"
   },
   {
    "duration": 16,
    "start_time": "2024-08-21T13:29:36.202Z"
   },
   {
    "duration": 3,
    "start_time": "2024-08-21T13:29:36.219Z"
   },
   {
    "duration": 7,
    "start_time": "2024-08-21T13:29:36.224Z"
   },
   {
    "duration": 11,
    "start_time": "2024-08-21T13:29:36.232Z"
   },
   {
    "duration": 273,
    "start_time": "2024-08-21T13:29:36.244Z"
   },
   {
    "duration": 6,
    "start_time": "2024-08-21T13:29:36.519Z"
   },
   {
    "duration": 408,
    "start_time": "2024-08-21T13:29:36.526Z"
   },
   {
    "duration": 317,
    "start_time": "2024-08-21T13:29:36.935Z"
   },
   {
    "duration": 306,
    "start_time": "2024-08-21T13:29:59.681Z"
   },
   {
    "duration": 56,
    "start_time": "2024-08-21T14:33:18.823Z"
   },
   {
    "duration": 42,
    "start_time": "2024-08-21T14:33:25.622Z"
   },
   {
    "duration": 20,
    "start_time": "2024-08-21T14:33:36.110Z"
   },
   {
    "duration": 4,
    "start_time": "2024-08-21T14:33:40.117Z"
   },
   {
    "duration": 149,
    "start_time": "2024-08-21T14:33:40.123Z"
   },
   {
    "duration": 14,
    "start_time": "2024-08-21T14:33:40.274Z"
   },
   {
    "duration": 49,
    "start_time": "2024-08-21T14:33:40.290Z"
   },
   {
    "duration": 25,
    "start_time": "2024-08-21T14:33:40.341Z"
   },
   {
    "duration": 21,
    "start_time": "2024-08-21T14:33:40.367Z"
   },
   {
    "duration": 34,
    "start_time": "2024-08-21T14:33:40.390Z"
   },
   {
    "duration": 15,
    "start_time": "2024-08-21T14:33:40.426Z"
   },
   {
    "duration": 13,
    "start_time": "2024-08-21T14:33:40.443Z"
   },
   {
    "duration": 27,
    "start_time": "2024-08-21T14:33:40.458Z"
   },
   {
    "duration": 7,
    "start_time": "2024-08-21T14:33:40.487Z"
   },
   {
    "duration": 5,
    "start_time": "2024-08-21T14:33:40.495Z"
   },
   {
    "duration": 24,
    "start_time": "2024-08-21T14:33:40.502Z"
   },
   {
    "duration": 34,
    "start_time": "2024-08-21T14:33:40.529Z"
   },
   {
    "duration": 4,
    "start_time": "2024-08-21T14:33:40.565Z"
   },
   {
    "duration": 24,
    "start_time": "2024-08-21T14:33:40.570Z"
   },
   {
    "duration": 43,
    "start_time": "2024-08-21T14:33:40.595Z"
   },
   {
    "duration": 254,
    "start_time": "2024-08-21T14:33:40.640Z"
   },
   {
    "duration": 20,
    "start_time": "2024-08-21T14:33:40.896Z"
   },
   {
    "duration": 193,
    "start_time": "2024-08-21T14:33:40.918Z"
   },
   {
    "duration": 25,
    "start_time": "2024-08-21T14:33:41.113Z"
   },
   {
    "duration": 30,
    "start_time": "2024-08-21T14:34:36.722Z"
   },
   {
    "duration": 55,
    "start_time": "2024-08-21T14:35:19.018Z"
   },
   {
    "duration": 62,
    "start_time": "2024-08-21T14:36:03.501Z"
   },
   {
    "duration": 20,
    "start_time": "2024-08-21T14:36:44.498Z"
   },
   {
    "duration": 23,
    "start_time": "2024-08-21T14:39:17.486Z"
   },
   {
    "duration": 3,
    "start_time": "2024-08-21T14:39:34.031Z"
   },
   {
    "duration": 73,
    "start_time": "2024-08-21T14:39:34.040Z"
   },
   {
    "duration": 14,
    "start_time": "2024-08-21T14:39:34.116Z"
   },
   {
    "duration": 4,
    "start_time": "2024-08-21T14:39:34.131Z"
   },
   {
    "duration": 29,
    "start_time": "2024-08-21T14:39:34.136Z"
   },
   {
    "duration": 36,
    "start_time": "2024-08-21T14:39:34.168Z"
   },
   {
    "duration": 9,
    "start_time": "2024-08-21T14:39:34.206Z"
   },
   {
    "duration": 4,
    "start_time": "2024-08-21T14:39:34.216Z"
   },
   {
    "duration": 13,
    "start_time": "2024-08-21T14:39:34.222Z"
   },
   {
    "duration": 26,
    "start_time": "2024-08-21T14:39:34.237Z"
   },
   {
    "duration": 5,
    "start_time": "2024-08-21T14:39:34.265Z"
   },
   {
    "duration": 34,
    "start_time": "2024-08-21T14:39:34.272Z"
   },
   {
    "duration": 75,
    "start_time": "2024-08-21T14:39:34.308Z"
   },
   {
    "duration": 17,
    "start_time": "2024-08-21T14:39:34.385Z"
   },
   {
    "duration": 8,
    "start_time": "2024-08-21T14:39:34.404Z"
   },
   {
    "duration": 16,
    "start_time": "2024-08-21T14:39:34.414Z"
   },
   {
    "duration": 8,
    "start_time": "2024-08-21T14:39:34.432Z"
   },
   {
    "duration": 277,
    "start_time": "2024-08-21T14:39:34.442Z"
   },
   {
    "duration": 11,
    "start_time": "2024-08-21T14:39:34.721Z"
   },
   {
    "duration": 317,
    "start_time": "2024-08-21T14:39:34.734Z"
   },
   {
    "duration": 267,
    "start_time": "2024-08-21T14:39:35.053Z"
   },
   {
    "duration": 343,
    "start_time": "2024-08-21T14:43:26.250Z"
   },
   {
    "duration": 271,
    "start_time": "2024-08-21T14:43:35.393Z"
   },
   {
    "duration": 252,
    "start_time": "2024-08-21T14:43:57.701Z"
   },
   {
    "duration": 255,
    "start_time": "2024-08-21T14:44:11.158Z"
   },
   {
    "duration": 282,
    "start_time": "2024-08-21T14:44:18.340Z"
   },
   {
    "duration": 264,
    "start_time": "2024-08-21T14:44:47.075Z"
   },
   {
    "duration": 344,
    "start_time": "2024-08-21T14:44:54.142Z"
   },
   {
    "duration": 3,
    "start_time": "2024-08-21T14:56:21.883Z"
   },
   {
    "duration": 73,
    "start_time": "2024-08-21T14:56:21.888Z"
   },
   {
    "duration": 14,
    "start_time": "2024-08-21T14:56:21.963Z"
   },
   {
    "duration": 29,
    "start_time": "2024-08-21T14:56:21.979Z"
   },
   {
    "duration": 43,
    "start_time": "2024-08-21T14:56:22.010Z"
   },
   {
    "duration": 21,
    "start_time": "2024-08-21T14:56:22.055Z"
   },
   {
    "duration": 9,
    "start_time": "2024-08-21T14:56:22.078Z"
   },
   {
    "duration": 5,
    "start_time": "2024-08-21T14:56:22.088Z"
   },
   {
    "duration": 14,
    "start_time": "2024-08-21T14:56:22.095Z"
   },
   {
    "duration": 27,
    "start_time": "2024-08-21T14:56:22.112Z"
   },
   {
    "duration": 8,
    "start_time": "2024-08-21T14:56:22.141Z"
   },
   {
    "duration": 11,
    "start_time": "2024-08-21T14:56:22.151Z"
   },
   {
    "duration": 8,
    "start_time": "2024-08-21T14:56:22.164Z"
   },
   {
    "duration": 24,
    "start_time": "2024-08-21T14:56:22.174Z"
   },
   {
    "duration": 19,
    "start_time": "2024-08-21T14:56:22.199Z"
   },
   {
    "duration": 15,
    "start_time": "2024-08-21T14:56:22.219Z"
   },
   {
    "duration": 11,
    "start_time": "2024-08-21T14:56:22.235Z"
   },
   {
    "duration": 255,
    "start_time": "2024-08-21T14:56:22.248Z"
   },
   {
    "duration": 13,
    "start_time": "2024-08-21T14:56:22.505Z"
   },
   {
    "duration": 312,
    "start_time": "2024-08-21T14:56:22.519Z"
   },
   {
    "duration": 277,
    "start_time": "2024-08-21T14:56:22.833Z"
   },
   {
    "duration": 275,
    "start_time": "2024-08-21T14:56:23.112Z"
   },
   {
    "duration": 336,
    "start_time": "2024-08-21T15:00:16.219Z"
   },
   {
    "duration": 49,
    "start_time": "2024-08-21T22:22:51.808Z"
   },
   {
    "duration": 1263,
    "start_time": "2024-08-21T22:22:56.152Z"
   },
   {
    "duration": 194,
    "start_time": "2024-08-21T22:22:57.417Z"
   },
   {
    "duration": 12,
    "start_time": "2024-08-21T22:22:57.613Z"
   },
   {
    "duration": 4,
    "start_time": "2024-08-21T22:22:57.626Z"
   },
   {
    "duration": 15,
    "start_time": "2024-08-21T22:22:57.631Z"
   },
   {
    "duration": 11,
    "start_time": "2024-08-21T22:22:57.648Z"
   },
   {
    "duration": 11,
    "start_time": "2024-08-21T22:22:57.661Z"
   },
   {
    "duration": 10,
    "start_time": "2024-08-21T22:22:57.673Z"
   },
   {
    "duration": 5,
    "start_time": "2024-08-21T22:22:57.684Z"
   },
   {
    "duration": 37,
    "start_time": "2024-08-21T22:22:57.690Z"
   },
   {
    "duration": 4,
    "start_time": "2024-08-21T22:22:57.728Z"
   },
   {
    "duration": 6,
    "start_time": "2024-08-21T22:22:57.733Z"
   },
   {
    "duration": 6,
    "start_time": "2024-08-21T22:22:57.740Z"
   },
   {
    "duration": 13,
    "start_time": "2024-08-21T22:22:57.748Z"
   },
   {
    "duration": 4,
    "start_time": "2024-08-21T22:22:57.763Z"
   },
   {
    "duration": 10,
    "start_time": "2024-08-21T22:22:57.769Z"
   },
   {
    "duration": 32,
    "start_time": "2024-08-21T22:22:57.780Z"
   },
   {
    "duration": 243,
    "start_time": "2024-08-21T22:22:57.814Z"
   },
   {
    "duration": 10,
    "start_time": "2024-08-21T22:22:58.059Z"
   },
   {
    "duration": 238,
    "start_time": "2024-08-21T22:22:58.070Z"
   },
   {
    "duration": 218,
    "start_time": "2024-08-21T22:22:58.310Z"
   },
   {
    "duration": 233,
    "start_time": "2024-08-21T22:22:58.530Z"
   },
   {
    "duration": 79,
    "start_time": "2024-08-21T22:22:58.765Z"
   },
   {
    "duration": 23,
    "start_time": "2024-08-21T22:24:08.425Z"
   },
   {
    "duration": 23,
    "start_time": "2024-08-21T22:24:17.166Z"
   },
   {
    "duration": 22,
    "start_time": "2024-08-21T22:25:09.340Z"
   },
   {
    "duration": 12,
    "start_time": "2024-08-21T22:25:42.700Z"
   },
   {
    "duration": 22,
    "start_time": "2024-08-21T22:26:00.197Z"
   },
   {
    "duration": 8,
    "start_time": "2024-08-21T22:27:08.968Z"
   },
   {
    "duration": 5,
    "start_time": "2024-08-21T22:27:35.752Z"
   },
   {
    "duration": 7,
    "start_time": "2024-08-21T22:27:47.102Z"
   },
   {
    "duration": 3,
    "start_time": "2024-08-21T22:27:55.500Z"
   },
   {
    "duration": 133,
    "start_time": "2024-08-21T22:27:55.505Z"
   },
   {
    "duration": 11,
    "start_time": "2024-08-21T22:27:55.639Z"
   },
   {
    "duration": 3,
    "start_time": "2024-08-21T22:27:55.651Z"
   },
   {
    "duration": 13,
    "start_time": "2024-08-21T22:27:55.656Z"
   },
   {
    "duration": 22,
    "start_time": "2024-08-21T22:27:55.670Z"
   },
   {
    "duration": 25,
    "start_time": "2024-08-21T22:27:55.693Z"
   },
   {
    "duration": 2,
    "start_time": "2024-08-21T22:27:55.720Z"
   },
   {
    "duration": 7,
    "start_time": "2024-08-21T22:27:55.724Z"
   },
   {
    "duration": 29,
    "start_time": "2024-08-21T22:27:55.732Z"
   },
   {
    "duration": 3,
    "start_time": "2024-08-21T22:27:55.763Z"
   },
   {
    "duration": 7,
    "start_time": "2024-08-21T22:27:55.768Z"
   },
   {
    "duration": 7,
    "start_time": "2024-08-21T22:27:55.776Z"
   },
   {
    "duration": 22,
    "start_time": "2024-08-21T22:27:55.786Z"
   },
   {
    "duration": 4,
    "start_time": "2024-08-21T22:27:55.809Z"
   },
   {
    "duration": 11,
    "start_time": "2024-08-21T22:27:55.814Z"
   },
   {
    "duration": 7,
    "start_time": "2024-08-21T22:27:55.827Z"
   },
   {
    "duration": 239,
    "start_time": "2024-08-21T22:27:55.836Z"
   },
   {
    "duration": 10,
    "start_time": "2024-08-21T22:27:56.077Z"
   },
   {
    "duration": 297,
    "start_time": "2024-08-21T22:27:56.089Z"
   },
   {
    "duration": 4,
    "start_time": "2024-08-21T22:27:56.388Z"
   },
   {
    "duration": 305,
    "start_time": "2024-08-21T22:27:56.394Z"
   },
   {
    "duration": 227,
    "start_time": "2024-08-21T22:27:56.700Z"
   },
   {
    "duration": 7,
    "start_time": "2024-08-21T22:27:56.928Z"
   },
   {
    "duration": 4,
    "start_time": "2024-08-21T22:28:01.206Z"
   },
   {
    "duration": 82,
    "start_time": "2024-08-21T22:28:01.211Z"
   },
   {
    "duration": 15,
    "start_time": "2024-08-21T22:28:01.294Z"
   },
   {
    "duration": 77,
    "start_time": "2024-08-21T22:28:01.311Z"
   },
   {
    "duration": 27,
    "start_time": "2024-08-21T22:28:01.391Z"
   },
   {
    "duration": 20,
    "start_time": "2024-08-21T22:28:01.420Z"
   },
   {
    "duration": 67,
    "start_time": "2024-08-21T22:28:01.442Z"
   },
   {
    "duration": 160,
    "start_time": "2024-08-21T22:28:01.510Z"
   },
   {
    "duration": 29,
    "start_time": "2024-08-21T22:28:01.672Z"
   },
   {
    "duration": 31,
    "start_time": "2024-08-21T22:28:01.702Z"
   },
   {
    "duration": 16,
    "start_time": "2024-08-21T22:28:01.735Z"
   },
   {
    "duration": 28,
    "start_time": "2024-08-21T22:28:01.752Z"
   },
   {
    "duration": 26,
    "start_time": "2024-08-21T22:28:01.782Z"
   },
   {
    "duration": 20,
    "start_time": "2024-08-21T22:28:01.810Z"
   },
   {
    "duration": 4,
    "start_time": "2024-08-21T22:28:01.831Z"
   },
   {
    "duration": 24,
    "start_time": "2024-08-21T22:28:01.836Z"
   },
   {
    "duration": 20,
    "start_time": "2024-08-21T22:28:01.862Z"
   },
   {
    "duration": 215,
    "start_time": "2024-08-21T22:28:01.884Z"
   },
   {
    "duration": 11,
    "start_time": "2024-08-21T22:28:02.106Z"
   },
   {
    "duration": 295,
    "start_time": "2024-08-21T22:28:02.118Z"
   },
   {
    "duration": 5,
    "start_time": "2024-08-21T22:28:02.414Z"
   },
   {
    "duration": 248,
    "start_time": "2024-08-21T22:28:02.420Z"
   },
   {
    "duration": 248,
    "start_time": "2024-08-21T22:28:02.669Z"
   },
   {
    "duration": 8,
    "start_time": "2024-08-21T22:28:02.918Z"
   },
   {
    "duration": 3,
    "start_time": "2024-08-21T22:28:23.590Z"
   },
   {
    "duration": 121,
    "start_time": "2024-08-21T22:36:04.940Z"
   },
   {
    "duration": 19,
    "start_time": "2024-08-21T22:36:25.713Z"
   },
   {
    "duration": 18,
    "start_time": "2024-08-21T22:36:54.971Z"
   },
   {
    "duration": 122,
    "start_time": "2024-08-21T22:38:00.051Z"
   },
   {
    "duration": 12,
    "start_time": "2024-08-21T22:40:04.331Z"
   },
   {
    "duration": 167,
    "start_time": "2024-08-21T22:40:38.890Z"
   },
   {
    "duration": 110,
    "start_time": "2024-08-21T22:40:47.091Z"
   },
   {
    "duration": 157,
    "start_time": "2024-08-21T22:41:02.371Z"
   },
   {
    "duration": 145,
    "start_time": "2024-08-21T22:42:06.201Z"
   },
   {
    "duration": 145,
    "start_time": "2024-08-21T22:43:18.982Z"
   },
   {
    "duration": 148,
    "start_time": "2024-08-21T22:46:59.500Z"
   },
   {
    "duration": 4,
    "start_time": "2024-08-21T22:51:29.760Z"
   },
   {
    "duration": 6,
    "start_time": "2024-08-21T22:53:09.606Z"
   },
   {
    "duration": 1236,
    "start_time": "2024-08-22T10:21:55.747Z"
   },
   {
    "duration": 211,
    "start_time": "2024-08-22T10:21:56.985Z"
   },
   {
    "duration": 15,
    "start_time": "2024-08-22T10:21:57.198Z"
   },
   {
    "duration": 4,
    "start_time": "2024-08-22T10:21:57.215Z"
   },
   {
    "duration": 16,
    "start_time": "2024-08-22T10:21:57.220Z"
   },
   {
    "duration": 15,
    "start_time": "2024-08-22T10:21:57.237Z"
   },
   {
    "duration": 16,
    "start_time": "2024-08-22T10:21:57.254Z"
   },
   {
    "duration": 17,
    "start_time": "2024-08-22T10:21:57.271Z"
   },
   {
    "duration": 17,
    "start_time": "2024-08-22T10:21:57.290Z"
   },
   {
    "duration": 44,
    "start_time": "2024-08-22T10:21:57.309Z"
   },
   {
    "duration": 13,
    "start_time": "2024-08-22T10:21:57.354Z"
   },
   {
    "duration": 9,
    "start_time": "2024-08-22T10:21:57.369Z"
   },
   {
    "duration": 13,
    "start_time": "2024-08-22T10:21:57.379Z"
   },
   {
    "duration": 15,
    "start_time": "2024-08-22T10:21:57.393Z"
   },
   {
    "duration": 26,
    "start_time": "2024-08-22T10:21:57.409Z"
   },
   {
    "duration": 18,
    "start_time": "2024-08-22T10:21:57.437Z"
   },
   {
    "duration": 10,
    "start_time": "2024-08-22T10:21:57.456Z"
   },
   {
    "duration": 285,
    "start_time": "2024-08-22T10:21:57.468Z"
   },
   {
    "duration": 18,
    "start_time": "2024-08-22T10:21:57.755Z"
   },
   {
    "duration": 246,
    "start_time": "2024-08-22T10:21:57.774Z"
   },
   {
    "duration": 5,
    "start_time": "2024-08-22T10:21:58.021Z"
   },
   {
    "duration": 108,
    "start_time": "2024-08-22T10:21:58.028Z"
   },
   {
    "duration": 0,
    "start_time": "2024-08-22T10:21:58.138Z"
   },
   {
    "duration": 0,
    "start_time": "2024-08-22T10:21:58.139Z"
   },
   {
    "duration": 0,
    "start_time": "2024-08-22T10:21:58.140Z"
   },
   {
    "duration": 0,
    "start_time": "2024-08-22T10:21:58.141Z"
   },
   {
    "duration": 0,
    "start_time": "2024-08-22T10:21:58.142Z"
   },
   {
    "duration": 0,
    "start_time": "2024-08-22T10:21:58.143Z"
   },
   {
    "duration": 22,
    "start_time": "2024-08-22T10:22:22.521Z"
   },
   {
    "duration": 143,
    "start_time": "2024-08-22T10:22:33.654Z"
   },
   {
    "duration": 282,
    "start_time": "2024-08-22T10:22:41.000Z"
   },
   {
    "duration": 292,
    "start_time": "2024-08-22T10:22:43.808Z"
   },
   {
    "duration": 3,
    "start_time": "2024-08-22T10:22:48.636Z"
   },
   {
    "duration": 60,
    "start_time": "2024-08-22T10:22:48.650Z"
   },
   {
    "duration": 12,
    "start_time": "2024-08-22T10:22:48.712Z"
   },
   {
    "duration": 3,
    "start_time": "2024-08-22T10:22:48.725Z"
   },
   {
    "duration": 21,
    "start_time": "2024-08-22T10:22:48.730Z"
   },
   {
    "duration": 23,
    "start_time": "2024-08-22T10:22:48.753Z"
   },
   {
    "duration": 32,
    "start_time": "2024-08-22T10:22:48.777Z"
   },
   {
    "duration": 5,
    "start_time": "2024-08-22T10:22:48.810Z"
   },
   {
    "duration": 7,
    "start_time": "2024-08-22T10:22:48.816Z"
   },
   {
    "duration": 23,
    "start_time": "2024-08-22T10:22:48.824Z"
   },
   {
    "duration": 3,
    "start_time": "2024-08-22T10:22:48.849Z"
   },
   {
    "duration": 5,
    "start_time": "2024-08-22T10:22:48.854Z"
   },
   {
    "duration": 37,
    "start_time": "2024-08-22T10:22:48.861Z"
   },
   {
    "duration": 16,
    "start_time": "2024-08-22T10:22:48.900Z"
   },
   {
    "duration": 3,
    "start_time": "2024-08-22T10:22:48.918Z"
   },
   {
    "duration": 10,
    "start_time": "2024-08-22T10:22:48.922Z"
   },
   {
    "duration": 41,
    "start_time": "2024-08-22T10:22:48.933Z"
   },
   {
    "duration": 238,
    "start_time": "2024-08-22T10:22:48.976Z"
   },
   {
    "duration": 20,
    "start_time": "2024-08-22T10:22:49.216Z"
   },
   {
    "duration": 274,
    "start_time": "2024-08-22T10:22:49.237Z"
   },
   {
    "duration": 5,
    "start_time": "2024-08-22T10:22:49.512Z"
   },
   {
    "duration": 244,
    "start_time": "2024-08-22T10:22:49.519Z"
   },
   {
    "duration": 252,
    "start_time": "2024-08-22T10:22:49.765Z"
   },
   {
    "duration": 25,
    "start_time": "2024-08-22T10:22:50.018Z"
   },
   {
    "duration": 188,
    "start_time": "2024-08-22T10:22:50.046Z"
   },
   {
    "duration": 195,
    "start_time": "2024-08-22T10:22:50.235Z"
   },
   {
    "duration": 4,
    "start_time": "2024-08-22T10:22:50.432Z"
   },
   {
    "duration": 46,
    "start_time": "2024-08-22T10:22:50.438Z"
   },
   {
    "duration": 5,
    "start_time": "2024-08-22T10:29:53.995Z"
   },
   {
    "duration": 4,
    "start_time": "2024-08-22T10:32:26.750Z"
   },
   {
    "duration": 5,
    "start_time": "2024-08-22T10:32:43.241Z"
   },
   {
    "duration": 10,
    "start_time": "2024-08-22T10:32:59.213Z"
   },
   {
    "duration": 5,
    "start_time": "2024-08-22T10:33:08.547Z"
   },
   {
    "duration": 1163,
    "start_time": "2024-08-22T11:30:17.751Z"
   },
   {
    "duration": 67,
    "start_time": "2024-08-22T11:30:18.918Z"
   },
   {
    "duration": 19,
    "start_time": "2024-08-22T11:30:18.987Z"
   },
   {
    "duration": 27,
    "start_time": "2024-08-22T11:30:19.010Z"
   },
   {
    "duration": 14,
    "start_time": "2024-08-22T11:30:19.038Z"
   },
   {
    "duration": 16,
    "start_time": "2024-08-22T11:30:19.054Z"
   },
   {
    "duration": 16,
    "start_time": "2024-08-22T11:30:19.071Z"
   },
   {
    "duration": 4,
    "start_time": "2024-08-22T11:30:19.089Z"
   },
   {
    "duration": 10,
    "start_time": "2024-08-22T11:30:19.095Z"
   },
   {
    "duration": 35,
    "start_time": "2024-08-22T11:30:19.108Z"
   },
   {
    "duration": 9,
    "start_time": "2024-08-22T11:30:19.145Z"
   },
   {
    "duration": 35,
    "start_time": "2024-08-22T11:30:19.156Z"
   },
   {
    "duration": 34,
    "start_time": "2024-08-22T11:30:19.193Z"
   },
   {
    "duration": 21,
    "start_time": "2024-08-22T11:30:19.229Z"
   },
   {
    "duration": 3,
    "start_time": "2024-08-22T11:30:19.252Z"
   },
   {
    "duration": 10,
    "start_time": "2024-08-22T11:30:19.257Z"
   },
   {
    "duration": 10,
    "start_time": "2024-08-22T11:30:19.269Z"
   },
   {
    "duration": 279,
    "start_time": "2024-08-22T11:30:19.281Z"
   },
   {
    "duration": 19,
    "start_time": "2024-08-22T11:30:19.562Z"
   },
   {
    "duration": 292,
    "start_time": "2024-08-22T11:30:19.582Z"
   },
   {
    "duration": 261,
    "start_time": "2024-08-22T11:30:19.876Z"
   },
   {
    "duration": 269,
    "start_time": "2024-08-22T11:30:20.139Z"
   },
   {
    "duration": 17,
    "start_time": "2024-08-22T11:30:20.410Z"
   },
   {
    "duration": 206,
    "start_time": "2024-08-22T11:30:20.429Z"
   },
   {
    "duration": 196,
    "start_time": "2024-08-22T11:30:20.637Z"
   },
   {
    "duration": 4,
    "start_time": "2024-08-22T11:30:20.834Z"
   },
   {
    "duration": 20,
    "start_time": "2024-08-22T11:30:20.840Z"
   },
   {
    "duration": 51,
    "start_time": "2024-08-22T11:31:32.260Z"
   },
   {
    "duration": 1117,
    "start_time": "2024-08-22T11:31:40.293Z"
   },
   {
    "duration": 68,
    "start_time": "2024-08-22T11:31:41.412Z"
   },
   {
    "duration": 12,
    "start_time": "2024-08-22T11:31:41.481Z"
   },
   {
    "duration": 17,
    "start_time": "2024-08-22T11:31:41.495Z"
   },
   {
    "duration": 15,
    "start_time": "2024-08-22T11:31:41.514Z"
   },
   {
    "duration": 15,
    "start_time": "2024-08-22T11:31:41.531Z"
   },
   {
    "duration": 25,
    "start_time": "2024-08-22T11:31:41.547Z"
   },
   {
    "duration": 25,
    "start_time": "2024-08-22T11:31:41.573Z"
   },
   {
    "duration": 20,
    "start_time": "2024-08-22T11:31:41.599Z"
   },
   {
    "duration": 34,
    "start_time": "2024-08-22T11:31:41.621Z"
   },
   {
    "duration": 25,
    "start_time": "2024-08-22T11:31:41.656Z"
   },
   {
    "duration": 9,
    "start_time": "2024-08-22T11:31:41.682Z"
   },
   {
    "duration": 25,
    "start_time": "2024-08-22T11:31:41.692Z"
   },
   {
    "duration": 16,
    "start_time": "2024-08-22T11:31:41.722Z"
   },
   {
    "duration": 96,
    "start_time": "2024-08-22T11:31:41.739Z"
   },
   {
    "duration": 72,
    "start_time": "2024-08-22T11:31:41.836Z"
   },
   {
    "duration": 10,
    "start_time": "2024-08-22T11:31:41.910Z"
   },
   {
    "duration": 305,
    "start_time": "2024-08-22T11:31:41.921Z"
   },
   {
    "duration": 27,
    "start_time": "2024-08-22T11:31:42.227Z"
   },
   {
    "duration": 394,
    "start_time": "2024-08-22T11:31:42.256Z"
   },
   {
    "duration": 235,
    "start_time": "2024-08-22T11:31:42.651Z"
   },
   {
    "duration": 243,
    "start_time": "2024-08-22T11:31:42.887Z"
   },
   {
    "duration": 13,
    "start_time": "2024-08-22T11:31:43.132Z"
   },
   {
    "duration": 187,
    "start_time": "2024-08-22T11:31:43.146Z"
   },
   {
    "duration": 166,
    "start_time": "2024-08-22T11:31:43.334Z"
   },
   {
    "duration": 7,
    "start_time": "2024-08-22T11:31:43.502Z"
   },
   {
    "duration": 8,
    "start_time": "2024-08-22T11:31:43.510Z"
   },
   {
    "duration": 4,
    "start_time": "2024-08-22T11:31:53.428Z"
   },
   {
    "duration": 4998,
    "start_time": "2024-08-22T11:32:06.710Z"
   },
   {
    "duration": 4902,
    "start_time": "2024-08-22T11:34:54.637Z"
   },
   {
    "duration": 64,
    "start_time": "2024-08-22T11:36:22.180Z"
   },
   {
    "duration": 5086,
    "start_time": "2024-08-22T11:37:26.914Z"
   },
   {
    "duration": 4936,
    "start_time": "2024-08-22T11:38:54.739Z"
   },
   {
    "duration": 121,
    "start_time": "2024-08-22T11:54:10.201Z"
   },
   {
    "duration": 4885,
    "start_time": "2024-08-22T11:54:19.635Z"
   },
   {
    "duration": 24,
    "start_time": "2024-08-22T11:59:05.653Z"
   },
   {
    "duration": 14,
    "start_time": "2024-08-22T11:59:20.767Z"
   },
   {
    "duration": 182,
    "start_time": "2024-08-22T11:59:32.596Z"
   },
   {
    "duration": 4,
    "start_time": "2024-08-22T11:59:37.713Z"
   },
   {
    "duration": 80,
    "start_time": "2024-08-22T11:59:37.718Z"
   },
   {
    "duration": 12,
    "start_time": "2024-08-22T11:59:37.799Z"
   },
   {
    "duration": 91,
    "start_time": "2024-08-22T11:59:37.813Z"
   },
   {
    "duration": 109,
    "start_time": "2024-08-22T11:59:37.907Z"
   },
   {
    "duration": 15,
    "start_time": "2024-08-22T11:59:38.018Z"
   },
   {
    "duration": 13,
    "start_time": "2024-08-22T11:59:38.034Z"
   },
   {
    "duration": 12,
    "start_time": "2024-08-22T11:59:38.048Z"
   },
   {
    "duration": 27,
    "start_time": "2024-08-22T11:59:38.062Z"
   },
   {
    "duration": 29,
    "start_time": "2024-08-22T11:59:38.090Z"
   },
   {
    "duration": 4,
    "start_time": "2024-08-22T11:59:38.120Z"
   },
   {
    "duration": 10,
    "start_time": "2024-08-22T11:59:38.126Z"
   },
   {
    "duration": 39,
    "start_time": "2024-08-22T11:59:38.137Z"
   },
   {
    "duration": 19,
    "start_time": "2024-08-22T11:59:38.178Z"
   },
   {
    "duration": 3,
    "start_time": "2024-08-22T11:59:38.198Z"
   },
   {
    "duration": 15,
    "start_time": "2024-08-22T11:59:38.202Z"
   },
   {
    "duration": 12,
    "start_time": "2024-08-22T11:59:38.219Z"
   },
   {
    "duration": 225,
    "start_time": "2024-08-22T11:59:38.232Z"
   },
   {
    "duration": 17,
    "start_time": "2024-08-22T11:59:38.459Z"
   },
   {
    "duration": 269,
    "start_time": "2024-08-22T11:59:38.477Z"
   },
   {
    "duration": 232,
    "start_time": "2024-08-22T11:59:38.748Z"
   },
   {
    "duration": 258,
    "start_time": "2024-08-22T11:59:38.982Z"
   },
   {
    "duration": 14,
    "start_time": "2024-08-22T11:59:39.241Z"
   },
   {
    "duration": 180,
    "start_time": "2024-08-22T11:59:39.256Z"
   },
   {
    "duration": 227,
    "start_time": "2024-08-22T11:59:39.438Z"
   },
   {
    "duration": 4,
    "start_time": "2024-08-22T11:59:39.667Z"
   },
   {
    "duration": 36,
    "start_time": "2024-08-22T11:59:39.672Z"
   },
   {
    "duration": 4741,
    "start_time": "2024-08-22T11:59:39.710Z"
   },
   {
    "duration": 74,
    "start_time": "2024-08-22T12:02:07.276Z"
   },
   {
    "duration": 1655,
    "start_time": "2024-08-22T12:02:16.894Z"
   },
   {
    "duration": 2858,
    "start_time": "2024-08-22T12:05:31.234Z"
   },
   {
    "duration": 3079,
    "start_time": "2024-08-22T12:06:02.725Z"
   },
   {
    "duration": 2846,
    "start_time": "2024-08-22T12:06:55.136Z"
   },
   {
    "duration": 452,
    "start_time": "2024-08-22T12:19:45.790Z"
   },
   {
    "duration": 4,
    "start_time": "2024-08-22T12:20:43.451Z"
   },
   {
    "duration": 3009,
    "start_time": "2024-08-22T12:24:23.228Z"
   },
   {
    "duration": 12,
    "start_time": "2024-08-22T12:27:39.037Z"
   },
   {
    "duration": 56,
    "start_time": "2024-08-22T12:28:24.360Z"
   },
   {
    "duration": 48,
    "start_time": "2024-08-22T12:29:41.708Z"
   },
   {
    "duration": 53,
    "start_time": "2024-08-22T12:30:36.492Z"
   },
   {
    "duration": 64,
    "start_time": "2024-08-22T12:31:38.619Z"
   },
   {
    "duration": 62,
    "start_time": "2024-08-22T12:31:59.947Z"
   },
   {
    "duration": 75,
    "start_time": "2024-08-22T12:32:15.623Z"
   },
   {
    "duration": 27,
    "start_time": "2024-08-22T12:32:24.465Z"
   },
   {
    "duration": 38,
    "start_time": "2024-08-22T12:32:43.531Z"
   },
   {
    "duration": 47,
    "start_time": "2024-08-22T12:33:38.238Z"
   },
   {
    "duration": 46,
    "start_time": "2024-08-22T12:34:57.548Z"
   },
   {
    "duration": 7,
    "start_time": "2024-08-22T12:45:05.801Z"
   },
   {
    "duration": 6,
    "start_time": "2024-08-22T12:46:33.841Z"
   },
   {
    "duration": 49,
    "start_time": "2024-08-22T17:34:04.810Z"
   },
   {
    "duration": 1423,
    "start_time": "2024-08-22T17:34:08.214Z"
   },
   {
    "duration": 210,
    "start_time": "2024-08-22T17:34:09.639Z"
   },
   {
    "duration": 17,
    "start_time": "2024-08-22T17:34:09.851Z"
   },
   {
    "duration": 4,
    "start_time": "2024-08-22T17:34:09.871Z"
   },
   {
    "duration": 38,
    "start_time": "2024-08-22T17:34:09.877Z"
   },
   {
    "duration": 33,
    "start_time": "2024-08-22T17:34:09.917Z"
   },
   {
    "duration": 23,
    "start_time": "2024-08-22T17:34:09.952Z"
   },
   {
    "duration": 92,
    "start_time": "2024-08-22T17:34:09.977Z"
   },
   {
    "duration": 6,
    "start_time": "2024-08-22T17:34:10.071Z"
   },
   {
    "duration": 31,
    "start_time": "2024-08-22T17:34:10.081Z"
   },
   {
    "duration": 5,
    "start_time": "2024-08-22T17:34:10.113Z"
   },
   {
    "duration": 16,
    "start_time": "2024-08-22T17:34:10.120Z"
   },
   {
    "duration": 14,
    "start_time": "2024-08-22T17:34:10.138Z"
   },
   {
    "duration": 23,
    "start_time": "2024-08-22T17:34:10.153Z"
   },
   {
    "duration": 84,
    "start_time": "2024-08-22T17:34:10.178Z"
   },
   {
    "duration": 10,
    "start_time": "2024-08-22T17:34:10.265Z"
   },
   {
    "duration": 11,
    "start_time": "2024-08-22T17:34:10.277Z"
   },
   {
    "duration": 333,
    "start_time": "2024-08-22T17:34:10.290Z"
   },
   {
    "duration": 23,
    "start_time": "2024-08-22T17:34:10.625Z"
   },
   {
    "duration": 285,
    "start_time": "2024-08-22T17:34:10.649Z"
   },
   {
    "duration": 268,
    "start_time": "2024-08-22T17:34:10.937Z"
   },
   {
    "duration": 279,
    "start_time": "2024-08-22T17:34:11.207Z"
   },
   {
    "duration": 23,
    "start_time": "2024-08-22T17:34:11.487Z"
   },
   {
    "duration": 209,
    "start_time": "2024-08-22T17:34:11.512Z"
   },
   {
    "duration": 265,
    "start_time": "2024-08-22T17:34:11.724Z"
   },
   {
    "duration": 5,
    "start_time": "2024-08-22T17:34:11.991Z"
   },
   {
    "duration": 65,
    "start_time": "2024-08-22T17:34:12.003Z"
   },
   {
    "duration": 3219,
    "start_time": "2024-08-22T17:34:12.073Z"
   },
   {
    "duration": 81,
    "start_time": "2024-08-22T17:34:15.294Z"
   },
   {
    "duration": 7,
    "start_time": "2024-08-22T17:34:15.377Z"
   },
   {
    "duration": 14,
    "start_time": "2024-08-22T17:34:15.386Z"
   },
   {
    "duration": 15,
    "start_time": "2024-08-22T17:34:15.402Z"
   },
   {
    "duration": 13,
    "start_time": "2024-08-22T17:34:40.866Z"
   },
   {
    "duration": 9,
    "start_time": "2024-08-22T17:38:14.993Z"
   },
   {
    "duration": 17,
    "start_time": "2024-08-22T17:39:13.564Z"
   },
   {
    "duration": 9,
    "start_time": "2024-08-22T17:39:30.117Z"
   },
   {
    "duration": 8,
    "start_time": "2024-08-22T17:39:38.436Z"
   },
   {
    "duration": 8,
    "start_time": "2024-08-22T17:39:42.889Z"
   },
   {
    "duration": 3,
    "start_time": "2024-08-22T17:43:12.339Z"
   },
   {
    "duration": 82,
    "start_time": "2024-08-22T17:43:12.343Z"
   },
   {
    "duration": 14,
    "start_time": "2024-08-22T17:43:12.427Z"
   },
   {
    "duration": 5,
    "start_time": "2024-08-22T17:43:12.443Z"
   },
   {
    "duration": 26,
    "start_time": "2024-08-22T17:43:12.450Z"
   },
   {
    "duration": 20,
    "start_time": "2024-08-22T17:43:12.478Z"
   },
   {
    "duration": 12,
    "start_time": "2024-08-22T17:43:12.499Z"
   },
   {
    "duration": 3,
    "start_time": "2024-08-22T17:43:12.513Z"
   },
   {
    "duration": 6,
    "start_time": "2024-08-22T17:43:12.517Z"
   },
   {
    "duration": 32,
    "start_time": "2024-08-22T17:43:12.524Z"
   },
   {
    "duration": 14,
    "start_time": "2024-08-22T17:43:12.559Z"
   },
   {
    "duration": 13,
    "start_time": "2024-08-22T17:43:12.575Z"
   },
   {
    "duration": 11,
    "start_time": "2024-08-22T17:43:12.589Z"
   },
   {
    "duration": 19,
    "start_time": "2024-08-22T17:43:12.601Z"
   },
   {
    "duration": 4,
    "start_time": "2024-08-22T17:43:12.622Z"
   },
   {
    "duration": 13,
    "start_time": "2024-08-22T17:43:12.627Z"
   },
   {
    "duration": 6,
    "start_time": "2024-08-22T17:43:12.642Z"
   },
   {
    "duration": 259,
    "start_time": "2024-08-22T17:43:12.650Z"
   },
   {
    "duration": 28,
    "start_time": "2024-08-22T17:43:12.910Z"
   },
   {
    "duration": 374,
    "start_time": "2024-08-22T17:43:12.940Z"
   },
   {
    "duration": 250,
    "start_time": "2024-08-22T17:43:13.316Z"
   },
   {
    "duration": 255,
    "start_time": "2024-08-22T17:43:13.568Z"
   },
   {
    "duration": 22,
    "start_time": "2024-08-22T17:43:13.825Z"
   },
   {
    "duration": 191,
    "start_time": "2024-08-22T17:43:13.849Z"
   },
   {
    "duration": 173,
    "start_time": "2024-08-22T17:43:14.042Z"
   },
   {
    "duration": 5,
    "start_time": "2024-08-22T17:43:14.217Z"
   },
   {
    "duration": 77,
    "start_time": "2024-08-22T17:43:14.223Z"
   },
   {
    "duration": 3189,
    "start_time": "2024-08-22T17:43:14.301Z"
   },
   {
    "duration": 72,
    "start_time": "2024-08-22T17:43:17.494Z"
   },
   {
    "duration": 7,
    "start_time": "2024-08-22T17:43:17.567Z"
   },
   {
    "duration": 107,
    "start_time": "2024-08-22T17:43:17.575Z"
   },
   {
    "duration": 25,
    "start_time": "2024-08-22T17:43:17.684Z"
   },
   {
    "duration": 9,
    "start_time": "2024-08-22T17:43:17.711Z"
   },
   {
    "duration": 17,
    "start_time": "2024-08-22T17:43:17.721Z"
   },
   {
    "duration": 12,
    "start_time": "2024-08-22T17:43:17.740Z"
   },
   {
    "duration": 13,
    "start_time": "2024-08-22T17:57:25.322Z"
   },
   {
    "duration": 10,
    "start_time": "2024-08-22T17:58:04.634Z"
   },
   {
    "duration": 11,
    "start_time": "2024-08-22T17:58:30.146Z"
   },
   {
    "duration": 11,
    "start_time": "2024-08-22T17:58:42.054Z"
   },
   {
    "duration": 10,
    "start_time": "2024-08-22T17:58:49.812Z"
   },
   {
    "duration": 12,
    "start_time": "2024-08-22T18:07:31.991Z"
   },
   {
    "duration": 99,
    "start_time": "2024-08-22T18:12:22.326Z"
   },
   {
    "duration": 14,
    "start_time": "2024-08-22T18:12:30.357Z"
   },
   {
    "duration": 1466,
    "start_time": "2024-08-23T11:31:27.608Z"
   },
   {
    "duration": 201,
    "start_time": "2024-08-23T11:31:29.075Z"
   },
   {
    "duration": 16,
    "start_time": "2024-08-23T11:31:29.277Z"
   },
   {
    "duration": 5,
    "start_time": "2024-08-23T11:31:29.295Z"
   },
   {
    "duration": 44,
    "start_time": "2024-08-23T11:31:29.302Z"
   },
   {
    "duration": 17,
    "start_time": "2024-08-23T11:31:29.350Z"
   },
   {
    "duration": 10,
    "start_time": "2024-08-23T11:31:29.369Z"
   },
   {
    "duration": 4,
    "start_time": "2024-08-23T11:31:29.380Z"
   },
   {
    "duration": 6,
    "start_time": "2024-08-23T11:31:29.385Z"
   },
   {
    "duration": 44,
    "start_time": "2024-08-23T11:31:29.394Z"
   },
   {
    "duration": 6,
    "start_time": "2024-08-23T11:31:29.440Z"
   },
   {
    "duration": 14,
    "start_time": "2024-08-23T11:31:29.448Z"
   },
   {
    "duration": 11,
    "start_time": "2024-08-23T11:31:29.463Z"
   },
   {
    "duration": 30,
    "start_time": "2024-08-23T11:31:29.476Z"
   },
   {
    "duration": 4,
    "start_time": "2024-08-23T11:31:29.508Z"
   },
   {
    "duration": 16,
    "start_time": "2024-08-23T11:31:29.513Z"
   },
   {
    "duration": 8,
    "start_time": "2024-08-23T11:31:29.531Z"
   },
   {
    "duration": 340,
    "start_time": "2024-08-23T11:31:29.540Z"
   },
   {
    "duration": 22,
    "start_time": "2024-08-23T11:31:29.882Z"
   },
   {
    "duration": 299,
    "start_time": "2024-08-23T11:31:29.906Z"
   },
   {
    "duration": 282,
    "start_time": "2024-08-23T11:31:30.207Z"
   },
   {
    "duration": 300,
    "start_time": "2024-08-23T11:31:30.490Z"
   },
   {
    "duration": 31,
    "start_time": "2024-08-23T11:31:30.791Z"
   },
   {
    "duration": 221,
    "start_time": "2024-08-23T11:31:30.824Z"
   },
   {
    "duration": 193,
    "start_time": "2024-08-23T11:31:31.046Z"
   },
   {
    "duration": 4,
    "start_time": "2024-08-23T11:31:31.241Z"
   },
   {
    "duration": 12,
    "start_time": "2024-08-23T11:31:31.246Z"
   },
   {
    "duration": 3588,
    "start_time": "2024-08-23T11:31:31.261Z"
   },
   {
    "duration": 82,
    "start_time": "2024-08-23T11:31:34.851Z"
   },
   {
    "duration": 8,
    "start_time": "2024-08-23T11:31:34.934Z"
   },
   {
    "duration": 15,
    "start_time": "2024-08-23T11:31:34.943Z"
   },
   {
    "duration": 35,
    "start_time": "2024-08-23T11:31:34.960Z"
   },
   {
    "duration": 23,
    "start_time": "2024-08-23T11:31:34.997Z"
   },
   {
    "duration": 8,
    "start_time": "2024-08-23T11:31:35.022Z"
   },
   {
    "duration": 15,
    "start_time": "2024-08-23T11:31:35.031Z"
   },
   {
    "duration": 33,
    "start_time": "2024-08-23T11:31:35.048Z"
   },
   {
    "duration": 8,
    "start_time": "2024-08-23T11:31:35.082Z"
   },
   {
    "duration": 43,
    "start_time": "2024-08-23T11:31:35.091Z"
   },
   {
    "duration": 6,
    "start_time": "2024-08-23T11:31:35.136Z"
   },
   {
    "duration": 43,
    "start_time": "2024-08-23T11:31:35.144Z"
   },
   {
    "duration": 118,
    "start_time": "2024-08-23T12:06:08.955Z"
   },
   {
    "duration": 3,
    "start_time": "2024-08-23T12:06:37.945Z"
   },
   {
    "duration": 80,
    "start_time": "2024-08-23T12:06:37.951Z"
   },
   {
    "duration": 15,
    "start_time": "2024-08-23T12:06:38.033Z"
   },
   {
    "duration": 4,
    "start_time": "2024-08-23T12:06:38.051Z"
   },
   {
    "duration": 20,
    "start_time": "2024-08-23T12:06:38.056Z"
   },
   {
    "duration": 27,
    "start_time": "2024-08-23T12:06:38.077Z"
   },
   {
    "duration": 11,
    "start_time": "2024-08-23T12:06:38.105Z"
   },
   {
    "duration": 8,
    "start_time": "2024-08-23T12:06:38.117Z"
   },
   {
    "duration": 9,
    "start_time": "2024-08-23T12:06:38.126Z"
   },
   {
    "duration": 29,
    "start_time": "2024-08-23T12:06:38.137Z"
   },
   {
    "duration": 11,
    "start_time": "2024-08-23T12:06:38.167Z"
   },
   {
    "duration": 5,
    "start_time": "2024-08-23T12:06:38.179Z"
   },
   {
    "duration": 24,
    "start_time": "2024-08-23T12:06:38.185Z"
   },
   {
    "duration": 15,
    "start_time": "2024-08-23T12:06:38.211Z"
   },
   {
    "duration": 3,
    "start_time": "2024-08-23T12:06:38.228Z"
   },
   {
    "duration": 26,
    "start_time": "2024-08-23T12:06:38.233Z"
   },
   {
    "duration": 29,
    "start_time": "2024-08-23T12:06:38.260Z"
   },
   {
    "duration": 274,
    "start_time": "2024-08-23T12:06:38.290Z"
   },
   {
    "duration": 21,
    "start_time": "2024-08-23T12:06:38.566Z"
   },
   {
    "duration": 297,
    "start_time": "2024-08-23T12:06:38.589Z"
   },
   {
    "duration": 271,
    "start_time": "2024-08-23T12:06:38.887Z"
   },
   {
    "duration": 404,
    "start_time": "2024-08-23T12:06:39.160Z"
   },
   {
    "duration": 16,
    "start_time": "2024-08-23T12:06:39.565Z"
   },
   {
    "duration": 194,
    "start_time": "2024-08-23T12:06:39.583Z"
   },
   {
    "duration": 190,
    "start_time": "2024-08-23T12:06:39.779Z"
   },
   {
    "duration": 5,
    "start_time": "2024-08-23T12:06:39.971Z"
   },
   {
    "duration": 11,
    "start_time": "2024-08-23T12:06:39.977Z"
   },
   {
    "duration": 3405,
    "start_time": "2024-08-23T12:06:39.991Z"
   },
   {
    "duration": 66,
    "start_time": "2024-08-23T12:06:43.398Z"
   },
   {
    "duration": 7,
    "start_time": "2024-08-23T12:06:43.465Z"
   },
   {
    "duration": 16,
    "start_time": "2024-08-23T12:06:43.474Z"
   },
   {
    "duration": 97,
    "start_time": "2024-08-23T12:06:43.492Z"
   },
   {
    "duration": 8,
    "start_time": "2024-08-23T12:06:43.590Z"
   },
   {
    "duration": 27,
    "start_time": "2024-08-23T12:06:43.600Z"
   },
   {
    "duration": 51,
    "start_time": "2024-08-23T12:06:43.629Z"
   },
   {
    "duration": 13,
    "start_time": "2024-08-23T12:06:43.681Z"
   },
   {
    "duration": 15,
    "start_time": "2024-08-23T12:06:43.695Z"
   },
   {
    "duration": 8,
    "start_time": "2024-08-23T12:06:43.711Z"
   },
   {
    "duration": 8,
    "start_time": "2024-08-23T12:06:43.720Z"
   },
   {
    "duration": 14,
    "start_time": "2024-08-23T12:06:43.730Z"
   },
   {
    "duration": 25,
    "start_time": "2024-08-23T12:06:43.745Z"
   },
   {
    "duration": 9,
    "start_time": "2024-08-23T12:07:22.700Z"
   },
   {
    "duration": 11,
    "start_time": "2024-08-23T12:08:10.597Z"
   },
   {
    "duration": 3,
    "start_time": "2024-08-23T12:08:17.744Z"
   },
   {
    "duration": 109,
    "start_time": "2024-08-23T12:08:17.749Z"
   },
   {
    "duration": 15,
    "start_time": "2024-08-23T12:08:17.860Z"
   },
   {
    "duration": 33,
    "start_time": "2024-08-23T12:08:17.877Z"
   },
   {
    "duration": 33,
    "start_time": "2024-08-23T12:08:17.911Z"
   },
   {
    "duration": 13,
    "start_time": "2024-08-23T12:08:17.946Z"
   },
   {
    "duration": 37,
    "start_time": "2024-08-23T12:08:17.960Z"
   },
   {
    "duration": 36,
    "start_time": "2024-08-23T12:08:17.999Z"
   },
   {
    "duration": 6,
    "start_time": "2024-08-23T12:08:18.037Z"
   },
   {
    "duration": 28,
    "start_time": "2024-08-23T12:08:18.045Z"
   },
   {
    "duration": 4,
    "start_time": "2024-08-23T12:08:18.075Z"
   },
   {
    "duration": 17,
    "start_time": "2024-08-23T12:08:18.081Z"
   },
   {
    "duration": 43,
    "start_time": "2024-08-23T12:08:18.100Z"
   },
   {
    "duration": 24,
    "start_time": "2024-08-23T12:08:18.145Z"
   },
   {
    "duration": 6,
    "start_time": "2024-08-23T12:08:18.171Z"
   },
   {
    "duration": 33,
    "start_time": "2024-08-23T12:08:18.179Z"
   },
   {
    "duration": 33,
    "start_time": "2024-08-23T12:08:18.213Z"
   },
   {
    "duration": 238,
    "start_time": "2024-08-23T12:08:18.247Z"
   },
   {
    "duration": 30,
    "start_time": "2024-08-23T12:08:18.486Z"
   },
   {
    "duration": 321,
    "start_time": "2024-08-23T12:08:18.518Z"
   },
   {
    "duration": 265,
    "start_time": "2024-08-23T12:08:18.840Z"
   },
   {
    "duration": 294,
    "start_time": "2024-08-23T12:08:19.107Z"
   },
   {
    "duration": 17,
    "start_time": "2024-08-23T12:08:19.406Z"
   },
   {
    "duration": 194,
    "start_time": "2024-08-23T12:08:19.425Z"
   },
   {
    "duration": 196,
    "start_time": "2024-08-23T12:08:19.621Z"
   },
   {
    "duration": 5,
    "start_time": "2024-08-23T12:08:19.819Z"
   },
   {
    "duration": 20,
    "start_time": "2024-08-23T12:08:19.826Z"
   },
   {
    "duration": 3323,
    "start_time": "2024-08-23T12:08:19.851Z"
   },
   {
    "duration": 71,
    "start_time": "2024-08-23T12:08:23.176Z"
   },
   {
    "duration": 8,
    "start_time": "2024-08-23T12:08:23.249Z"
   },
   {
    "duration": 20,
    "start_time": "2024-08-23T12:08:23.258Z"
   },
   {
    "duration": 12,
    "start_time": "2024-08-23T12:08:23.280Z"
   },
   {
    "duration": 8,
    "start_time": "2024-08-23T12:08:23.305Z"
   },
   {
    "duration": 29,
    "start_time": "2024-08-23T12:08:23.314Z"
   },
   {
    "duration": 26,
    "start_time": "2024-08-23T12:08:23.344Z"
   },
   {
    "duration": 15,
    "start_time": "2024-08-23T12:08:23.372Z"
   },
   {
    "duration": 9,
    "start_time": "2024-08-23T12:08:23.388Z"
   },
   {
    "duration": 8,
    "start_time": "2024-08-23T12:08:23.398Z"
   },
   {
    "duration": 17,
    "start_time": "2024-08-23T12:08:23.407Z"
   },
   {
    "duration": 53,
    "start_time": "2024-08-23T12:08:23.425Z"
   },
   {
    "duration": 12,
    "start_time": "2024-08-23T12:08:23.480Z"
   },
   {
    "duration": 7,
    "start_time": "2024-08-23T12:08:52.943Z"
   },
   {
    "duration": 8,
    "start_time": "2024-08-23T12:09:12.457Z"
   },
   {
    "duration": 12,
    "start_time": "2024-08-23T12:11:34.831Z"
   },
   {
    "duration": 5,
    "start_time": "2024-08-23T12:11:39.576Z"
   },
   {
    "duration": 15,
    "start_time": "2024-08-23T12:12:34.799Z"
   },
   {
    "duration": 14,
    "start_time": "2024-08-23T12:12:42.062Z"
   },
   {
    "duration": 5,
    "start_time": "2024-08-23T12:13:23.376Z"
   },
   {
    "duration": 5,
    "start_time": "2024-08-23T12:14:18.858Z"
   },
   {
    "duration": 4,
    "start_time": "2024-08-23T12:14:41.008Z"
   },
   {
    "duration": 81,
    "start_time": "2024-08-23T12:14:41.013Z"
   },
   {
    "duration": 15,
    "start_time": "2024-08-23T12:14:41.096Z"
   },
   {
    "duration": 6,
    "start_time": "2024-08-23T12:14:41.112Z"
   },
   {
    "duration": 23,
    "start_time": "2024-08-23T12:14:41.120Z"
   },
   {
    "duration": 23,
    "start_time": "2024-08-23T12:14:41.145Z"
   },
   {
    "duration": 22,
    "start_time": "2024-08-23T12:14:41.169Z"
   },
   {
    "duration": 6,
    "start_time": "2024-08-23T12:14:41.192Z"
   },
   {
    "duration": 5,
    "start_time": "2024-08-23T12:14:41.199Z"
   },
   {
    "duration": 38,
    "start_time": "2024-08-23T12:14:41.206Z"
   },
   {
    "duration": 4,
    "start_time": "2024-08-23T12:14:41.246Z"
   },
   {
    "duration": 6,
    "start_time": "2024-08-23T12:14:41.251Z"
   },
   {
    "duration": 8,
    "start_time": "2024-08-23T12:14:41.258Z"
   },
   {
    "duration": 16,
    "start_time": "2024-08-23T12:14:41.269Z"
   },
   {
    "duration": 4,
    "start_time": "2024-08-23T12:14:41.286Z"
   },
   {
    "duration": 7,
    "start_time": "2024-08-23T12:14:41.304Z"
   },
   {
    "duration": 19,
    "start_time": "2024-08-23T12:14:41.313Z"
   },
   {
    "duration": 277,
    "start_time": "2024-08-23T12:14:41.333Z"
   },
   {
    "duration": 22,
    "start_time": "2024-08-23T12:14:41.611Z"
   },
   {
    "duration": 311,
    "start_time": "2024-08-23T12:14:41.635Z"
   },
   {
    "duration": 398,
    "start_time": "2024-08-23T12:14:41.948Z"
   },
   {
    "duration": 378,
    "start_time": "2024-08-23T12:14:42.347Z"
   },
   {
    "duration": 18,
    "start_time": "2024-08-23T12:14:42.726Z"
   },
   {
    "duration": 240,
    "start_time": "2024-08-23T12:14:42.745Z"
   },
   {
    "duration": 187,
    "start_time": "2024-08-23T12:14:42.986Z"
   },
   {
    "duration": 5,
    "start_time": "2024-08-23T12:14:43.174Z"
   },
   {
    "duration": 8,
    "start_time": "2024-08-23T12:14:43.180Z"
   },
   {
    "duration": 3488,
    "start_time": "2024-08-23T12:14:43.190Z"
   },
   {
    "duration": 73,
    "start_time": "2024-08-23T12:14:46.680Z"
   },
   {
    "duration": 31,
    "start_time": "2024-08-23T12:14:46.755Z"
   },
   {
    "duration": 9,
    "start_time": "2024-08-23T12:14:46.788Z"
   },
   {
    "duration": 21,
    "start_time": "2024-08-23T12:14:46.799Z"
   },
   {
    "duration": 11,
    "start_time": "2024-08-23T12:14:46.822Z"
   },
   {
    "duration": 9,
    "start_time": "2024-08-23T12:14:46.835Z"
   },
   {
    "duration": 12,
    "start_time": "2024-08-23T12:14:46.847Z"
   },
   {
    "duration": 46,
    "start_time": "2024-08-23T12:14:46.861Z"
   },
   {
    "duration": 9,
    "start_time": "2024-08-23T12:14:46.909Z"
   },
   {
    "duration": 9,
    "start_time": "2024-08-23T12:14:46.920Z"
   },
   {
    "duration": 52,
    "start_time": "2024-08-23T12:14:46.930Z"
   },
   {
    "duration": 30,
    "start_time": "2024-08-23T12:14:46.983Z"
   },
   {
    "duration": 12,
    "start_time": "2024-08-23T12:14:47.016Z"
   },
   {
    "duration": 4,
    "start_time": "2024-08-23T12:14:58.781Z"
   },
   {
    "duration": 6,
    "start_time": "2024-08-23T12:15:43.982Z"
   },
   {
    "duration": 4,
    "start_time": "2024-08-23T12:15:47.887Z"
   },
   {
    "duration": 85,
    "start_time": "2024-08-23T12:15:47.894Z"
   },
   {
    "duration": 15,
    "start_time": "2024-08-23T12:15:47.981Z"
   },
   {
    "duration": 5,
    "start_time": "2024-08-23T12:15:47.998Z"
   },
   {
    "duration": 18,
    "start_time": "2024-08-23T12:15:48.005Z"
   },
   {
    "duration": 30,
    "start_time": "2024-08-23T12:15:48.024Z"
   },
   {
    "duration": 18,
    "start_time": "2024-08-23T12:15:48.055Z"
   },
   {
    "duration": 5,
    "start_time": "2024-08-23T12:15:48.074Z"
   },
   {
    "duration": 24,
    "start_time": "2024-08-23T12:15:48.080Z"
   },
   {
    "duration": 50,
    "start_time": "2024-08-23T12:15:48.106Z"
   },
   {
    "duration": 5,
    "start_time": "2024-08-23T12:15:48.158Z"
   },
   {
    "duration": 15,
    "start_time": "2024-08-23T12:15:48.165Z"
   },
   {
    "duration": 11,
    "start_time": "2024-08-23T12:15:48.181Z"
   },
   {
    "duration": 23,
    "start_time": "2024-08-23T12:15:48.195Z"
   },
   {
    "duration": 4,
    "start_time": "2024-08-23T12:15:48.220Z"
   },
   {
    "duration": 18,
    "start_time": "2024-08-23T12:15:48.225Z"
   },
   {
    "duration": 9,
    "start_time": "2024-08-23T12:15:48.245Z"
   },
   {
    "duration": 269,
    "start_time": "2024-08-23T12:15:48.256Z"
   },
   {
    "duration": 22,
    "start_time": "2024-08-23T12:15:48.526Z"
   },
   {
    "duration": 305,
    "start_time": "2024-08-23T12:15:48.550Z"
   },
   {
    "duration": 264,
    "start_time": "2024-08-23T12:15:48.857Z"
   },
   {
    "duration": 288,
    "start_time": "2024-08-23T12:15:49.122Z"
   },
   {
    "duration": 17,
    "start_time": "2024-08-23T12:15:49.412Z"
   },
   {
    "duration": 195,
    "start_time": "2024-08-23T12:15:49.431Z"
   },
   {
    "duration": 213,
    "start_time": "2024-08-23T12:15:49.627Z"
   },
   {
    "duration": 5,
    "start_time": "2024-08-23T12:15:49.842Z"
   },
   {
    "duration": 16,
    "start_time": "2024-08-23T12:15:49.849Z"
   },
   {
    "duration": 3466,
    "start_time": "2024-08-23T12:15:49.868Z"
   },
   {
    "duration": 58,
    "start_time": "2024-08-23T12:15:53.336Z"
   },
   {
    "duration": 7,
    "start_time": "2024-08-23T12:15:53.406Z"
   },
   {
    "duration": 26,
    "start_time": "2024-08-23T12:15:53.414Z"
   },
   {
    "duration": 26,
    "start_time": "2024-08-23T12:15:53.442Z"
   },
   {
    "duration": 8,
    "start_time": "2024-08-23T12:15:53.469Z"
   },
   {
    "duration": 15,
    "start_time": "2024-08-23T12:15:53.478Z"
   },
   {
    "duration": 11,
    "start_time": "2024-08-23T12:15:53.495Z"
   },
   {
    "duration": 13,
    "start_time": "2024-08-23T12:15:53.507Z"
   },
   {
    "duration": 11,
    "start_time": "2024-08-23T12:15:53.521Z"
   },
   {
    "duration": 50,
    "start_time": "2024-08-23T12:15:53.534Z"
   },
   {
    "duration": 63,
    "start_time": "2024-08-23T12:15:53.586Z"
   },
   {
    "duration": 17,
    "start_time": "2024-08-23T12:15:53.651Z"
   },
   {
    "duration": 12,
    "start_time": "2024-08-23T12:15:53.672Z"
   },
   {
    "duration": 5,
    "start_time": "2024-08-23T12:17:15.132Z"
   },
   {
    "duration": 12,
    "start_time": "2024-08-23T12:22:00.339Z"
   },
   {
    "duration": 12,
    "start_time": "2024-08-23T12:22:35.125Z"
   },
   {
    "duration": 14,
    "start_time": "2024-08-23T12:31:14.758Z"
   },
   {
    "duration": 3,
    "start_time": "2024-08-23T12:32:34.142Z"
   },
   {
    "duration": 96,
    "start_time": "2024-08-23T12:32:34.147Z"
   },
   {
    "duration": 17,
    "start_time": "2024-08-23T12:32:34.245Z"
   },
   {
    "duration": 18,
    "start_time": "2024-08-23T12:32:34.265Z"
   },
   {
    "duration": 21,
    "start_time": "2024-08-23T12:32:34.285Z"
   },
   {
    "duration": 80,
    "start_time": "2024-08-23T12:32:34.308Z"
   },
   {
    "duration": 21,
    "start_time": "2024-08-23T12:32:34.390Z"
   },
   {
    "duration": 18,
    "start_time": "2024-08-23T12:32:34.412Z"
   },
   {
    "duration": 57,
    "start_time": "2024-08-23T12:32:34.432Z"
   },
   {
    "duration": 90,
    "start_time": "2024-08-23T12:32:34.491Z"
   },
   {
    "duration": 31,
    "start_time": "2024-08-23T12:32:34.582Z"
   },
   {
    "duration": 34,
    "start_time": "2024-08-23T12:32:34.615Z"
   },
   {
    "duration": 40,
    "start_time": "2024-08-23T12:32:34.651Z"
   },
   {
    "duration": 41,
    "start_time": "2024-08-23T12:32:34.693Z"
   },
   {
    "duration": 4,
    "start_time": "2024-08-23T12:32:34.736Z"
   },
   {
    "duration": 90,
    "start_time": "2024-08-23T12:32:34.741Z"
   },
   {
    "duration": 31,
    "start_time": "2024-08-23T12:32:34.832Z"
   },
   {
    "duration": 281,
    "start_time": "2024-08-23T12:32:34.865Z"
   },
   {
    "duration": 23,
    "start_time": "2024-08-23T12:32:35.148Z"
   },
   {
    "duration": 332,
    "start_time": "2024-08-23T12:32:35.173Z"
   },
   {
    "duration": 281,
    "start_time": "2024-08-23T12:32:35.507Z"
   },
   {
    "duration": 443,
    "start_time": "2024-08-23T12:32:35.789Z"
   },
   {
    "duration": 23,
    "start_time": "2024-08-23T12:32:36.234Z"
   },
   {
    "duration": 211,
    "start_time": "2024-08-23T12:32:36.258Z"
   },
   {
    "duration": 194,
    "start_time": "2024-08-23T12:32:36.471Z"
   },
   {
    "duration": 5,
    "start_time": "2024-08-23T12:32:36.667Z"
   },
   {
    "duration": 37,
    "start_time": "2024-08-23T12:32:36.674Z"
   },
   {
    "duration": 3373,
    "start_time": "2024-08-23T12:32:36.714Z"
   },
   {
    "duration": 67,
    "start_time": "2024-08-23T12:32:40.089Z"
   },
   {
    "duration": 7,
    "start_time": "2024-08-23T12:32:40.158Z"
   },
   {
    "duration": 31,
    "start_time": "2024-08-23T12:32:40.166Z"
   },
   {
    "duration": 16,
    "start_time": "2024-08-23T12:32:40.199Z"
   },
   {
    "duration": 21,
    "start_time": "2024-08-23T12:32:40.217Z"
   },
   {
    "duration": 21,
    "start_time": "2024-08-23T12:32:40.239Z"
   },
   {
    "duration": 26,
    "start_time": "2024-08-23T12:32:40.262Z"
   },
   {
    "duration": 13,
    "start_time": "2024-08-23T12:32:40.290Z"
   },
   {
    "duration": 9,
    "start_time": "2024-08-23T12:32:40.304Z"
   },
   {
    "duration": 15,
    "start_time": "2024-08-23T12:32:40.315Z"
   },
   {
    "duration": 9,
    "start_time": "2024-08-23T12:32:40.331Z"
   },
   {
    "duration": 15,
    "start_time": "2024-08-23T12:32:40.342Z"
   },
   {
    "duration": 12,
    "start_time": "2024-08-23T12:32:40.358Z"
   },
   {
    "duration": 13,
    "start_time": "2024-08-23T12:32:40.406Z"
   },
   {
    "duration": 1094,
    "start_time": "2024-08-23T14:15:21.326Z"
   },
   {
    "duration": 226,
    "start_time": "2024-08-23T14:15:22.422Z"
   },
   {
    "duration": 15,
    "start_time": "2024-08-23T14:15:22.649Z"
   },
   {
    "duration": 3,
    "start_time": "2024-08-23T14:15:22.666Z"
   },
   {
    "duration": 13,
    "start_time": "2024-08-23T14:15:22.670Z"
   },
   {
    "duration": 9,
    "start_time": "2024-08-23T14:15:22.685Z"
   },
   {
    "duration": 9,
    "start_time": "2024-08-23T14:15:22.695Z"
   },
   {
    "duration": 3,
    "start_time": "2024-08-23T14:15:22.706Z"
   },
   {
    "duration": 19,
    "start_time": "2024-08-23T14:15:22.710Z"
   },
   {
    "duration": 24,
    "start_time": "2024-08-23T14:15:22.731Z"
   },
   {
    "duration": 4,
    "start_time": "2024-08-23T14:15:22.757Z"
   },
   {
    "duration": 4,
    "start_time": "2024-08-23T14:15:22.762Z"
   },
   {
    "duration": 26,
    "start_time": "2024-08-23T14:15:22.767Z"
   },
   {
    "duration": 24,
    "start_time": "2024-08-23T14:15:22.794Z"
   },
   {
    "duration": 32,
    "start_time": "2024-08-23T14:15:22.820Z"
   },
   {
    "duration": 8,
    "start_time": "2024-08-23T14:15:22.853Z"
   },
   {
    "duration": 8,
    "start_time": "2024-08-23T14:15:22.862Z"
   },
   {
    "duration": 255,
    "start_time": "2024-08-23T14:15:22.871Z"
   },
   {
    "duration": 20,
    "start_time": "2024-08-23T14:15:23.128Z"
   },
   {
    "duration": 269,
    "start_time": "2024-08-23T14:15:23.149Z"
   },
   {
    "duration": 240,
    "start_time": "2024-08-23T14:15:23.419Z"
   },
   {
    "duration": 252,
    "start_time": "2024-08-23T14:15:23.660Z"
   },
   {
    "duration": 16,
    "start_time": "2024-08-23T14:15:23.913Z"
   },
   {
    "duration": 193,
    "start_time": "2024-08-23T14:15:23.930Z"
   },
   {
    "duration": 160,
    "start_time": "2024-08-23T14:15:24.124Z"
   },
   {
    "duration": 4,
    "start_time": "2024-08-23T14:15:24.285Z"
   },
   {
    "duration": 7,
    "start_time": "2024-08-23T14:15:24.291Z"
   },
   {
    "duration": 2952,
    "start_time": "2024-08-23T14:15:24.301Z"
   },
   {
    "duration": 64,
    "start_time": "2024-08-23T14:15:27.255Z"
   },
   {
    "duration": 7,
    "start_time": "2024-08-23T14:15:27.321Z"
   },
   {
    "duration": 10,
    "start_time": "2024-08-23T14:15:27.330Z"
   },
   {
    "duration": 12,
    "start_time": "2024-08-23T14:15:27.341Z"
   },
   {
    "duration": 7,
    "start_time": "2024-08-23T14:15:27.355Z"
   },
   {
    "duration": 30,
    "start_time": "2024-08-23T14:15:27.364Z"
   },
   {
    "duration": 24,
    "start_time": "2024-08-23T14:15:27.396Z"
   },
   {
    "duration": 12,
    "start_time": "2024-08-23T14:15:27.421Z"
   },
   {
    "duration": 8,
    "start_time": "2024-08-23T14:15:27.434Z"
   },
   {
    "duration": 6,
    "start_time": "2024-08-23T14:15:27.444Z"
   },
   {
    "duration": 9,
    "start_time": "2024-08-23T14:15:27.451Z"
   },
   {
    "duration": 40,
    "start_time": "2024-08-23T14:15:27.461Z"
   },
   {
    "duration": 10,
    "start_time": "2024-08-23T14:15:27.502Z"
   },
   {
    "duration": 11,
    "start_time": "2024-08-23T14:15:27.514Z"
   },
   {
    "duration": 67,
    "start_time": "2024-08-23T14:41:45.322Z"
   },
   {
    "duration": 25,
    "start_time": "2024-08-23T14:49:41.051Z"
   },
   {
    "duration": 21,
    "start_time": "2024-08-23T14:50:28.716Z"
   },
   {
    "duration": 230,
    "start_time": "2024-08-23T14:50:53.691Z"
   },
   {
    "duration": 213,
    "start_time": "2024-08-23T14:51:03.414Z"
   },
   {
    "duration": 3,
    "start_time": "2024-08-23T14:51:10.468Z"
   },
   {
    "duration": 76,
    "start_time": "2024-08-23T14:51:10.472Z"
   },
   {
    "duration": 14,
    "start_time": "2024-08-23T14:51:10.549Z"
   },
   {
    "duration": 6,
    "start_time": "2024-08-23T14:51:10.565Z"
   },
   {
    "duration": 34,
    "start_time": "2024-08-23T14:51:10.572Z"
   },
   {
    "duration": 33,
    "start_time": "2024-08-23T14:51:10.608Z"
   },
   {
    "duration": 15,
    "start_time": "2024-08-23T14:51:10.643Z"
   },
   {
    "duration": 12,
    "start_time": "2024-08-23T14:51:10.660Z"
   },
   {
    "duration": 6,
    "start_time": "2024-08-23T14:51:10.674Z"
   },
   {
    "duration": 38,
    "start_time": "2024-08-23T14:51:10.684Z"
   },
   {
    "duration": 21,
    "start_time": "2024-08-23T14:51:10.724Z"
   },
   {
    "duration": 10,
    "start_time": "2024-08-23T14:51:10.747Z"
   },
   {
    "duration": 23,
    "start_time": "2024-08-23T14:51:10.760Z"
   },
   {
    "duration": 20,
    "start_time": "2024-08-23T14:51:10.786Z"
   },
   {
    "duration": 4,
    "start_time": "2024-08-23T14:51:10.809Z"
   },
   {
    "duration": 18,
    "start_time": "2024-08-23T14:51:10.815Z"
   },
   {
    "duration": 11,
    "start_time": "2024-08-23T14:51:10.835Z"
   },
   {
    "duration": 342,
    "start_time": "2024-08-23T14:51:10.848Z"
   },
   {
    "duration": 24,
    "start_time": "2024-08-23T14:51:11.191Z"
   },
   {
    "duration": 293,
    "start_time": "2024-08-23T14:51:11.217Z"
   },
   {
    "duration": 270,
    "start_time": "2024-08-23T14:51:11.511Z"
   },
   {
    "duration": 284,
    "start_time": "2024-08-23T14:51:11.783Z"
   },
   {
    "duration": 17,
    "start_time": "2024-08-23T14:51:12.069Z"
   },
   {
    "duration": 192,
    "start_time": "2024-08-23T14:51:12.087Z"
   },
   {
    "duration": 284,
    "start_time": "2024-08-23T14:51:12.281Z"
   },
   {
    "duration": 4,
    "start_time": "2024-08-23T14:51:12.567Z"
   },
   {
    "duration": 36,
    "start_time": "2024-08-23T14:51:12.572Z"
   },
   {
    "duration": 3328,
    "start_time": "2024-08-23T14:51:12.611Z"
   },
   {
    "duration": 76,
    "start_time": "2024-08-23T14:51:15.941Z"
   },
   {
    "duration": 9,
    "start_time": "2024-08-23T14:51:16.019Z"
   },
   {
    "duration": 20,
    "start_time": "2024-08-23T14:51:16.030Z"
   },
   {
    "duration": 26,
    "start_time": "2024-08-23T14:51:16.052Z"
   },
   {
    "duration": 28,
    "start_time": "2024-08-23T14:51:16.080Z"
   },
   {
    "duration": 13,
    "start_time": "2024-08-23T14:51:16.110Z"
   },
   {
    "duration": 14,
    "start_time": "2024-08-23T14:51:16.125Z"
   },
   {
    "duration": 26,
    "start_time": "2024-08-23T14:51:16.141Z"
   },
   {
    "duration": 102,
    "start_time": "2024-08-23T14:51:16.168Z"
   },
   {
    "duration": 13,
    "start_time": "2024-08-23T14:51:16.271Z"
   },
   {
    "duration": 19,
    "start_time": "2024-08-23T14:51:16.286Z"
   },
   {
    "duration": 35,
    "start_time": "2024-08-23T14:51:16.307Z"
   },
   {
    "duration": 10,
    "start_time": "2024-08-23T14:51:16.344Z"
   },
   {
    "duration": 28,
    "start_time": "2024-08-23T14:51:16.356Z"
   },
   {
    "duration": 293,
    "start_time": "2024-08-23T14:51:32.286Z"
   },
   {
    "duration": 329,
    "start_time": "2024-08-23T14:52:06.368Z"
   },
   {
    "duration": 17,
    "start_time": "2024-08-23T14:52:26.862Z"
   },
   {
    "duration": 261,
    "start_time": "2024-08-23T14:54:08.930Z"
   },
   {
    "duration": 277,
    "start_time": "2024-08-23T14:54:13.464Z"
   },
   {
    "duration": 17,
    "start_time": "2024-08-23T14:54:21.587Z"
   },
   {
    "duration": 3,
    "start_time": "2024-08-23T14:57:19.638Z"
   },
   {
    "duration": 76,
    "start_time": "2024-08-23T14:57:19.644Z"
   },
   {
    "duration": 16,
    "start_time": "2024-08-23T14:57:19.722Z"
   },
   {
    "duration": 5,
    "start_time": "2024-08-23T14:57:19.740Z"
   },
   {
    "duration": 19,
    "start_time": "2024-08-23T14:57:19.748Z"
   },
   {
    "duration": 10,
    "start_time": "2024-08-23T14:57:19.768Z"
   },
   {
    "duration": 17,
    "start_time": "2024-08-23T14:57:19.804Z"
   },
   {
    "duration": 7,
    "start_time": "2024-08-23T14:57:19.823Z"
   },
   {
    "duration": 15,
    "start_time": "2024-08-23T14:57:19.831Z"
   },
   {
    "duration": 25,
    "start_time": "2024-08-23T14:57:19.848Z"
   },
   {
    "duration": 4,
    "start_time": "2024-08-23T14:57:19.875Z"
   },
   {
    "duration": 16,
    "start_time": "2024-08-23T14:57:19.881Z"
   },
   {
    "duration": 9,
    "start_time": "2024-08-23T14:57:19.899Z"
   },
   {
    "duration": 16,
    "start_time": "2024-08-23T14:57:19.911Z"
   },
   {
    "duration": 5,
    "start_time": "2024-08-23T14:57:19.928Z"
   },
   {
    "duration": 7,
    "start_time": "2024-08-23T14:57:19.935Z"
   },
   {
    "duration": 8,
    "start_time": "2024-08-23T14:57:19.944Z"
   },
   {
    "duration": 278,
    "start_time": "2024-08-23T14:57:19.953Z"
   },
   {
    "duration": 22,
    "start_time": "2024-08-23T14:57:20.233Z"
   },
   {
    "duration": 324,
    "start_time": "2024-08-23T14:57:20.257Z"
   },
   {
    "duration": 275,
    "start_time": "2024-08-23T14:57:20.583Z"
   },
   {
    "duration": 390,
    "start_time": "2024-08-23T14:57:20.861Z"
   },
   {
    "duration": 17,
    "start_time": "2024-08-23T14:57:21.252Z"
   },
   {
    "duration": 203,
    "start_time": "2024-08-23T14:57:21.272Z"
   },
   {
    "duration": 203,
    "start_time": "2024-08-23T14:57:21.477Z"
   },
   {
    "duration": 5,
    "start_time": "2024-08-23T14:57:21.682Z"
   },
   {
    "duration": 22,
    "start_time": "2024-08-23T14:57:21.688Z"
   },
   {
    "duration": 3464,
    "start_time": "2024-08-23T14:57:21.712Z"
   },
   {
    "duration": 74,
    "start_time": "2024-08-23T14:57:25.178Z"
   },
   {
    "duration": 9,
    "start_time": "2024-08-23T14:57:25.254Z"
   },
   {
    "duration": 19,
    "start_time": "2024-08-23T14:57:25.265Z"
   },
   {
    "duration": 23,
    "start_time": "2024-08-23T14:57:25.286Z"
   },
   {
    "duration": 87,
    "start_time": "2024-08-23T14:57:25.311Z"
   },
   {
    "duration": 20,
    "start_time": "2024-08-23T14:57:25.399Z"
   },
   {
    "duration": 8,
    "start_time": "2024-08-23T14:57:25.420Z"
   },
   {
    "duration": 15,
    "start_time": "2024-08-23T14:57:25.430Z"
   },
   {
    "duration": 32,
    "start_time": "2024-08-23T14:57:25.447Z"
   },
   {
    "duration": 14,
    "start_time": "2024-08-23T14:57:25.481Z"
   },
   {
    "duration": 9,
    "start_time": "2024-08-23T14:57:25.497Z"
   },
   {
    "duration": 15,
    "start_time": "2024-08-23T14:57:25.507Z"
   },
   {
    "duration": 11,
    "start_time": "2024-08-23T14:57:25.526Z"
   },
   {
    "duration": 55,
    "start_time": "2024-08-23T14:57:25.539Z"
   },
   {
    "duration": 7,
    "start_time": "2024-08-23T14:58:08.471Z"
   },
   {
    "duration": 8,
    "start_time": "2024-08-23T15:00:28.984Z"
   },
   {
    "duration": 8,
    "start_time": "2024-08-23T15:01:53.784Z"
   },
   {
    "duration": 12,
    "start_time": "2024-08-23T15:02:36.343Z"
   },
   {
    "duration": 8,
    "start_time": "2024-08-23T15:02:43.204Z"
   },
   {
    "duration": 7,
    "start_time": "2024-08-23T15:02:50.833Z"
   },
   {
    "duration": 6,
    "start_time": "2024-08-23T15:03:39.343Z"
   },
   {
    "duration": 6,
    "start_time": "2024-08-23T15:04:00.241Z"
   },
   {
    "duration": 8,
    "start_time": "2024-08-23T15:07:38.355Z"
   },
   {
    "duration": 14,
    "start_time": "2024-08-23T15:09:17.815Z"
   },
   {
    "duration": 9,
    "start_time": "2024-08-23T15:09:24.677Z"
   },
   {
    "duration": 9,
    "start_time": "2024-08-23T15:09:27.885Z"
   },
   {
    "duration": 9,
    "start_time": "2024-08-23T15:09:30.320Z"
   },
   {
    "duration": 12,
    "start_time": "2024-08-23T15:11:43.397Z"
   },
   {
    "duration": 3,
    "start_time": "2024-08-23T15:15:03.737Z"
   },
   {
    "duration": 94,
    "start_time": "2024-08-23T15:15:03.742Z"
   },
   {
    "duration": 16,
    "start_time": "2024-08-23T15:15:03.838Z"
   },
   {
    "duration": 6,
    "start_time": "2024-08-23T15:15:03.855Z"
   },
   {
    "duration": 34,
    "start_time": "2024-08-23T15:15:03.862Z"
   },
   {
    "duration": 11,
    "start_time": "2024-08-23T15:15:03.898Z"
   },
   {
    "duration": 9,
    "start_time": "2024-08-23T15:15:03.911Z"
   },
   {
    "duration": 11,
    "start_time": "2024-08-23T15:15:03.921Z"
   },
   {
    "duration": 20,
    "start_time": "2024-08-23T15:15:03.934Z"
   },
   {
    "duration": 38,
    "start_time": "2024-08-23T15:15:03.955Z"
   },
   {
    "duration": 5,
    "start_time": "2024-08-23T15:15:03.996Z"
   },
   {
    "duration": 21,
    "start_time": "2024-08-23T15:15:04.005Z"
   },
   {
    "duration": 13,
    "start_time": "2024-08-23T15:15:04.027Z"
   },
   {
    "duration": 37,
    "start_time": "2024-08-23T15:15:04.042Z"
   },
   {
    "duration": 6,
    "start_time": "2024-08-23T15:15:04.081Z"
   },
   {
    "duration": 20,
    "start_time": "2024-08-23T15:15:04.089Z"
   },
   {
    "duration": 22,
    "start_time": "2024-08-23T15:15:04.110Z"
   },
   {
    "duration": 262,
    "start_time": "2024-08-23T15:15:04.133Z"
   },
   {
    "duration": 40,
    "start_time": "2024-08-23T15:15:04.397Z"
   },
   {
    "duration": 474,
    "start_time": "2024-08-23T15:15:04.438Z"
   },
   {
    "duration": 284,
    "start_time": "2024-08-23T15:15:04.914Z"
   },
   {
    "duration": 301,
    "start_time": "2024-08-23T15:15:05.204Z"
   },
   {
    "duration": 17,
    "start_time": "2024-08-23T15:15:05.507Z"
   },
   {
    "duration": 205,
    "start_time": "2024-08-23T15:15:05.525Z"
   },
   {
    "duration": 198,
    "start_time": "2024-08-23T15:15:05.732Z"
   },
   {
    "duration": 5,
    "start_time": "2024-08-23T15:15:05.932Z"
   },
   {
    "duration": 38,
    "start_time": "2024-08-23T15:15:05.939Z"
   },
   {
    "duration": 3609,
    "start_time": "2024-08-23T15:15:05.980Z"
   },
   {
    "duration": 63,
    "start_time": "2024-08-23T15:15:09.592Z"
   },
   {
    "duration": 7,
    "start_time": "2024-08-23T15:15:09.656Z"
   },
   {
    "duration": 28,
    "start_time": "2024-08-23T15:15:09.665Z"
   },
   {
    "duration": 13,
    "start_time": "2024-08-23T15:15:09.705Z"
   },
   {
    "duration": 10,
    "start_time": "2024-08-23T15:15:09.721Z"
   },
   {
    "duration": 16,
    "start_time": "2024-08-23T15:15:09.733Z"
   },
   {
    "duration": 9,
    "start_time": "2024-08-23T15:15:09.751Z"
   },
   {
    "duration": 45,
    "start_time": "2024-08-23T15:15:09.761Z"
   },
   {
    "duration": 8,
    "start_time": "2024-08-23T15:15:09.808Z"
   },
   {
    "duration": 36,
    "start_time": "2024-08-23T15:15:09.817Z"
   },
   {
    "duration": 8,
    "start_time": "2024-08-23T15:15:09.855Z"
   },
   {
    "duration": 32,
    "start_time": "2024-08-23T15:15:09.864Z"
   },
   {
    "duration": 11,
    "start_time": "2024-08-23T15:15:09.898Z"
   },
   {
    "duration": 11,
    "start_time": "2024-08-23T15:15:09.910Z"
   },
   {
    "duration": 3406,
    "start_time": "2024-08-23T15:20:49.964Z"
   },
   {
    "duration": 13,
    "start_time": "2024-08-23T15:31:50.032Z"
   },
   {
    "duration": 12,
    "start_time": "2024-08-23T15:31:55.895Z"
   },
   {
    "duration": 1164,
    "start_time": "2024-08-23T16:58:06.906Z"
   },
   {
    "duration": 83,
    "start_time": "2024-08-23T16:58:08.072Z"
   },
   {
    "duration": 16,
    "start_time": "2024-08-23T16:58:08.157Z"
   },
   {
    "duration": 4,
    "start_time": "2024-08-23T16:58:08.174Z"
   },
   {
    "duration": 24,
    "start_time": "2024-08-23T16:58:08.181Z"
   },
   {
    "duration": 28,
    "start_time": "2024-08-23T16:58:08.206Z"
   },
   {
    "duration": 9,
    "start_time": "2024-08-23T16:58:08.236Z"
   },
   {
    "duration": 4,
    "start_time": "2024-08-23T16:58:08.246Z"
   },
   {
    "duration": 5,
    "start_time": "2024-08-23T16:58:08.251Z"
   },
   {
    "duration": 52,
    "start_time": "2024-08-23T16:58:08.258Z"
   },
   {
    "duration": 6,
    "start_time": "2024-08-23T16:58:08.311Z"
   },
   {
    "duration": 25,
    "start_time": "2024-08-23T16:58:08.319Z"
   },
   {
    "duration": 51,
    "start_time": "2024-08-23T16:58:08.346Z"
   },
   {
    "duration": 15,
    "start_time": "2024-08-23T16:58:08.403Z"
   },
   {
    "duration": 5,
    "start_time": "2024-08-23T16:58:08.419Z"
   },
   {
    "duration": 8,
    "start_time": "2024-08-23T16:58:08.426Z"
   },
   {
    "duration": 7,
    "start_time": "2024-08-23T16:58:08.435Z"
   },
   {
    "duration": 283,
    "start_time": "2024-08-23T16:58:08.443Z"
   },
   {
    "duration": 20,
    "start_time": "2024-08-23T16:58:08.728Z"
   },
   {
    "duration": 270,
    "start_time": "2024-08-23T16:58:08.749Z"
   },
   {
    "duration": 245,
    "start_time": "2024-08-23T16:58:09.020Z"
   },
   {
    "duration": 266,
    "start_time": "2024-08-23T16:58:09.266Z"
   },
   {
    "duration": 16,
    "start_time": "2024-08-23T16:58:09.533Z"
   },
   {
    "duration": 179,
    "start_time": "2024-08-23T16:58:09.551Z"
   },
   {
    "duration": 178,
    "start_time": "2024-08-23T16:58:09.732Z"
   },
   {
    "duration": 4,
    "start_time": "2024-08-23T16:58:09.911Z"
   },
   {
    "duration": 8,
    "start_time": "2024-08-23T16:58:09.917Z"
   },
   {
    "duration": 3197,
    "start_time": "2024-08-23T16:58:09.926Z"
   },
   {
    "duration": 65,
    "start_time": "2024-08-23T16:58:13.125Z"
   },
   {
    "duration": 6,
    "start_time": "2024-08-23T16:58:13.191Z"
   },
   {
    "duration": 31,
    "start_time": "2024-08-23T16:58:13.199Z"
   },
   {
    "duration": 29,
    "start_time": "2024-08-23T16:58:13.233Z"
   },
   {
    "duration": 30,
    "start_time": "2024-08-23T16:58:13.265Z"
   },
   {
    "duration": 20,
    "start_time": "2024-08-23T16:58:13.296Z"
   },
   {
    "duration": 14,
    "start_time": "2024-08-23T16:58:13.318Z"
   },
   {
    "duration": 16,
    "start_time": "2024-08-23T16:58:13.333Z"
   },
   {
    "duration": 7,
    "start_time": "2024-08-23T16:58:13.350Z"
   },
   {
    "duration": 24,
    "start_time": "2024-08-23T16:58:13.358Z"
   },
   {
    "duration": 24,
    "start_time": "2024-08-23T16:58:13.384Z"
   },
   {
    "duration": 16,
    "start_time": "2024-08-23T16:58:13.410Z"
   },
   {
    "duration": 10,
    "start_time": "2024-08-23T16:58:13.430Z"
   },
   {
    "duration": 10,
    "start_time": "2024-08-23T16:58:13.442Z"
   },
   {
    "duration": 59,
    "start_time": "2024-08-23T18:11:19.942Z"
   },
   {
    "duration": 1485,
    "start_time": "2024-08-23T18:11:24.317Z"
   },
   {
    "duration": 215,
    "start_time": "2024-08-23T18:11:25.804Z"
   },
   {
    "duration": 21,
    "start_time": "2024-08-23T18:11:26.021Z"
   },
   {
    "duration": 13,
    "start_time": "2024-08-23T18:11:26.044Z"
   },
   {
    "duration": 30,
    "start_time": "2024-08-23T18:11:26.061Z"
   },
   {
    "duration": 44,
    "start_time": "2024-08-23T18:11:26.093Z"
   },
   {
    "duration": 39,
    "start_time": "2024-08-23T18:11:26.139Z"
   },
   {
    "duration": 5,
    "start_time": "2024-08-23T18:11:26.180Z"
   },
   {
    "duration": 31,
    "start_time": "2024-08-23T18:11:26.187Z"
   },
   {
    "duration": 64,
    "start_time": "2024-08-23T18:11:26.220Z"
   },
   {
    "duration": 8,
    "start_time": "2024-08-23T18:11:26.286Z"
   },
   {
    "duration": 16,
    "start_time": "2024-08-23T18:11:26.296Z"
   },
   {
    "duration": 14,
    "start_time": "2024-08-23T18:11:26.314Z"
   },
   {
    "duration": 36,
    "start_time": "2024-08-23T18:11:26.332Z"
   },
   {
    "duration": 23,
    "start_time": "2024-08-23T18:11:26.370Z"
   },
   {
    "duration": 27,
    "start_time": "2024-08-23T18:11:26.395Z"
   },
   {
    "duration": 37,
    "start_time": "2024-08-23T18:11:26.424Z"
   },
   {
    "duration": 377,
    "start_time": "2024-08-23T18:11:26.464Z"
   },
   {
    "duration": 35,
    "start_time": "2024-08-23T18:11:26.843Z"
   },
   {
    "duration": 326,
    "start_time": "2024-08-23T18:11:26.880Z"
   },
   {
    "duration": 324,
    "start_time": "2024-08-23T18:11:27.209Z"
   },
   {
    "duration": 335,
    "start_time": "2024-08-23T18:11:27.535Z"
   },
   {
    "duration": 18,
    "start_time": "2024-08-23T18:11:27.872Z"
   },
   {
    "duration": 223,
    "start_time": "2024-08-23T18:11:27.892Z"
   },
   {
    "duration": 235,
    "start_time": "2024-08-23T18:11:28.117Z"
   },
   {
    "duration": 8,
    "start_time": "2024-08-23T18:11:28.355Z"
   },
   {
    "duration": 11,
    "start_time": "2024-08-23T18:11:28.366Z"
   },
   {
    "duration": 5140,
    "start_time": "2024-08-23T18:11:28.379Z"
   },
   {
    "duration": 69,
    "start_time": "2024-08-23T18:11:33.521Z"
   },
   {
    "duration": 8,
    "start_time": "2024-08-23T18:11:33.591Z"
   },
   {
    "duration": 36,
    "start_time": "2024-08-23T18:11:33.601Z"
   },
   {
    "duration": 32,
    "start_time": "2024-08-23T18:11:33.639Z"
   },
   {
    "duration": 8,
    "start_time": "2024-08-23T18:11:33.673Z"
   },
   {
    "duration": 12,
    "start_time": "2024-08-23T18:11:33.683Z"
   },
   {
    "duration": 18,
    "start_time": "2024-08-23T18:11:33.698Z"
   },
   {
    "duration": 27,
    "start_time": "2024-08-23T18:11:33.718Z"
   },
   {
    "duration": 10,
    "start_time": "2024-08-23T18:11:33.747Z"
   },
   {
    "duration": 16,
    "start_time": "2024-08-23T18:11:33.759Z"
   },
   {
    "duration": 16,
    "start_time": "2024-08-23T18:11:33.777Z"
   },
   {
    "duration": 21,
    "start_time": "2024-08-23T18:11:33.795Z"
   },
   {
    "duration": 38,
    "start_time": "2024-08-23T18:11:33.822Z"
   },
   {
    "duration": 35,
    "start_time": "2024-08-23T18:11:33.862Z"
   },
   {
    "duration": 288,
    "start_time": "2024-08-23T18:11:39.633Z"
   },
   {
    "duration": 311,
    "start_time": "2024-08-23T18:12:10.574Z"
   },
   {
    "duration": 275,
    "start_time": "2024-08-23T18:12:45.559Z"
   },
   {
    "duration": 298,
    "start_time": "2024-08-23T18:12:54.227Z"
   },
   {
    "duration": 334,
    "start_time": "2024-08-23T18:13:02.441Z"
   }
  ],
  "kernelspec": {
   "display_name": "Python 3 (ipykernel)",
   "language": "python",
   "name": "python3"
  },
  "language_info": {
   "codemirror_mode": {
    "name": "ipython",
    "version": 3
   },
   "file_extension": ".py",
   "mimetype": "text/x-python",
   "name": "python",
   "nbconvert_exporter": "python",
   "pygments_lexer": "ipython3",
   "version": "3.12.3"
  },
  "toc": {
   "base_numbering": 1,
   "nav_menu": {},
   "number_sections": true,
   "sideBar": true,
   "skip_h1_title": true,
   "title_cell": "Table of Contents",
   "title_sidebar": "Contents",
   "toc_cell": false,
   "toc_position": {
    "height": "calc(100% - 180px)",
    "left": "10px",
    "top": "150px",
    "width": "384px"
   },
   "toc_section_display": true,
   "toc_window_display": true
  }
 },
 "nbformat": 4,
 "nbformat_minor": 4
}
