{
 "cells": [
  {
   "cell_type": "markdown",
   "metadata": {
    "toc": true
   },
   "source": [
    "<h1>Содержание<span class=\"tocSkip\"></span></h1>\n",
    "<div class=\"toc\"><ul class=\"toc-item\"><li><span><a href=\"#Подготовка-данных\" data-toc-modified-id=\"Подготовка-данных-1\"><span class=\"toc-item-num\">1&nbsp;&nbsp;</span>Подготовка данных</a></span></li><li><span><a href=\"#Анализ-данных\" data-toc-modified-id=\"Анализ-данных-2\"><span class=\"toc-item-num\">2&nbsp;&nbsp;</span>Анализ данных</a></span></li><li><span><a href=\"#Обучение-моделей\" data-toc-modified-id=\"Обучение-моделей-3\"><span class=\"toc-item-num\">3&nbsp;&nbsp;</span>Обучение моделей</a></span><ul class=\"toc-item\"><li><span><a href=\"#Подготовка-данных-к-обучению\" data-toc-modified-id=\"Подготовка-данных-к-обучению-3.1\"><span class=\"toc-item-num\">3.1&nbsp;&nbsp;</span>Подготовка данных к обучению</a></span></li><li><span><a href=\"#LinearRegression\" data-toc-modified-id=\"LinearRegression-3.2\"><span class=\"toc-item-num\">3.2&nbsp;&nbsp;</span>LinearRegression</a></span></li><li><span><a href=\"#DecisionTreeRegressor\" data-toc-modified-id=\"DecisionTreeRegressor-3.3\"><span class=\"toc-item-num\">3.3&nbsp;&nbsp;</span>DecisionTreeRegressor</a></span></li><li><span><a href=\"#LightGBM\" data-toc-modified-id=\"LightGBM-3.4\"><span class=\"toc-item-num\">3.4&nbsp;&nbsp;</span>LightGBM</a></span></li></ul></li><li><span><a href=\"#Тестирование-моделей\" data-toc-modified-id=\"Тестирование-моделей-4\"><span class=\"toc-item-num\">4&nbsp;&nbsp;</span>Тестирование моделей</a></span></li><li><span><a href=\"#Общий-вывод\" data-toc-modified-id=\"Общий-вывод-5\"><span class=\"toc-item-num\">5&nbsp;&nbsp;</span>Общий вывод</a></span></li></ul></div>"
   ]
  },
  {
   "cell_type": "markdown",
   "metadata": {},
   "source": [
    "#  Прогнозирование заказов такси"
   ]
  },
  {
   "cell_type": "markdown",
   "metadata": {},
   "source": [
    "***Цель исследования:*** Компания «Чётенькое такси» собрала исторические данные о заказах такси в аэропортах. Чтобы привлекать больше водителей в период пиковой нагрузки, нам нужно спрогнозировать количество заказов такси на следующий час. Построим модель для такого предсказания.\n",
    "\n",
    "Значение метрики *RMSE* на тестовой выборке должно быть не больше 48.\n",
    "\n",
    "***Ход исследования:*** Планируется 5 этапов:\n",
    "1. Подготовка данных: загрузка данных и их ресемплирование по одному часу.\n",
    "2. Анализ данных.\n",
    "3. Обучение разных моделей с различными гиперпараметрами. Нужно сделать тестовую выборку размером 10% от исходных данных.\n",
    "4. Проверка данных на тестовой выборке.\n",
    "5. Общий вывод.\n",
    "\n",
    "***Описание данных:*** Данные лежат в файле `taxi.csv`. Количество заказов находится в столбце `num_orders` (от англ. *number of orders*, «число заказов»)."
   ]
  },
  {
   "cell_type": "code",
   "execution_count": 62,
   "metadata": {},
   "outputs": [],
   "source": [
    "!pip install scipy scikit-learn numpy -q\n",
    "!pip install matplotlib==3.7.0 -q"
   ]
  },
  {
   "cell_type": "code",
   "execution_count": 63,
   "metadata": {},
   "outputs": [],
   "source": [
    "# Импортируем необходимые библиотеки и методы.\n",
    "import pandas as pd\n",
    "import numpy as np\n",
    "import matplotlib.pyplot as plt\n",
    "\n",
    "from statsmodels.tsa.seasonal import seasonal_decompose\n",
    "\n",
    "from sklearn.model_selection import train_test_split, GridSearchCV, TimeSeriesSplit\n",
    "from sklearn.linear_model import LinearRegression\n",
    "from sklearn.tree import DecisionTreeRegressor\n",
    "from lightgbm import LGBMRegressor\n",
    "from sklearn.preprocessing import StandardScaler, OneHotEncoder\n",
    "from sklearn.metrics import mean_squared_error"
   ]
  },
  {
   "cell_type": "markdown",
   "metadata": {},
   "source": [
    "## Подготовка данных"
   ]
  },
  {
   "cell_type": "code",
   "execution_count": 64,
   "metadata": {},
   "outputs": [
    {
     "data": {
      "text/html": [
       "<div>\n",
       "<style scoped>\n",
       "    .dataframe tbody tr th:only-of-type {\n",
       "        vertical-align: middle;\n",
       "    }\n",
       "\n",
       "    .dataframe tbody tr th {\n",
       "        vertical-align: top;\n",
       "    }\n",
       "\n",
       "    .dataframe thead th {\n",
       "        text-align: right;\n",
       "    }\n",
       "</style>\n",
       "<table border=\"1\" class=\"dataframe\">\n",
       "  <thead>\n",
       "    <tr style=\"text-align: right;\">\n",
       "      <th></th>\n",
       "      <th>num_orders</th>\n",
       "    </tr>\n",
       "    <tr>\n",
       "      <th>datetime</th>\n",
       "      <th></th>\n",
       "    </tr>\n",
       "  </thead>\n",
       "  <tbody>\n",
       "    <tr>\n",
       "      <th>2018-03-01 00:00:00</th>\n",
       "      <td>9</td>\n",
       "    </tr>\n",
       "    <tr>\n",
       "      <th>2018-03-01 00:10:00</th>\n",
       "      <td>14</td>\n",
       "    </tr>\n",
       "    <tr>\n",
       "      <th>2018-03-01 00:20:00</th>\n",
       "      <td>28</td>\n",
       "    </tr>\n",
       "    <tr>\n",
       "      <th>2018-03-01 00:30:00</th>\n",
       "      <td>20</td>\n",
       "    </tr>\n",
       "    <tr>\n",
       "      <th>2018-03-01 00:40:00</th>\n",
       "      <td>32</td>\n",
       "    </tr>\n",
       "  </tbody>\n",
       "</table>\n",
       "</div>"
      ],
      "text/plain": [
       "                     num_orders\n",
       "datetime                       \n",
       "2018-03-01 00:00:00           9\n",
       "2018-03-01 00:10:00          14\n",
       "2018-03-01 00:20:00          28\n",
       "2018-03-01 00:30:00          20\n",
       "2018-03-01 00:40:00          32"
      ]
     },
     "execution_count": 64,
     "metadata": {},
     "output_type": "execute_result"
    }
   ],
   "source": [
    "# Откроем и изучим датафрейм. Даты назначим индексом.\n",
    "df = pd.read_csv('/datasets/taxi.csv', index_col=[0], parse_dates=[0])\n",
    "df.head()"
   ]
  },
  {
   "cell_type": "code",
   "execution_count": 65,
   "metadata": {},
   "outputs": [
    {
     "data": {
      "text/html": [
       "<div>\n",
       "<style scoped>\n",
       "    .dataframe tbody tr th:only-of-type {\n",
       "        vertical-align: middle;\n",
       "    }\n",
       "\n",
       "    .dataframe tbody tr th {\n",
       "        vertical-align: top;\n",
       "    }\n",
       "\n",
       "    .dataframe thead th {\n",
       "        text-align: right;\n",
       "    }\n",
       "</style>\n",
       "<table border=\"1\" class=\"dataframe\">\n",
       "  <thead>\n",
       "    <tr style=\"text-align: right;\">\n",
       "      <th></th>\n",
       "      <th>num_orders</th>\n",
       "    </tr>\n",
       "    <tr>\n",
       "      <th>datetime</th>\n",
       "      <th></th>\n",
       "    </tr>\n",
       "  </thead>\n",
       "  <tbody>\n",
       "    <tr>\n",
       "      <th>2018-08-31 23:10:00</th>\n",
       "      <td>32</td>\n",
       "    </tr>\n",
       "    <tr>\n",
       "      <th>2018-08-31 23:20:00</th>\n",
       "      <td>24</td>\n",
       "    </tr>\n",
       "    <tr>\n",
       "      <th>2018-08-31 23:30:00</th>\n",
       "      <td>27</td>\n",
       "    </tr>\n",
       "    <tr>\n",
       "      <th>2018-08-31 23:40:00</th>\n",
       "      <td>39</td>\n",
       "    </tr>\n",
       "    <tr>\n",
       "      <th>2018-08-31 23:50:00</th>\n",
       "      <td>53</td>\n",
       "    </tr>\n",
       "  </tbody>\n",
       "</table>\n",
       "</div>"
      ],
      "text/plain": [
       "                     num_orders\n",
       "datetime                       \n",
       "2018-08-31 23:10:00          32\n",
       "2018-08-31 23:20:00          24\n",
       "2018-08-31 23:30:00          27\n",
       "2018-08-31 23:40:00          39\n",
       "2018-08-31 23:50:00          53"
      ]
     },
     "execution_count": 65,
     "metadata": {},
     "output_type": "execute_result"
    }
   ],
   "source": [
    "df.tail()"
   ]
  },
  {
   "cell_type": "code",
   "execution_count": 66,
   "metadata": {},
   "outputs": [
    {
     "name": "stdout",
     "output_type": "stream",
     "text": [
      "<class 'pandas.core.frame.DataFrame'>\n",
      "DatetimeIndex: 26496 entries, 2018-03-01 00:00:00 to 2018-08-31 23:50:00\n",
      "Data columns (total 1 columns):\n",
      " #   Column      Non-Null Count  Dtype\n",
      "---  ------      --------------  -----\n",
      " 0   num_orders  26496 non-null  int64\n",
      "dtypes: int64(1)\n",
      "memory usage: 414.0 KB\n"
     ]
    }
   ],
   "source": [
    "df.info()"
   ]
  },
  {
   "cell_type": "code",
   "execution_count": 67,
   "metadata": {},
   "outputs": [
    {
     "data": {
      "text/plain": [
       "num_orders    0\n",
       "dtype: int64"
      ]
     },
     "execution_count": 67,
     "metadata": {},
     "output_type": "execute_result"
    }
   ],
   "source": [
    "# Проверим датафрейм на пропуски.\n",
    "df.isna().sum()"
   ]
  },
  {
   "cell_type": "code",
   "execution_count": 68,
   "metadata": {},
   "outputs": [
    {
     "data": {
      "text/plain": [
       "True"
      ]
     },
     "execution_count": 68,
     "metadata": {},
     "output_type": "execute_result"
    }
   ],
   "source": [
    "# Проверим индекс на монотонность.\n",
    "df.index.is_monotonic"
   ]
  },
  {
   "cell_type": "code",
   "execution_count": 69,
   "metadata": {},
   "outputs": [],
   "source": [
    "# Ресемплируем данные по одному часу.\n",
    "df = df.resample('1H').sum()"
   ]
  },
  {
   "cell_type": "markdown",
   "metadata": {},
   "source": [
    "**Промежуточный вывод:** Видим данные о количестве заказов c марта по сентябрь 2018 года. Данные соответствуют описанию задачи с правильными типами данных. Обзор данных не выявил пропуски или немонотонность. Данные ресемплированы и готовы к работе."
   ]
  },
  {
   "cell_type": "markdown",
   "metadata": {},
   "source": [
    "## Анализ данных"
   ]
  },
  {
   "cell_type": "code",
   "execution_count": 70,
   "metadata": {},
   "outputs": [],
   "source": [
    "# Декомпозируем датафрейм.\n",
    "decomposed = seasonal_decompose(df)"
   ]
  },
  {
   "cell_type": "code",
   "execution_count": 71,
   "metadata": {},
   "outputs": [
    {
     "data": {
      "image/png": "[encoded data removed]",
      "text/plain": [
       "<Figure size 1152x576 with 1 Axes>"
      ]
     },
     "metadata": {
      "needs_background": "light"
     },
     "output_type": "display_data"
    }
   ],
   "source": [
    "# Построим график тренда.\n",
    "plt.figure(figsize=(16, 8))\n",
    "decomposed.trend.plot(ax=plt.gca())\n",
    "plt.title('Тренд')\n",
    "plt.xlabel('Месяц')\n",
    "plt.ylabel('Количество заказов')\n",
    "plt.show()"
   ]
  },
  {
   "cell_type": "code",
   "execution_count": 72,
   "metadata": {},
   "outputs": [
    {
     "data": {
      "image/png": "[encoded data removed]",
      "text/plain": [
       "<Figure size 1152x576 with 1 Axes>"
      ]
     },
     "metadata": {
      "needs_background": "light"
     },
     "output_type": "display_data"
    }
   ],
   "source": [
    "# Построим график сезонности за отдельно взятую неделю.\n",
    "plt.figure(figsize=(16, 8))\n",
    "decomposed.seasonal['2018-03-05':'2018-03-11'].plot(ax=plt.gca())\n",
    "plt.title('Сезонность за неделю')  \n",
    "plt.xlabel('Число месяца')\n",
    "plt.ylabel('Количество заказов')\n",
    "plt.show()"
   ]
  },
  {
   "cell_type": "code",
   "execution_count": 73,
   "metadata": {},
   "outputs": [
    {
     "data": {
      "image/png": "[encoded data removed]",
      "text/plain": [
       "<Figure size 1152x576 with 1 Axes>"
      ]
     },
     "metadata": {
      "needs_background": "light"
     },
     "output_type": "display_data"
    }
   ],
   "source": [
    "# Построим график сезонности за сутки.\n",
    "plt.figure(figsize=(16, 8))\n",
    "decomposed.seasonal['2018-03-12':'2018-03-13'].plot(ax=plt.gca())\n",
    "plt.title('Сезонность за сутки')  \n",
    "plt.xlabel('Час')\n",
    "plt.ylabel('Количество заказов')\n",
    "plt.show()"
   ]
  },
  {
   "cell_type": "code",
   "execution_count": 74,
   "metadata": {},
   "outputs": [
    {
     "data": {
      "image/png": "[encoded data removed]",
      "text/plain": [
       "<Figure size 1152x576 with 1 Axes>"
      ]
     },
     "metadata": {
      "needs_background": "light"
     },
     "output_type": "display_data"
    }
   ],
   "source": [
    "# Построим график остатка декомпозиции - шума.\n",
    "plt.figure(figsize=(16, 8))\n",
    "decomposed.resid.plot(ax=plt.gca()) \n",
    "plt.title('Шум')\n",
    "plt.xlabel('Месяц')\n",
    "plt.ylabel('Количество заказов')\n",
    "plt.show()"
   ]
  },
  {
   "cell_type": "markdown",
   "metadata": {},
   "source": [
    "**Промежуточный вывод:** По графику тренда видим, что количество заказов растет. По графику сезонности за неделю и за сутки видим, что число заказов не меняется от дня недели, но меняется от времени суток с пиком около полуночи и минимумом около 6 утра."
   ]
  },
  {
   "cell_type": "code",
   "execution_count": 75,
   "metadata": {},
   "outputs": [
    {
     "data": {
      "image/png": "[encoded data removed]",
      "text/plain": [
       "<Figure size 1152x576 with 1 Axes>"
      ]
     },
     "metadata": {
      "needs_background": "light"
     },
     "output_type": "display_data"
    }
   ],
   "source": [
    "# Вычислим разности временного ряда, скользящее среднее и скользящее стандартное отклонение.\n",
    "dfs = df - df.shift()\n",
    "dfs['Скользящее среднее'] = dfs['num_orders'].rolling(15).mean()\n",
    "dfs['Скользящее стандартное отклонение'] = dfs['num_orders'].rolling(15).std()\n",
    "\n",
    "# Построим график.\n",
    "dfs.plot(figsize=(16,8))\n",
    "plt.title('Разности временного ряда') \n",
    "plt.xlabel('Месяц')\n",
    "plt.ylabel('Количество заказов')\n",
    "plt.show()"
   ]
  },
  {
   "cell_type": "markdown",
   "metadata": {},
   "source": [
    "**Промежуточный вывод:**  По графику видим, что среднее значение и стандартное отклонение не сильно меняются, следовательно, ряд стационарен."
   ]
  },
  {
   "cell_type": "markdown",
   "metadata": {},
   "source": [
    "## Обучение моделей"
   ]
  },
  {
   "cell_type": "markdown",
   "metadata": {},
   "source": [
    "### Подготовка данных к обучению"
   ]
  },
  {
   "cell_type": "markdown",
   "metadata": {},
   "source": [
    "Добавим признаки к датафрейму. Стоит добавить день месяца, сдвиги и скользящее среднее. Так как данные у нас менее чем за год, месяц добавлять не будем. Из графиков видим, что день недели добавлять тоже смысла нет."
   ]
  },
  {
   "cell_type": "code",
   "execution_count": 76,
   "metadata": {},
   "outputs": [],
   "source": [
    "# Напишем функцию для добавления новых признаков.\n",
    "def make_features(df, max_lag, rolling_mean_size):\n",
    "    # Добавим день месяца.\n",
    "    df['day'] = df.index.day\n",
    "    # Добавим сдвиги.\n",
    "    for lag in range(1, max_lag + 1):\n",
    "        df['lag_{}'.format(lag)] = df['num_orders'].shift(lag)\n",
    "    # Добавим скользящее среднее.\n",
    "    df['rolling_mean'] = df['num_orders'].shift().rolling(rolling_mean_size).mean()"
   ]
  },
  {
   "cell_type": "code",
   "execution_count": 77,
   "metadata": {},
   "outputs": [],
   "source": [
    "make_features(df, 24, 20)\n",
    "df.dropna(inplace=True)"
   ]
  },
  {
   "cell_type": "code",
   "execution_count": 78,
   "metadata": {},
   "outputs": [],
   "source": [
    "RANDOM_STATE = 42\n",
    "TEST_SIZE = 0.1\n",
    "tscv = TimeSeriesSplit(n_splits=3)\n",
    "# Разделим данные на обучающую и тестовую выборки.\n",
    "X = df.drop(['num_orders'], axis=1)\n",
    "y = df['num_orders']\n",
    "X_train, X_test, y_train, y_test = train_test_split(\n",
    "    X, y, shuffle=False, test_size=TEST_SIZE)"
   ]
  },
  {
   "cell_type": "markdown",
   "metadata": {},
   "source": [
    "### LinearRegression"
   ]
  },
  {
   "cell_type": "code",
   "execution_count": 79,
   "metadata": {},
   "outputs": [
    {
     "name": "stdout",
     "output_type": "stream",
     "text": [
      "Fitting 3 folds for each of 1 candidates, totalling 3 fits\n",
      "[CV 1/3] END ................................., score=-24.967 total time=   0.0s\n",
      "[CV 2/3] END ................................., score=-26.114 total time=   0.3s\n",
      "[CV 3/3] END ................................., score=-32.142 total time=   0.2s\n",
      "RMSE линейной регрессии: 27.741035934997086\n"
     ]
    }
   ],
   "source": [
    "# Инициализируем модель линейной регрессии.\n",
    "model_lr = LinearRegression()\n",
    "\n",
    "# Воспользуемся GridSearchCV для кросс-валидации модели.\n",
    "param_lr = {}\n",
    "grid_lr = GridSearchCV(model_lr, param_lr, scoring = 'neg_root_mean_squared_error', cv=tscv, verbose=3)\n",
    "grid_lr.fit(X_train, y_train)\n",
    "\n",
    "print('RMSE линейной регрессии:', grid_lr.best_score_*-1)"
   ]
  },
  {
   "cell_type": "markdown",
   "metadata": {},
   "source": [
    "**Промежуточный вывод:** RMSE линейной регрессии = 27.7, что удовлетворяет заданному условию."
   ]
  },
  {
   "cell_type": "markdown",
   "metadata": {},
   "source": [
    "### DecisionTreeRegressor"
   ]
  },
  {
   "cell_type": "code",
   "execution_count": 80,
   "metadata": {},
   "outputs": [
    {
     "name": "stdout",
     "output_type": "stream",
     "text": [
      "Fitting 3 folds for each of 5 candidates, totalling 15 fits\n",
      "[CV 1/3] END .....................max_depth=1;, score=-30.937 total time=   0.1s\n",
      "[CV 2/3] END .....................max_depth=1;, score=-33.252 total time=   0.1s\n",
      "[CV 3/3] END .....................max_depth=1;, score=-45.902 total time=   0.0s\n",
      "[CV 1/3] END .....................max_depth=3;, score=-28.272 total time=   0.0s\n",
      "[CV 2/3] END .....................max_depth=3;, score=-29.638 total time=   0.0s\n",
      "[CV 3/3] END .....................max_depth=3;, score=-41.483 total time=   0.0s\n",
      "[CV 1/3] END .....................max_depth=5;, score=-28.656 total time=   0.0s\n",
      "[CV 2/3] END .....................max_depth=5;, score=-30.108 total time=   0.0s\n",
      "[CV 3/3] END .....................max_depth=5;, score=-37.886 total time=   0.0s\n",
      "[CV 1/3] END .....................max_depth=7;, score=-29.372 total time=   0.0s\n",
      "[CV 2/3] END .....................max_depth=7;, score=-33.191 total time=   0.0s\n",
      "[CV 3/3] END .....................max_depth=7;, score=-36.825 total time=   0.0s\n",
      "[CV 1/3] END .....................max_depth=9;, score=-31.309 total time=   0.0s\n",
      "[CV 2/3] END .....................max_depth=9;, score=-35.748 total time=   0.0s\n",
      "[CV 3/3] END .....................max_depth=9;, score=-37.647 total time=   0.0s\n",
      "Лучшие параметры древа решений: {'max_depth': 5}\n",
      "RMSE древа решений: 32.216755433185845\n"
     ]
    }
   ],
   "source": [
    "# Инициализируем модель древа решений.\n",
    "model_dt = DecisionTreeRegressor(random_state=RANDOM_STATE)\n",
    "\n",
    "# Зададим параметры и воспользуемся GridSearchCV для определения лучших по метрике.\n",
    "param_dt = {'max_depth':range (1, 11, 2)}\n",
    "grid_dt = GridSearchCV(model_dt, param_dt, scoring = 'neg_root_mean_squared_error', cv=tscv, verbose=3)\n",
    "grid_dt.fit(X_train, y_train)\n",
    "\n",
    "print('Лучшие параметры древа решений:',grid_dt.best_params_)\n",
    "print('RMSE древа решений:', grid_dt.best_score_*-1)"
   ]
  },
  {
   "cell_type": "markdown",
   "metadata": {},
   "source": [
    "**Промежуточный вывод:** Лучший параметр глубины древа решений: 5, RMSE = 32.2, что удовлетворяет заданному условию."
   ]
  },
  {
   "cell_type": "markdown",
   "metadata": {},
   "source": [
    "### LightGBM"
   ]
  },
  {
   "cell_type": "code",
   "execution_count": 81,
   "metadata": {},
   "outputs": [
    {
     "name": "stdout",
     "output_type": "stream",
     "text": [
      "Fitting 3 folds for each of 6 candidates, totalling 18 fits\n"
     ]
    },
    {
     "name": "stderr",
     "output_type": "stream",
     "text": [
      "/opt/conda/lib/python3.9/site-packages/sklearn/utils/_tags.py:354: FutureWarning: The LGBMRegressor or classes from which it inherits use `_get_tags` and `_more_tags`. Please define the `__sklearn_tags__` method, or inherit from `sklearn.base.BaseEstimator` and/or other appropriate mixins such as `sklearn.base.TransformerMixin`, `sklearn.base.ClassifierMixin`, `sklearn.base.RegressorMixin`, and `sklearn.base.OutlierMixin`. From scikit-learn 1.7, not defining `__sklearn_tags__` will raise an error.\n",
      "  warnings.warn(\n"
     ]
    },
    {
     "name": "stdout",
     "output_type": "stream",
     "text": [
      "[CV 1/3] END ..n_estimators=50, num_leaves=20;, score=-24.251 total time=  55.8s\n"
     ]
    },
    {
     "name": "stderr",
     "output_type": "stream",
     "text": [
      "/opt/conda/lib/python3.9/site-packages/sklearn/utils/_tags.py:354: FutureWarning: The LGBMRegressor or classes from which it inherits use `_get_tags` and `_more_tags`. Please define the `__sklearn_tags__` method, or inherit from `sklearn.base.BaseEstimator` and/or other appropriate mixins such as `sklearn.base.TransformerMixin`, `sklearn.base.ClassifierMixin`, `sklearn.base.RegressorMixin`, and `sklearn.base.OutlierMixin`. From scikit-learn 1.7, not defining `__sklearn_tags__` will raise an error.\n",
      "  warnings.warn(\n"
     ]
    },
    {
     "name": "stdout",
     "output_type": "stream",
     "text": [
      "[CV 2/3] END ..n_estimators=50, num_leaves=20;, score=-25.512 total time=  59.4s\n"
     ]
    },
    {
     "name": "stderr",
     "output_type": "stream",
     "text": [
      "/opt/conda/lib/python3.9/site-packages/sklearn/utils/_tags.py:354: FutureWarning: The LGBMRegressor or classes from which it inherits use `_get_tags` and `_more_tags`. Please define the `__sklearn_tags__` method, or inherit from `sklearn.base.BaseEstimator` and/or other appropriate mixins such as `sklearn.base.TransformerMixin`, `sklearn.base.ClassifierMixin`, `sklearn.base.RegressorMixin`, and `sklearn.base.OutlierMixin`. From scikit-learn 1.7, not defining `__sklearn_tags__` will raise an error.\n",
      "  warnings.warn(\n"
     ]
    },
    {
     "name": "stdout",
     "output_type": "stream",
     "text": [
      "[CV 3/3] END ..n_estimators=50, num_leaves=20;, score=-33.190 total time= 1.4min\n"
     ]
    },
    {
     "name": "stderr",
     "output_type": "stream",
     "text": [
      "/opt/conda/lib/python3.9/site-packages/sklearn/utils/_tags.py:354: FutureWarning: The LGBMRegressor or classes from which it inherits use `_get_tags` and `_more_tags`. Please define the `__sklearn_tags__` method, or inherit from `sklearn.base.BaseEstimator` and/or other appropriate mixins such as `sklearn.base.TransformerMixin`, `sklearn.base.ClassifierMixin`, `sklearn.base.RegressorMixin`, and `sklearn.base.OutlierMixin`. From scikit-learn 1.7, not defining `__sklearn_tags__` will raise an error.\n",
      "  warnings.warn(\n"
     ]
    },
    {
     "name": "stdout",
     "output_type": "stream",
     "text": [
      "[CV 1/3] END ..n_estimators=50, num_leaves=30;, score=-24.039 total time=  23.1s\n"
     ]
    },
    {
     "name": "stderr",
     "output_type": "stream",
     "text": [
      "/opt/conda/lib/python3.9/site-packages/sklearn/utils/_tags.py:354: FutureWarning: The LGBMRegressor or classes from which it inherits use `_get_tags` and `_more_tags`. Please define the `__sklearn_tags__` method, or inherit from `sklearn.base.BaseEstimator` and/or other appropriate mixins such as `sklearn.base.TransformerMixin`, `sklearn.base.ClassifierMixin`, `sklearn.base.RegressorMixin`, and `sklearn.base.OutlierMixin`. From scikit-learn 1.7, not defining `__sklearn_tags__` will raise an error.\n",
      "  warnings.warn(\n"
     ]
    },
    {
     "name": "stdout",
     "output_type": "stream",
     "text": [
      "[CV 2/3] END ..n_estimators=50, num_leaves=30;, score=-24.943 total time=  19.5s\n"
     ]
    },
    {
     "name": "stderr",
     "output_type": "stream",
     "text": [
      "/opt/conda/lib/python3.9/site-packages/sklearn/utils/_tags.py:354: FutureWarning: The LGBMRegressor or classes from which it inherits use `_get_tags` and `_more_tags`. Please define the `__sklearn_tags__` method, or inherit from `sklearn.base.BaseEstimator` and/or other appropriate mixins such as `sklearn.base.TransformerMixin`, `sklearn.base.ClassifierMixin`, `sklearn.base.RegressorMixin`, and `sklearn.base.OutlierMixin`. From scikit-learn 1.7, not defining `__sklearn_tags__` will raise an error.\n",
      "  warnings.warn(\n"
     ]
    },
    {
     "name": "stdout",
     "output_type": "stream",
     "text": [
      "[CV 3/3] END ..n_estimators=50, num_leaves=30;, score=-32.730 total time=  35.8s\n"
     ]
    },
    {
     "name": "stderr",
     "output_type": "stream",
     "text": [
      "/opt/conda/lib/python3.9/site-packages/sklearn/utils/_tags.py:354: FutureWarning: The LGBMRegressor or classes from which it inherits use `_get_tags` and `_more_tags`. Please define the `__sklearn_tags__` method, or inherit from `sklearn.base.BaseEstimator` and/or other appropriate mixins such as `sklearn.base.TransformerMixin`, `sklearn.base.ClassifierMixin`, `sklearn.base.RegressorMixin`, and `sklearn.base.OutlierMixin`. From scikit-learn 1.7, not defining `__sklearn_tags__` will raise an error.\n",
      "  warnings.warn(\n"
     ]
    },
    {
     "name": "stdout",
     "output_type": "stream",
     "text": [
      "[CV 1/3] END .n_estimators=100, num_leaves=20;, score=-24.825 total time= 2.1min\n"
     ]
    },
    {
     "name": "stderr",
     "output_type": "stream",
     "text": [
      "/opt/conda/lib/python3.9/site-packages/sklearn/utils/_tags.py:354: FutureWarning: The LGBMRegressor or classes from which it inherits use `_get_tags` and `_more_tags`. Please define the `__sklearn_tags__` method, or inherit from `sklearn.base.BaseEstimator` and/or other appropriate mixins such as `sklearn.base.TransformerMixin`, `sklearn.base.ClassifierMixin`, `sklearn.base.RegressorMixin`, and `sklearn.base.OutlierMixin`. From scikit-learn 1.7, not defining `__sklearn_tags__` will raise an error.\n",
      "  warnings.warn(\n"
     ]
    },
    {
     "name": "stdout",
     "output_type": "stream",
     "text": [
      "[CV 2/3] END .n_estimators=100, num_leaves=20;, score=-25.622 total time=  47.9s\n"
     ]
    },
    {
     "name": "stderr",
     "output_type": "stream",
     "text": [
      "/opt/conda/lib/python3.9/site-packages/sklearn/utils/_tags.py:354: FutureWarning: The LGBMRegressor or classes from which it inherits use `_get_tags` and `_more_tags`. Please define the `__sklearn_tags__` method, or inherit from `sklearn.base.BaseEstimator` and/or other appropriate mixins such as `sklearn.base.TransformerMixin`, `sklearn.base.ClassifierMixin`, `sklearn.base.RegressorMixin`, and `sklearn.base.OutlierMixin`. From scikit-learn 1.7, not defining `__sklearn_tags__` will raise an error.\n",
      "  warnings.warn(\n"
     ]
    },
    {
     "name": "stdout",
     "output_type": "stream",
     "text": [
      "[CV 3/3] END .n_estimators=100, num_leaves=20;, score=-32.672 total time= 1.1min\n"
     ]
    },
    {
     "name": "stderr",
     "output_type": "stream",
     "text": [
      "/opt/conda/lib/python3.9/site-packages/sklearn/utils/_tags.py:354: FutureWarning: The LGBMRegressor or classes from which it inherits use `_get_tags` and `_more_tags`. Please define the `__sklearn_tags__` method, or inherit from `sklearn.base.BaseEstimator` and/or other appropriate mixins such as `sklearn.base.TransformerMixin`, `sklearn.base.ClassifierMixin`, `sklearn.base.RegressorMixin`, and `sklearn.base.OutlierMixin`. From scikit-learn 1.7, not defining `__sklearn_tags__` will raise an error.\n",
      "  warnings.warn(\n"
     ]
    },
    {
     "name": "stdout",
     "output_type": "stream",
     "text": [
      "[CV 1/3] END .n_estimators=100, num_leaves=30;, score=-24.301 total time= 1.2min\n"
     ]
    },
    {
     "name": "stderr",
     "output_type": "stream",
     "text": [
      "/opt/conda/lib/python3.9/site-packages/sklearn/utils/_tags.py:354: FutureWarning: The LGBMRegressor or classes from which it inherits use `_get_tags` and `_more_tags`. Please define the `__sklearn_tags__` method, or inherit from `sklearn.base.BaseEstimator` and/or other appropriate mixins such as `sklearn.base.TransformerMixin`, `sklearn.base.ClassifierMixin`, `sklearn.base.RegressorMixin`, and `sklearn.base.OutlierMixin`. From scikit-learn 1.7, not defining `__sklearn_tags__` will raise an error.\n",
      "  warnings.warn(\n"
     ]
    },
    {
     "name": "stdout",
     "output_type": "stream",
     "text": [
      "[CV 2/3] END .n_estimators=100, num_leaves=30;, score=-25.007 total time= 1.3min\n"
     ]
    },
    {
     "name": "stderr",
     "output_type": "stream",
     "text": [
      "/opt/conda/lib/python3.9/site-packages/sklearn/utils/_tags.py:354: FutureWarning: The LGBMRegressor or classes from which it inherits use `_get_tags` and `_more_tags`. Please define the `__sklearn_tags__` method, or inherit from `sklearn.base.BaseEstimator` and/or other appropriate mixins such as `sklearn.base.TransformerMixin`, `sklearn.base.ClassifierMixin`, `sklearn.base.RegressorMixin`, and `sklearn.base.OutlierMixin`. From scikit-learn 1.7, not defining `__sklearn_tags__` will raise an error.\n",
      "  warnings.warn(\n"
     ]
    },
    {
     "name": "stdout",
     "output_type": "stream",
     "text": [
      "[CV 3/3] END .n_estimators=100, num_leaves=30;, score=-32.589 total time= 1.6min\n"
     ]
    },
    {
     "name": "stderr",
     "output_type": "stream",
     "text": [
      "/opt/conda/lib/python3.9/site-packages/sklearn/utils/_tags.py:354: FutureWarning: The LGBMRegressor or classes from which it inherits use `_get_tags` and `_more_tags`. Please define the `__sklearn_tags__` method, or inherit from `sklearn.base.BaseEstimator` and/or other appropriate mixins such as `sklearn.base.TransformerMixin`, `sklearn.base.ClassifierMixin`, `sklearn.base.RegressorMixin`, and `sklearn.base.OutlierMixin`. From scikit-learn 1.7, not defining `__sklearn_tags__` will raise an error.\n",
      "  warnings.warn(\n"
     ]
    },
    {
     "name": "stdout",
     "output_type": "stream",
     "text": [
      "[CV 1/3] END .n_estimators=200, num_leaves=20;, score=-24.931 total time= 2.0min\n"
     ]
    },
    {
     "name": "stderr",
     "output_type": "stream",
     "text": [
      "/opt/conda/lib/python3.9/site-packages/sklearn/utils/_tags.py:354: FutureWarning: The LGBMRegressor or classes from which it inherits use `_get_tags` and `_more_tags`. Please define the `__sklearn_tags__` method, or inherit from `sklearn.base.BaseEstimator` and/or other appropriate mixins such as `sklearn.base.TransformerMixin`, `sklearn.base.ClassifierMixin`, `sklearn.base.RegressorMixin`, and `sklearn.base.OutlierMixin`. From scikit-learn 1.7, not defining `__sklearn_tags__` will raise an error.\n",
      "  warnings.warn(\n"
     ]
    },
    {
     "name": "stdout",
     "output_type": "stream",
     "text": [
      "[CV 2/3] END .n_estimators=200, num_leaves=20;, score=-25.722 total time= 2.9min\n"
     ]
    },
    {
     "name": "stderr",
     "output_type": "stream",
     "text": [
      "/opt/conda/lib/python3.9/site-packages/sklearn/utils/_tags.py:354: FutureWarning: The LGBMRegressor or classes from which it inherits use `_get_tags` and `_more_tags`. Please define the `__sklearn_tags__` method, or inherit from `sklearn.base.BaseEstimator` and/or other appropriate mixins such as `sklearn.base.TransformerMixin`, `sklearn.base.ClassifierMixin`, `sklearn.base.RegressorMixin`, and `sklearn.base.OutlierMixin`. From scikit-learn 1.7, not defining `__sklearn_tags__` will raise an error.\n",
      "  warnings.warn(\n"
     ]
    },
    {
     "name": "stdout",
     "output_type": "stream",
     "text": [
      "[CV 3/3] END .n_estimators=200, num_leaves=20;, score=-32.856 total time=  15.5s\n"
     ]
    },
    {
     "name": "stderr",
     "output_type": "stream",
     "text": [
      "/opt/conda/lib/python3.9/site-packages/sklearn/utils/_tags.py:354: FutureWarning: The LGBMRegressor or classes from which it inherits use `_get_tags` and `_more_tags`. Please define the `__sklearn_tags__` method, or inherit from `sklearn.base.BaseEstimator` and/or other appropriate mixins such as `sklearn.base.TransformerMixin`, `sklearn.base.ClassifierMixin`, `sklearn.base.RegressorMixin`, and `sklearn.base.OutlierMixin`. From scikit-learn 1.7, not defining `__sklearn_tags__` will raise an error.\n",
      "  warnings.warn(\n"
     ]
    },
    {
     "name": "stdout",
     "output_type": "stream",
     "text": [
      "[CV 1/3] END .n_estimators=200, num_leaves=30;, score=-24.452 total time=   2.6s\n"
     ]
    },
    {
     "name": "stderr",
     "output_type": "stream",
     "text": [
      "/opt/conda/lib/python3.9/site-packages/sklearn/utils/_tags.py:354: FutureWarning: The LGBMRegressor or classes from which it inherits use `_get_tags` and `_more_tags`. Please define the `__sklearn_tags__` method, or inherit from `sklearn.base.BaseEstimator` and/or other appropriate mixins such as `sklearn.base.TransformerMixin`, `sklearn.base.ClassifierMixin`, `sklearn.base.RegressorMixin`, and `sklearn.base.OutlierMixin`. From scikit-learn 1.7, not defining `__sklearn_tags__` will raise an error.\n",
      "  warnings.warn(\n"
     ]
    },
    {
     "name": "stdout",
     "output_type": "stream",
     "text": [
      "[CV 2/3] END .n_estimators=200, num_leaves=30;, score=-25.049 total time=   2.0s\n"
     ]
    },
    {
     "name": "stderr",
     "output_type": "stream",
     "text": [
      "/opt/conda/lib/python3.9/site-packages/sklearn/utils/_tags.py:354: FutureWarning: The LGBMRegressor or classes from which it inherits use `_get_tags` and `_more_tags`. Please define the `__sklearn_tags__` method, or inherit from `sklearn.base.BaseEstimator` and/or other appropriate mixins such as `sklearn.base.TransformerMixin`, `sklearn.base.ClassifierMixin`, `sklearn.base.RegressorMixin`, and `sklearn.base.OutlierMixin`. From scikit-learn 1.7, not defining `__sklearn_tags__` will raise an error.\n",
      "  warnings.warn(\n"
     ]
    },
    {
     "name": "stdout",
     "output_type": "stream",
     "text": [
      "[CV 3/3] END .n_estimators=200, num_leaves=30;, score=-32.727 total time=   1.9s\n",
      "Лучшие параметры LightGBM: {'n_estimators': 50, 'num_leaves': 30}\n",
      "RMSE LightGBM: 27.237269659250973\n"
     ]
    }
   ],
   "source": [
    "# Инициализируем модель LightGBM.\n",
    "model_lgbm = LGBMRegressor(random_state=RANDOM_STATE)\n",
    "\n",
    "# Зададим параметры и воспользуемся GridSearchCV для определения лучших по метрике.\n",
    "param_lgbm = {\n",
    "    'n_estimators': [50, 100, 200],\n",
    "    'num_leaves': [20, 30]}\n",
    "grid_lgbm = GridSearchCV(model_lgbm, param_lgbm, scoring = 'neg_root_mean_squared_error', n_jobs=-1, cv=tscv, verbose=3)\n",
    "grid_lgbm.fit(X_train, y_train)\n",
    "\n",
    "print('Лучшие параметры LightGBM:', grid_lgbm.best_params_)\n",
    "print('RMSE LightGBM:', grid_lgbm.best_score_*-1)"
   ]
  },
  {
   "cell_type": "markdown",
   "metadata": {},
   "source": [
    "**Промежуточный вывод:** Лучший параметр числа эстиматоров LightGBM: 50, число \"листьев\": 30. RMSE = 27.2, что удовлетворяет заданному условию."
   ]
  },
  {
   "cell_type": "markdown",
   "metadata": {},
   "source": [
    "## Тестирование моделей"
   ]
  },
  {
   "cell_type": "markdown",
   "metadata": {},
   "source": [
    "Исходя из оценки метрики, остановимся на ***LightGBM***, как лучшей по RMSE. Проверим её качество и время предсказания на тестовой выборке."
   ]
  },
  {
   "cell_type": "code",
   "execution_count": 82,
   "metadata": {},
   "outputs": [
    {
     "name": "stdout",
     "output_type": "stream",
     "text": [
      "RMSE для лучшей модели LightGBM: 43.14623909213149\n"
     ]
    }
   ],
   "source": [
    "# Протестируем наилучшую модель на тестовой выборке.\n",
    "model_lgbm = LGBMRegressor(num_leaves=30, n_estimators=50, random_state=RANDOM_STATE)\n",
    "model_lgbm.fit(X_train, y_train)\n",
    "predictions = model_lgbm.predict(X_test)\n",
    "test_rmse = mean_squared_error(y_test, predictions)**0.5\n",
    "\n",
    "print('RMSE для лучшей модели LightGBM:', test_rmse)"
   ]
  },
  {
   "cell_type": "markdown",
   "metadata": {},
   "source": [
    "**Промежуточный вывод:** RMSE LightGBM на тестовой выборке = 43.1, что удовлетворяет заданному условию."
   ]
  },
  {
   "cell_type": "markdown",
   "metadata": {},
   "source": [
    "## Общий вывод"
   ]
  },
  {
   "cell_type": "markdown",
   "metadata": {},
   "source": [
    "**Цель исследования:** Построили модели машинного обучения для прогнозирования количества заказов такси на следующий час. Оценили их по критериям, указанным заказчиком.\n",
    "\n",
    "**Подготовка данных:** Проверили данные на пропуски и монотонность, ресемплировали их по одному часу.\n",
    "\n",
    "**Анализ данных:** Декомпозировали датафрейм, построили графики тренда, сезонности за неделю и сутки, остатков декуомпозиции. По графику тренда увидели, что количество заказов растет. По графику сезонности за неделю и за сутки увидели, что число заказов не меняется от дня недели, но меняется от времени суток с пиком около полуночи и минимумом около 6 утра. Построили график разностей временного ряда. По нему увидели, что среднее значение и стандартное отклонение не сильно меняются, следовательно, ряд стационарен.\n",
    "\n",
    "**Обучение моделей:** Добавили признаки к датафрейму: день месяца, сдвиги и скользящее среднее. Так как данные у нас менее чем за год, месяц и день недели добавлять не стали. Обучили 3 модели машинного обучения, подобрав гиперпараметры, оценили модели по метрике RMSE, которая по указаниям заказчика должна быть меньше 48:\n",
    "- LinearRegression: RMSE = 27.7, что удовлетворяет заданному условию.\n",
    "- DecisionTreeRegressor: Лучший параметр глубины: 5, RMSE = 32.2, что удовлетворяет заданному условию.\n",
    "- LightGBM: Лучший параметр числа эстиматоров: 50, число \"листьев\": 30. RMSE = 27.2, что удовлетворяет заданному условию.\n",
    "\n",
    "**Тестирование моделей:** Исходя из оценки метрики, остановились на LightGBM, как лучшей по RMSE. RMSE LightGBM на тестовой выборке = 43.1, что удовлетворяет заданному условию."
   ]
  }
 ],
 "metadata": {
  "ExecuteTimeLog": [
   {
    "duration": 1392,
    "start_time": "2024-12-12T10:18:14.253Z"
   },
   {
    "duration": 170,
    "start_time": "2024-12-12T10:18:15.647Z"
   },
   {
    "duration": 10,
    "start_time": "2024-12-12T10:18:29.546Z"
   },
   {
    "duration": 6,
    "start_time": "2024-12-12T10:18:53.423Z"
   },
   {
    "duration": 4,
    "start_time": "2024-12-12T10:19:28.706Z"
   },
   {
    "duration": 9,
    "start_time": "2024-12-12T10:19:56.743Z"
   },
   {
    "duration": 6,
    "start_time": "2024-12-12T10:33:03.553Z"
   },
   {
    "duration": 44,
    "start_time": "2024-12-12T11:23:46.173Z"
   },
   {
    "duration": 8,
    "start_time": "2024-12-12T11:25:38.186Z"
   },
   {
    "duration": 336,
    "start_time": "2024-12-12T11:26:39.479Z"
   },
   {
    "duration": 294,
    "start_time": "2024-12-12T11:26:48.227Z"
   },
   {
    "duration": 245,
    "start_time": "2024-12-12T11:26:57.232Z"
   },
   {
    "duration": 194,
    "start_time": "2024-12-12T11:29:05.796Z"
   },
   {
    "duration": 195,
    "start_time": "2024-12-12T11:29:43.444Z"
   },
   {
    "duration": 295,
    "start_time": "2024-12-12T11:31:17.861Z"
   },
   {
    "duration": 4,
    "start_time": "2024-12-12T11:32:26.579Z"
   },
   {
    "duration": 74,
    "start_time": "2024-12-12T11:32:26.584Z"
   },
   {
    "duration": 6,
    "start_time": "2024-12-12T11:32:26.660Z"
   },
   {
    "duration": 11,
    "start_time": "2024-12-12T11:32:26.667Z"
   },
   {
    "duration": 5,
    "start_time": "2024-12-12T11:32:26.680Z"
   },
   {
    "duration": 4,
    "start_time": "2024-12-12T11:32:26.687Z"
   },
   {
    "duration": 7,
    "start_time": "2024-12-12T11:32:26.692Z"
   },
   {
    "duration": 15,
    "start_time": "2024-12-12T11:32:26.701Z"
   },
   {
    "duration": 253,
    "start_time": "2024-12-12T11:32:26.717Z"
   },
   {
    "duration": 187,
    "start_time": "2024-12-12T11:32:26.971Z"
   },
   {
    "duration": 215,
    "start_time": "2024-12-12T11:32:27.160Z"
   },
   {
    "duration": 267,
    "start_time": "2024-12-12T11:32:27.376Z"
   },
   {
    "duration": 190,
    "start_time": "2024-12-12T11:34:12.608Z"
   },
   {
    "duration": 185,
    "start_time": "2024-12-12T11:35:17.079Z"
   },
   {
    "duration": 406,
    "start_time": "2024-12-12T11:42:47.052Z"
   },
   {
    "duration": 336,
    "start_time": "2024-12-12T11:45:23.879Z"
   },
   {
    "duration": 1414,
    "start_time": "2024-12-13T11:12:45.527Z"
   },
   {
    "duration": 108,
    "start_time": "2024-12-13T11:12:46.943Z"
   },
   {
    "duration": 10,
    "start_time": "2024-12-13T11:12:47.053Z"
   },
   {
    "duration": 57,
    "start_time": "2024-12-13T11:12:47.064Z"
   },
   {
    "duration": 8,
    "start_time": "2024-12-13T11:12:47.124Z"
   },
   {
    "duration": 5,
    "start_time": "2024-12-13T11:12:47.133Z"
   },
   {
    "duration": 21,
    "start_time": "2024-12-13T11:12:47.140Z"
   },
   {
    "duration": 9,
    "start_time": "2024-12-13T11:12:47.163Z"
   },
   {
    "duration": 325,
    "start_time": "2024-12-13T11:12:47.174Z"
   },
   {
    "duration": 192,
    "start_time": "2024-12-13T11:12:47.502Z"
   },
   {
    "duration": 205,
    "start_time": "2024-12-13T11:12:47.695Z"
   },
   {
    "duration": 278,
    "start_time": "2024-12-13T11:12:47.901Z"
   },
   {
    "duration": 369,
    "start_time": "2024-12-13T11:12:48.181Z"
   },
   {
    "duration": 3,
    "start_time": "2024-12-13T11:12:48.553Z"
   },
   {
    "duration": 40,
    "start_time": "2024-12-13T11:12:48.558Z"
   },
   {
    "duration": 512,
    "start_time": "2024-12-13T11:31:50.451Z"
   },
   {
    "duration": 0,
    "start_time": "2024-12-13T11:31:50.965Z"
   },
   {
    "duration": 0,
    "start_time": "2024-12-13T11:31:50.966Z"
   },
   {
    "duration": 0,
    "start_time": "2024-12-13T11:31:50.967Z"
   },
   {
    "duration": 0,
    "start_time": "2024-12-13T11:31:50.968Z"
   },
   {
    "duration": 0,
    "start_time": "2024-12-13T11:31:50.970Z"
   },
   {
    "duration": 0,
    "start_time": "2024-12-13T11:31:50.971Z"
   },
   {
    "duration": 0,
    "start_time": "2024-12-13T11:31:50.972Z"
   },
   {
    "duration": 0,
    "start_time": "2024-12-13T11:31:50.973Z"
   },
   {
    "duration": 0,
    "start_time": "2024-12-13T11:31:50.974Z"
   },
   {
    "duration": 0,
    "start_time": "2024-12-13T11:31:50.975Z"
   },
   {
    "duration": 0,
    "start_time": "2024-12-13T11:31:50.976Z"
   },
   {
    "duration": 0,
    "start_time": "2024-12-13T11:31:50.977Z"
   },
   {
    "duration": 1,
    "start_time": "2024-12-13T11:31:50.977Z"
   },
   {
    "duration": 0,
    "start_time": "2024-12-13T11:31:50.979Z"
   },
   {
    "duration": 0,
    "start_time": "2024-12-13T11:31:50.980Z"
   },
   {
    "duration": 0,
    "start_time": "2024-12-13T11:31:50.981Z"
   },
   {
    "duration": 23943,
    "start_time": "2024-12-13T11:32:20.785Z"
   },
   {
    "duration": 25,
    "start_time": "2024-12-13T11:32:44.732Z"
   },
   {
    "duration": 0,
    "start_time": "2024-12-13T11:32:44.761Z"
   },
   {
    "duration": 0,
    "start_time": "2024-12-13T11:32:44.763Z"
   },
   {
    "duration": 0,
    "start_time": "2024-12-13T11:32:44.764Z"
   },
   {
    "duration": 0,
    "start_time": "2024-12-13T11:32:44.766Z"
   },
   {
    "duration": 0,
    "start_time": "2024-12-13T11:32:44.767Z"
   },
   {
    "duration": 0,
    "start_time": "2024-12-13T11:32:44.769Z"
   },
   {
    "duration": 0,
    "start_time": "2024-12-13T11:32:44.770Z"
   },
   {
    "duration": 0,
    "start_time": "2024-12-13T11:32:44.772Z"
   },
   {
    "duration": 0,
    "start_time": "2024-12-13T11:32:44.773Z"
   },
   {
    "duration": 0,
    "start_time": "2024-12-13T11:32:44.775Z"
   },
   {
    "duration": 0,
    "start_time": "2024-12-13T11:32:44.777Z"
   },
   {
    "duration": 0,
    "start_time": "2024-12-13T11:32:44.779Z"
   },
   {
    "duration": 0,
    "start_time": "2024-12-13T11:32:44.781Z"
   },
   {
    "duration": 0,
    "start_time": "2024-12-13T11:32:44.782Z"
   },
   {
    "duration": 0,
    "start_time": "2024-12-13T11:32:44.784Z"
   },
   {
    "duration": 0,
    "start_time": "2024-12-13T11:32:44.814Z"
   },
   {
    "duration": 10508,
    "start_time": "2024-12-13T11:33:37.244Z"
   },
   {
    "duration": 2266,
    "start_time": "2024-12-13T11:33:47.756Z"
   },
   {
    "duration": 0,
    "start_time": "2024-12-13T11:33:50.024Z"
   },
   {
    "duration": 0,
    "start_time": "2024-12-13T11:33:50.025Z"
   },
   {
    "duration": 1,
    "start_time": "2024-12-13T11:33:50.026Z"
   },
   {
    "duration": 0,
    "start_time": "2024-12-13T11:33:50.027Z"
   },
   {
    "duration": 0,
    "start_time": "2024-12-13T11:33:50.029Z"
   },
   {
    "duration": 0,
    "start_time": "2024-12-13T11:33:50.030Z"
   },
   {
    "duration": 0,
    "start_time": "2024-12-13T11:33:50.032Z"
   },
   {
    "duration": 0,
    "start_time": "2024-12-13T11:33:50.033Z"
   },
   {
    "duration": 0,
    "start_time": "2024-12-13T11:33:50.034Z"
   },
   {
    "duration": 0,
    "start_time": "2024-12-13T11:33:50.035Z"
   },
   {
    "duration": 0,
    "start_time": "2024-12-13T11:33:50.036Z"
   },
   {
    "duration": 0,
    "start_time": "2024-12-13T11:33:50.037Z"
   },
   {
    "duration": 0,
    "start_time": "2024-12-13T11:33:50.039Z"
   },
   {
    "duration": 0,
    "start_time": "2024-12-13T11:33:50.040Z"
   },
   {
    "duration": 0,
    "start_time": "2024-12-13T11:33:50.042Z"
   },
   {
    "duration": 0,
    "start_time": "2024-12-13T11:33:50.044Z"
   },
   {
    "duration": 6529,
    "start_time": "2024-12-13T11:36:17.864Z"
   },
   {
    "duration": 19,
    "start_time": "2024-12-13T11:36:24.396Z"
   },
   {
    "duration": 0,
    "start_time": "2024-12-13T11:36:24.417Z"
   },
   {
    "duration": 0,
    "start_time": "2024-12-13T11:36:24.418Z"
   },
   {
    "duration": 0,
    "start_time": "2024-12-13T11:36:24.420Z"
   },
   {
    "duration": 0,
    "start_time": "2024-12-13T11:36:24.421Z"
   },
   {
    "duration": 0,
    "start_time": "2024-12-13T11:36:24.422Z"
   },
   {
    "duration": 0,
    "start_time": "2024-12-13T11:36:24.423Z"
   },
   {
    "duration": 1,
    "start_time": "2024-12-13T11:36:24.424Z"
   },
   {
    "duration": 0,
    "start_time": "2024-12-13T11:36:24.426Z"
   },
   {
    "duration": 0,
    "start_time": "2024-12-13T11:36:24.428Z"
   },
   {
    "duration": 0,
    "start_time": "2024-12-13T11:36:24.429Z"
   },
   {
    "duration": 0,
    "start_time": "2024-12-13T11:36:24.430Z"
   },
   {
    "duration": 0,
    "start_time": "2024-12-13T11:36:24.432Z"
   },
   {
    "duration": 0,
    "start_time": "2024-12-13T11:36:24.433Z"
   },
   {
    "duration": 0,
    "start_time": "2024-12-13T11:36:24.434Z"
   },
   {
    "duration": 0,
    "start_time": "2024-12-13T11:36:24.435Z"
   },
   {
    "duration": 0,
    "start_time": "2024-12-13T11:36:24.437Z"
   },
   {
    "duration": 5688,
    "start_time": "2024-12-13T11:39:35.031Z"
   },
   {
    "duration": 1657,
    "start_time": "2024-12-13T11:39:40.723Z"
   },
   {
    "duration": 0,
    "start_time": "2024-12-13T11:39:42.382Z"
   },
   {
    "duration": 0,
    "start_time": "2024-12-13T11:39:42.383Z"
   },
   {
    "duration": 0,
    "start_time": "2024-12-13T11:39:42.384Z"
   },
   {
    "duration": 0,
    "start_time": "2024-12-13T11:39:42.385Z"
   },
   {
    "duration": 0,
    "start_time": "2024-12-13T11:39:42.387Z"
   },
   {
    "duration": 0,
    "start_time": "2024-12-13T11:39:42.387Z"
   },
   {
    "duration": 0,
    "start_time": "2024-12-13T11:39:42.388Z"
   },
   {
    "duration": 0,
    "start_time": "2024-12-13T11:39:42.389Z"
   },
   {
    "duration": 0,
    "start_time": "2024-12-13T11:39:42.390Z"
   },
   {
    "duration": 0,
    "start_time": "2024-12-13T11:39:42.391Z"
   },
   {
    "duration": 0,
    "start_time": "2024-12-13T11:39:42.392Z"
   },
   {
    "duration": 0,
    "start_time": "2024-12-13T11:39:42.393Z"
   },
   {
    "duration": 0,
    "start_time": "2024-12-13T11:39:42.394Z"
   },
   {
    "duration": 0,
    "start_time": "2024-12-13T11:39:42.415Z"
   },
   {
    "duration": 0,
    "start_time": "2024-12-13T11:39:42.417Z"
   },
   {
    "duration": 0,
    "start_time": "2024-12-13T11:39:42.418Z"
   },
   {
    "duration": 10,
    "start_time": "2024-12-13T11:42:03.457Z"
   },
   {
    "duration": 9,
    "start_time": "2024-12-13T11:42:19.683Z"
   },
   {
    "duration": 6735,
    "start_time": "2024-12-13T11:42:31.226Z"
   },
   {
    "duration": 1523,
    "start_time": "2024-12-13T11:42:37.964Z"
   },
   {
    "duration": 0,
    "start_time": "2024-12-13T11:42:39.489Z"
   },
   {
    "duration": 0,
    "start_time": "2024-12-13T11:42:39.490Z"
   },
   {
    "duration": 0,
    "start_time": "2024-12-13T11:42:39.491Z"
   },
   {
    "duration": 0,
    "start_time": "2024-12-13T11:42:39.492Z"
   },
   {
    "duration": 0,
    "start_time": "2024-12-13T11:42:39.493Z"
   },
   {
    "duration": 0,
    "start_time": "2024-12-13T11:42:39.494Z"
   },
   {
    "duration": 0,
    "start_time": "2024-12-13T11:42:39.495Z"
   },
   {
    "duration": 0,
    "start_time": "2024-12-13T11:42:39.496Z"
   },
   {
    "duration": 0,
    "start_time": "2024-12-13T11:42:39.497Z"
   },
   {
    "duration": 0,
    "start_time": "2024-12-13T11:42:39.515Z"
   },
   {
    "duration": 0,
    "start_time": "2024-12-13T11:42:39.516Z"
   },
   {
    "duration": 0,
    "start_time": "2024-12-13T11:42:39.517Z"
   },
   {
    "duration": 0,
    "start_time": "2024-12-13T11:42:39.518Z"
   },
   {
    "duration": 0,
    "start_time": "2024-12-13T11:42:39.519Z"
   },
   {
    "duration": 0,
    "start_time": "2024-12-13T11:42:39.521Z"
   },
   {
    "duration": 0,
    "start_time": "2024-12-13T11:42:39.523Z"
   },
   {
    "duration": 6908,
    "start_time": "2024-12-13T11:44:48.772Z"
   },
   {
    "duration": 17,
    "start_time": "2024-12-13T11:44:55.683Z"
   },
   {
    "duration": 0,
    "start_time": "2024-12-13T11:44:55.702Z"
   },
   {
    "duration": 0,
    "start_time": "2024-12-13T11:44:55.703Z"
   },
   {
    "duration": 0,
    "start_time": "2024-12-13T11:44:55.704Z"
   },
   {
    "duration": 0,
    "start_time": "2024-12-13T11:44:55.705Z"
   },
   {
    "duration": 0,
    "start_time": "2024-12-13T11:44:55.706Z"
   },
   {
    "duration": 0,
    "start_time": "2024-12-13T11:44:55.706Z"
   },
   {
    "duration": 0,
    "start_time": "2024-12-13T11:44:55.708Z"
   },
   {
    "duration": 0,
    "start_time": "2024-12-13T11:44:55.709Z"
   },
   {
    "duration": 0,
    "start_time": "2024-12-13T11:44:55.710Z"
   },
   {
    "duration": 0,
    "start_time": "2024-12-13T11:44:55.711Z"
   },
   {
    "duration": 0,
    "start_time": "2024-12-13T11:44:55.712Z"
   },
   {
    "duration": 0,
    "start_time": "2024-12-13T11:44:55.713Z"
   },
   {
    "duration": 0,
    "start_time": "2024-12-13T11:44:55.714Z"
   },
   {
    "duration": 0,
    "start_time": "2024-12-13T11:44:55.715Z"
   },
   {
    "duration": 0,
    "start_time": "2024-12-13T11:44:55.716Z"
   },
   {
    "duration": 0,
    "start_time": "2024-12-13T11:44:55.718Z"
   },
   {
    "duration": 77,
    "start_time": "2024-12-13T11:47:17.306Z"
   },
   {
    "duration": 8307,
    "start_time": "2024-12-13T11:47:20.566Z"
   },
   {
    "duration": 19,
    "start_time": "2024-12-13T11:47:38.515Z"
   },
   {
    "duration": 8888,
    "start_time": "2024-12-13T11:49:31.442Z"
   },
   {
    "duration": 18,
    "start_time": "2024-12-13T11:49:40.333Z"
   },
   {
    "duration": 0,
    "start_time": "2024-12-13T11:49:40.352Z"
   },
   {
    "duration": 0,
    "start_time": "2024-12-13T11:49:40.353Z"
   },
   {
    "duration": 0,
    "start_time": "2024-12-13T11:49:40.354Z"
   },
   {
    "duration": 0,
    "start_time": "2024-12-13T11:49:40.356Z"
   },
   {
    "duration": 0,
    "start_time": "2024-12-13T11:49:40.357Z"
   },
   {
    "duration": 0,
    "start_time": "2024-12-13T11:49:40.359Z"
   },
   {
    "duration": 0,
    "start_time": "2024-12-13T11:49:40.360Z"
   },
   {
    "duration": 0,
    "start_time": "2024-12-13T11:49:40.361Z"
   },
   {
    "duration": 0,
    "start_time": "2024-12-13T11:49:40.363Z"
   },
   {
    "duration": 0,
    "start_time": "2024-12-13T11:49:40.364Z"
   },
   {
    "duration": 0,
    "start_time": "2024-12-13T11:49:40.365Z"
   },
   {
    "duration": 0,
    "start_time": "2024-12-13T11:49:40.367Z"
   },
   {
    "duration": 0,
    "start_time": "2024-12-13T11:49:40.368Z"
   },
   {
    "duration": 0,
    "start_time": "2024-12-13T11:49:40.370Z"
   },
   {
    "duration": 0,
    "start_time": "2024-12-13T11:49:40.371Z"
   },
   {
    "duration": 0,
    "start_time": "2024-12-13T11:49:40.373Z"
   },
   {
    "duration": 5832,
    "start_time": "2024-12-13T11:51:17.925Z"
   },
   {
    "duration": 1544,
    "start_time": "2024-12-13T11:51:23.760Z"
   },
   {
    "duration": 0,
    "start_time": "2024-12-13T11:51:25.307Z"
   },
   {
    "duration": 0,
    "start_time": "2024-12-13T11:51:25.308Z"
   },
   {
    "duration": 0,
    "start_time": "2024-12-13T11:51:25.315Z"
   },
   {
    "duration": 0,
    "start_time": "2024-12-13T11:51:25.316Z"
   },
   {
    "duration": 0,
    "start_time": "2024-12-13T11:51:25.317Z"
   },
   {
    "duration": 0,
    "start_time": "2024-12-13T11:51:25.318Z"
   },
   {
    "duration": 0,
    "start_time": "2024-12-13T11:51:25.320Z"
   },
   {
    "duration": 0,
    "start_time": "2024-12-13T11:51:25.322Z"
   },
   {
    "duration": 0,
    "start_time": "2024-12-13T11:51:25.323Z"
   },
   {
    "duration": 0,
    "start_time": "2024-12-13T11:51:25.324Z"
   },
   {
    "duration": 0,
    "start_time": "2024-12-13T11:51:25.326Z"
   },
   {
    "duration": 0,
    "start_time": "2024-12-13T11:51:25.327Z"
   },
   {
    "duration": 0,
    "start_time": "2024-12-13T11:51:25.328Z"
   },
   {
    "duration": 0,
    "start_time": "2024-12-13T11:51:25.329Z"
   },
   {
    "duration": 0,
    "start_time": "2024-12-13T11:51:25.330Z"
   },
   {
    "duration": 0,
    "start_time": "2024-12-13T11:51:25.331Z"
   },
   {
    "duration": 15,
    "start_time": "2024-12-13T11:55:24.151Z"
   },
   {
    "duration": 5,
    "start_time": "2024-12-13T11:55:37.650Z"
   },
   {
    "duration": 5234,
    "start_time": "2024-12-13T11:55:42.539Z"
   },
   {
    "duration": 5,
    "start_time": "2024-12-13T11:55:47.777Z"
   },
   {
    "duration": 103,
    "start_time": "2024-12-13T11:55:47.784Z"
   },
   {
    "duration": 10,
    "start_time": "2024-12-13T11:55:47.889Z"
   },
   {
    "duration": 20,
    "start_time": "2024-12-13T11:55:47.901Z"
   },
   {
    "duration": 6,
    "start_time": "2024-12-13T11:55:47.923Z"
   },
   {
    "duration": 6,
    "start_time": "2024-12-13T11:55:47.931Z"
   },
   {
    "duration": 12,
    "start_time": "2024-12-13T11:55:47.939Z"
   },
   {
    "duration": 10,
    "start_time": "2024-12-13T11:55:47.953Z"
   },
   {
    "duration": 611,
    "start_time": "2024-12-13T11:55:47.965Z"
   },
   {
    "duration": 397,
    "start_time": "2024-12-13T11:55:48.578Z"
   },
   {
    "duration": 370,
    "start_time": "2024-12-13T11:55:48.978Z"
   },
   {
    "duration": 455,
    "start_time": "2024-12-13T11:55:49.351Z"
   },
   {
    "duration": 645,
    "start_time": "2024-12-13T11:55:49.810Z"
   },
   {
    "duration": 5,
    "start_time": "2024-12-13T11:55:50.457Z"
   },
   {
    "duration": 54,
    "start_time": "2024-12-13T11:55:50.464Z"
   },
   {
    "duration": 10,
    "start_time": "2024-12-13T11:55:50.520Z"
   },
   {
    "duration": 18,
    "start_time": "2024-12-13T11:55:50.533Z"
   },
   {
    "duration": 9139,
    "start_time": "2024-12-13T11:58:30.713Z"
   },
   {
    "duration": 6,
    "start_time": "2024-12-13T11:58:39.855Z"
   },
   {
    "duration": 72,
    "start_time": "2024-12-13T11:58:39.864Z"
   },
   {
    "duration": 7,
    "start_time": "2024-12-13T11:58:39.938Z"
   },
   {
    "duration": 17,
    "start_time": "2024-12-13T11:58:39.947Z"
   },
   {
    "duration": 6,
    "start_time": "2024-12-13T11:58:39.965Z"
   },
   {
    "duration": 9,
    "start_time": "2024-12-13T11:58:39.972Z"
   },
   {
    "duration": 36,
    "start_time": "2024-12-13T11:58:39.983Z"
   },
   {
    "duration": 16,
    "start_time": "2024-12-13T11:58:40.021Z"
   },
   {
    "duration": 536,
    "start_time": "2024-12-13T11:58:40.039Z"
   },
   {
    "duration": 380,
    "start_time": "2024-12-13T11:58:40.577Z"
   },
   {
    "duration": 441,
    "start_time": "2024-12-13T11:58:40.960Z"
   },
   {
    "duration": 470,
    "start_time": "2024-12-13T11:58:41.403Z"
   },
   {
    "duration": 577,
    "start_time": "2024-12-13T11:58:41.876Z"
   },
   {
    "duration": 5,
    "start_time": "2024-12-13T11:58:42.455Z"
   },
   {
    "duration": 31,
    "start_time": "2024-12-13T11:58:42.462Z"
   },
   {
    "duration": 24,
    "start_time": "2024-12-13T11:58:42.495Z"
   },
   {
    "duration": 22,
    "start_time": "2024-12-13T11:58:42.520Z"
   },
   {
    "duration": 712,
    "start_time": "2024-12-13T12:05:34.412Z"
   },
   {
    "duration": 220,
    "start_time": "2024-12-13T12:08:03.200Z"
   },
   {
    "duration": 1080,
    "start_time": "2024-12-13T12:11:10.536Z"
   },
   {
    "duration": 17,
    "start_time": "2024-12-13T12:17:33.600Z"
   },
   {
    "duration": 389,
    "start_time": "2024-12-13T12:17:40.639Z"
   },
   {
    "duration": 389,
    "start_time": "2024-12-13T12:17:50.150Z"
   },
   {
    "duration": 15,
    "start_time": "2024-12-13T12:19:50.213Z"
   },
   {
    "duration": 2384166,
    "start_time": "2024-12-13T12:20:06.661Z"
   },
   {
    "duration": 21177,
    "start_time": "2024-12-14T11:12:53.707Z"
   },
   {
    "duration": 739,
    "start_time": "2024-12-14T11:13:14.886Z"
   },
   {
    "duration": 0,
    "start_time": "2024-12-14T11:13:15.627Z"
   },
   {
    "duration": 0,
    "start_time": "2024-12-14T11:13:15.628Z"
   },
   {
    "duration": 0,
    "start_time": "2024-12-14T11:13:15.630Z"
   },
   {
    "duration": 0,
    "start_time": "2024-12-14T11:13:15.631Z"
   },
   {
    "duration": 0,
    "start_time": "2024-12-14T11:13:15.632Z"
   },
   {
    "duration": 0,
    "start_time": "2024-12-14T11:13:15.633Z"
   },
   {
    "duration": 0,
    "start_time": "2024-12-14T11:13:15.635Z"
   },
   {
    "duration": 0,
    "start_time": "2024-12-14T11:13:15.636Z"
   },
   {
    "duration": 0,
    "start_time": "2024-12-14T11:13:15.638Z"
   },
   {
    "duration": 0,
    "start_time": "2024-12-14T11:13:15.639Z"
   },
   {
    "duration": 0,
    "start_time": "2024-12-14T11:13:15.640Z"
   },
   {
    "duration": 0,
    "start_time": "2024-12-14T11:13:15.641Z"
   },
   {
    "duration": 0,
    "start_time": "2024-12-14T11:13:15.642Z"
   },
   {
    "duration": 0,
    "start_time": "2024-12-14T11:13:15.643Z"
   },
   {
    "duration": 0,
    "start_time": "2024-12-14T11:13:15.644Z"
   },
   {
    "duration": 10453,
    "start_time": "2024-12-14T11:13:43.114Z"
   },
   {
    "duration": 318,
    "start_time": "2024-12-14T11:13:53.570Z"
   },
   {
    "duration": 0,
    "start_time": "2024-12-14T11:13:53.890Z"
   },
   {
    "duration": 0,
    "start_time": "2024-12-14T11:13:53.891Z"
   },
   {
    "duration": 0,
    "start_time": "2024-12-14T11:13:53.892Z"
   },
   {
    "duration": 0,
    "start_time": "2024-12-14T11:13:53.893Z"
   },
   {
    "duration": 0,
    "start_time": "2024-12-14T11:13:53.895Z"
   },
   {
    "duration": 0,
    "start_time": "2024-12-14T11:13:53.896Z"
   },
   {
    "duration": 0,
    "start_time": "2024-12-14T11:13:53.897Z"
   },
   {
    "duration": 0,
    "start_time": "2024-12-14T11:13:53.898Z"
   },
   {
    "duration": 0,
    "start_time": "2024-12-14T11:13:53.899Z"
   },
   {
    "duration": 0,
    "start_time": "2024-12-14T11:13:53.901Z"
   },
   {
    "duration": 0,
    "start_time": "2024-12-14T11:13:53.901Z"
   },
   {
    "duration": 0,
    "start_time": "2024-12-14T11:13:53.902Z"
   },
   {
    "duration": 0,
    "start_time": "2024-12-14T11:13:53.903Z"
   },
   {
    "duration": 0,
    "start_time": "2024-12-14T11:13:53.905Z"
   },
   {
    "duration": 0,
    "start_time": "2024-12-14T11:13:53.906Z"
   },
   {
    "duration": 16911,
    "start_time": "2024-12-14T11:14:53.066Z"
   },
   {
    "duration": 15728,
    "start_time": "2024-12-14T11:15:18.968Z"
   },
   {
    "duration": 321,
    "start_time": "2024-12-14T11:15:34.699Z"
   },
   {
    "duration": 0,
    "start_time": "2024-12-14T11:15:35.023Z"
   },
   {
    "duration": 1,
    "start_time": "2024-12-14T11:15:35.024Z"
   },
   {
    "duration": 0,
    "start_time": "2024-12-14T11:15:35.026Z"
   },
   {
    "duration": 0,
    "start_time": "2024-12-14T11:15:35.027Z"
   },
   {
    "duration": 0,
    "start_time": "2024-12-14T11:15:35.028Z"
   },
   {
    "duration": 0,
    "start_time": "2024-12-14T11:15:35.030Z"
   },
   {
    "duration": 0,
    "start_time": "2024-12-14T11:15:35.031Z"
   },
   {
    "duration": 0,
    "start_time": "2024-12-14T11:15:35.033Z"
   },
   {
    "duration": 0,
    "start_time": "2024-12-14T11:15:35.034Z"
   },
   {
    "duration": 0,
    "start_time": "2024-12-14T11:15:35.035Z"
   },
   {
    "duration": 0,
    "start_time": "2024-12-14T11:15:35.037Z"
   },
   {
    "duration": 0,
    "start_time": "2024-12-14T11:15:35.038Z"
   },
   {
    "duration": 0,
    "start_time": "2024-12-14T11:15:35.039Z"
   },
   {
    "duration": 0,
    "start_time": "2024-12-14T11:15:35.041Z"
   },
   {
    "duration": 0,
    "start_time": "2024-12-14T11:15:35.042Z"
   },
   {
    "duration": 15954,
    "start_time": "2024-12-14T11:15:49.291Z"
   },
   {
    "duration": 341,
    "start_time": "2024-12-14T11:16:05.247Z"
   },
   {
    "duration": 0,
    "start_time": "2024-12-14T11:16:05.591Z"
   },
   {
    "duration": 0,
    "start_time": "2024-12-14T11:16:05.592Z"
   },
   {
    "duration": 0,
    "start_time": "2024-12-14T11:16:05.593Z"
   },
   {
    "duration": 0,
    "start_time": "2024-12-14T11:16:05.595Z"
   },
   {
    "duration": 0,
    "start_time": "2024-12-14T11:16:05.596Z"
   },
   {
    "duration": 0,
    "start_time": "2024-12-14T11:16:05.597Z"
   },
   {
    "duration": 1,
    "start_time": "2024-12-14T11:16:05.598Z"
   },
   {
    "duration": 0,
    "start_time": "2024-12-14T11:16:05.600Z"
   },
   {
    "duration": 0,
    "start_time": "2024-12-14T11:16:05.601Z"
   },
   {
    "duration": 0,
    "start_time": "2024-12-14T11:16:05.602Z"
   },
   {
    "duration": 0,
    "start_time": "2024-12-14T11:16:05.603Z"
   },
   {
    "duration": 0,
    "start_time": "2024-12-14T11:16:05.604Z"
   },
   {
    "duration": 0,
    "start_time": "2024-12-14T11:16:05.606Z"
   },
   {
    "duration": 0,
    "start_time": "2024-12-14T11:16:05.607Z"
   },
   {
    "duration": 0,
    "start_time": "2024-12-14T11:16:05.608Z"
   },
   {
    "duration": 15426,
    "start_time": "2024-12-14T11:16:21.113Z"
   },
   {
    "duration": 5774,
    "start_time": "2024-12-14T11:16:52.500Z"
   },
   {
    "duration": 324,
    "start_time": "2024-12-14T11:17:06.256Z"
   },
   {
    "duration": 2221,
    "start_time": "2024-12-14T11:29:50.489Z"
   },
   {
    "duration": 0,
    "start_time": "2024-12-14T11:29:52.713Z"
   },
   {
    "duration": 0,
    "start_time": "2024-12-14T11:29:52.715Z"
   },
   {
    "duration": 0,
    "start_time": "2024-12-14T11:29:52.716Z"
   },
   {
    "duration": 0,
    "start_time": "2024-12-14T11:29:52.718Z"
   },
   {
    "duration": 0,
    "start_time": "2024-12-14T11:29:52.719Z"
   },
   {
    "duration": 0,
    "start_time": "2024-12-14T11:29:52.720Z"
   },
   {
    "duration": 0,
    "start_time": "2024-12-14T11:29:52.738Z"
   },
   {
    "duration": 0,
    "start_time": "2024-12-14T11:29:52.739Z"
   },
   {
    "duration": 0,
    "start_time": "2024-12-14T11:29:52.741Z"
   },
   {
    "duration": 0,
    "start_time": "2024-12-14T11:29:52.742Z"
   },
   {
    "duration": 0,
    "start_time": "2024-12-14T11:29:52.744Z"
   },
   {
    "duration": 0,
    "start_time": "2024-12-14T11:29:52.745Z"
   },
   {
    "duration": 0,
    "start_time": "2024-12-14T11:29:52.746Z"
   },
   {
    "duration": 0,
    "start_time": "2024-12-14T11:29:52.748Z"
   },
   {
    "duration": 0,
    "start_time": "2024-12-14T11:29:52.749Z"
   },
   {
    "duration": 0,
    "start_time": "2024-12-14T11:29:52.752Z"
   },
   {
    "duration": 14010,
    "start_time": "2024-12-14T11:30:00.029Z"
   },
   {
    "duration": 828,
    "start_time": "2024-12-14T11:30:25.212Z"
   },
   {
    "duration": 5841,
    "start_time": "2024-12-14T11:30:32.671Z"
   },
   {
    "duration": 5,
    "start_time": "2024-12-14T11:30:38.514Z"
   },
   {
    "duration": 129,
    "start_time": "2024-12-14T11:30:38.521Z"
   },
   {
    "duration": 7,
    "start_time": "2024-12-14T11:30:38.652Z"
   },
   {
    "duration": 18,
    "start_time": "2024-12-14T11:30:38.662Z"
   },
   {
    "duration": 6,
    "start_time": "2024-12-14T11:30:38.682Z"
   },
   {
    "duration": 16,
    "start_time": "2024-12-14T11:30:38.689Z"
   },
   {
    "duration": 19,
    "start_time": "2024-12-14T11:30:38.707Z"
   },
   {
    "duration": 13,
    "start_time": "2024-12-14T11:30:38.727Z"
   },
   {
    "duration": 556,
    "start_time": "2024-12-14T11:30:38.742Z"
   },
   {
    "duration": 382,
    "start_time": "2024-12-14T11:30:39.299Z"
   },
   {
    "duration": 405,
    "start_time": "2024-12-14T11:30:39.683Z"
   },
   {
    "duration": 1164,
    "start_time": "2024-12-14T11:30:40.091Z"
   },
   {
    "duration": 1255,
    "start_time": "2024-12-14T11:30:41.257Z"
   },
   {
    "duration": 4,
    "start_time": "2024-12-14T11:30:42.515Z"
   },
   {
    "duration": 25,
    "start_time": "2024-12-14T11:30:42.538Z"
   },
   {
    "duration": 7,
    "start_time": "2024-12-14T11:30:42.565Z"
   },
   {
    "duration": 62,
    "start_time": "2024-12-14T11:33:03.236Z"
   },
   {
    "duration": 12,
    "start_time": "2024-12-14T11:34:52.733Z"
   },
   {
    "duration": 14611,
    "start_time": "2024-12-14T11:35:21.750Z"
   },
   {
    "duration": 527,
    "start_time": "2024-12-14T11:35:53.722Z"
   },
   {
    "duration": 17823,
    "start_time": "2024-12-14T12:02:29.603Z"
   },
   {
    "duration": 655,
    "start_time": "2024-12-14T12:02:47.428Z"
   },
   {
    "duration": 0,
    "start_time": "2024-12-14T12:02:48.085Z"
   },
   {
    "duration": 0,
    "start_time": "2024-12-14T12:02:48.086Z"
   },
   {
    "duration": 0,
    "start_time": "2024-12-14T12:02:48.088Z"
   },
   {
    "duration": 0,
    "start_time": "2024-12-14T12:02:48.089Z"
   },
   {
    "duration": 0,
    "start_time": "2024-12-14T12:02:48.090Z"
   },
   {
    "duration": 0,
    "start_time": "2024-12-14T12:02:48.092Z"
   },
   {
    "duration": 0,
    "start_time": "2024-12-14T12:02:48.093Z"
   },
   {
    "duration": 0,
    "start_time": "2024-12-14T12:02:48.094Z"
   },
   {
    "duration": 0,
    "start_time": "2024-12-14T12:02:48.095Z"
   },
   {
    "duration": 0,
    "start_time": "2024-12-14T12:02:48.096Z"
   },
   {
    "duration": 0,
    "start_time": "2024-12-14T12:02:48.097Z"
   },
   {
    "duration": 0,
    "start_time": "2024-12-14T12:02:48.098Z"
   },
   {
    "duration": 0,
    "start_time": "2024-12-14T12:02:48.099Z"
   },
   {
    "duration": 0,
    "start_time": "2024-12-14T12:02:48.100Z"
   },
   {
    "duration": 0,
    "start_time": "2024-12-14T12:02:48.101Z"
   },
   {
    "duration": 0,
    "start_time": "2024-12-14T12:02:48.102Z"
   },
   {
    "duration": 0,
    "start_time": "2024-12-14T12:02:48.103Z"
   },
   {
    "duration": 0,
    "start_time": "2024-12-14T12:02:48.104Z"
   },
   {
    "duration": 0,
    "start_time": "2024-12-14T12:02:48.105Z"
   },
   {
    "duration": 690,
    "start_time": "2024-12-14T12:03:34.002Z"
   },
   {
    "duration": 0,
    "start_time": "2024-12-14T12:03:34.696Z"
   },
   {
    "duration": 0,
    "start_time": "2024-12-14T12:03:34.698Z"
   },
   {
    "duration": 0,
    "start_time": "2024-12-14T12:03:34.699Z"
   },
   {
    "duration": 0,
    "start_time": "2024-12-14T12:03:34.701Z"
   },
   {
    "duration": 0,
    "start_time": "2024-12-14T12:03:34.703Z"
   },
   {
    "duration": 0,
    "start_time": "2024-12-14T12:03:34.705Z"
   },
   {
    "duration": 0,
    "start_time": "2024-12-14T12:03:34.706Z"
   },
   {
    "duration": 0,
    "start_time": "2024-12-14T12:03:34.709Z"
   },
   {
    "duration": 0,
    "start_time": "2024-12-14T12:03:34.711Z"
   },
   {
    "duration": 0,
    "start_time": "2024-12-14T12:03:34.713Z"
   },
   {
    "duration": 0,
    "start_time": "2024-12-14T12:03:34.714Z"
   },
   {
    "duration": 0,
    "start_time": "2024-12-14T12:03:34.716Z"
   },
   {
    "duration": 0,
    "start_time": "2024-12-14T12:03:34.719Z"
   },
   {
    "duration": 1,
    "start_time": "2024-12-14T12:03:34.719Z"
   },
   {
    "duration": 0,
    "start_time": "2024-12-14T12:03:34.721Z"
   },
   {
    "duration": 0,
    "start_time": "2024-12-14T12:03:34.723Z"
   },
   {
    "duration": 0,
    "start_time": "2024-12-14T12:03:34.725Z"
   },
   {
    "duration": 0,
    "start_time": "2024-12-14T12:03:34.727Z"
   },
   {
    "duration": 0,
    "start_time": "2024-12-14T12:03:34.728Z"
   },
   {
    "duration": 653,
    "start_time": "2024-12-14T12:05:39.291Z"
   },
   {
    "duration": 9256,
    "start_time": "2024-12-14T12:07:42.539Z"
   },
   {
    "duration": 556,
    "start_time": "2024-12-14T12:07:52.185Z"
   },
   {
    "duration": 6082,
    "start_time": "2024-12-14T12:55:26.495Z"
   },
   {
    "duration": 5,
    "start_time": "2024-12-14T12:55:32.579Z"
   },
   {
    "duration": 73,
    "start_time": "2024-12-14T12:55:32.586Z"
   },
   {
    "duration": 7,
    "start_time": "2024-12-14T12:55:32.661Z"
   },
   {
    "duration": 34,
    "start_time": "2024-12-14T12:55:32.670Z"
   },
   {
    "duration": 16,
    "start_time": "2024-12-14T12:55:32.706Z"
   },
   {
    "duration": 7,
    "start_time": "2024-12-14T12:55:32.723Z"
   },
   {
    "duration": 36,
    "start_time": "2024-12-14T12:55:32.731Z"
   },
   {
    "duration": 17,
    "start_time": "2024-12-14T12:55:32.769Z"
   },
   {
    "duration": 478,
    "start_time": "2024-12-14T12:55:32.789Z"
   },
   {
    "duration": 341,
    "start_time": "2024-12-14T12:55:33.269Z"
   },
   {
    "duration": 377,
    "start_time": "2024-12-14T12:55:33.611Z"
   },
   {
    "duration": 440,
    "start_time": "2024-12-14T12:55:33.990Z"
   },
   {
    "duration": 648,
    "start_time": "2024-12-14T12:55:34.432Z"
   },
   {
    "duration": 4,
    "start_time": "2024-12-14T12:55:35.081Z"
   },
   {
    "duration": 43,
    "start_time": "2024-12-14T12:55:35.087Z"
   },
   {
    "duration": 9,
    "start_time": "2024-12-14T12:55:35.132Z"
   },
   {
    "duration": 903,
    "start_time": "2024-12-14T12:55:35.142Z"
   },
   {
    "duration": 580,
    "start_time": "2024-12-14T12:55:36.047Z"
   },
   {
    "duration": 121444,
    "start_time": "2024-12-14T12:55:36.628Z"
   },
   {
    "duration": 0,
    "start_time": "2024-12-14T12:57:38.074Z"
   },
   {
    "duration": 5320,
    "start_time": "2024-12-14T12:57:52.874Z"
   },
   {
    "duration": 5,
    "start_time": "2024-12-14T12:57:58.196Z"
   },
   {
    "duration": 80,
    "start_time": "2024-12-14T12:57:58.202Z"
   },
   {
    "duration": 7,
    "start_time": "2024-12-14T12:57:58.285Z"
   },
   {
    "duration": 16,
    "start_time": "2024-12-14T12:57:58.294Z"
   },
   {
    "duration": 6,
    "start_time": "2024-12-14T12:57:58.311Z"
   },
   {
    "duration": 24,
    "start_time": "2024-12-14T12:57:58.318Z"
   },
   {
    "duration": 14,
    "start_time": "2024-12-14T12:57:58.345Z"
   },
   {
    "duration": 5039,
    "start_time": "2024-12-14T12:58:31.332Z"
   },
   {
    "duration": 4,
    "start_time": "2024-12-14T12:58:36.374Z"
   },
   {
    "duration": 85,
    "start_time": "2024-12-14T12:58:36.379Z"
   },
   {
    "duration": 7,
    "start_time": "2024-12-14T12:58:36.465Z"
   },
   {
    "duration": 13,
    "start_time": "2024-12-14T12:58:36.473Z"
   },
   {
    "duration": 5,
    "start_time": "2024-12-14T12:58:36.488Z"
   },
   {
    "duration": 20,
    "start_time": "2024-12-14T12:58:36.495Z"
   },
   {
    "duration": 32,
    "start_time": "2024-12-14T12:58:36.517Z"
   },
   {
    "duration": 6064,
    "start_time": "2024-12-14T14:08:33.638Z"
   },
   {
    "duration": 5,
    "start_time": "2024-12-14T14:08:39.704Z"
   },
   {
    "duration": 87,
    "start_time": "2024-12-14T14:08:39.710Z"
   },
   {
    "duration": 9,
    "start_time": "2024-12-14T14:08:39.799Z"
   },
   {
    "duration": 20,
    "start_time": "2024-12-14T14:08:39.811Z"
   },
   {
    "duration": 13,
    "start_time": "2024-12-14T14:08:39.834Z"
   },
   {
    "duration": 6,
    "start_time": "2024-12-14T14:08:39.849Z"
   },
   {
    "duration": 11,
    "start_time": "2024-12-14T14:08:39.857Z"
   },
   {
    "duration": 11,
    "start_time": "2024-12-14T14:08:39.871Z"
   },
   {
    "duration": 554,
    "start_time": "2024-12-14T14:08:39.885Z"
   },
   {
    "duration": 395,
    "start_time": "2024-12-14T14:08:40.441Z"
   },
   {
    "duration": 340,
    "start_time": "2024-12-14T14:08:40.838Z"
   },
   {
    "duration": 453,
    "start_time": "2024-12-14T14:08:41.180Z"
   },
   {
    "duration": 551,
    "start_time": "2024-12-14T14:08:41.636Z"
   },
   {
    "duration": 4,
    "start_time": "2024-12-14T14:08:42.189Z"
   },
   {
    "duration": 42,
    "start_time": "2024-12-14T14:08:42.195Z"
   },
   {
    "duration": 10,
    "start_time": "2024-12-14T14:08:42.239Z"
   },
   {
    "duration": 892,
    "start_time": "2024-12-14T14:08:42.250Z"
   },
   {
    "duration": 571,
    "start_time": "2024-12-14T14:08:43.148Z"
   },
   {
    "duration": 1073525,
    "start_time": "2024-12-14T14:08:43.721Z"
   },
   {
    "duration": 990,
    "start_time": "2024-12-14T14:26:37.248Z"
   },
   {
    "duration": 121,
    "start_time": "2024-12-14T15:49:08.960Z"
   }
  ],
  "kernelspec": {
   "display_name": "Python 3 (ipykernel)",
   "language": "python",
   "name": "python3"
  },
  "language_info": {
   "codemirror_mode": {
    "name": "ipython",
    "version": 3
   },
   "file_extension": ".py",
   "mimetype": "text/x-python",
   "name": "python",
   "nbconvert_exporter": "python",
   "pygments_lexer": "ipython3",
   "version": "3.12.3"
  },
  "toc": {
   "base_numbering": 1,
   "nav_menu": {},
   "number_sections": true,
   "sideBar": true,
   "skip_h1_title": true,
   "title_cell": "Содержание",
   "title_sidebar": "Contents",
   "toc_cell": true,
   "toc_position": {
    "height": "calc(100% - 180px)",
    "left": "10px",
    "top": "150px",
    "width": "371.188px"
   },
   "toc_section_display": true,
   "toc_window_display": true
  }
 },
 "nbformat": 4,
 "nbformat_minor": 4
}
