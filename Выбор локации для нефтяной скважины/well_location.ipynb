{
 "cells": [
  {
   "cell_type": "markdown",
   "metadata": {},
   "source": [
    "# Выбор локации для скважины"
   ]
  },
  {
   "cell_type": "markdown",
   "metadata": {},
   "source": [
    "Допустим, мы работаем в добывающей компании «ГлавРосГосНефть». Нужно решить, где бурить новую скважину.\n",
    "\n",
    "***Цель исследования:*** Нам предоставлены пробы нефти в трёх регионах: в каждом 10 000 месторождений, где измерили качество нефти и объём её запасов. Построим модель машинного обучения, которая поможет определить регион, где добыча принесёт наибольшую прибыль. Проанализируем возможную прибыль и риски техникой *Bootstrap*.\n",
    "\n",
    "*Шаги для выбора локации:*\n",
    "\n",
    "- В избранном регионе ищут месторождения, для каждого определяют значения признаков;\n",
    "- Строят модель и оценивают объём запасов;\n",
    "- Выбирают месторождения с самым высокими оценками значений. Количество месторождений зависит от бюджета компании и стоимости разработки одной скважины;\n",
    "- Прибыль равна суммарной прибыли отобранных месторождений.\n",
    "\n",
    "***Описание данных:*** 3 CSV-файла с данными геологоразведки по регионам. О качестве данных ничего неизвестно, так что понадобится провести их обзор и подготовку:\n",
    "\n",
    "- `geo_data_0.csv`\n",
    "- `geo_data_1.csv`\n",
    "- `geo_data_2.csv`\n",
    "\n",
    "*Описание признаков:*\n",
    "\n",
    "- `id` — уникальный идентификатор скважины;\n",
    "- `f0, f1, f2` — три признака точек (неважно, что они означают, но сами признаки значимы);\n",
    "- `product` — объём запасов в скважине (тыс. баррелей).\n",
    "\n",
    "Данные синтетические: детали контрактов и характеристики месторождений не разглашаются.\n",
    "\n",
    "***Ход исследования:*** Планируется 5 этапов:\n",
    "- Загрузка и подготовка данных\n",
    "- Обучение и проверка модели\n",
    "- Подготовка к расчёту прибыли\n",
    "- Расчёт прибыли и рисков\n",
    "- Общий вывод"
   ]
  },
  {
   "cell_type": "markdown",
   "metadata": {},
   "source": [
    "## Загрузка и подготовка данных"
   ]
  },
  {
   "cell_type": "code",
   "execution_count": 2,
   "metadata": {},
   "outputs": [],
   "source": [
    "# Импортируем необходимые библиотеки и методы.\n",
    "import pandas as pd\n",
    "import numpy as np\n",
    "import matplotlib.pyplot as plt\n",
    "\n",
    "from sklearn.linear_model import LinearRegression\n",
    "from sklearn.metrics import mean_squared_error\n",
    "from sklearn.model_selection import train_test_split\n",
    "from sklearn.preprocessing import StandardScaler"
   ]
  },
  {
   "cell_type": "markdown",
   "metadata": {},
   "source": [
    "### Загрузка данных"
   ]
  },
  {
   "cell_type": "code",
   "execution_count": 3,
   "metadata": {},
   "outputs": [
    {
     "data": {
      "text/html": [
       "<div>\n",
       "<style scoped>\n",
       "    .dataframe tbody tr th:only-of-type {\n",
       "        vertical-align: middle;\n",
       "    }\n",
       "\n",
       "    .dataframe tbody tr th {\n",
       "        vertical-align: top;\n",
       "    }\n",
       "\n",
       "    .dataframe thead th {\n",
       "        text-align: right;\n",
       "    }\n",
       "</style>\n",
       "<table border=\"1\" class=\"dataframe\">\n",
       "  <thead>\n",
       "    <tr style=\"text-align: right;\">\n",
       "      <th></th>\n",
       "      <th>id</th>\n",
       "      <th>f0</th>\n",
       "      <th>f1</th>\n",
       "      <th>f2</th>\n",
       "      <th>product</th>\n",
       "    </tr>\n",
       "  </thead>\n",
       "  <tbody>\n",
       "    <tr>\n",
       "      <th>0</th>\n",
       "      <td>txEyH</td>\n",
       "      <td>0.705745</td>\n",
       "      <td>-0.497823</td>\n",
       "      <td>1.221170</td>\n",
       "      <td>105.280062</td>\n",
       "    </tr>\n",
       "    <tr>\n",
       "      <th>1</th>\n",
       "      <td>2acmU</td>\n",
       "      <td>1.334711</td>\n",
       "      <td>-0.340164</td>\n",
       "      <td>4.365080</td>\n",
       "      <td>73.037750</td>\n",
       "    </tr>\n",
       "    <tr>\n",
       "      <th>2</th>\n",
       "      <td>409Wp</td>\n",
       "      <td>1.022732</td>\n",
       "      <td>0.151990</td>\n",
       "      <td>1.419926</td>\n",
       "      <td>85.265647</td>\n",
       "    </tr>\n",
       "    <tr>\n",
       "      <th>3</th>\n",
       "      <td>iJLyR</td>\n",
       "      <td>-0.032172</td>\n",
       "      <td>0.139033</td>\n",
       "      <td>2.978566</td>\n",
       "      <td>168.620776</td>\n",
       "    </tr>\n",
       "    <tr>\n",
       "      <th>4</th>\n",
       "      <td>Xdl7t</td>\n",
       "      <td>1.988431</td>\n",
       "      <td>0.155413</td>\n",
       "      <td>4.751769</td>\n",
       "      <td>154.036647</td>\n",
       "    </tr>\n",
       "  </tbody>\n",
       "</table>\n",
       "</div>"
      ],
      "text/plain": [
       "      id        f0        f1        f2     product\n",
       "0  txEyH  0.705745 -0.497823  1.221170  105.280062\n",
       "1  2acmU  1.334711 -0.340164  4.365080   73.037750\n",
       "2  409Wp  1.022732  0.151990  1.419926   85.265647\n",
       "3  iJLyR -0.032172  0.139033  2.978566  168.620776\n",
       "4  Xdl7t  1.988431  0.155413  4.751769  154.036647"
      ]
     },
     "execution_count": 3,
     "metadata": {},
     "output_type": "execute_result"
    }
   ],
   "source": [
    "# Откроем и изучим geo_data_0.csv.\n",
    "geo_0 = pd.read_csv('/datasets/geo_data_0.csv')\n",
    "geo_0.head()"
   ]
  },
  {
   "cell_type": "code",
   "execution_count": 4,
   "metadata": {},
   "outputs": [
    {
     "name": "stdout",
     "output_type": "stream",
     "text": [
      "<class 'pandas.core.frame.DataFrame'>\n",
      "RangeIndex: 100000 entries, 0 to 99999\n",
      "Data columns (total 5 columns):\n",
      " #   Column   Non-Null Count   Dtype  \n",
      "---  ------   --------------   -----  \n",
      " 0   id       100000 non-null  object \n",
      " 1   f0       100000 non-null  float64\n",
      " 2   f1       100000 non-null  float64\n",
      " 3   f2       100000 non-null  float64\n",
      " 4   product  100000 non-null  float64\n",
      "dtypes: float64(4), object(1)\n",
      "memory usage: 3.8+ MB\n"
     ]
    }
   ],
   "source": [
    "geo_0.info()"
   ]
  },
  {
   "cell_type": "code",
   "execution_count": 5,
   "metadata": {},
   "outputs": [
    {
     "data": {
      "text/html": [
       "<div>\n",
       "<style scoped>\n",
       "    .dataframe tbody tr th:only-of-type {\n",
       "        vertical-align: middle;\n",
       "    }\n",
       "\n",
       "    .dataframe tbody tr th {\n",
       "        vertical-align: top;\n",
       "    }\n",
       "\n",
       "    .dataframe thead th {\n",
       "        text-align: right;\n",
       "    }\n",
       "</style>\n",
       "<table border=\"1\" class=\"dataframe\">\n",
       "  <thead>\n",
       "    <tr style=\"text-align: right;\">\n",
       "      <th></th>\n",
       "      <th>id</th>\n",
       "      <th>f0</th>\n",
       "      <th>f1</th>\n",
       "      <th>f2</th>\n",
       "      <th>product</th>\n",
       "    </tr>\n",
       "  </thead>\n",
       "  <tbody>\n",
       "    <tr>\n",
       "      <th>0</th>\n",
       "      <td>kBEdx</td>\n",
       "      <td>-15.001348</td>\n",
       "      <td>-8.276000</td>\n",
       "      <td>-0.005876</td>\n",
       "      <td>3.179103</td>\n",
       "    </tr>\n",
       "    <tr>\n",
       "      <th>1</th>\n",
       "      <td>62mP7</td>\n",
       "      <td>14.272088</td>\n",
       "      <td>-3.475083</td>\n",
       "      <td>0.999183</td>\n",
       "      <td>26.953261</td>\n",
       "    </tr>\n",
       "    <tr>\n",
       "      <th>2</th>\n",
       "      <td>vyE1P</td>\n",
       "      <td>6.263187</td>\n",
       "      <td>-5.948386</td>\n",
       "      <td>5.001160</td>\n",
       "      <td>134.766305</td>\n",
       "    </tr>\n",
       "    <tr>\n",
       "      <th>3</th>\n",
       "      <td>KcrkZ</td>\n",
       "      <td>-13.081196</td>\n",
       "      <td>-11.506057</td>\n",
       "      <td>4.999415</td>\n",
       "      <td>137.945408</td>\n",
       "    </tr>\n",
       "    <tr>\n",
       "      <th>4</th>\n",
       "      <td>AHL4O</td>\n",
       "      <td>12.702195</td>\n",
       "      <td>-8.147433</td>\n",
       "      <td>5.004363</td>\n",
       "      <td>134.766305</td>\n",
       "    </tr>\n",
       "  </tbody>\n",
       "</table>\n",
       "</div>"
      ],
      "text/plain": [
       "      id         f0         f1        f2     product\n",
       "0  kBEdx -15.001348  -8.276000 -0.005876    3.179103\n",
       "1  62mP7  14.272088  -3.475083  0.999183   26.953261\n",
       "2  vyE1P   6.263187  -5.948386  5.001160  134.766305\n",
       "3  KcrkZ -13.081196 -11.506057  4.999415  137.945408\n",
       "4  AHL4O  12.702195  -8.147433  5.004363  134.766305"
      ]
     },
     "execution_count": 5,
     "metadata": {},
     "output_type": "execute_result"
    }
   ],
   "source": [
    "# Откроем и изучим geo_data_1.csv.\n",
    "geo_1 = pd.read_csv('/datasets/geo_data_1.csv')\n",
    "geo_1.head()"
   ]
  },
  {
   "cell_type": "code",
   "execution_count": 6,
   "metadata": {},
   "outputs": [
    {
     "name": "stdout",
     "output_type": "stream",
     "text": [
      "<class 'pandas.core.frame.DataFrame'>\n",
      "RangeIndex: 100000 entries, 0 to 99999\n",
      "Data columns (total 5 columns):\n",
      " #   Column   Non-Null Count   Dtype  \n",
      "---  ------   --------------   -----  \n",
      " 0   id       100000 non-null  object \n",
      " 1   f0       100000 non-null  float64\n",
      " 2   f1       100000 non-null  float64\n",
      " 3   f2       100000 non-null  float64\n",
      " 4   product  100000 non-null  float64\n",
      "dtypes: float64(4), object(1)\n",
      "memory usage: 3.8+ MB\n"
     ]
    }
   ],
   "source": [
    "geo_1.info()"
   ]
  },
  {
   "cell_type": "code",
   "execution_count": 7,
   "metadata": {},
   "outputs": [
    {
     "data": {
      "text/html": [
       "<div>\n",
       "<style scoped>\n",
       "    .dataframe tbody tr th:only-of-type {\n",
       "        vertical-align: middle;\n",
       "    }\n",
       "\n",
       "    .dataframe tbody tr th {\n",
       "        vertical-align: top;\n",
       "    }\n",
       "\n",
       "    .dataframe thead th {\n",
       "        text-align: right;\n",
       "    }\n",
       "</style>\n",
       "<table border=\"1\" class=\"dataframe\">\n",
       "  <thead>\n",
       "    <tr style=\"text-align: right;\">\n",
       "      <th></th>\n",
       "      <th>id</th>\n",
       "      <th>f0</th>\n",
       "      <th>f1</th>\n",
       "      <th>f2</th>\n",
       "      <th>product</th>\n",
       "    </tr>\n",
       "  </thead>\n",
       "  <tbody>\n",
       "    <tr>\n",
       "      <th>0</th>\n",
       "      <td>fwXo0</td>\n",
       "      <td>-1.146987</td>\n",
       "      <td>0.963328</td>\n",
       "      <td>-0.828965</td>\n",
       "      <td>27.758673</td>\n",
       "    </tr>\n",
       "    <tr>\n",
       "      <th>1</th>\n",
       "      <td>WJtFt</td>\n",
       "      <td>0.262778</td>\n",
       "      <td>0.269839</td>\n",
       "      <td>-2.530187</td>\n",
       "      <td>56.069697</td>\n",
       "    </tr>\n",
       "    <tr>\n",
       "      <th>2</th>\n",
       "      <td>ovLUW</td>\n",
       "      <td>0.194587</td>\n",
       "      <td>0.289035</td>\n",
       "      <td>-5.586433</td>\n",
       "      <td>62.871910</td>\n",
       "    </tr>\n",
       "    <tr>\n",
       "      <th>3</th>\n",
       "      <td>q6cA6</td>\n",
       "      <td>2.236060</td>\n",
       "      <td>-0.553760</td>\n",
       "      <td>0.930038</td>\n",
       "      <td>114.572842</td>\n",
       "    </tr>\n",
       "    <tr>\n",
       "      <th>4</th>\n",
       "      <td>WPMUX</td>\n",
       "      <td>-0.515993</td>\n",
       "      <td>1.716266</td>\n",
       "      <td>5.899011</td>\n",
       "      <td>149.600746</td>\n",
       "    </tr>\n",
       "  </tbody>\n",
       "</table>\n",
       "</div>"
      ],
      "text/plain": [
       "      id        f0        f1        f2     product\n",
       "0  fwXo0 -1.146987  0.963328 -0.828965   27.758673\n",
       "1  WJtFt  0.262778  0.269839 -2.530187   56.069697\n",
       "2  ovLUW  0.194587  0.289035 -5.586433   62.871910\n",
       "3  q6cA6  2.236060 -0.553760  0.930038  114.572842\n",
       "4  WPMUX -0.515993  1.716266  5.899011  149.600746"
      ]
     },
     "execution_count": 7,
     "metadata": {},
     "output_type": "execute_result"
    }
   ],
   "source": [
    "# Откроем и изучим geo_data_2.csv.\n",
    "geo_2 = pd.read_csv('/datasets/geo_data_2.csv')\n",
    "geo_2.head()"
   ]
  },
  {
   "cell_type": "code",
   "execution_count": 8,
   "metadata": {},
   "outputs": [
    {
     "name": "stdout",
     "output_type": "stream",
     "text": [
      "<class 'pandas.core.frame.DataFrame'>\n",
      "RangeIndex: 100000 entries, 0 to 99999\n",
      "Data columns (total 5 columns):\n",
      " #   Column   Non-Null Count   Dtype  \n",
      "---  ------   --------------   -----  \n",
      " 0   id       100000 non-null  object \n",
      " 1   f0       100000 non-null  float64\n",
      " 2   f1       100000 non-null  float64\n",
      " 3   f2       100000 non-null  float64\n",
      " 4   product  100000 non-null  float64\n",
      "dtypes: float64(4), object(1)\n",
      "memory usage: 3.8+ MB\n"
     ]
    }
   ],
   "source": [
    "geo_2.info()"
   ]
  },
  {
   "cell_type": "markdown",
   "metadata": {},
   "source": [
    "**Промежуточный вывод:** Видим данные проб нефти по регионам. Данные соответствуют описанию задачи и общему оформлению с правильными типами данных. Обзор данных методом info() выявил пропуски."
   ]
  },
  {
   "cell_type": "markdown",
   "metadata": {},
   "source": [
    "### Предобработка данных"
   ]
  },
  {
   "cell_type": "code",
   "execution_count": 9,
   "metadata": {},
   "outputs": [
    {
     "data": {
      "text/plain": [
       "0"
      ]
     },
     "execution_count": 9,
     "metadata": {},
     "output_type": "execute_result"
    }
   ],
   "source": [
    "# Проверим датафреймы на явные дубликаты.\n",
    "geo_0.duplicated().sum()"
   ]
  },
  {
   "cell_type": "code",
   "execution_count": 10,
   "metadata": {},
   "outputs": [
    {
     "data": {
      "text/plain": [
       "0"
      ]
     },
     "execution_count": 10,
     "metadata": {},
     "output_type": "execute_result"
    }
   ],
   "source": [
    "geo_1.duplicated().sum()"
   ]
  },
  {
   "cell_type": "code",
   "execution_count": 11,
   "metadata": {},
   "outputs": [
    {
     "data": {
      "text/plain": [
       "0"
      ]
     },
     "execution_count": 11,
     "metadata": {},
     "output_type": "execute_result"
    }
   ],
   "source": [
    "geo_2.duplicated().sum()"
   ]
  },
  {
   "cell_type": "markdown",
   "metadata": {},
   "source": [
    "**Промежуточный вывод:** В ходе проверки на дубликаты явные повторы обнаружены не были."
   ]
  },
  {
   "cell_type": "markdown",
   "metadata": {},
   "source": [
    "### Исследовательский анализ данных"
   ]
  },
  {
   "cell_type": "code",
   "execution_count": 12,
   "metadata": {},
   "outputs": [
    {
     "data": {
      "text/html": [
       "<div>\n",
       "<style scoped>\n",
       "    .dataframe tbody tr th:only-of-type {\n",
       "        vertical-align: middle;\n",
       "    }\n",
       "\n",
       "    .dataframe tbody tr th {\n",
       "        vertical-align: top;\n",
       "    }\n",
       "\n",
       "    .dataframe thead th {\n",
       "        text-align: right;\n",
       "    }\n",
       "</style>\n",
       "<table border=\"1\" class=\"dataframe\">\n",
       "  <thead>\n",
       "    <tr style=\"text-align: right;\">\n",
       "      <th></th>\n",
       "      <th>f0</th>\n",
       "      <th>f1</th>\n",
       "      <th>f2</th>\n",
       "      <th>product</th>\n",
       "    </tr>\n",
       "  </thead>\n",
       "  <tbody>\n",
       "    <tr>\n",
       "      <th>count</th>\n",
       "      <td>100000.000000</td>\n",
       "      <td>100000.000000</td>\n",
       "      <td>100000.000000</td>\n",
       "      <td>100000.000000</td>\n",
       "    </tr>\n",
       "    <tr>\n",
       "      <th>mean</th>\n",
       "      <td>0.500419</td>\n",
       "      <td>0.250143</td>\n",
       "      <td>2.502647</td>\n",
       "      <td>92.500000</td>\n",
       "    </tr>\n",
       "    <tr>\n",
       "      <th>std</th>\n",
       "      <td>0.871832</td>\n",
       "      <td>0.504433</td>\n",
       "      <td>3.248248</td>\n",
       "      <td>44.288691</td>\n",
       "    </tr>\n",
       "    <tr>\n",
       "      <th>min</th>\n",
       "      <td>-1.408605</td>\n",
       "      <td>-0.848218</td>\n",
       "      <td>-12.088328</td>\n",
       "      <td>0.000000</td>\n",
       "    </tr>\n",
       "    <tr>\n",
       "      <th>25%</th>\n",
       "      <td>-0.072580</td>\n",
       "      <td>-0.200881</td>\n",
       "      <td>0.287748</td>\n",
       "      <td>56.497507</td>\n",
       "    </tr>\n",
       "    <tr>\n",
       "      <th>50%</th>\n",
       "      <td>0.502360</td>\n",
       "      <td>0.250252</td>\n",
       "      <td>2.515969</td>\n",
       "      <td>91.849972</td>\n",
       "    </tr>\n",
       "    <tr>\n",
       "      <th>75%</th>\n",
       "      <td>1.073581</td>\n",
       "      <td>0.700646</td>\n",
       "      <td>4.715088</td>\n",
       "      <td>128.564089</td>\n",
       "    </tr>\n",
       "    <tr>\n",
       "      <th>max</th>\n",
       "      <td>2.362331</td>\n",
       "      <td>1.343769</td>\n",
       "      <td>16.003790</td>\n",
       "      <td>185.364347</td>\n",
       "    </tr>\n",
       "  </tbody>\n",
       "</table>\n",
       "</div>"
      ],
      "text/plain": [
       "                  f0             f1             f2        product\n",
       "count  100000.000000  100000.000000  100000.000000  100000.000000\n",
       "mean        0.500419       0.250143       2.502647      92.500000\n",
       "std         0.871832       0.504433       3.248248      44.288691\n",
       "min        -1.408605      -0.848218     -12.088328       0.000000\n",
       "25%        -0.072580      -0.200881       0.287748      56.497507\n",
       "50%         0.502360       0.250252       2.515969      91.849972\n",
       "75%         1.073581       0.700646       4.715088     128.564089\n",
       "max         2.362331       1.343769      16.003790     185.364347"
      ]
     },
     "execution_count": 12,
     "metadata": {},
     "output_type": "execute_result"
    }
   ],
   "source": [
    "# Рассмотрим статистические данные датафрейма geo_data_0.csv.\n",
    "geo_0.describe()"
   ]
  },
  {
   "cell_type": "code",
   "execution_count": 13,
   "metadata": {},
   "outputs": [
    {
     "data": {
      "image/png": "[encoded data removed]",
      "text/plain": [
       "<Figure size 1152x576 with 1 Axes>"
      ]
     },
     "metadata": {
      "needs_background": "light"
     },
     "output_type": "display_data"
    }
   ],
   "source": [
    "# Построим гистограмму распределения объёма запасов в скважинах.\n",
    "geo_0['product'].hist(figsize=(16, 8), bins=50)\n",
    "plt.title('Объём запасов в скважинах')\n",
    "plt.xlabel('Запас, тыс. баррелей')\n",
    "plt.ylabel('Число скважин')\n",
    "plt.show()"
   ]
  },
  {
   "cell_type": "code",
   "execution_count": 14,
   "metadata": {},
   "outputs": [
    {
     "data": {
      "text/html": [
       "<div>\n",
       "<style scoped>\n",
       "    .dataframe tbody tr th:only-of-type {\n",
       "        vertical-align: middle;\n",
       "    }\n",
       "\n",
       "    .dataframe tbody tr th {\n",
       "        vertical-align: top;\n",
       "    }\n",
       "\n",
       "    .dataframe thead th {\n",
       "        text-align: right;\n",
       "    }\n",
       "</style>\n",
       "<table border=\"1\" class=\"dataframe\">\n",
       "  <thead>\n",
       "    <tr style=\"text-align: right;\">\n",
       "      <th></th>\n",
       "      <th>f0</th>\n",
       "      <th>f1</th>\n",
       "      <th>f2</th>\n",
       "      <th>product</th>\n",
       "    </tr>\n",
       "  </thead>\n",
       "  <tbody>\n",
       "    <tr>\n",
       "      <th>count</th>\n",
       "      <td>100000.000000</td>\n",
       "      <td>100000.000000</td>\n",
       "      <td>100000.000000</td>\n",
       "      <td>100000.000000</td>\n",
       "    </tr>\n",
       "    <tr>\n",
       "      <th>mean</th>\n",
       "      <td>1.141296</td>\n",
       "      <td>-4.796579</td>\n",
       "      <td>2.494541</td>\n",
       "      <td>68.825000</td>\n",
       "    </tr>\n",
       "    <tr>\n",
       "      <th>std</th>\n",
       "      <td>8.965932</td>\n",
       "      <td>5.119872</td>\n",
       "      <td>1.703572</td>\n",
       "      <td>45.944423</td>\n",
       "    </tr>\n",
       "    <tr>\n",
       "      <th>min</th>\n",
       "      <td>-31.609576</td>\n",
       "      <td>-26.358598</td>\n",
       "      <td>-0.018144</td>\n",
       "      <td>0.000000</td>\n",
       "    </tr>\n",
       "    <tr>\n",
       "      <th>25%</th>\n",
       "      <td>-6.298551</td>\n",
       "      <td>-8.267985</td>\n",
       "      <td>1.000021</td>\n",
       "      <td>26.953261</td>\n",
       "    </tr>\n",
       "    <tr>\n",
       "      <th>50%</th>\n",
       "      <td>1.153055</td>\n",
       "      <td>-4.813172</td>\n",
       "      <td>2.011479</td>\n",
       "      <td>57.085625</td>\n",
       "    </tr>\n",
       "    <tr>\n",
       "      <th>75%</th>\n",
       "      <td>8.621015</td>\n",
       "      <td>-1.332816</td>\n",
       "      <td>3.999904</td>\n",
       "      <td>107.813044</td>\n",
       "    </tr>\n",
       "    <tr>\n",
       "      <th>max</th>\n",
       "      <td>29.421755</td>\n",
       "      <td>18.734063</td>\n",
       "      <td>5.019721</td>\n",
       "      <td>137.945408</td>\n",
       "    </tr>\n",
       "  </tbody>\n",
       "</table>\n",
       "</div>"
      ],
      "text/plain": [
       "                  f0             f1             f2        product\n",
       "count  100000.000000  100000.000000  100000.000000  100000.000000\n",
       "mean        1.141296      -4.796579       2.494541      68.825000\n",
       "std         8.965932       5.119872       1.703572      45.944423\n",
       "min       -31.609576     -26.358598      -0.018144       0.000000\n",
       "25%        -6.298551      -8.267985       1.000021      26.953261\n",
       "50%         1.153055      -4.813172       2.011479      57.085625\n",
       "75%         8.621015      -1.332816       3.999904     107.813044\n",
       "max        29.421755      18.734063       5.019721     137.945408"
      ]
     },
     "execution_count": 14,
     "metadata": {},
     "output_type": "execute_result"
    }
   ],
   "source": [
    "# Рассмотрим статистические данные датафрейма geo_data_1.csv.\n",
    "geo_1.describe()"
   ]
  },
  {
   "cell_type": "code",
   "execution_count": 15,
   "metadata": {},
   "outputs": [
    {
     "data": {
      "image/png": "[encoded data removed]",
      "text/plain": [
       "<Figure size 1152x576 with 1 Axes>"
      ]
     },
     "metadata": {
      "needs_background": "light"
     },
     "output_type": "display_data"
    }
   ],
   "source": [
    "# Построим гистограмму распределения объёма запасов в скважинах.\n",
    "geo_1['product'].hist(figsize=(16, 8), bins=50)\n",
    "plt.title('Объём запасов в скважинах')\n",
    "plt.xlabel('Запас, тыс. баррелей')\n",
    "plt.ylabel('Число скважин')\n",
    "plt.show()"
   ]
  },
  {
   "cell_type": "code",
   "execution_count": 16,
   "metadata": {},
   "outputs": [
    {
     "data": {
      "text/html": [
       "<div>\n",
       "<style scoped>\n",
       "    .dataframe tbody tr th:only-of-type {\n",
       "        vertical-align: middle;\n",
       "    }\n",
       "\n",
       "    .dataframe tbody tr th {\n",
       "        vertical-align: top;\n",
       "    }\n",
       "\n",
       "    .dataframe thead th {\n",
       "        text-align: right;\n",
       "    }\n",
       "</style>\n",
       "<table border=\"1\" class=\"dataframe\">\n",
       "  <thead>\n",
       "    <tr style=\"text-align: right;\">\n",
       "      <th></th>\n",
       "      <th>f0</th>\n",
       "      <th>f1</th>\n",
       "      <th>f2</th>\n",
       "      <th>product</th>\n",
       "    </tr>\n",
       "  </thead>\n",
       "  <tbody>\n",
       "    <tr>\n",
       "      <th>count</th>\n",
       "      <td>100000.000000</td>\n",
       "      <td>100000.000000</td>\n",
       "      <td>100000.000000</td>\n",
       "      <td>100000.000000</td>\n",
       "    </tr>\n",
       "    <tr>\n",
       "      <th>mean</th>\n",
       "      <td>0.002023</td>\n",
       "      <td>-0.002081</td>\n",
       "      <td>2.495128</td>\n",
       "      <td>95.000000</td>\n",
       "    </tr>\n",
       "    <tr>\n",
       "      <th>std</th>\n",
       "      <td>1.732045</td>\n",
       "      <td>1.730417</td>\n",
       "      <td>3.473445</td>\n",
       "      <td>44.749921</td>\n",
       "    </tr>\n",
       "    <tr>\n",
       "      <th>min</th>\n",
       "      <td>-8.760004</td>\n",
       "      <td>-7.084020</td>\n",
       "      <td>-11.970335</td>\n",
       "      <td>0.000000</td>\n",
       "    </tr>\n",
       "    <tr>\n",
       "      <th>25%</th>\n",
       "      <td>-1.162288</td>\n",
       "      <td>-1.174820</td>\n",
       "      <td>0.130359</td>\n",
       "      <td>59.450441</td>\n",
       "    </tr>\n",
       "    <tr>\n",
       "      <th>50%</th>\n",
       "      <td>0.009424</td>\n",
       "      <td>-0.009482</td>\n",
       "      <td>2.484236</td>\n",
       "      <td>94.925613</td>\n",
       "    </tr>\n",
       "    <tr>\n",
       "      <th>75%</th>\n",
       "      <td>1.158535</td>\n",
       "      <td>1.163678</td>\n",
       "      <td>4.858794</td>\n",
       "      <td>130.595027</td>\n",
       "    </tr>\n",
       "    <tr>\n",
       "      <th>max</th>\n",
       "      <td>7.238262</td>\n",
       "      <td>7.844801</td>\n",
       "      <td>16.739402</td>\n",
       "      <td>190.029838</td>\n",
       "    </tr>\n",
       "  </tbody>\n",
       "</table>\n",
       "</div>"
      ],
      "text/plain": [
       "                  f0             f1             f2        product\n",
       "count  100000.000000  100000.000000  100000.000000  100000.000000\n",
       "mean        0.002023      -0.002081       2.495128      95.000000\n",
       "std         1.732045       1.730417       3.473445      44.749921\n",
       "min        -8.760004      -7.084020     -11.970335       0.000000\n",
       "25%        -1.162288      -1.174820       0.130359      59.450441\n",
       "50%         0.009424      -0.009482       2.484236      94.925613\n",
       "75%         1.158535       1.163678       4.858794     130.595027\n",
       "max         7.238262       7.844801      16.739402     190.029838"
      ]
     },
     "execution_count": 16,
     "metadata": {},
     "output_type": "execute_result"
    }
   ],
   "source": [
    "# Рассмотрим статистические данные датафрейма geo_data_2.csv.\n",
    "geo_2.describe()"
   ]
  },
  {
   "cell_type": "code",
   "execution_count": 17,
   "metadata": {},
   "outputs": [
    {
     "data": {
      "image/png": "[encoded data removed]",
      "text/plain": [
       "<Figure size 1152x576 with 1 Axes>"
      ]
     },
     "metadata": {
      "needs_background": "light"
     },
     "output_type": "display_data"
    }
   ],
   "source": [
    "# Построим гистограмму распределения объёма запасов в скважинах.\n",
    "geo_2['product'].hist(figsize=(16, 8), bins=50)\n",
    "plt.title('Объём запасов в скважинах')\n",
    "plt.xlabel('Запас, тыс. баррелей')\n",
    "plt.ylabel('Число скважин')\n",
    "plt.show()"
   ]
  },
  {
   "cell_type": "markdown",
   "metadata": {},
   "source": [
    "**Промежуточный вывод:** Видим нормальные распределения в регионах 0 и 2. Распределение в регионе 1 выглядит нетипично, равномерно распределенно на одинаковых промежутках, будто сгенерированно искусственно или сгруппировано. В каждом регионе наблюдаются значения объемов, равные нулю. Возможно, данные скважины не были замерены, тем не менее, оставим их, так как возможности проконсультироваться с заказчиком нет, а данные могут быть полезны при обучении модели."
   ]
  },
  {
   "cell_type": "markdown",
   "metadata": {},
   "source": [
    "## Обучение и проверка модели"
   ]
  },
  {
   "cell_type": "markdown",
   "metadata": {},
   "source": [
    "Согласно условию, для обучения модели подходит только линейная регрессия (остальные — недостаточно предсказуемые)."
   ]
  },
  {
   "cell_type": "code",
   "execution_count": 18,
   "metadata": {},
   "outputs": [],
   "source": [
    "# Напишем функцию для разбивки данных, обучения модели и подсчета среднего запаса сырья,\n",
    "# чтобы применить ее ко всем датафреймам.\n",
    "def region_prediction(df):\n",
    "    features = df.drop(['id', 'product'], axis=1)\n",
    "    target = df['product']\n",
    "    X_train, X_valid, y_train, y_valid = train_test_split(\n",
    "        features, target, test_size=0.25, random_state=42)\n",
    "    scaler = StandardScaler()\n",
    "    features_train = scaler.fit_transform(X_train)\n",
    "    features_valid = scaler.transform(X_valid)\n",
    "    \n",
    "    model = LinearRegression()\n",
    "    model.fit(X_train, y_train)\n",
    "    predictions = model.predict(X_valid)\n",
    "    predictions = pd.Series(predictions)\n",
    "    rmse = np.sqrt(mean_squared_error(y_valid, predictions))\n",
    "    stock_mean = predictions.mean()\n",
    "    stock_mean_real = df['product'].mean()\n",
    "    return predictions, rmse, stock_mean, stock_mean_real, y_valid.reset_index(drop=True)"
   ]
  },
  {
   "cell_type": "markdown",
   "metadata": {},
   "source": [
    "### Средний запас сырья и RMSE модели для региона 0"
   ]
  },
  {
   "cell_type": "code",
   "execution_count": 19,
   "metadata": {},
   "outputs": [
    {
     "name": "stdout",
     "output_type": "stream",
     "text": [
      "Средний запас предсказанного сырья (тыс. баррелей): 92.4\n",
      "Реальный средний запас сырья (тыс. баррелей): 92.5\n",
      "RMSE региона: 37.76\n"
     ]
    }
   ],
   "source": [
    "predictions_0, rmse_0, stock_mean_0, stock_mean_real_0, y_valid_0 = region_prediction(geo_0)\n",
    "print('Средний запас предсказанного сырья (тыс. баррелей):', round(stock_mean_0, 2))\n",
    "print('Реальный средний запас сырья (тыс. баррелей):', round(stock_mean_real_0, 2))\n",
    "print('RMSE региона:', round(rmse_0, 2))"
   ]
  },
  {
   "cell_type": "markdown",
   "metadata": {},
   "source": [
    "### Средний запас сырья и RMSE модели для региона 1"
   ]
  },
  {
   "cell_type": "code",
   "execution_count": 20,
   "metadata": {},
   "outputs": [
    {
     "name": "stdout",
     "output_type": "stream",
     "text": [
      "Средний запас предсказанного сырья (тыс. баррелей): 68.71\n",
      "Реальный средний запас сырья (тыс. баррелей): 68.83\n",
      "RMSE региона: 0.89\n"
     ]
    }
   ],
   "source": [
    "predictions_1, rmse_1, stock_mean_1, stock_mean_real_1, y_valid_1 = region_prediction(geo_1)\n",
    "print('Средний запас предсказанного сырья (тыс. баррелей):', round(stock_mean_1, 2))\n",
    "print('Реальный средний запас сырья (тыс. баррелей):', round(stock_mean_real_1, 2))\n",
    "print('RMSE региона:', round(rmse_1, 2))"
   ]
  },
  {
   "cell_type": "markdown",
   "metadata": {},
   "source": [
    "### Средний запас сырья и RMSE модели для региона 2"
   ]
  },
  {
   "cell_type": "code",
   "execution_count": 21,
   "metadata": {},
   "outputs": [
    {
     "name": "stdout",
     "output_type": "stream",
     "text": [
      "Средний запас предсказанного сырья (тыс. баррелей): 94.77\n",
      "Реальный средний запас сырья (тыс. баррелей): 95.0\n",
      "RMSE региона: 40.15\n"
     ]
    }
   ],
   "source": [
    "predictions_2, rmse_2, stock_mean_2, stock_mean_real_2, y_valid_2 = region_prediction(geo_2)\n",
    "print('Средний запас предсказанного сырья (тыс. баррелей):', round(stock_mean_2, 2))\n",
    "print('Реальный средний запас сырья (тыс. баррелей):', round(stock_mean_real_2, 2))\n",
    "print('RMSE региона:', round(rmse_2, 2))"
   ]
  },
  {
   "cell_type": "markdown",
   "metadata": {},
   "source": [
    "**Промежуточный вывод:** Видим, что в регионах 2 и 0 выше средний запас сырья, чем в регионе 1. Однако, RMSE региона 1 гораздо ниже, следовательно предсказания модели точнее. Тем не менее, стоит учитывать возможную природу исходных данных региона 1."
   ]
  },
  {
   "cell_type": "markdown",
   "metadata": {},
   "source": [
    "## Подготовка к расчёту прибыли"
   ]
  },
  {
   "cell_type": "code",
   "execution_count": 22,
   "metadata": {},
   "outputs": [],
   "source": [
    "# Сохраним ключевые переменные согласно условиям задачи.\n",
    "# При разведке региона исследуют 500 точек:\n",
    "explored_well_points = 500\n",
    "# Из которых с помощью машинного обучения выбирают 200 лучших для разработки:\n",
    "best_well_points = 200\n",
    "# Бюджет на разработку скважин в регионе (руб):\n",
    "budget = 10000000000\n",
    "# Доход с каждой единицы продукта (руб):\n",
    "income = 450000\n",
    "# Максимальная вероятность убытков:\n",
    "loss_prob = 0.025"
   ]
  },
  {
   "cell_type": "code",
   "execution_count": 23,
   "metadata": {},
   "outputs": [
    {
     "name": "stdout",
     "output_type": "stream",
     "text": [
      "Минимальный объём сырья для безубыточной разработки в 200 лучших скважинах (тыс. баррелей): 111.11\n"
     ]
    }
   ],
   "source": [
    "# Рассчитайем достаточный объём сырья для безубыточной разработки новой скважины.\n",
    "# Для этого разделим бюджет на доход за единицу на число отобранных скважин.\n",
    "min_stock = round(budget / income / best_well_points, 2)\n",
    "print('Минимальный объём сырья для безубыточной разработки в 200 лучших скважинах (тыс. баррелей):', min_stock)"
   ]
  },
  {
   "cell_type": "markdown",
   "metadata": {},
   "source": [
    "**Промежуточный вывод:** Минимальный объем сырья получился 111 тысяч баррелей - больше, чем средние значения объемов по регионам (92.4 для 0, 68.71 для 1 и 94.77 для 2 региона). Однако, стоит учитывать, что для разработки отберут только лучшие 200 из 500 исследованных точек."
   ]
  },
  {
   "cell_type": "markdown",
   "metadata": {},
   "source": [
    "## Расчёт прибыли и рисков"
   ]
  },
  {
   "cell_type": "code",
   "execution_count": 24,
   "metadata": {},
   "outputs": [],
   "source": [
    "# Напишем функцию для расчёта прибыли по выбранным скважинам и предсказаниям модели.\n",
    "def well_profit(target, predictions):\n",
    "    predictions_sorted = predictions.sort_values(ascending=False)\n",
    "    selected_points = target[predictions_sorted.index][:best_well_points]\n",
    "    revenue = selected_points.sum() * income - budget\n",
    "    \n",
    "    return revenue"
   ]
  },
  {
   "cell_type": "code",
   "execution_count": 25,
   "metadata": {},
   "outputs": [
    {
     "name": "stdout",
     "output_type": "stream",
     "text": [
      "Прибыль в регионе 0, руб.: 3359141114\n",
      "Прибыль в регионе 1, руб.: 2415086697\n",
      "Прибыль в регионе 2, руб.: 2598571759\n"
     ]
    }
   ],
   "source": [
    "# Рассчитаем прибыль для полученного объёма сырья из скважин с максимальными значениями предсказаний.\n",
    "revenue_0 = well_profit(y_valid_0, predictions_0)\n",
    "revenue_1 = well_profit(y_valid_1, predictions_1)\n",
    "revenue_2 = well_profit(y_valid_2, predictions_2)\n",
    "\n",
    "print('Прибыль в регионе 0, руб.:', round(revenue_0))\n",
    "print('Прибыль в регионе 1, руб.:', round(revenue_1))\n",
    "print('Прибыль в регионе 2, руб.:', round(revenue_2))"
   ]
  },
  {
   "cell_type": "markdown",
   "metadata": {},
   "source": [
    "**Промежуточный вывод:** Видим, что наибольшую прибыль принесет регион 0: 3359141114 (3.36 млрд) рублей. За ним следует регион 2: 2598571759 (2.6 млрд) рублей. Наименьшую прибыль принесет регион 1: 2415086697 (2.4 млрд) рублей."
   ]
  },
  {
   "cell_type": "code",
   "execution_count": 26,
   "metadata": {},
   "outputs": [],
   "source": [
    "# Напишем функцию для расчета средней прибыли, доверительного интервала и риска убытков.\n",
    "# Применим технику Bootstrap с 1000 выборок.\n",
    "def bootstrap(target, predictions):\n",
    "    state = np.random.RandomState(42)\n",
    "    values = []\n",
    "    loss = 0\n",
    "    \n",
    "    for i in range(1000):\n",
    "        target_subsample = target.sample(n=explored_well_points, replace=True, random_state=state)\n",
    "        preds_subsample = predictions[target_subsample.index]\n",
    "        revenue = well_profit(target_subsample, preds_subsample)\n",
    "        if revenue < 0:\n",
    "            loss += 1\n",
    "        values.append(revenue)\n",
    "        \n",
    "    values = pd.Series(values)\n",
    "    mean_revenue = values.mean()\n",
    "    lower = values.quantile(0.025)\n",
    "    upper = values.quantile(0.975)\n",
    "    risk_of_loss = loss/len(values)*100\n",
    "    \n",
    "    return mean_revenue, lower, upper, risk_of_loss"
   ]
  },
  {
   "cell_type": "markdown",
   "metadata": {},
   "source": [
    "### Средняя прибыль, доверительный интервал и риски для региона 0"
   ]
  },
  {
   "cell_type": "code",
   "execution_count": 27,
   "metadata": {},
   "outputs": [
    {
     "name": "stdout",
     "output_type": "stream",
     "text": [
      "Средняя прибыль в регионе 0, руб.: 427847560\n",
      "95% доверительный интервал от -97249830 руб. до 954215193 руб.\n",
      "Риск убытков, %: 5.5\n"
     ]
    }
   ],
   "source": [
    "mean_revenue_0, lower_0, upper_0, risk_of_loss_0 = bootstrap(y_valid_0, predictions_0)\n",
    "print('Средняя прибыль в регионе 0, руб.:', round(mean_revenue_0))\n",
    "print('95% доверительный интервал от', round(lower_0),'руб.', 'до', round(upper_0), 'руб.')\n",
    "print('Риск убытков, %:', round(risk_of_loss_0, 2))"
   ]
  },
  {
   "cell_type": "markdown",
   "metadata": {},
   "source": [
    "### Средняя прибыль, доверительный интервал и риски для региона 1"
   ]
  },
  {
   "cell_type": "code",
   "execution_count": 28,
   "metadata": {},
   "outputs": [
    {
     "name": "stdout",
     "output_type": "stream",
     "text": [
      "Средняя прибыль в регионе 0, руб.: 511362776\n",
      "95% доверительный интервал от 98870650 руб. до 940720512 руб.\n",
      "Риск убытков, %: 0.9\n"
     ]
    }
   ],
   "source": [
    "mean_revenue_1, lower_1, upper_1, risk_of_loss_1 = bootstrap(y_valid_1, predictions_1)\n",
    "print('Средняя прибыль в регионе 0, руб.:', round(mean_revenue_1))\n",
    "print('95% доверительный интервал от', round(lower_1),'руб.', 'до', round(upper_1), 'руб.')\n",
    "print('Риск убытков, %:', round(risk_of_loss_1, 2))"
   ]
  },
  {
   "cell_type": "markdown",
   "metadata": {},
   "source": [
    "### Средняя прибыль, доверительный интервал и риски для региона 2"
   ]
  },
  {
   "cell_type": "code",
   "execution_count": 29,
   "metadata": {},
   "outputs": [
    {
     "name": "stdout",
     "output_type": "stream",
     "text": [
      "Средняя прибыль в регионе 0, руб.: 402575608\n",
      "95% доверительный интервал от -137162225 руб. до 929887528 руб.\n",
      "Риск убытков, %: 7.4\n"
     ]
    }
   ],
   "source": [
    "mean_revenue_2, lower_2, upper_2, risk_of_loss_2 = bootstrap(y_valid_2, predictions_2)\n",
    "print('Средняя прибыль в регионе 0, руб.:', round(mean_revenue_2))\n",
    "print('95% доверительный интервал от', round(lower_2),'руб.', 'до', round(upper_2), 'руб.')\n",
    "print('Риск убытков, %:', round(risk_of_loss_2, 2))"
   ]
  },
  {
   "cell_type": "markdown",
   "metadata": {},
   "source": [
    "**Промежуточный вывод:** Согласно условию, после оценки рисков нужно оставить лишь те регионы, в которых вероятность убытков меньше 2.5%. Среди них выбирают регион с наибольшей средней прибылью. Регион с вероятностью убытков ниже 2.5% только один - регион 1 (Риск убытков = 0.9%). Кроме того, его средняя прибыль самая высокая из трёх, так что бурить скважины следует именно в нём."
   ]
  },
  {
   "cell_type": "markdown",
   "metadata": {},
   "source": [
    "## Общий вывод"
   ]
  },
  {
   "cell_type": "markdown",
   "metadata": {},
   "source": [
    "**Цель исследования:** Построили модель машинного обучения, которая помогла определить регион, где добыча принесёт наибольшую прибыль. Проанализировали возможную прибыль и риски техникой Bootstrap.\n",
    "\n",
    "**Предобработка данных:** Данные соответствуют описанию задачи и общему оформлению с правильными типами данных. Обзор данных методом info() выявил пропуски. Проверка на дубликаты не обнаружила явные повторы.\n",
    "\n",
    "**Исследовательский анализ данных:** Провели статистический анализ распределения объёма запасов в скважинах по регионам, построили графики. Увидели нормальные распределения в регионах 0 и 2. Распределение в регионе 1 выглядит нетипично, равномерно распределенно на одинаковых промежутках, будто сгенерированно искусственно или сгруппировано. В каждом регионе наблюдаются значения объемов, равные нулю. Возможно, данные скважины не были замерены, тем не менее, решили оставить их, так как данные могут быть полезны при обучении модели.\n",
    "\n",
    "**Обучение и проверка модели:** Согласно условию, для обучения модели использовалась только линейная регрессия (остальные — недостаточно предсказуемые). Обучили и проверили валидационными выборками модель для всех регионов с помощью функции. Увидели, что в регионах 2 и 0 выше средний запас сырья, чем в регионе 1. Однако, RMSE региона 1 гораздо ниже, следовательно предсказания модели точнее. Тем не менее, стоит учитывать возможную природу исходных данных региона 1.\n",
    "\n",
    "**Подготовка к расчёту прибыли:** Обозначили ключевые переменные согласно условиям задачи. Рассчитали достаточный объём сырья для безубыточной разработки новой скважины. Для этого разделили бюджет на доход за единицу на число отобранных скважин. Минимальный объем сырья получился 111 тысяч баррелей - больше, чем средние значения объемов по регионам (92.4 для 0, 68.71 для 1 и 94.77 для 2 региона). Однако, стоит учитывать, что для разработки отберут только лучшие 200 из 500 исследованных точек.\n",
    "\n",
    "**Расчёт прибыли и рисков:** Написали функцию для расчёта прибыли по выбранным скважинам и предсказаниям модели, рассчитали прибыль для полученного объёма сырья из скважин с максимальными значениями предсказаний. Увидели, что наибольшую прибыль принесет регион 0: 3359141114 (3.36 млрд) рублей. За ним следует регион 2: 2598571759 (2.6 млрд) рублей. Наименьшую прибыль принесет регион 1: 2415086697 (2.4 млрд) рублей.\n",
    "\n",
    "Написали функцию для расчета средней прибыли, доверительного интервала и риска убытков, применив технику Bootstrap с 1000 выборок, рассчитали значения. Согласно условию, после оценки рисков нужно оставить лишь те регионы, в которых вероятность убытков меньше 2.5%. Среди них выбирают регион с наибольшей средней прибылью. Регион с вероятностью убытков ниже 2.5% только один - регион 1 (Риск убытков = 0.9%). Кроме того, его средняя прибыль самая высокая из трёх, так что бурить скважины следует именно в нём.\n",
    "\n",
    "**Рекомендации:** Уточнить природу данных для региона 1 - аномальность данных могла привести к его выгодности. Возможно, стоит установить нижний порог объема запасов в скважине, чтобы не учитывать слишком бедные скважины при разработке."
   ]
  }
 ],
 "metadata": {
  "ExecuteTimeLog": [
   {
    "duration": 497,
    "start_time": "2024-10-30T16:03:53.329Z"
   },
   {
    "duration": 722,
    "start_time": "2024-10-30T16:06:24.347Z"
   },
   {
    "duration": 18,
    "start_time": "2024-10-30T16:06:48.512Z"
   },
   {
    "duration": 166,
    "start_time": "2024-10-30T16:07:14.989Z"
   },
   {
    "duration": 17,
    "start_time": "2024-10-30T16:07:18.981Z"
   },
   {
    "duration": 183,
    "start_time": "2024-10-30T16:07:20.790Z"
   },
   {
    "duration": 635,
    "start_time": "2024-10-30T16:07:27.201Z"
   },
   {
    "duration": 15,
    "start_time": "2024-10-30T16:07:33.691Z"
   },
   {
    "duration": 624,
    "start_time": "2024-10-30T16:07:48.842Z"
   },
   {
    "duration": 17,
    "start_time": "2024-10-30T16:07:56.633Z"
   },
   {
    "duration": 52,
    "start_time": "2024-10-30T16:09:58.335Z"
   },
   {
    "duration": 52,
    "start_time": "2024-10-30T16:10:05.011Z"
   },
   {
    "duration": 55,
    "start_time": "2024-10-30T16:10:09.666Z"
   },
   {
    "duration": 21,
    "start_time": "2024-10-30T16:10:48.570Z"
   },
   {
    "duration": 22,
    "start_time": "2024-10-30T16:11:21.905Z"
   },
   {
    "duration": 22,
    "start_time": "2024-10-30T16:11:26.513Z"
   },
   {
    "duration": 3,
    "start_time": "2024-10-30T16:13:42.526Z"
   },
   {
    "duration": 166,
    "start_time": "2024-10-30T16:13:42.531Z"
   },
   {
    "duration": 15,
    "start_time": "2024-10-30T16:13:42.698Z"
   },
   {
    "duration": 158,
    "start_time": "2024-10-30T16:13:42.715Z"
   },
   {
    "duration": 15,
    "start_time": "2024-10-30T16:13:42.876Z"
   },
   {
    "duration": 188,
    "start_time": "2024-10-30T16:13:42.893Z"
   },
   {
    "duration": 15,
    "start_time": "2024-10-30T16:13:43.083Z"
   },
   {
    "duration": 74,
    "start_time": "2024-10-30T16:13:43.100Z"
   },
   {
    "duration": 51,
    "start_time": "2024-10-30T16:13:43.175Z"
   },
   {
    "duration": 64,
    "start_time": "2024-10-30T16:13:43.227Z"
   },
   {
    "duration": 22,
    "start_time": "2024-10-30T16:13:43.293Z"
   },
   {
    "duration": 41,
    "start_time": "2024-10-30T16:13:43.316Z"
   },
   {
    "duration": 23,
    "start_time": "2024-10-30T16:13:43.359Z"
   },
   {
    "duration": 50,
    "start_time": "2024-10-30T17:21:13.713Z"
   },
   {
    "duration": 831,
    "start_time": "2024-10-30T17:22:49.863Z"
   },
   {
    "duration": 3,
    "start_time": "2024-10-30T17:23:07.963Z"
   },
   {
    "duration": 204,
    "start_time": "2024-10-30T17:23:07.971Z"
   },
   {
    "duration": 18,
    "start_time": "2024-10-30T17:23:08.177Z"
   },
   {
    "duration": 171,
    "start_time": "2024-10-30T17:23:08.197Z"
   },
   {
    "duration": 17,
    "start_time": "2024-10-30T17:23:08.370Z"
   },
   {
    "duration": 170,
    "start_time": "2024-10-30T17:23:08.389Z"
   },
   {
    "duration": 16,
    "start_time": "2024-10-30T17:23:08.561Z"
   },
   {
    "duration": 75,
    "start_time": "2024-10-30T17:23:08.579Z"
   },
   {
    "duration": 53,
    "start_time": "2024-10-30T17:23:08.655Z"
   },
   {
    "duration": 79,
    "start_time": "2024-10-30T17:23:08.709Z"
   },
   {
    "duration": 43,
    "start_time": "2024-10-30T17:23:08.790Z"
   },
   {
    "duration": 299,
    "start_time": "2024-10-30T17:23:08.851Z"
   },
   {
    "duration": 40,
    "start_time": "2024-10-30T17:23:39.540Z"
   },
   {
    "duration": 324,
    "start_time": "2024-10-30T17:23:49.092Z"
   },
   {
    "duration": 41,
    "start_time": "2024-10-30T17:24:00.688Z"
   },
   {
    "duration": 263,
    "start_time": "2024-10-30T17:24:55.679Z"
   },
   {
    "duration": 795,
    "start_time": "2024-11-03T10:56:57.363Z"
   },
   {
    "duration": 505,
    "start_time": "2024-11-03T10:56:58.160Z"
   },
   {
    "duration": 21,
    "start_time": "2024-11-03T10:56:58.667Z"
   },
   {
    "duration": 266,
    "start_time": "2024-11-03T10:56:58.691Z"
   },
   {
    "duration": 20,
    "start_time": "2024-11-03T10:56:58.959Z"
   },
   {
    "duration": 226,
    "start_time": "2024-11-03T10:56:58.981Z"
   },
   {
    "duration": 16,
    "start_time": "2024-11-03T10:56:59.209Z"
   },
   {
    "duration": 52,
    "start_time": "2024-11-03T10:56:59.227Z"
   },
   {
    "duration": 46,
    "start_time": "2024-11-03T10:56:59.280Z"
   },
   {
    "duration": 45,
    "start_time": "2024-11-03T10:56:59.342Z"
   },
   {
    "duration": 35,
    "start_time": "2024-11-03T10:56:59.388Z"
   },
   {
    "duration": 256,
    "start_time": "2024-11-03T10:56:59.425Z"
   },
   {
    "duration": 36,
    "start_time": "2024-11-03T10:56:59.683Z"
   },
   {
    "duration": 276,
    "start_time": "2024-11-03T10:56:59.720Z"
   },
   {
    "duration": 36,
    "start_time": "2024-11-03T10:56:59.998Z"
   },
   {
    "duration": 326,
    "start_time": "2024-11-03T10:57:00.035Z"
   },
   {
    "duration": 5,
    "start_time": "2024-11-03T10:57:00.363Z"
   },
   {
    "duration": 72,
    "start_time": "2024-11-03T11:05:28.066Z"
   },
   {
    "duration": 706,
    "start_time": "2024-11-03T11:06:37.502Z"
   },
   {
    "duration": 161,
    "start_time": "2024-11-03T11:06:38.209Z"
   },
   {
    "duration": 16,
    "start_time": "2024-11-03T11:06:38.371Z"
   },
   {
    "duration": 142,
    "start_time": "2024-11-03T11:06:38.389Z"
   },
   {
    "duration": 20,
    "start_time": "2024-11-03T11:06:38.533Z"
   },
   {
    "duration": 151,
    "start_time": "2024-11-03T11:06:38.555Z"
   },
   {
    "duration": 14,
    "start_time": "2024-11-03T11:06:38.707Z"
   },
   {
    "duration": 66,
    "start_time": "2024-11-03T11:06:38.723Z"
   },
   {
    "duration": 54,
    "start_time": "2024-11-03T11:06:38.790Z"
   },
   {
    "duration": 41,
    "start_time": "2024-11-03T11:06:38.846Z"
   },
   {
    "duration": 34,
    "start_time": "2024-11-03T11:06:38.889Z"
   },
   {
    "duration": 320,
    "start_time": "2024-11-03T11:06:38.925Z"
   },
   {
    "duration": 35,
    "start_time": "2024-11-03T11:06:39.246Z"
   },
   {
    "duration": 250,
    "start_time": "2024-11-03T11:06:39.282Z"
   },
   {
    "duration": 39,
    "start_time": "2024-11-03T11:06:39.534Z"
   },
   {
    "duration": 237,
    "start_time": "2024-11-03T11:06:39.575Z"
   },
   {
    "duration": 4,
    "start_time": "2024-11-03T11:06:39.814Z"
   },
   {
    "duration": 253,
    "start_time": "2024-11-03T11:06:39.820Z"
   },
   {
    "duration": 4,
    "start_time": "2024-11-03T11:06:56.371Z"
   },
   {
    "duration": 166,
    "start_time": "2024-11-03T11:06:56.376Z"
   },
   {
    "duration": 14,
    "start_time": "2024-11-03T11:06:56.544Z"
   },
   {
    "duration": 136,
    "start_time": "2024-11-03T11:06:56.560Z"
   },
   {
    "duration": 14,
    "start_time": "2024-11-03T11:06:56.697Z"
   },
   {
    "duration": 147,
    "start_time": "2024-11-03T11:06:56.713Z"
   },
   {
    "duration": 14,
    "start_time": "2024-11-03T11:06:56.861Z"
   },
   {
    "duration": 73,
    "start_time": "2024-11-03T11:06:56.877Z"
   },
   {
    "duration": 38,
    "start_time": "2024-11-03T11:06:56.951Z"
   },
   {
    "duration": 51,
    "start_time": "2024-11-03T11:06:56.992Z"
   },
   {
    "duration": 34,
    "start_time": "2024-11-03T11:06:57.045Z"
   },
   {
    "duration": 247,
    "start_time": "2024-11-03T11:06:57.081Z"
   },
   {
    "duration": 43,
    "start_time": "2024-11-03T11:06:57.330Z"
   },
   {
    "duration": 279,
    "start_time": "2024-11-03T11:06:57.375Z"
   },
   {
    "duration": 35,
    "start_time": "2024-11-03T11:06:57.656Z"
   },
   {
    "duration": 250,
    "start_time": "2024-11-03T11:06:57.693Z"
   },
   {
    "duration": 5,
    "start_time": "2024-11-03T11:06:57.944Z"
   },
   {
    "duration": 51,
    "start_time": "2024-11-03T11:06:57.950Z"
   },
   {
    "duration": 33,
    "start_time": "2024-11-03T11:07:27.561Z"
   },
   {
    "duration": 33,
    "start_time": "2024-11-03T11:07:33.240Z"
   },
   {
    "duration": 29,
    "start_time": "2024-11-03T11:07:56.696Z"
   },
   {
    "duration": 77,
    "start_time": "2024-11-03T11:11:39.167Z"
   },
   {
    "duration": 30,
    "start_time": "2024-11-03T11:12:27.670Z"
   },
   {
    "duration": 30,
    "start_time": "2024-11-03T11:12:38.754Z"
   },
   {
    "duration": 35,
    "start_time": "2024-11-03T11:12:49.347Z"
   },
   {
    "duration": 4,
    "start_time": "2024-11-03T11:16:23.359Z"
   },
   {
    "duration": 150,
    "start_time": "2024-11-03T11:16:23.379Z"
   },
   {
    "duration": 15,
    "start_time": "2024-11-03T11:16:23.530Z"
   },
   {
    "duration": 147,
    "start_time": "2024-11-03T11:16:23.546Z"
   },
   {
    "duration": 13,
    "start_time": "2024-11-03T11:16:23.695Z"
   },
   {
    "duration": 136,
    "start_time": "2024-11-03T11:16:23.709Z"
   },
   {
    "duration": 13,
    "start_time": "2024-11-03T11:16:23.847Z"
   },
   {
    "duration": 46,
    "start_time": "2024-11-03T11:16:23.861Z"
   },
   {
    "duration": 58,
    "start_time": "2024-11-03T11:16:23.908Z"
   },
   {
    "duration": 44,
    "start_time": "2024-11-03T11:16:23.967Z"
   },
   {
    "duration": 142,
    "start_time": "2024-11-03T11:16:24.013Z"
   },
   {
    "duration": 230,
    "start_time": "2024-11-03T11:16:24.156Z"
   },
   {
    "duration": 33,
    "start_time": "2024-11-03T11:16:24.388Z"
   },
   {
    "duration": 237,
    "start_time": "2024-11-03T11:16:24.423Z"
   },
   {
    "duration": 33,
    "start_time": "2024-11-03T11:16:24.661Z"
   },
   {
    "duration": 263,
    "start_time": "2024-11-03T11:16:24.695Z"
   },
   {
    "duration": 5,
    "start_time": "2024-11-03T11:16:24.960Z"
   },
   {
    "duration": 76,
    "start_time": "2024-11-03T11:16:24.966Z"
   },
   {
    "duration": 122,
    "start_time": "2024-11-03T11:16:25.045Z"
   },
   {
    "duration": 122,
    "start_time": "2024-11-03T11:16:25.243Z"
   },
   {
    "duration": 4,
    "start_time": "2024-11-03T11:19:32.326Z"
   },
   {
    "duration": 170,
    "start_time": "2024-11-03T11:19:32.333Z"
   },
   {
    "duration": 14,
    "start_time": "2024-11-03T11:19:32.505Z"
   },
   {
    "duration": 154,
    "start_time": "2024-11-03T11:19:32.521Z"
   },
   {
    "duration": 13,
    "start_time": "2024-11-03T11:19:32.677Z"
   },
   {
    "duration": 161,
    "start_time": "2024-11-03T11:19:32.692Z"
   },
   {
    "duration": 13,
    "start_time": "2024-11-03T11:19:32.855Z"
   },
   {
    "duration": 61,
    "start_time": "2024-11-03T11:19:32.870Z"
   },
   {
    "duration": 43,
    "start_time": "2024-11-03T11:19:32.933Z"
   },
   {
    "duration": 61,
    "start_time": "2024-11-03T11:19:32.978Z"
   },
   {
    "duration": 35,
    "start_time": "2024-11-03T11:19:33.040Z"
   },
   {
    "duration": 248,
    "start_time": "2024-11-03T11:19:33.077Z"
   },
   {
    "duration": 44,
    "start_time": "2024-11-03T11:19:33.326Z"
   },
   {
    "duration": 229,
    "start_time": "2024-11-03T11:19:33.371Z"
   },
   {
    "duration": 43,
    "start_time": "2024-11-03T11:19:33.602Z"
   },
   {
    "duration": 241,
    "start_time": "2024-11-03T11:19:33.647Z"
   },
   {
    "duration": 5,
    "start_time": "2024-11-03T11:19:33.889Z"
   },
   {
    "duration": 54,
    "start_time": "2024-11-03T11:19:33.895Z"
   },
   {
    "duration": 210,
    "start_time": "2024-11-03T11:19:33.951Z"
   },
   {
    "duration": 202,
    "start_time": "2024-11-03T11:19:34.163Z"
   },
   {
    "duration": 4,
    "start_time": "2024-11-03T11:35:50.306Z"
   },
   {
    "duration": 40,
    "start_time": "2024-11-03T11:35:50.315Z"
   },
   {
    "duration": 5,
    "start_time": "2024-11-03T11:39:17.100Z"
   },
   {
    "duration": 169,
    "start_time": "2024-11-03T11:39:17.107Z"
   },
   {
    "duration": 14,
    "start_time": "2024-11-03T11:39:17.278Z"
   },
   {
    "duration": 167,
    "start_time": "2024-11-03T11:39:17.294Z"
   },
   {
    "duration": 15,
    "start_time": "2024-11-03T11:39:17.463Z"
   },
   {
    "duration": 147,
    "start_time": "2024-11-03T11:39:17.480Z"
   },
   {
    "duration": 14,
    "start_time": "2024-11-03T11:39:17.629Z"
   },
   {
    "duration": 57,
    "start_time": "2024-11-03T11:39:17.644Z"
   },
   {
    "duration": 45,
    "start_time": "2024-11-03T11:39:17.703Z"
   },
   {
    "duration": 43,
    "start_time": "2024-11-03T11:39:17.749Z"
   },
   {
    "duration": 150,
    "start_time": "2024-11-03T11:39:17.793Z"
   },
   {
    "duration": 233,
    "start_time": "2024-11-03T11:39:17.945Z"
   },
   {
    "duration": 34,
    "start_time": "2024-11-03T11:39:18.180Z"
   },
   {
    "duration": 244,
    "start_time": "2024-11-03T11:39:18.216Z"
   },
   {
    "duration": 37,
    "start_time": "2024-11-03T11:39:18.462Z"
   },
   {
    "duration": 263,
    "start_time": "2024-11-03T11:39:18.501Z"
   },
   {
    "duration": 7,
    "start_time": "2024-11-03T11:39:18.767Z"
   },
   {
    "duration": 81,
    "start_time": "2024-11-03T11:39:18.776Z"
   },
   {
    "duration": 30,
    "start_time": "2024-11-03T11:39:18.944Z"
   },
   {
    "duration": 123,
    "start_time": "2024-11-03T11:39:19.044Z"
   },
   {
    "duration": 5,
    "start_time": "2024-11-03T11:39:19.244Z"
   },
   {
    "duration": 93,
    "start_time": "2024-11-03T11:39:19.252Z"
   },
   {
    "duration": 1579,
    "start_time": "2024-11-04T14:41:23.810Z"
   },
   {
    "duration": 730,
    "start_time": "2024-11-04T14:41:25.391Z"
   },
   {
    "duration": 17,
    "start_time": "2024-11-04T14:41:26.123Z"
   },
   {
    "duration": 611,
    "start_time": "2024-11-04T14:41:26.141Z"
   },
   {
    "duration": 16,
    "start_time": "2024-11-04T14:41:26.754Z"
   },
   {
    "duration": 604,
    "start_time": "2024-11-04T14:41:26.771Z"
   },
   {
    "duration": 22,
    "start_time": "2024-11-04T14:41:27.377Z"
   },
   {
    "duration": 109,
    "start_time": "2024-11-04T14:41:27.401Z"
   },
   {
    "duration": 97,
    "start_time": "2024-11-04T14:41:27.511Z"
   },
   {
    "duration": 101,
    "start_time": "2024-11-04T14:41:27.610Z"
   },
   {
    "duration": 93,
    "start_time": "2024-11-04T14:41:27.713Z"
   },
   {
    "duration": 522,
    "start_time": "2024-11-04T14:41:27.807Z"
   },
   {
    "duration": 102,
    "start_time": "2024-11-04T14:41:28.331Z"
   },
   {
    "duration": 572,
    "start_time": "2024-11-04T14:41:28.437Z"
   },
   {
    "duration": 38,
    "start_time": "2024-11-04T14:41:29.011Z"
   },
   {
    "duration": 290,
    "start_time": "2024-11-04T14:41:29.051Z"
   },
   {
    "duration": 5,
    "start_time": "2024-11-04T14:41:29.343Z"
   },
   {
    "duration": 55,
    "start_time": "2024-11-04T14:41:29.349Z"
   },
   {
    "duration": 296,
    "start_time": "2024-11-04T14:41:29.407Z"
   },
   {
    "duration": 291,
    "start_time": "2024-11-04T14:41:29.706Z"
   },
   {
    "duration": 97,
    "start_time": "2024-11-04T14:41:30.001Z"
   },
   {
    "duration": 55,
    "start_time": "2024-11-04T14:41:30.100Z"
   },
   {
    "duration": 4,
    "start_time": "2024-11-04T14:52:28.625Z"
   },
   {
    "duration": 42,
    "start_time": "2024-11-04T14:52:28.630Z"
   },
   {
    "duration": 3,
    "start_time": "2024-11-04T14:53:20.373Z"
   },
   {
    "duration": 20,
    "start_time": "2024-11-04T14:53:20.377Z"
   },
   {
    "duration": 4,
    "start_time": "2024-11-04T14:56:05.807Z"
   },
   {
    "duration": 174,
    "start_time": "2024-11-04T14:56:05.813Z"
   },
   {
    "duration": 17,
    "start_time": "2024-11-04T14:56:05.988Z"
   },
   {
    "duration": 162,
    "start_time": "2024-11-04T14:56:06.007Z"
   },
   {
    "duration": 15,
    "start_time": "2024-11-04T14:56:06.171Z"
   },
   {
    "duration": 167,
    "start_time": "2024-11-04T14:56:06.187Z"
   },
   {
    "duration": 14,
    "start_time": "2024-11-04T14:56:06.356Z"
   },
   {
    "duration": 86,
    "start_time": "2024-11-04T14:56:06.372Z"
   },
   {
    "duration": 42,
    "start_time": "2024-11-04T14:56:06.460Z"
   },
   {
    "duration": 45,
    "start_time": "2024-11-04T14:56:06.503Z"
   },
   {
    "duration": 38,
    "start_time": "2024-11-04T14:56:06.549Z"
   },
   {
    "duration": 250,
    "start_time": "2024-11-04T14:56:06.598Z"
   },
   {
    "duration": 37,
    "start_time": "2024-11-04T14:56:06.850Z"
   },
   {
    "duration": 303,
    "start_time": "2024-11-04T14:56:06.899Z"
   },
   {
    "duration": 39,
    "start_time": "2024-11-04T14:56:07.203Z"
   },
   {
    "duration": 249,
    "start_time": "2024-11-04T14:56:07.244Z"
   },
   {
    "duration": 6,
    "start_time": "2024-11-04T14:56:07.494Z"
   },
   {
    "duration": 96,
    "start_time": "2024-11-04T14:56:07.502Z"
   },
   {
    "duration": 195,
    "start_time": "2024-11-04T14:56:07.602Z"
   },
   {
    "duration": 123,
    "start_time": "2024-11-04T14:56:07.800Z"
   },
   {
    "duration": 94,
    "start_time": "2024-11-04T14:56:08.006Z"
   },
   {
    "duration": 16,
    "start_time": "2024-11-04T14:56:08.101Z"
   },
   {
    "duration": 3,
    "start_time": "2024-11-04T14:56:11.039Z"
   },
   {
    "duration": 169,
    "start_time": "2024-11-04T14:56:11.044Z"
   },
   {
    "duration": 16,
    "start_time": "2024-11-04T14:56:11.214Z"
   },
   {
    "duration": 162,
    "start_time": "2024-11-04T14:56:11.232Z"
   },
   {
    "duration": 17,
    "start_time": "2024-11-04T14:56:11.396Z"
   },
   {
    "duration": 156,
    "start_time": "2024-11-04T14:56:11.414Z"
   },
   {
    "duration": 16,
    "start_time": "2024-11-04T14:56:11.571Z"
   },
   {
    "duration": 54,
    "start_time": "2024-11-04T14:56:11.597Z"
   },
   {
    "duration": 66,
    "start_time": "2024-11-04T14:56:11.653Z"
   },
   {
    "duration": 46,
    "start_time": "2024-11-04T14:56:11.720Z"
   },
   {
    "duration": 55,
    "start_time": "2024-11-04T14:56:11.768Z"
   },
   {
    "duration": 250,
    "start_time": "2024-11-04T14:56:11.824Z"
   },
   {
    "duration": 51,
    "start_time": "2024-11-04T14:56:12.075Z"
   },
   {
    "duration": 254,
    "start_time": "2024-11-04T14:56:12.129Z"
   },
   {
    "duration": 46,
    "start_time": "2024-11-04T14:56:12.385Z"
   },
   {
    "duration": 253,
    "start_time": "2024-11-04T14:56:12.433Z"
   },
   {
    "duration": 5,
    "start_time": "2024-11-04T14:56:12.688Z"
   },
   {
    "duration": 103,
    "start_time": "2024-11-04T14:56:12.694Z"
   },
   {
    "duration": 123,
    "start_time": "2024-11-04T14:56:12.799Z"
   },
   {
    "duration": 127,
    "start_time": "2024-11-04T14:56:12.999Z"
   },
   {
    "duration": 4,
    "start_time": "2024-11-04T14:56:13.199Z"
   },
   {
    "duration": 99,
    "start_time": "2024-11-04T14:56:13.206Z"
   },
   {
    "duration": 5,
    "start_time": "2024-11-04T14:56:13.307Z"
   },
   {
    "duration": 18,
    "start_time": "2024-11-04T14:56:13.314Z"
   },
   {
    "duration": 4,
    "start_time": "2024-11-04T14:59:46.190Z"
   },
   {
    "duration": 174,
    "start_time": "2024-11-04T14:59:46.196Z"
   },
   {
    "duration": 16,
    "start_time": "2024-11-04T14:59:46.372Z"
   },
   {
    "duration": 150,
    "start_time": "2024-11-04T14:59:46.397Z"
   },
   {
    "duration": 16,
    "start_time": "2024-11-04T14:59:46.549Z"
   },
   {
    "duration": 147,
    "start_time": "2024-11-04T14:59:46.567Z"
   },
   {
    "duration": 14,
    "start_time": "2024-11-04T14:59:46.716Z"
   },
   {
    "duration": 47,
    "start_time": "2024-11-04T14:59:46.732Z"
   },
   {
    "duration": 41,
    "start_time": "2024-11-04T14:59:46.798Z"
   },
   {
    "duration": 58,
    "start_time": "2024-11-04T14:59:46.841Z"
   },
   {
    "duration": 142,
    "start_time": "2024-11-04T14:59:46.901Z"
   },
   {
    "duration": 245,
    "start_time": "2024-11-04T14:59:47.044Z"
   },
   {
    "duration": 40,
    "start_time": "2024-11-04T14:59:47.291Z"
   },
   {
    "duration": 259,
    "start_time": "2024-11-04T14:59:47.334Z"
   },
   {
    "duration": 35,
    "start_time": "2024-11-04T14:59:47.594Z"
   },
   {
    "duration": 244,
    "start_time": "2024-11-04T14:59:47.631Z"
   },
   {
    "duration": 5,
    "start_time": "2024-11-04T14:59:47.876Z"
   },
   {
    "duration": 65,
    "start_time": "2024-11-04T14:59:47.883Z"
   },
   {
    "duration": 161,
    "start_time": "2024-11-04T14:59:47.949Z"
   },
   {
    "duration": 204,
    "start_time": "2024-11-04T14:59:48.113Z"
   },
   {
    "duration": 9,
    "start_time": "2024-11-04T14:59:48.398Z"
   },
   {
    "duration": 7,
    "start_time": "2024-11-04T14:59:48.498Z"
   },
   {
    "duration": 5,
    "start_time": "2024-11-04T14:59:48.506Z"
   },
   {
    "duration": 18,
    "start_time": "2024-11-04T14:59:48.512Z"
   },
   {
    "duration": 4,
    "start_time": "2024-11-04T15:01:18.326Z"
   },
   {
    "duration": 173,
    "start_time": "2024-11-04T15:01:18.332Z"
   },
   {
    "duration": 22,
    "start_time": "2024-11-04T15:01:18.507Z"
   },
   {
    "duration": 156,
    "start_time": "2024-11-04T15:01:18.532Z"
   },
   {
    "duration": 14,
    "start_time": "2024-11-04T15:01:18.691Z"
   },
   {
    "duration": 147,
    "start_time": "2024-11-04T15:01:18.707Z"
   },
   {
    "duration": 14,
    "start_time": "2024-11-04T15:01:18.856Z"
   },
   {
    "duration": 61,
    "start_time": "2024-11-04T15:01:18.871Z"
   },
   {
    "duration": 45,
    "start_time": "2024-11-04T15:01:18.934Z"
   },
   {
    "duration": 57,
    "start_time": "2024-11-04T15:01:18.981Z"
   },
   {
    "duration": 39,
    "start_time": "2024-11-04T15:01:19.040Z"
   },
   {
    "duration": 278,
    "start_time": "2024-11-04T15:01:19.097Z"
   },
   {
    "duration": 52,
    "start_time": "2024-11-04T15:01:19.377Z"
   },
   {
    "duration": 267,
    "start_time": "2024-11-04T15:01:19.432Z"
   },
   {
    "duration": 41,
    "start_time": "2024-11-04T15:01:19.701Z"
   },
   {
    "duration": 260,
    "start_time": "2024-11-04T15:01:19.744Z"
   },
   {
    "duration": 5,
    "start_time": "2024-11-04T15:01:20.006Z"
   },
   {
    "duration": 88,
    "start_time": "2024-11-04T15:01:20.012Z"
   },
   {
    "duration": 196,
    "start_time": "2024-11-04T15:01:20.102Z"
   },
   {
    "duration": 194,
    "start_time": "2024-11-04T15:01:20.303Z"
   },
   {
    "duration": 3,
    "start_time": "2024-11-04T15:01:20.500Z"
   },
   {
    "duration": 107,
    "start_time": "2024-11-04T15:01:20.506Z"
   },
   {
    "duration": 38,
    "start_time": "2024-11-04T15:01:20.614Z"
   },
   {
    "duration": 24,
    "start_time": "2024-11-04T15:01:20.653Z"
   },
   {
    "duration": 4,
    "start_time": "2024-11-04T15:03:18.079Z"
   },
   {
    "duration": 175,
    "start_time": "2024-11-04T15:03:18.084Z"
   },
   {
    "duration": 16,
    "start_time": "2024-11-04T15:03:18.261Z"
   },
   {
    "duration": 184,
    "start_time": "2024-11-04T15:03:18.279Z"
   },
   {
    "duration": 32,
    "start_time": "2024-11-04T15:03:18.466Z"
   },
   {
    "duration": 155,
    "start_time": "2024-11-04T15:03:18.500Z"
   },
   {
    "duration": 15,
    "start_time": "2024-11-04T15:03:18.657Z"
   },
   {
    "duration": 68,
    "start_time": "2024-11-04T15:03:18.674Z"
   },
   {
    "duration": 42,
    "start_time": "2024-11-04T15:03:18.744Z"
   },
   {
    "duration": 47,
    "start_time": "2024-11-04T15:03:18.797Z"
   },
   {
    "duration": 141,
    "start_time": "2024-11-04T15:03:18.845Z"
   },
   {
    "duration": 271,
    "start_time": "2024-11-04T15:03:18.987Z"
   },
   {
    "duration": 51,
    "start_time": "2024-11-04T15:03:19.260Z"
   },
   {
    "duration": 511,
    "start_time": "2024-11-04T15:03:19.313Z"
   },
   {
    "duration": 93,
    "start_time": "2024-11-04T15:03:19.826Z"
   },
   {
    "duration": 511,
    "start_time": "2024-11-04T15:03:19.921Z"
   },
   {
    "duration": 5,
    "start_time": "2024-11-04T15:03:20.434Z"
   },
   {
    "duration": 160,
    "start_time": "2024-11-04T15:03:20.440Z"
   },
   {
    "duration": 122,
    "start_time": "2024-11-04T15:03:20.602Z"
   },
   {
    "duration": 127,
    "start_time": "2024-11-04T15:03:20.799Z"
   },
   {
    "duration": 147,
    "start_time": "2024-11-04T15:03:20.999Z"
   },
   {
    "duration": 48,
    "start_time": "2024-11-04T15:03:21.148Z"
   },
   {
    "duration": 54,
    "start_time": "2024-11-04T15:03:21.197Z"
   },
   {
    "duration": 82,
    "start_time": "2024-11-04T15:03:21.253Z"
   },
   {
    "duration": 3,
    "start_time": "2024-11-04T15:06:27.708Z"
   },
   {
    "duration": 165,
    "start_time": "2024-11-04T15:06:27.713Z"
   },
   {
    "duration": 19,
    "start_time": "2024-11-04T15:06:27.880Z"
   },
   {
    "duration": 146,
    "start_time": "2024-11-04T15:06:27.901Z"
   },
   {
    "duration": 14,
    "start_time": "2024-11-04T15:06:28.049Z"
   },
   {
    "duration": 145,
    "start_time": "2024-11-04T15:06:28.065Z"
   },
   {
    "duration": 15,
    "start_time": "2024-11-04T15:06:28.211Z"
   },
   {
    "duration": 44,
    "start_time": "2024-11-04T15:06:28.228Z"
   },
   {
    "duration": 63,
    "start_time": "2024-11-04T15:06:28.273Z"
   },
   {
    "duration": 60,
    "start_time": "2024-11-04T15:06:28.338Z"
   },
   {
    "duration": 50,
    "start_time": "2024-11-04T15:06:28.401Z"
   },
   {
    "duration": 276,
    "start_time": "2024-11-04T15:06:28.453Z"
   },
   {
    "duration": 36,
    "start_time": "2024-11-04T15:06:28.731Z"
   },
   {
    "duration": 262,
    "start_time": "2024-11-04T15:06:28.770Z"
   },
   {
    "duration": 34,
    "start_time": "2024-11-04T15:06:29.033Z"
   },
   {
    "duration": 273,
    "start_time": "2024-11-04T15:06:29.068Z"
   },
   {
    "duration": 4,
    "start_time": "2024-11-04T15:06:29.343Z"
   },
   {
    "duration": 52,
    "start_time": "2024-11-04T15:06:29.349Z"
   },
   {
    "duration": 196,
    "start_time": "2024-11-04T15:06:29.403Z"
   },
   {
    "duration": 199,
    "start_time": "2024-11-04T15:06:29.601Z"
   },
   {
    "duration": 95,
    "start_time": "2024-11-04T15:06:29.803Z"
   },
   {
    "duration": 10,
    "start_time": "2024-11-04T15:06:29.900Z"
   },
   {
    "duration": 13,
    "start_time": "2024-11-04T15:06:29.911Z"
   },
   {
    "duration": 10,
    "start_time": "2024-11-04T15:06:29.925Z"
   },
   {
    "duration": 66,
    "start_time": "2024-11-04T15:06:29.936Z"
   },
   {
    "duration": 5,
    "start_time": "2024-11-04T15:06:44.778Z"
   },
   {
    "duration": 9,
    "start_time": "2024-11-04T15:06:53.103Z"
   },
   {
    "duration": 6,
    "start_time": "2024-11-04T15:07:12.495Z"
   },
   {
    "duration": 9,
    "start_time": "2024-11-04T15:08:57.854Z"
   },
   {
    "duration": 4,
    "start_time": "2024-11-04T15:11:04.118Z"
   },
   {
    "duration": 191,
    "start_time": "2024-11-04T15:11:04.124Z"
   },
   {
    "duration": 16,
    "start_time": "2024-11-04T15:11:04.316Z"
   },
   {
    "duration": 169,
    "start_time": "2024-11-04T15:11:04.335Z"
   },
   {
    "duration": 15,
    "start_time": "2024-11-04T15:11:04.505Z"
   },
   {
    "duration": 176,
    "start_time": "2024-11-04T15:11:04.522Z"
   },
   {
    "duration": 16,
    "start_time": "2024-11-04T15:11:04.700Z"
   },
   {
    "duration": 61,
    "start_time": "2024-11-04T15:11:04.717Z"
   },
   {
    "duration": 52,
    "start_time": "2024-11-04T15:11:04.780Z"
   },
   {
    "duration": 151,
    "start_time": "2024-11-04T15:11:04.833Z"
   },
   {
    "duration": 97,
    "start_time": "2024-11-04T15:11:04.997Z"
   },
   {
    "duration": 241,
    "start_time": "2024-11-04T15:11:05.096Z"
   },
   {
    "duration": 37,
    "start_time": "2024-11-04T15:11:05.338Z"
   },
   {
    "duration": 275,
    "start_time": "2024-11-04T15:11:05.376Z"
   },
   {
    "duration": 50,
    "start_time": "2024-11-04T15:11:05.652Z"
   },
   {
    "duration": 252,
    "start_time": "2024-11-04T15:11:05.704Z"
   },
   {
    "duration": 6,
    "start_time": "2024-11-04T15:11:05.958Z"
   },
   {
    "duration": 131,
    "start_time": "2024-11-04T15:11:05.966Z"
   },
   {
    "duration": 198,
    "start_time": "2024-11-04T15:11:06.101Z"
   },
   {
    "duration": 190,
    "start_time": "2024-11-04T15:11:06.308Z"
   },
   {
    "duration": 4,
    "start_time": "2024-11-04T15:11:06.501Z"
   },
   {
    "duration": 31,
    "start_time": "2024-11-04T15:11:06.597Z"
   },
   {
    "duration": 21,
    "start_time": "2024-11-04T15:11:06.629Z"
   },
   {
    "duration": 66,
    "start_time": "2024-11-04T15:11:06.653Z"
   },
   {
    "duration": 4,
    "start_time": "2024-11-04T15:11:30.571Z"
   },
   {
    "duration": 219,
    "start_time": "2024-11-04T15:11:30.579Z"
   },
   {
    "duration": 16,
    "start_time": "2024-11-04T15:11:30.800Z"
   },
   {
    "duration": 153,
    "start_time": "2024-11-04T15:11:30.818Z"
   },
   {
    "duration": 16,
    "start_time": "2024-11-04T15:11:30.972Z"
   },
   {
    "duration": 209,
    "start_time": "2024-11-04T15:11:30.998Z"
   },
   {
    "duration": 16,
    "start_time": "2024-11-04T15:11:31.209Z"
   },
   {
    "duration": 60,
    "start_time": "2024-11-04T15:11:31.226Z"
   },
   {
    "duration": 44,
    "start_time": "2024-11-04T15:11:31.297Z"
   },
   {
    "duration": 65,
    "start_time": "2024-11-04T15:11:31.343Z"
   },
   {
    "duration": 39,
    "start_time": "2024-11-04T15:11:31.411Z"
   },
   {
    "duration": 459,
    "start_time": "2024-11-04T15:11:31.452Z"
   },
   {
    "duration": 100,
    "start_time": "2024-11-04T15:11:31.913Z"
   },
   {
    "duration": 514,
    "start_time": "2024-11-04T15:11:32.015Z"
   },
   {
    "duration": 92,
    "start_time": "2024-11-04T15:11:32.532Z"
   },
   {
    "duration": 487,
    "start_time": "2024-11-04T15:11:32.627Z"
   },
   {
    "duration": 5,
    "start_time": "2024-11-04T15:11:33.115Z"
   },
   {
    "duration": 86,
    "start_time": "2024-11-04T15:11:33.122Z"
   },
   {
    "duration": 205,
    "start_time": "2024-11-04T15:11:33.210Z"
   },
   {
    "duration": 203,
    "start_time": "2024-11-04T15:11:33.417Z"
   },
   {
    "duration": 77,
    "start_time": "2024-11-04T15:11:33.622Z"
   },
   {
    "duration": 98,
    "start_time": "2024-11-04T15:11:33.701Z"
   },
   {
    "duration": 17,
    "start_time": "2024-11-04T15:11:33.801Z"
   },
   {
    "duration": 37,
    "start_time": "2024-11-04T15:11:33.820Z"
   },
   {
    "duration": 14,
    "start_time": "2024-11-04T15:13:19.512Z"
   },
   {
    "duration": 18,
    "start_time": "2024-11-04T15:14:18.819Z"
   },
   {
    "duration": 19,
    "start_time": "2024-11-04T15:14:34.292Z"
   },
   {
    "duration": 19,
    "start_time": "2024-11-04T15:14:44.967Z"
   },
   {
    "duration": 17,
    "start_time": "2024-11-04T15:15:01.372Z"
   },
   {
    "duration": 4,
    "start_time": "2024-11-04T15:15:06.490Z"
   },
   {
    "duration": 172,
    "start_time": "2024-11-04T15:15:06.496Z"
   },
   {
    "duration": 17,
    "start_time": "2024-11-04T15:15:06.670Z"
   },
   {
    "duration": 158,
    "start_time": "2024-11-04T15:15:06.688Z"
   },
   {
    "duration": 16,
    "start_time": "2024-11-04T15:15:06.848Z"
   },
   {
    "duration": 161,
    "start_time": "2024-11-04T15:15:06.866Z"
   },
   {
    "duration": 125,
    "start_time": "2024-11-04T15:15:07.029Z"
   },
   {
    "duration": 63,
    "start_time": "2024-11-04T15:15:07.155Z"
   },
   {
    "duration": 45,
    "start_time": "2024-11-04T15:15:07.220Z"
   },
   {
    "duration": 66,
    "start_time": "2024-11-04T15:15:07.266Z"
   },
   {
    "duration": 40,
    "start_time": "2024-11-04T15:15:07.333Z"
   },
   {
    "duration": 266,
    "start_time": "2024-11-04T15:15:07.375Z"
   },
   {
    "duration": 39,
    "start_time": "2024-11-04T15:15:07.642Z"
   },
   {
    "duration": 277,
    "start_time": "2024-11-04T15:15:07.684Z"
   },
   {
    "duration": 46,
    "start_time": "2024-11-04T15:15:07.963Z"
   },
   {
    "duration": 261,
    "start_time": "2024-11-04T15:15:08.011Z"
   },
   {
    "duration": 5,
    "start_time": "2024-11-04T15:15:08.273Z"
   },
   {
    "duration": 117,
    "start_time": "2024-11-04T15:15:08.280Z"
   },
   {
    "duration": 130,
    "start_time": "2024-11-04T15:15:08.401Z"
   },
   {
    "duration": 184,
    "start_time": "2024-11-04T15:15:08.533Z"
   },
   {
    "duration": 81,
    "start_time": "2024-11-04T15:15:08.719Z"
   },
   {
    "duration": 98,
    "start_time": "2024-11-04T15:15:08.802Z"
   },
   {
    "duration": 20,
    "start_time": "2024-11-04T15:15:08.902Z"
   },
   {
    "duration": 4,
    "start_time": "2024-11-04T15:15:08.923Z"
   },
   {
    "duration": 25,
    "start_time": "2024-11-04T15:15:08.928Z"
   },
   {
    "duration": 3,
    "start_time": "2024-11-04T15:15:49.874Z"
   },
   {
    "duration": 163,
    "start_time": "2024-11-04T15:15:49.880Z"
   },
   {
    "duration": 15,
    "start_time": "2024-11-04T15:15:50.045Z"
   },
   {
    "duration": 156,
    "start_time": "2024-11-04T15:15:50.062Z"
   },
   {
    "duration": 15,
    "start_time": "2024-11-04T15:15:50.220Z"
   },
   {
    "duration": 169,
    "start_time": "2024-11-04T15:15:50.236Z"
   },
   {
    "duration": 15,
    "start_time": "2024-11-04T15:15:50.406Z"
   },
   {
    "duration": 47,
    "start_time": "2024-11-04T15:15:50.423Z"
   },
   {
    "duration": 54,
    "start_time": "2024-11-04T15:15:50.471Z"
   },
   {
    "duration": 45,
    "start_time": "2024-11-04T15:15:50.528Z"
   },
   {
    "duration": 55,
    "start_time": "2024-11-04T15:15:50.574Z"
   },
   {
    "duration": 250,
    "start_time": "2024-11-04T15:15:50.630Z"
   },
   {
    "duration": 45,
    "start_time": "2024-11-04T15:15:50.882Z"
   },
   {
    "duration": 250,
    "start_time": "2024-11-04T15:15:50.929Z"
   },
   {
    "duration": 49,
    "start_time": "2024-11-04T15:15:51.180Z"
   },
   {
    "duration": 275,
    "start_time": "2024-11-04T15:15:51.230Z"
   },
   {
    "duration": 5,
    "start_time": "2024-11-04T15:15:51.507Z"
   },
   {
    "duration": 86,
    "start_time": "2024-11-04T15:15:51.513Z"
   },
   {
    "duration": 208,
    "start_time": "2024-11-04T15:15:51.603Z"
   },
   {
    "duration": 129,
    "start_time": "2024-11-04T15:15:51.899Z"
   },
   {
    "duration": 5,
    "start_time": "2024-11-04T15:15:52.098Z"
   },
   {
    "duration": 98,
    "start_time": "2024-11-04T15:15:52.105Z"
   },
   {
    "duration": 24,
    "start_time": "2024-11-04T15:15:52.205Z"
   },
   {
    "duration": 4,
    "start_time": "2024-11-04T15:15:52.231Z"
   },
   {
    "duration": 219,
    "start_time": "2024-11-04T15:15:52.236Z"
   },
   {
    "duration": 32,
    "start_time": "2024-11-04T15:16:04.505Z"
   },
   {
    "duration": 3,
    "start_time": "2024-11-04T15:20:31.698Z"
   },
   {
    "duration": 183,
    "start_time": "2024-11-04T15:20:31.703Z"
   },
   {
    "duration": 22,
    "start_time": "2024-11-04T15:20:31.888Z"
   },
   {
    "duration": 152,
    "start_time": "2024-11-04T15:20:31.912Z"
   },
   {
    "duration": 15,
    "start_time": "2024-11-04T15:20:32.066Z"
   },
   {
    "duration": 143,
    "start_time": "2024-11-04T15:20:32.082Z"
   },
   {
    "duration": 16,
    "start_time": "2024-11-04T15:20:32.227Z"
   },
   {
    "duration": 65,
    "start_time": "2024-11-04T15:20:32.245Z"
   },
   {
    "duration": 41,
    "start_time": "2024-11-04T15:20:32.313Z"
   },
   {
    "duration": 72,
    "start_time": "2024-11-04T15:20:32.356Z"
   },
   {
    "duration": 38,
    "start_time": "2024-11-04T15:20:32.429Z"
   },
   {
    "duration": 268,
    "start_time": "2024-11-04T15:20:32.469Z"
   },
   {
    "duration": 38,
    "start_time": "2024-11-04T15:20:32.739Z"
   },
   {
    "duration": 257,
    "start_time": "2024-11-04T15:20:32.778Z"
   },
   {
    "duration": 34,
    "start_time": "2024-11-04T15:20:33.036Z"
   },
   {
    "duration": 302,
    "start_time": "2024-11-04T15:20:33.072Z"
   },
   {
    "duration": 5,
    "start_time": "2024-11-04T15:20:33.376Z"
   },
   {
    "duration": 115,
    "start_time": "2024-11-04T15:20:33.382Z"
   },
   {
    "duration": 122,
    "start_time": "2024-11-04T15:20:33.500Z"
   },
   {
    "duration": 195,
    "start_time": "2024-11-04T15:20:33.625Z"
   },
   {
    "duration": 5,
    "start_time": "2024-11-04T15:20:33.899Z"
   },
   {
    "duration": 93,
    "start_time": "2024-11-04T15:20:33.906Z"
   },
   {
    "duration": 14,
    "start_time": "2024-11-04T15:20:34.002Z"
   },
   {
    "duration": 27,
    "start_time": "2024-11-04T15:20:34.018Z"
   },
   {
    "duration": 3,
    "start_time": "2024-11-04T15:21:19.806Z"
   },
   {
    "duration": 188,
    "start_time": "2024-11-04T15:21:19.811Z"
   },
   {
    "duration": 15,
    "start_time": "2024-11-04T15:21:20.000Z"
   },
   {
    "duration": 150,
    "start_time": "2024-11-04T15:21:20.017Z"
   },
   {
    "duration": 15,
    "start_time": "2024-11-04T15:21:20.169Z"
   },
   {
    "duration": 147,
    "start_time": "2024-11-04T15:21:20.197Z"
   },
   {
    "duration": 14,
    "start_time": "2024-11-04T15:21:20.345Z"
   },
   {
    "duration": 69,
    "start_time": "2024-11-04T15:21:20.361Z"
   },
   {
    "duration": 43,
    "start_time": "2024-11-04T15:21:20.432Z"
   },
   {
    "duration": 59,
    "start_time": "2024-11-04T15:21:20.477Z"
   },
   {
    "duration": 39,
    "start_time": "2024-11-04T15:21:20.537Z"
   },
   {
    "duration": 269,
    "start_time": "2024-11-04T15:21:20.578Z"
   },
   {
    "duration": 49,
    "start_time": "2024-11-04T15:21:20.850Z"
   },
   {
    "duration": 252,
    "start_time": "2024-11-04T15:21:20.902Z"
   },
   {
    "duration": 45,
    "start_time": "2024-11-04T15:21:21.156Z"
   },
   {
    "duration": 299,
    "start_time": "2024-11-04T15:21:21.202Z"
   },
   {
    "duration": 5,
    "start_time": "2024-11-04T15:21:21.502Z"
   },
   {
    "duration": 98,
    "start_time": "2024-11-04T15:21:21.509Z"
   },
   {
    "duration": 210,
    "start_time": "2024-11-04T15:21:21.608Z"
   },
   {
    "duration": 121,
    "start_time": "2024-11-04T15:21:21.900Z"
   },
   {
    "duration": 8,
    "start_time": "2024-11-04T15:21:22.098Z"
   },
   {
    "duration": 95,
    "start_time": "2024-11-04T15:21:22.108Z"
   },
   {
    "duration": 24,
    "start_time": "2024-11-04T15:21:22.204Z"
   },
   {
    "duration": 3,
    "start_time": "2024-11-04T15:21:22.230Z"
   },
   {
    "duration": 300,
    "start_time": "2024-11-04T15:21:22.235Z"
   },
   {
    "duration": 4,
    "start_time": "2024-11-04T15:24:46.815Z"
   },
   {
    "duration": 172,
    "start_time": "2024-11-04T15:24:46.821Z"
   },
   {
    "duration": 27,
    "start_time": "2024-11-04T15:24:46.995Z"
   },
   {
    "duration": 251,
    "start_time": "2024-11-04T15:24:47.023Z"
   },
   {
    "duration": 22,
    "start_time": "2024-11-04T15:24:47.276Z"
   },
   {
    "duration": 170,
    "start_time": "2024-11-04T15:24:47.300Z"
   },
   {
    "duration": 15,
    "start_time": "2024-11-04T15:24:47.472Z"
   },
   {
    "duration": 54,
    "start_time": "2024-11-04T15:24:47.498Z"
   },
   {
    "duration": 62,
    "start_time": "2024-11-04T15:24:47.553Z"
   },
   {
    "duration": 68,
    "start_time": "2024-11-04T15:24:47.617Z"
   },
   {
    "duration": 55,
    "start_time": "2024-11-04T15:24:47.686Z"
   },
   {
    "duration": 311,
    "start_time": "2024-11-04T15:24:47.743Z"
   },
   {
    "duration": 38,
    "start_time": "2024-11-04T15:24:48.055Z"
   },
   {
    "duration": 420,
    "start_time": "2024-11-04T15:24:48.101Z"
   },
   {
    "duration": 88,
    "start_time": "2024-11-04T15:24:48.523Z"
   },
   {
    "duration": 507,
    "start_time": "2024-11-04T15:24:48.614Z"
   },
   {
    "duration": 5,
    "start_time": "2024-11-04T15:24:49.123Z"
   },
   {
    "duration": 177,
    "start_time": "2024-11-04T15:24:49.130Z"
   },
   {
    "duration": 290,
    "start_time": "2024-11-04T15:24:49.309Z"
   },
   {
    "duration": 203,
    "start_time": "2024-11-04T15:24:49.601Z"
   },
   {
    "duration": 92,
    "start_time": "2024-11-04T15:24:49.806Z"
   },
   {
    "duration": 4,
    "start_time": "2024-11-04T15:24:49.900Z"
   },
   {
    "duration": 4,
    "start_time": "2024-11-04T15:24:49.906Z"
   },
   {
    "duration": 28,
    "start_time": "2024-11-04T15:24:49.913Z"
   },
   {
    "duration": 19,
    "start_time": "2024-11-04T15:26:14.212Z"
   },
   {
    "duration": 19,
    "start_time": "2024-11-04T15:26:39.406Z"
   },
   {
    "duration": 4,
    "start_time": "2024-11-04T15:35:18.620Z"
   },
   {
    "duration": 174,
    "start_time": "2024-11-04T15:35:18.626Z"
   },
   {
    "duration": 15,
    "start_time": "2024-11-04T15:35:18.802Z"
   },
   {
    "duration": 161,
    "start_time": "2024-11-04T15:35:18.819Z"
   },
   {
    "duration": 20,
    "start_time": "2024-11-04T15:35:18.982Z"
   },
   {
    "duration": 156,
    "start_time": "2024-11-04T15:35:19.003Z"
   },
   {
    "duration": 17,
    "start_time": "2024-11-04T15:35:19.160Z"
   },
   {
    "duration": 94,
    "start_time": "2024-11-04T15:35:19.178Z"
   },
   {
    "duration": 43,
    "start_time": "2024-11-04T15:35:19.274Z"
   },
   {
    "duration": 43,
    "start_time": "2024-11-04T15:35:19.320Z"
   },
   {
    "duration": 52,
    "start_time": "2024-11-04T15:35:19.365Z"
   },
   {
    "duration": 263,
    "start_time": "2024-11-04T15:35:19.418Z"
   },
   {
    "duration": 46,
    "start_time": "2024-11-04T15:35:19.683Z"
   },
   {
    "duration": 265,
    "start_time": "2024-11-04T15:35:19.730Z"
   },
   {
    "duration": 36,
    "start_time": "2024-11-04T15:35:19.997Z"
   },
   {
    "duration": 249,
    "start_time": "2024-11-04T15:35:20.034Z"
   },
   {
    "duration": 4,
    "start_time": "2024-11-04T15:35:20.285Z"
   },
   {
    "duration": 38,
    "start_time": "2024-11-04T15:35:20.297Z"
   },
   {
    "duration": 119,
    "start_time": "2024-11-04T15:35:20.402Z"
   },
   {
    "duration": 275,
    "start_time": "2024-11-04T15:35:20.523Z"
   },
   {
    "duration": 6,
    "start_time": "2024-11-04T15:35:20.801Z"
   },
   {
    "duration": 5,
    "start_time": "2024-11-04T15:35:20.898Z"
   },
   {
    "duration": 10,
    "start_time": "2024-11-04T15:35:20.904Z"
   },
   {
    "duration": 19,
    "start_time": "2024-11-04T15:35:20.915Z"
   },
   {
    "duration": 16,
    "start_time": "2024-11-04T16:01:54.898Z"
   },
   {
    "duration": 3,
    "start_time": "2024-11-04T16:02:00.892Z"
   },
   {
    "duration": 188,
    "start_time": "2024-11-04T16:02:00.897Z"
   },
   {
    "duration": 26,
    "start_time": "2024-11-04T16:02:01.087Z"
   },
   {
    "duration": 161,
    "start_time": "2024-11-04T16:02:01.115Z"
   },
   {
    "duration": 23,
    "start_time": "2024-11-04T16:02:01.278Z"
   },
   {
    "duration": 157,
    "start_time": "2024-11-04T16:02:01.312Z"
   },
   {
    "duration": 14,
    "start_time": "2024-11-04T16:02:01.471Z"
   },
   {
    "duration": 59,
    "start_time": "2024-11-04T16:02:01.487Z"
   },
   {
    "duration": 63,
    "start_time": "2024-11-04T16:02:01.547Z"
   },
   {
    "duration": 49,
    "start_time": "2024-11-04T16:02:01.612Z"
   },
   {
    "duration": 168,
    "start_time": "2024-11-04T16:02:01.662Z"
   },
   {
    "duration": 261,
    "start_time": "2024-11-04T16:02:01.832Z"
   },
   {
    "duration": 43,
    "start_time": "2024-11-04T16:02:02.098Z"
   },
   {
    "duration": 269,
    "start_time": "2024-11-04T16:02:02.144Z"
   },
   {
    "duration": 37,
    "start_time": "2024-11-04T16:02:02.418Z"
   },
   {
    "duration": 300,
    "start_time": "2024-11-04T16:02:02.456Z"
   },
   {
    "duration": 5,
    "start_time": "2024-11-04T16:02:02.758Z"
   },
   {
    "duration": 132,
    "start_time": "2024-11-04T16:02:02.765Z"
   },
   {
    "duration": 131,
    "start_time": "2024-11-04T16:02:02.899Z"
   },
   {
    "duration": 117,
    "start_time": "2024-11-04T16:02:03.101Z"
   },
   {
    "duration": 179,
    "start_time": "2024-11-04T16:02:03.222Z"
   },
   {
    "duration": 37,
    "start_time": "2024-11-04T16:02:03.404Z"
   },
   {
    "duration": 19,
    "start_time": "2024-11-04T16:02:03.444Z"
   },
   {
    "duration": 29,
    "start_time": "2024-11-04T16:02:03.464Z"
   },
   {
    "duration": 38,
    "start_time": "2024-11-04T16:02:03.495Z"
   },
   {
    "duration": 1714,
    "start_time": "2024-11-04T16:02:03.535Z"
   },
   {
    "duration": 6,
    "start_time": "2024-11-04T16:07:18.713Z"
   },
   {
    "duration": 1607,
    "start_time": "2024-11-04T16:07:18.721Z"
   },
   {
    "duration": 4,
    "start_time": "2024-11-04T16:07:27.546Z"
   },
   {
    "duration": 183,
    "start_time": "2024-11-04T16:07:27.552Z"
   },
   {
    "duration": 17,
    "start_time": "2024-11-04T16:07:27.736Z"
   },
   {
    "duration": 150,
    "start_time": "2024-11-04T16:07:27.755Z"
   },
   {
    "duration": 16,
    "start_time": "2024-11-04T16:07:27.907Z"
   },
   {
    "duration": 158,
    "start_time": "2024-11-04T16:07:27.925Z"
   },
   {
    "duration": 21,
    "start_time": "2024-11-04T16:07:28.085Z"
   },
   {
    "duration": 49,
    "start_time": "2024-11-04T16:07:28.109Z"
   },
   {
    "duration": 65,
    "start_time": "2024-11-04T16:07:28.160Z"
   },
   {
    "duration": 47,
    "start_time": "2024-11-04T16:07:28.228Z"
   },
   {
    "duration": 54,
    "start_time": "2024-11-04T16:07:28.277Z"
   },
   {
    "duration": 278,
    "start_time": "2024-11-04T16:07:28.333Z"
   },
   {
    "duration": 38,
    "start_time": "2024-11-04T16:07:28.613Z"
   },
   {
    "duration": 277,
    "start_time": "2024-11-04T16:07:28.652Z"
   },
   {
    "duration": 36,
    "start_time": "2024-11-04T16:07:28.931Z"
   },
   {
    "duration": 281,
    "start_time": "2024-11-04T16:07:28.969Z"
   },
   {
    "duration": 6,
    "start_time": "2024-11-04T16:07:29.252Z"
   },
   {
    "duration": 51,
    "start_time": "2024-11-04T16:07:29.260Z"
   },
   {
    "duration": 211,
    "start_time": "2024-11-04T16:07:29.313Z"
   },
   {
    "duration": 187,
    "start_time": "2024-11-04T16:07:29.525Z"
   },
   {
    "duration": 85,
    "start_time": "2024-11-04T16:07:29.714Z"
   },
   {
    "duration": 98,
    "start_time": "2024-11-04T16:07:29.801Z"
   },
   {
    "duration": 13,
    "start_time": "2024-11-04T16:07:29.901Z"
   },
   {
    "duration": 20,
    "start_time": "2024-11-04T16:07:29.916Z"
   },
   {
    "duration": 112,
    "start_time": "2024-11-04T16:07:29.938Z"
   },
   {
    "duration": 1604,
    "start_time": "2024-11-04T16:07:30.053Z"
   },
   {
    "duration": 3,
    "start_time": "2024-11-04T16:09:27.941Z"
   },
   {
    "duration": 163,
    "start_time": "2024-11-04T16:09:27.946Z"
   },
   {
    "duration": 15,
    "start_time": "2024-11-04T16:09:28.110Z"
   },
   {
    "duration": 148,
    "start_time": "2024-11-04T16:09:28.127Z"
   },
   {
    "duration": 21,
    "start_time": "2024-11-04T16:09:28.277Z"
   },
   {
    "duration": 169,
    "start_time": "2024-11-04T16:09:28.300Z"
   },
   {
    "duration": 15,
    "start_time": "2024-11-04T16:09:28.470Z"
   },
   {
    "duration": 48,
    "start_time": "2024-11-04T16:09:28.497Z"
   },
   {
    "duration": 60,
    "start_time": "2024-11-04T16:09:28.546Z"
   },
   {
    "duration": 47,
    "start_time": "2024-11-04T16:09:28.608Z"
   },
   {
    "duration": 54,
    "start_time": "2024-11-04T16:09:28.657Z"
   },
   {
    "duration": 245,
    "start_time": "2024-11-04T16:09:28.712Z"
   },
   {
    "duration": 45,
    "start_time": "2024-11-04T16:09:28.959Z"
   },
   {
    "duration": 273,
    "start_time": "2024-11-04T16:09:29.005Z"
   },
   {
    "duration": 43,
    "start_time": "2024-11-04T16:09:29.280Z"
   },
   {
    "duration": 270,
    "start_time": "2024-11-04T16:09:29.325Z"
   },
   {
    "duration": 5,
    "start_time": "2024-11-04T16:09:29.597Z"
   },
   {
    "duration": 97,
    "start_time": "2024-11-04T16:09:29.604Z"
   },
   {
    "duration": 123,
    "start_time": "2024-11-04T16:09:29.703Z"
   },
   {
    "duration": 120,
    "start_time": "2024-11-04T16:09:29.898Z"
   },
   {
    "duration": 78,
    "start_time": "2024-11-04T16:09:30.020Z"
   },
   {
    "duration": 9,
    "start_time": "2024-11-04T16:09:30.101Z"
   },
   {
    "duration": 24,
    "start_time": "2024-11-04T16:09:30.199Z"
   },
   {
    "duration": 31,
    "start_time": "2024-11-04T16:09:30.225Z"
   },
   {
    "duration": 19,
    "start_time": "2024-11-04T16:09:30.258Z"
   },
   {
    "duration": 1641,
    "start_time": "2024-11-04T16:09:30.278Z"
   },
   {
    "duration": 4,
    "start_time": "2024-11-04T16:10:36.346Z"
   },
   {
    "duration": 185,
    "start_time": "2024-11-04T16:10:36.352Z"
   },
   {
    "duration": 15,
    "start_time": "2024-11-04T16:10:36.538Z"
   },
   {
    "duration": 151,
    "start_time": "2024-11-04T16:10:36.555Z"
   },
   {
    "duration": 16,
    "start_time": "2024-11-04T16:10:36.708Z"
   },
   {
    "duration": 149,
    "start_time": "2024-11-04T16:10:36.726Z"
   },
   {
    "duration": 25,
    "start_time": "2024-11-04T16:10:36.876Z"
   },
   {
    "duration": 53,
    "start_time": "2024-11-04T16:10:36.903Z"
   },
   {
    "duration": 53,
    "start_time": "2024-11-04T16:10:36.958Z"
   },
   {
    "duration": 53,
    "start_time": "2024-11-04T16:10:37.014Z"
   },
   {
    "duration": 52,
    "start_time": "2024-11-04T16:10:37.069Z"
   },
   {
    "duration": 276,
    "start_time": "2024-11-04T16:10:37.123Z"
   },
   {
    "duration": 36,
    "start_time": "2024-11-04T16:10:37.401Z"
   },
   {
    "duration": 294,
    "start_time": "2024-11-04T16:10:37.438Z"
   },
   {
    "duration": 39,
    "start_time": "2024-11-04T16:10:37.734Z"
   },
   {
    "duration": 276,
    "start_time": "2024-11-04T16:10:37.774Z"
   },
   {
    "duration": 4,
    "start_time": "2024-11-04T16:10:38.052Z"
   },
   {
    "duration": 57,
    "start_time": "2024-11-04T16:10:38.058Z"
   },
   {
    "duration": 127,
    "start_time": "2024-11-04T16:10:38.200Z"
   },
   {
    "duration": 191,
    "start_time": "2024-11-04T16:10:38.329Z"
   },
   {
    "duration": 77,
    "start_time": "2024-11-04T16:10:38.522Z"
   },
   {
    "duration": 95,
    "start_time": "2024-11-04T16:10:38.607Z"
   },
   {
    "duration": 9,
    "start_time": "2024-11-04T16:10:38.704Z"
   },
   {
    "duration": 26,
    "start_time": "2024-11-04T16:10:38.714Z"
   },
   {
    "duration": 5,
    "start_time": "2024-11-04T16:10:38.742Z"
   },
   {
    "duration": 1732,
    "start_time": "2024-11-04T16:10:38.749Z"
   },
   {
    "duration": 3,
    "start_time": "2024-11-04T16:11:12.977Z"
   },
   {
    "duration": 218,
    "start_time": "2024-11-04T16:11:12.982Z"
   },
   {
    "duration": 17,
    "start_time": "2024-11-04T16:11:13.201Z"
   },
   {
    "duration": 208,
    "start_time": "2024-11-04T16:11:13.219Z"
   },
   {
    "duration": 16,
    "start_time": "2024-11-04T16:11:13.429Z"
   },
   {
    "duration": 150,
    "start_time": "2024-11-04T16:11:13.447Z"
   },
   {
    "duration": 15,
    "start_time": "2024-11-04T16:11:13.598Z"
   },
   {
    "duration": 46,
    "start_time": "2024-11-04T16:11:13.615Z"
   },
   {
    "duration": 66,
    "start_time": "2024-11-04T16:11:13.662Z"
   },
   {
    "duration": 46,
    "start_time": "2024-11-04T16:11:13.730Z"
   },
   {
    "duration": 57,
    "start_time": "2024-11-04T16:11:13.778Z"
   },
   {
    "duration": 263,
    "start_time": "2024-11-04T16:11:13.836Z"
   },
   {
    "duration": 39,
    "start_time": "2024-11-04T16:11:14.101Z"
   },
   {
    "duration": 375,
    "start_time": "2024-11-04T16:11:14.143Z"
   },
   {
    "duration": 35,
    "start_time": "2024-11-04T16:11:14.519Z"
   },
   {
    "duration": 285,
    "start_time": "2024-11-04T16:11:14.556Z"
   },
   {
    "duration": 5,
    "start_time": "2024-11-04T16:11:14.843Z"
   },
   {
    "duration": 51,
    "start_time": "2024-11-04T16:11:14.849Z"
   },
   {
    "duration": 207,
    "start_time": "2024-11-04T16:11:14.902Z"
   },
   {
    "duration": 209,
    "start_time": "2024-11-04T16:11:15.111Z"
   },
   {
    "duration": 177,
    "start_time": "2024-11-04T16:11:15.322Z"
   },
   {
    "duration": 13,
    "start_time": "2024-11-04T16:11:15.501Z"
   },
   {
    "duration": 4,
    "start_time": "2024-11-04T16:11:15.516Z"
   },
   {
    "duration": 24,
    "start_time": "2024-11-04T16:11:15.522Z"
   },
   {
    "duration": 7,
    "start_time": "2024-11-04T16:11:15.548Z"
   },
   {
    "duration": 1660,
    "start_time": "2024-11-04T16:11:15.557Z"
   },
   {
    "duration": 3,
    "start_time": "2024-11-04T16:13:40.043Z"
   },
   {
    "duration": 163,
    "start_time": "2024-11-04T16:13:40.049Z"
   },
   {
    "duration": 16,
    "start_time": "2024-11-04T16:13:40.214Z"
   },
   {
    "duration": 159,
    "start_time": "2024-11-04T16:13:40.231Z"
   },
   {
    "duration": 17,
    "start_time": "2024-11-04T16:13:40.397Z"
   },
   {
    "duration": 153,
    "start_time": "2024-11-04T16:13:40.416Z"
   },
   {
    "duration": 28,
    "start_time": "2024-11-04T16:13:40.571Z"
   },
   {
    "duration": 49,
    "start_time": "2024-11-04T16:13:40.601Z"
   },
   {
    "duration": 60,
    "start_time": "2024-11-04T16:13:40.652Z"
   },
   {
    "duration": 47,
    "start_time": "2024-11-04T16:13:40.714Z"
   },
   {
    "duration": 62,
    "start_time": "2024-11-04T16:13:40.765Z"
   },
   {
    "duration": 251,
    "start_time": "2024-11-04T16:13:40.829Z"
   },
   {
    "duration": 46,
    "start_time": "2024-11-04T16:13:41.082Z"
   },
   {
    "duration": 258,
    "start_time": "2024-11-04T16:13:41.130Z"
   },
   {
    "duration": 38,
    "start_time": "2024-11-04T16:13:41.398Z"
   },
   {
    "duration": 263,
    "start_time": "2024-11-04T16:13:41.438Z"
   },
   {
    "duration": 6,
    "start_time": "2024-11-04T16:13:41.703Z"
   },
   {
    "duration": 89,
    "start_time": "2024-11-04T16:13:41.711Z"
   },
   {
    "duration": 121,
    "start_time": "2024-11-04T16:13:41.806Z"
   },
   {
    "duration": 121,
    "start_time": "2024-11-04T16:13:41.997Z"
   },
   {
    "duration": 77,
    "start_time": "2024-11-04T16:13:42.121Z"
   },
   {
    "duration": 5,
    "start_time": "2024-11-04T16:13:42.201Z"
   },
   {
    "duration": 91,
    "start_time": "2024-11-04T16:13:42.208Z"
   },
   {
    "duration": 24,
    "start_time": "2024-11-04T16:13:42.301Z"
   },
   {
    "duration": 7,
    "start_time": "2024-11-04T16:13:42.327Z"
   },
   {
    "duration": 1630,
    "start_time": "2024-11-04T16:13:42.336Z"
   },
   {
    "duration": 4,
    "start_time": "2024-11-04T16:22:10.984Z"
   },
   {
    "duration": 167,
    "start_time": "2024-11-04T16:22:10.990Z"
   },
   {
    "duration": 15,
    "start_time": "2024-11-04T16:22:11.158Z"
   },
   {
    "duration": 146,
    "start_time": "2024-11-04T16:22:11.174Z"
   },
   {
    "duration": 15,
    "start_time": "2024-11-04T16:22:11.322Z"
   },
   {
    "duration": 160,
    "start_time": "2024-11-04T16:22:11.338Z"
   },
   {
    "duration": 17,
    "start_time": "2024-11-04T16:22:11.499Z"
   },
   {
    "duration": 50,
    "start_time": "2024-11-04T16:22:11.518Z"
   },
   {
    "duration": 62,
    "start_time": "2024-11-04T16:22:11.570Z"
   },
   {
    "duration": 45,
    "start_time": "2024-11-04T16:22:11.633Z"
   },
   {
    "duration": 59,
    "start_time": "2024-11-04T16:22:11.680Z"
   },
   {
    "duration": 259,
    "start_time": "2024-11-04T16:22:11.740Z"
   },
   {
    "duration": 35,
    "start_time": "2024-11-04T16:22:12.001Z"
   },
   {
    "duration": 265,
    "start_time": "2024-11-04T16:22:12.039Z"
   },
   {
    "duration": 35,
    "start_time": "2024-11-04T16:22:12.306Z"
   },
   {
    "duration": 339,
    "start_time": "2024-11-04T16:22:12.343Z"
   },
   {
    "duration": 5,
    "start_time": "2024-11-04T16:22:12.683Z"
   },
   {
    "duration": 103,
    "start_time": "2024-11-04T16:22:12.698Z"
   },
   {
    "duration": 126,
    "start_time": "2024-11-04T16:22:12.804Z"
   },
   {
    "duration": 123,
    "start_time": "2024-11-04T16:22:12.999Z"
   },
   {
    "duration": 4,
    "start_time": "2024-11-04T16:22:13.199Z"
   },
   {
    "duration": 104,
    "start_time": "2024-11-04T16:22:13.205Z"
   },
   {
    "duration": 23,
    "start_time": "2024-11-04T16:22:13.310Z"
   },
   {
    "duration": 25,
    "start_time": "2024-11-04T16:22:13.335Z"
   },
   {
    "duration": 6,
    "start_time": "2024-11-04T16:22:13.361Z"
   },
   {
    "duration": 1614,
    "start_time": "2024-11-04T16:22:13.368Z"
   },
   {
    "duration": 1394,
    "start_time": "2024-11-04T16:22:27.745Z"
   },
   {
    "duration": 300,
    "start_time": "2024-11-04T16:22:29.141Z"
   },
   {
    "duration": 69,
    "start_time": "2024-11-04T16:22:29.443Z"
   },
   {
    "duration": 286,
    "start_time": "2024-11-04T16:22:29.513Z"
   },
   {
    "duration": 16,
    "start_time": "2024-11-04T16:22:29.801Z"
   },
   {
    "duration": 292,
    "start_time": "2024-11-04T16:22:29.818Z"
   },
   {
    "duration": 15,
    "start_time": "2024-11-04T16:22:30.111Z"
   },
   {
    "duration": 172,
    "start_time": "2024-11-04T16:22:30.127Z"
   },
   {
    "duration": 99,
    "start_time": "2024-11-04T16:22:30.300Z"
   },
   {
    "duration": 46,
    "start_time": "2024-11-04T16:22:30.400Z"
   },
   {
    "duration": 55,
    "start_time": "2024-11-04T16:22:30.448Z"
   },
   {
    "duration": 258,
    "start_time": "2024-11-04T16:22:30.505Z"
   },
   {
    "duration": 51,
    "start_time": "2024-11-04T16:22:30.765Z"
   },
   {
    "duration": 252,
    "start_time": "2024-11-04T16:22:30.819Z"
   },
   {
    "duration": 46,
    "start_time": "2024-11-04T16:22:31.072Z"
   },
   {
    "duration": 258,
    "start_time": "2024-11-04T16:22:31.119Z"
   },
   {
    "duration": 5,
    "start_time": "2024-11-04T16:22:31.379Z"
   },
   {
    "duration": 116,
    "start_time": "2024-11-04T16:22:31.385Z"
   },
   {
    "duration": 301,
    "start_time": "2024-11-04T16:22:31.503Z"
   },
   {
    "duration": 290,
    "start_time": "2024-11-04T16:22:31.808Z"
   },
   {
    "duration": 3,
    "start_time": "2024-11-04T16:22:32.197Z"
   },
   {
    "duration": 18,
    "start_time": "2024-11-04T16:22:32.202Z"
   },
   {
    "duration": 5,
    "start_time": "2024-11-04T16:22:32.222Z"
   },
   {
    "duration": 19,
    "start_time": "2024-11-04T16:22:32.229Z"
   },
   {
    "duration": 4,
    "start_time": "2024-11-04T16:22:32.249Z"
   },
   {
    "duration": 1595,
    "start_time": "2024-11-04T16:22:32.254Z"
   },
   {
    "duration": 4,
    "start_time": "2024-11-04T16:23:47.760Z"
   },
   {
    "duration": 1611,
    "start_time": "2024-11-04T16:23:47.766Z"
   },
   {
    "duration": 4,
    "start_time": "2024-11-04T16:28:33.196Z"
   },
   {
    "duration": 201,
    "start_time": "2024-11-04T16:28:33.202Z"
   },
   {
    "duration": 16,
    "start_time": "2024-11-04T16:28:33.404Z"
   },
   {
    "duration": 268,
    "start_time": "2024-11-04T16:28:33.422Z"
   },
   {
    "duration": 15,
    "start_time": "2024-11-04T16:28:33.691Z"
   },
   {
    "duration": 208,
    "start_time": "2024-11-04T16:28:33.708Z"
   },
   {
    "duration": 15,
    "start_time": "2024-11-04T16:28:33.918Z"
   },
   {
    "duration": 75,
    "start_time": "2024-11-04T16:28:33.935Z"
   },
   {
    "duration": 49,
    "start_time": "2024-11-04T16:28:34.012Z"
   },
   {
    "duration": 55,
    "start_time": "2024-11-04T16:28:34.064Z"
   },
   {
    "duration": 39,
    "start_time": "2024-11-04T16:28:34.120Z"
   },
   {
    "duration": 262,
    "start_time": "2024-11-04T16:28:34.160Z"
   },
   {
    "duration": 37,
    "start_time": "2024-11-04T16:28:34.423Z"
   },
   {
    "duration": 266,
    "start_time": "2024-11-04T16:28:34.462Z"
   },
   {
    "duration": 37,
    "start_time": "2024-11-04T16:28:34.729Z"
   },
   {
    "duration": 249,
    "start_time": "2024-11-04T16:28:34.768Z"
   },
   {
    "duration": 5,
    "start_time": "2024-11-04T16:28:35.019Z"
   },
   {
    "duration": 80,
    "start_time": "2024-11-04T16:28:35.025Z"
   },
   {
    "duration": 205,
    "start_time": "2024-11-04T16:28:35.106Z"
   },
   {
    "duration": 285,
    "start_time": "2024-11-04T16:28:35.313Z"
   },
   {
    "duration": 112,
    "start_time": "2024-11-04T16:28:35.606Z"
   },
   {
    "duration": 7,
    "start_time": "2024-11-04T16:28:35.720Z"
   },
   {
    "duration": 7,
    "start_time": "2024-11-04T16:28:35.729Z"
   },
   {
    "duration": 26,
    "start_time": "2024-11-04T16:28:35.737Z"
   },
   {
    "duration": 11,
    "start_time": "2024-11-04T16:28:35.765Z"
   },
   {
    "duration": 1547,
    "start_time": "2024-11-04T16:28:35.778Z"
   },
   {
    "duration": 1535,
    "start_time": "2024-11-04T16:29:24.085Z"
   },
   {
    "duration": 1548,
    "start_time": "2024-11-04T16:29:36.509Z"
   },
   {
    "duration": 5,
    "start_time": "2024-11-04T16:31:53.698Z"
   },
   {
    "duration": 187,
    "start_time": "2024-11-04T16:31:53.705Z"
   },
   {
    "duration": 17,
    "start_time": "2024-11-04T16:31:53.893Z"
   },
   {
    "duration": 146,
    "start_time": "2024-11-04T16:31:53.912Z"
   },
   {
    "duration": 16,
    "start_time": "2024-11-04T16:31:54.061Z"
   },
   {
    "duration": 155,
    "start_time": "2024-11-04T16:31:54.078Z"
   },
   {
    "duration": 15,
    "start_time": "2024-11-04T16:31:54.235Z"
   },
   {
    "duration": 58,
    "start_time": "2024-11-04T16:31:54.251Z"
   },
   {
    "duration": 42,
    "start_time": "2024-11-04T16:31:54.311Z"
   },
   {
    "duration": 63,
    "start_time": "2024-11-04T16:31:54.354Z"
   },
   {
    "duration": 39,
    "start_time": "2024-11-04T16:31:54.418Z"
   },
   {
    "duration": 265,
    "start_time": "2024-11-04T16:31:54.459Z"
   },
   {
    "duration": 39,
    "start_time": "2024-11-04T16:31:54.726Z"
   },
   {
    "duration": 280,
    "start_time": "2024-11-04T16:31:54.767Z"
   },
   {
    "duration": 48,
    "start_time": "2024-11-04T16:31:55.049Z"
   },
   {
    "duration": 252,
    "start_time": "2024-11-04T16:31:55.099Z"
   },
   {
    "duration": 4,
    "start_time": "2024-11-04T16:31:55.353Z"
   },
   {
    "duration": 47,
    "start_time": "2024-11-04T16:31:55.359Z"
   },
   {
    "duration": 212,
    "start_time": "2024-11-04T16:31:55.410Z"
   },
   {
    "duration": 122,
    "start_time": "2024-11-04T16:31:55.700Z"
   },
   {
    "duration": 5,
    "start_time": "2024-11-04T16:31:55.899Z"
   },
   {
    "duration": 3,
    "start_time": "2024-11-04T16:31:55.998Z"
   },
   {
    "duration": 29,
    "start_time": "2024-11-04T16:31:56.003Z"
   },
   {
    "duration": 31,
    "start_time": "2024-11-04T16:31:56.034Z"
   },
   {
    "duration": 5,
    "start_time": "2024-11-04T16:31:56.066Z"
   },
   {
    "duration": 113,
    "start_time": "2024-11-04T16:31:56.073Z"
   },
   {
    "duration": 13,
    "start_time": "2024-11-04T16:32:15.485Z"
   },
   {
    "duration": 4,
    "start_time": "2024-11-04T16:33:31.791Z"
   },
   {
    "duration": 180,
    "start_time": "2024-11-04T16:33:31.796Z"
   },
   {
    "duration": 24,
    "start_time": "2024-11-04T16:33:31.978Z"
   },
   {
    "duration": 161,
    "start_time": "2024-11-04T16:33:32.004Z"
   },
   {
    "duration": 14,
    "start_time": "2024-11-04T16:33:32.166Z"
   },
   {
    "duration": 142,
    "start_time": "2024-11-04T16:33:32.182Z"
   },
   {
    "duration": 14,
    "start_time": "2024-11-04T16:33:32.326Z"
   },
   {
    "duration": 60,
    "start_time": "2024-11-04T16:33:32.342Z"
   },
   {
    "duration": 45,
    "start_time": "2024-11-04T16:33:32.405Z"
   },
   {
    "duration": 64,
    "start_time": "2024-11-04T16:33:32.453Z"
   },
   {
    "duration": 36,
    "start_time": "2024-11-04T16:33:32.518Z"
   },
   {
    "duration": 252,
    "start_time": "2024-11-04T16:33:32.555Z"
   },
   {
    "duration": 37,
    "start_time": "2024-11-04T16:33:32.809Z"
   },
   {
    "duration": 372,
    "start_time": "2024-11-04T16:33:32.848Z"
   },
   {
    "duration": 34,
    "start_time": "2024-11-04T16:33:33.222Z"
   },
   {
    "duration": 252,
    "start_time": "2024-11-04T16:33:33.258Z"
   },
   {
    "duration": 5,
    "start_time": "2024-11-04T16:33:33.512Z"
   },
   {
    "duration": 83,
    "start_time": "2024-11-04T16:33:33.518Z"
   },
   {
    "duration": 297,
    "start_time": "2024-11-04T16:33:33.603Z"
   },
   {
    "duration": 132,
    "start_time": "2024-11-04T16:33:33.906Z"
   },
   {
    "duration": 100,
    "start_time": "2024-11-04T16:33:34.099Z"
   },
   {
    "duration": 36,
    "start_time": "2024-11-04T16:33:34.201Z"
   },
   {
    "duration": 10,
    "start_time": "2024-11-04T16:33:34.238Z"
   },
   {
    "duration": 37,
    "start_time": "2024-11-04T16:33:34.250Z"
   },
   {
    "duration": 18,
    "start_time": "2024-11-04T16:33:34.289Z"
   },
   {
    "duration": 1545,
    "start_time": "2024-11-04T16:33:34.309Z"
   },
   {
    "duration": 4,
    "start_time": "2024-11-04T16:33:56.396Z"
   },
   {
    "duration": 175,
    "start_time": "2024-11-04T16:33:56.402Z"
   },
   {
    "duration": 19,
    "start_time": "2024-11-04T16:33:56.579Z"
   },
   {
    "duration": 172,
    "start_time": "2024-11-04T16:33:56.600Z"
   },
   {
    "duration": 16,
    "start_time": "2024-11-04T16:33:56.774Z"
   },
   {
    "duration": 145,
    "start_time": "2024-11-04T16:33:56.797Z"
   },
   {
    "duration": 15,
    "start_time": "2024-11-04T16:33:56.943Z"
   },
   {
    "duration": 60,
    "start_time": "2024-11-04T16:33:56.960Z"
   },
   {
    "duration": 42,
    "start_time": "2024-11-04T16:33:57.022Z"
   },
   {
    "duration": 60,
    "start_time": "2024-11-04T16:33:57.066Z"
   },
   {
    "duration": 36,
    "start_time": "2024-11-04T16:33:57.128Z"
   },
   {
    "duration": 255,
    "start_time": "2024-11-04T16:33:57.166Z"
   },
   {
    "duration": 40,
    "start_time": "2024-11-04T16:33:57.423Z"
   },
   {
    "duration": 293,
    "start_time": "2024-11-04T16:33:57.465Z"
   },
   {
    "duration": 47,
    "start_time": "2024-11-04T16:33:57.759Z"
   },
   {
    "duration": 238,
    "start_time": "2024-11-04T16:33:57.807Z"
   },
   {
    "duration": 6,
    "start_time": "2024-11-04T16:33:58.047Z"
   },
   {
    "duration": 52,
    "start_time": "2024-11-04T16:33:58.054Z"
   },
   {
    "duration": 207,
    "start_time": "2024-11-04T16:33:58.107Z"
   },
   {
    "duration": 205,
    "start_time": "2024-11-04T16:33:58.317Z"
   },
   {
    "duration": 4,
    "start_time": "2024-11-04T16:33:58.599Z"
   },
   {
    "duration": 97,
    "start_time": "2024-11-04T16:33:58.605Z"
   },
   {
    "duration": 7,
    "start_time": "2024-11-04T16:33:58.704Z"
   },
   {
    "duration": 27,
    "start_time": "2024-11-04T16:33:58.713Z"
   },
   {
    "duration": 5,
    "start_time": "2024-11-04T16:33:58.742Z"
   },
   {
    "duration": 1604,
    "start_time": "2024-11-04T16:33:58.749Z"
   },
   {
    "duration": 4,
    "start_time": "2024-11-04T16:34:51.535Z"
   },
   {
    "duration": 187,
    "start_time": "2024-11-04T16:34:51.540Z"
   },
   {
    "duration": 15,
    "start_time": "2024-11-04T16:34:51.729Z"
   },
   {
    "duration": 167,
    "start_time": "2024-11-04T16:34:51.746Z"
   },
   {
    "duration": 16,
    "start_time": "2024-11-04T16:34:51.914Z"
   },
   {
    "duration": 181,
    "start_time": "2024-11-04T16:34:51.932Z"
   },
   {
    "duration": 15,
    "start_time": "2024-11-04T16:34:52.116Z"
   },
   {
    "duration": 53,
    "start_time": "2024-11-04T16:34:52.133Z"
   },
   {
    "duration": 51,
    "start_time": "2024-11-04T16:34:52.189Z"
   },
   {
    "duration": 59,
    "start_time": "2024-11-04T16:34:52.244Z"
   },
   {
    "duration": 65,
    "start_time": "2024-11-04T16:34:52.305Z"
   },
   {
    "duration": 245,
    "start_time": "2024-11-04T16:34:52.372Z"
   },
   {
    "duration": 35,
    "start_time": "2024-11-04T16:34:52.618Z"
   },
   {
    "duration": 267,
    "start_time": "2024-11-04T16:34:52.655Z"
   },
   {
    "duration": 35,
    "start_time": "2024-11-04T16:34:52.923Z"
   },
   {
    "duration": 351,
    "start_time": "2024-11-04T16:34:52.960Z"
   },
   {
    "duration": 5,
    "start_time": "2024-11-04T16:34:53.312Z"
   },
   {
    "duration": 80,
    "start_time": "2024-11-04T16:34:53.318Z"
   },
   {
    "duration": 215,
    "start_time": "2024-11-04T16:34:53.401Z"
   },
   {
    "duration": 205,
    "start_time": "2024-11-04T16:34:53.620Z"
   },
   {
    "duration": 5,
    "start_time": "2024-11-04T16:34:53.899Z"
   },
   {
    "duration": 93,
    "start_time": "2024-11-04T16:34:53.906Z"
   },
   {
    "duration": 6,
    "start_time": "2024-11-04T16:34:54.001Z"
   },
   {
    "duration": 19,
    "start_time": "2024-11-04T16:34:54.008Z"
   },
   {
    "duration": 5,
    "start_time": "2024-11-04T16:34:54.029Z"
   },
   {
    "duration": 1588,
    "start_time": "2024-11-04T16:34:54.035Z"
   },
   {
    "duration": 3,
    "start_time": "2024-11-04T16:38:02.693Z"
   },
   {
    "duration": 170,
    "start_time": "2024-11-04T16:38:02.698Z"
   },
   {
    "duration": 14,
    "start_time": "2024-11-04T16:38:02.870Z"
   },
   {
    "duration": 164,
    "start_time": "2024-11-04T16:38:02.886Z"
   },
   {
    "duration": 14,
    "start_time": "2024-11-04T16:38:03.052Z"
   },
   {
    "duration": 146,
    "start_time": "2024-11-04T16:38:03.068Z"
   },
   {
    "duration": 14,
    "start_time": "2024-11-04T16:38:03.216Z"
   },
   {
    "duration": 45,
    "start_time": "2024-11-04T16:38:03.232Z"
   },
   {
    "duration": 59,
    "start_time": "2024-11-04T16:38:03.279Z"
   },
   {
    "duration": 52,
    "start_time": "2024-11-04T16:38:03.340Z"
   },
   {
    "duration": 40,
    "start_time": "2024-11-04T16:38:03.398Z"
   },
   {
    "duration": 258,
    "start_time": "2024-11-04T16:38:03.440Z"
   },
   {
    "duration": 38,
    "start_time": "2024-11-04T16:38:03.699Z"
   },
   {
    "duration": 271,
    "start_time": "2024-11-04T16:38:03.739Z"
   },
   {
    "duration": 36,
    "start_time": "2024-11-04T16:38:04.011Z"
   },
   {
    "duration": 251,
    "start_time": "2024-11-04T16:38:04.049Z"
   },
   {
    "duration": 5,
    "start_time": "2024-11-04T16:38:04.302Z"
   },
   {
    "duration": 91,
    "start_time": "2024-11-04T16:38:04.309Z"
   },
   {
    "duration": 212,
    "start_time": "2024-11-04T16:38:04.403Z"
   },
   {
    "duration": 125,
    "start_time": "2024-11-04T16:38:04.698Z"
   },
   {
    "duration": 9,
    "start_time": "2024-11-04T16:38:04.898Z"
   },
   {
    "duration": 17,
    "start_time": "2024-11-04T16:38:04.999Z"
   },
   {
    "duration": 18,
    "start_time": "2024-11-04T16:38:05.017Z"
   },
   {
    "duration": 23,
    "start_time": "2024-11-04T16:38:05.036Z"
   },
   {
    "duration": 5,
    "start_time": "2024-11-04T16:38:05.060Z"
   },
   {
    "duration": 1593,
    "start_time": "2024-11-04T16:38:05.066Z"
   },
   {
    "duration": 3,
    "start_time": "2024-11-04T16:49:30.423Z"
   },
   {
    "duration": 187,
    "start_time": "2024-11-04T16:49:30.428Z"
   },
   {
    "duration": 14,
    "start_time": "2024-11-04T16:49:30.617Z"
   },
   {
    "duration": 212,
    "start_time": "2024-11-04T16:49:30.632Z"
   },
   {
    "duration": 15,
    "start_time": "2024-11-04T16:49:30.846Z"
   },
   {
    "duration": 146,
    "start_time": "2024-11-04T16:49:30.863Z"
   },
   {
    "duration": 15,
    "start_time": "2024-11-04T16:49:31.011Z"
   },
   {
    "duration": 44,
    "start_time": "2024-11-04T16:49:31.028Z"
   },
   {
    "duration": 64,
    "start_time": "2024-11-04T16:49:31.074Z"
   },
   {
    "duration": 42,
    "start_time": "2024-11-04T16:49:31.140Z"
   },
   {
    "duration": 52,
    "start_time": "2024-11-04T16:49:31.184Z"
   },
   {
    "duration": 269,
    "start_time": "2024-11-04T16:49:31.237Z"
   },
   {
    "duration": 36,
    "start_time": "2024-11-04T16:49:31.508Z"
   },
   {
    "duration": 321,
    "start_time": "2024-11-04T16:49:31.547Z"
   },
   {
    "duration": 45,
    "start_time": "2024-11-04T16:49:31.870Z"
   },
   {
    "duration": 248,
    "start_time": "2024-11-04T16:49:31.917Z"
   },
   {
    "duration": 5,
    "start_time": "2024-11-04T16:49:32.167Z"
   },
   {
    "duration": 50,
    "start_time": "2024-11-04T16:49:32.174Z"
   },
   {
    "duration": 190,
    "start_time": "2024-11-04T16:49:32.228Z"
   },
   {
    "duration": 124,
    "start_time": "2024-11-04T16:49:32.500Z"
   },
   {
    "duration": 98,
    "start_time": "2024-11-04T16:49:32.700Z"
   },
   {
    "duration": 22,
    "start_time": "2024-11-04T16:49:32.800Z"
   },
   {
    "duration": 3,
    "start_time": "2024-11-04T16:49:32.824Z"
   },
   {
    "duration": 27,
    "start_time": "2024-11-04T16:49:32.829Z"
   },
   {
    "duration": 7,
    "start_time": "2024-11-04T16:49:32.858Z"
   },
   {
    "duration": 1601,
    "start_time": "2024-11-04T16:49:32.867Z"
   },
   {
    "duration": 3,
    "start_time": "2024-11-04T16:51:34.640Z"
   },
   {
    "duration": 217,
    "start_time": "2024-11-04T16:51:34.645Z"
   },
   {
    "duration": 15,
    "start_time": "2024-11-04T16:51:34.864Z"
   },
   {
    "duration": 144,
    "start_time": "2024-11-04T16:51:34.881Z"
   },
   {
    "duration": 16,
    "start_time": "2024-11-04T16:51:35.026Z"
   },
   {
    "duration": 155,
    "start_time": "2024-11-04T16:51:35.043Z"
   },
   {
    "duration": 14,
    "start_time": "2024-11-04T16:51:35.200Z"
   },
   {
    "duration": 52,
    "start_time": "2024-11-04T16:51:35.215Z"
   },
   {
    "duration": 55,
    "start_time": "2024-11-04T16:51:35.269Z"
   },
   {
    "duration": 64,
    "start_time": "2024-11-04T16:51:35.327Z"
   },
   {
    "duration": 55,
    "start_time": "2024-11-04T16:51:35.393Z"
   },
   {
    "duration": 230,
    "start_time": "2024-11-04T16:51:35.449Z"
   },
   {
    "duration": 44,
    "start_time": "2024-11-04T16:51:35.681Z"
   },
   {
    "duration": 360,
    "start_time": "2024-11-04T16:51:35.726Z"
   },
   {
    "duration": 42,
    "start_time": "2024-11-04T16:51:36.088Z"
   },
   {
    "duration": 253,
    "start_time": "2024-11-04T16:51:36.131Z"
   },
   {
    "duration": 12,
    "start_time": "2024-11-04T16:51:36.386Z"
   },
   {
    "duration": 98,
    "start_time": "2024-11-04T16:51:36.400Z"
   },
   {
    "duration": 124,
    "start_time": "2024-11-04T16:51:36.504Z"
   },
   {
    "duration": 125,
    "start_time": "2024-11-04T16:51:36.697Z"
   },
   {
    "duration": 100,
    "start_time": "2024-11-04T16:51:36.899Z"
   },
   {
    "duration": 31,
    "start_time": "2024-11-04T16:51:37.001Z"
   },
   {
    "duration": 10,
    "start_time": "2024-11-04T16:51:37.033Z"
   },
   {
    "duration": 25,
    "start_time": "2024-11-04T16:51:37.044Z"
   },
   {
    "duration": 9,
    "start_time": "2024-11-04T16:51:37.070Z"
   },
   {
    "duration": 1644,
    "start_time": "2024-11-04T16:51:37.080Z"
   },
   {
    "duration": 3,
    "start_time": "2024-11-04T16:55:25.379Z"
   },
   {
    "duration": 164,
    "start_time": "2024-11-04T16:55:25.385Z"
   },
   {
    "duration": 15,
    "start_time": "2024-11-04T16:55:25.550Z"
   },
   {
    "duration": 187,
    "start_time": "2024-11-04T16:55:25.567Z"
   },
   {
    "duration": 16,
    "start_time": "2024-11-04T16:55:25.756Z"
   },
   {
    "duration": 148,
    "start_time": "2024-11-04T16:55:25.774Z"
   },
   {
    "duration": 17,
    "start_time": "2024-11-04T16:55:25.924Z"
   },
   {
    "duration": 64,
    "start_time": "2024-11-04T16:55:25.943Z"
   },
   {
    "duration": 41,
    "start_time": "2024-11-04T16:55:26.009Z"
   },
   {
    "duration": 65,
    "start_time": "2024-11-04T16:55:26.052Z"
   },
   {
    "duration": 38,
    "start_time": "2024-11-04T16:55:26.119Z"
   },
   {
    "duration": 252,
    "start_time": "2024-11-04T16:55:26.159Z"
   },
   {
    "duration": 39,
    "start_time": "2024-11-04T16:55:26.412Z"
   },
   {
    "duration": 265,
    "start_time": "2024-11-04T16:55:26.454Z"
   },
   {
    "duration": 37,
    "start_time": "2024-11-04T16:55:26.721Z"
   },
   {
    "duration": 249,
    "start_time": "2024-11-04T16:55:26.759Z"
   },
   {
    "duration": 5,
    "start_time": "2024-11-04T16:55:27.010Z"
   },
   {
    "duration": 84,
    "start_time": "2024-11-04T16:55:27.016Z"
   },
   {
    "duration": 121,
    "start_time": "2024-11-04T16:55:27.102Z"
   },
   {
    "duration": 121,
    "start_time": "2024-11-04T16:55:27.299Z"
   },
   {
    "duration": 78,
    "start_time": "2024-11-04T16:55:27.421Z"
   },
   {
    "duration": 97,
    "start_time": "2024-11-04T16:55:27.501Z"
   },
   {
    "duration": 59,
    "start_time": "2024-11-04T16:55:27.600Z"
   },
   {
    "duration": 20,
    "start_time": "2024-11-04T16:55:27.661Z"
   },
   {
    "duration": 6,
    "start_time": "2024-11-04T16:55:27.683Z"
   },
   {
    "duration": 14,
    "start_time": "2024-11-04T16:55:27.690Z"
   },
   {
    "duration": 4,
    "start_time": "2024-11-04T16:55:59.495Z"
   },
   {
    "duration": 166,
    "start_time": "2024-11-04T16:55:59.501Z"
   },
   {
    "duration": 15,
    "start_time": "2024-11-04T16:55:59.669Z"
   },
   {
    "duration": 147,
    "start_time": "2024-11-04T16:55:59.686Z"
   },
   {
    "duration": 16,
    "start_time": "2024-11-04T16:55:59.834Z"
   },
   {
    "duration": 150,
    "start_time": "2024-11-04T16:55:59.851Z"
   },
   {
    "duration": 15,
    "start_time": "2024-11-04T16:56:00.002Z"
   },
   {
    "duration": 79,
    "start_time": "2024-11-04T16:56:00.019Z"
   },
   {
    "duration": 60,
    "start_time": "2024-11-04T16:56:00.100Z"
   },
   {
    "duration": 58,
    "start_time": "2024-11-04T16:56:00.161Z"
   },
   {
    "duration": 39,
    "start_time": "2024-11-04T16:56:00.220Z"
   },
   {
    "duration": 261,
    "start_time": "2024-11-04T16:56:00.260Z"
   },
   {
    "duration": 37,
    "start_time": "2024-11-04T16:56:00.522Z"
   },
   {
    "duration": 261,
    "start_time": "2024-11-04T16:56:00.560Z"
   },
   {
    "duration": 36,
    "start_time": "2024-11-04T16:56:00.823Z"
   },
   {
    "duration": 359,
    "start_time": "2024-11-04T16:56:00.861Z"
   },
   {
    "duration": 5,
    "start_time": "2024-11-04T16:56:01.221Z"
   },
   {
    "duration": 78,
    "start_time": "2024-11-04T16:56:01.228Z"
   },
   {
    "duration": 119,
    "start_time": "2024-11-04T16:56:01.307Z"
   },
   {
    "duration": 199,
    "start_time": "2024-11-04T16:56:01.499Z"
   },
   {
    "duration": 106,
    "start_time": "2024-11-04T16:56:01.706Z"
   },
   {
    "duration": 18,
    "start_time": "2024-11-04T16:56:01.814Z"
   },
   {
    "duration": 19,
    "start_time": "2024-11-04T16:56:01.833Z"
   },
   {
    "duration": 41,
    "start_time": "2024-11-04T16:56:01.855Z"
   },
   {
    "duration": 7,
    "start_time": "2024-11-04T16:56:01.898Z"
   },
   {
    "duration": 1607,
    "start_time": "2024-11-04T16:56:01.906Z"
   },
   {
    "duration": 3,
    "start_time": "2024-11-04T16:57:54.845Z"
   },
   {
    "duration": 184,
    "start_time": "2024-11-04T16:57:54.850Z"
   },
   {
    "duration": 15,
    "start_time": "2024-11-04T16:57:55.036Z"
   },
   {
    "duration": 152,
    "start_time": "2024-11-04T16:57:55.053Z"
   },
   {
    "duration": 14,
    "start_time": "2024-11-04T16:57:55.208Z"
   },
   {
    "duration": 159,
    "start_time": "2024-11-04T16:57:55.223Z"
   },
   {
    "duration": 18,
    "start_time": "2024-11-04T16:57:55.384Z"
   },
   {
    "duration": 55,
    "start_time": "2024-11-04T16:57:55.404Z"
   },
   {
    "duration": 55,
    "start_time": "2024-11-04T16:57:55.460Z"
   },
   {
    "duration": 43,
    "start_time": "2024-11-04T16:57:55.516Z"
   },
   {
    "duration": 55,
    "start_time": "2024-11-04T16:57:55.561Z"
   },
   {
    "duration": 260,
    "start_time": "2024-11-04T16:57:55.618Z"
   },
   {
    "duration": 45,
    "start_time": "2024-11-04T16:57:55.880Z"
   },
   {
    "duration": 257,
    "start_time": "2024-11-04T16:57:55.928Z"
   },
   {
    "duration": 43,
    "start_time": "2024-11-04T16:57:56.186Z"
   },
   {
    "duration": 250,
    "start_time": "2024-11-04T16:57:56.231Z"
   },
   {
    "duration": 5,
    "start_time": "2024-11-04T16:57:56.483Z"
   },
   {
    "duration": 33,
    "start_time": "2024-11-04T16:57:56.498Z"
   },
   {
    "duration": 198,
    "start_time": "2024-11-04T16:57:56.599Z"
   },
   {
    "duration": 126,
    "start_time": "2024-11-04T16:57:56.801Z"
   },
   {
    "duration": 5,
    "start_time": "2024-11-04T16:57:56.999Z"
   },
   {
    "duration": 116,
    "start_time": "2024-11-04T16:57:57.007Z"
   },
   {
    "duration": 35,
    "start_time": "2024-11-04T16:57:57.124Z"
   },
   {
    "duration": 26,
    "start_time": "2024-11-04T16:57:57.160Z"
   },
   {
    "duration": 12,
    "start_time": "2024-11-04T16:57:57.188Z"
   },
   {
    "duration": 1665,
    "start_time": "2024-11-04T16:57:57.202Z"
   },
   {
    "duration": 3,
    "start_time": "2024-11-04T16:59:40.557Z"
   },
   {
    "duration": 165,
    "start_time": "2024-11-04T16:59:40.562Z"
   },
   {
    "duration": 16,
    "start_time": "2024-11-04T16:59:40.729Z"
   },
   {
    "duration": 147,
    "start_time": "2024-11-04T16:59:40.747Z"
   },
   {
    "duration": 15,
    "start_time": "2024-11-04T16:59:40.899Z"
   },
   {
    "duration": 144,
    "start_time": "2024-11-04T16:59:40.916Z"
   },
   {
    "duration": 15,
    "start_time": "2024-11-04T16:59:41.062Z"
   },
   {
    "duration": 54,
    "start_time": "2024-11-04T16:59:41.079Z"
   },
   {
    "duration": 44,
    "start_time": "2024-11-04T16:59:41.134Z"
   },
   {
    "duration": 61,
    "start_time": "2024-11-04T16:59:41.179Z"
   },
   {
    "duration": 37,
    "start_time": "2024-11-04T16:59:41.241Z"
   },
   {
    "duration": 269,
    "start_time": "2024-11-04T16:59:41.280Z"
   },
   {
    "duration": 35,
    "start_time": "2024-11-04T16:59:41.552Z"
   },
   {
    "duration": 265,
    "start_time": "2024-11-04T16:59:41.598Z"
   },
   {
    "duration": 47,
    "start_time": "2024-11-04T16:59:41.865Z"
   },
   {
    "duration": 247,
    "start_time": "2024-11-04T16:59:41.913Z"
   },
   {
    "duration": 5,
    "start_time": "2024-11-04T16:59:42.162Z"
   },
   {
    "duration": 50,
    "start_time": "2024-11-04T16:59:42.168Z"
   },
   {
    "duration": 278,
    "start_time": "2024-11-04T16:59:42.219Z"
   },
   {
    "duration": 129,
    "start_time": "2024-11-04T16:59:42.500Z"
   },
   {
    "duration": 92,
    "start_time": "2024-11-04T16:59:42.707Z"
   },
   {
    "duration": 12,
    "start_time": "2024-11-04T16:59:42.800Z"
   },
   {
    "duration": 10,
    "start_time": "2024-11-04T16:59:42.814Z"
   },
   {
    "duration": 30,
    "start_time": "2024-11-04T16:59:42.826Z"
   },
   {
    "duration": 5,
    "start_time": "2024-11-04T16:59:42.858Z"
   },
   {
    "duration": 1569,
    "start_time": "2024-11-04T16:59:42.864Z"
   },
   {
    "duration": 3,
    "start_time": "2024-11-04T17:00:25.334Z"
   },
   {
    "duration": 204,
    "start_time": "2024-11-04T17:00:25.339Z"
   },
   {
    "duration": 14,
    "start_time": "2024-11-04T17:00:25.545Z"
   },
   {
    "duration": 167,
    "start_time": "2024-11-04T17:00:25.561Z"
   },
   {
    "duration": 15,
    "start_time": "2024-11-04T17:00:25.730Z"
   },
   {
    "duration": 154,
    "start_time": "2024-11-04T17:00:25.746Z"
   },
   {
    "duration": 15,
    "start_time": "2024-11-04T17:00:25.902Z"
   },
   {
    "duration": 52,
    "start_time": "2024-11-04T17:00:25.919Z"
   },
   {
    "duration": 61,
    "start_time": "2024-11-04T17:00:25.972Z"
   },
   {
    "duration": 44,
    "start_time": "2024-11-04T17:00:26.035Z"
   },
   {
    "duration": 55,
    "start_time": "2024-11-04T17:00:26.080Z"
   },
   {
    "duration": 366,
    "start_time": "2024-11-04T17:00:26.137Z"
   },
   {
    "duration": 45,
    "start_time": "2024-11-04T17:00:26.505Z"
   },
   {
    "duration": 272,
    "start_time": "2024-11-04T17:00:26.552Z"
   },
   {
    "duration": 37,
    "start_time": "2024-11-04T17:00:26.826Z"
   },
   {
    "duration": 264,
    "start_time": "2024-11-04T17:00:26.865Z"
   },
   {
    "duration": 6,
    "start_time": "2024-11-04T17:00:27.130Z"
   },
   {
    "duration": 66,
    "start_time": "2024-11-04T17:00:27.138Z"
   },
   {
    "duration": 102,
    "start_time": "2024-11-04T17:00:27.298Z"
   },
   {
    "duration": 125,
    "start_time": "2024-11-04T17:00:27.402Z"
   },
   {
    "duration": 73,
    "start_time": "2024-11-04T17:00:27.530Z"
   },
   {
    "duration": 103,
    "start_time": "2024-11-04T17:00:27.604Z"
   },
   {
    "duration": 34,
    "start_time": "2024-11-04T17:00:27.709Z"
   },
   {
    "duration": 74,
    "start_time": "2024-11-04T17:00:27.745Z"
   },
   {
    "duration": 16,
    "start_time": "2024-11-04T17:00:27.821Z"
   },
   {
    "duration": 1662,
    "start_time": "2024-11-04T17:00:27.839Z"
   },
   {
    "duration": 5,
    "start_time": "2024-11-04T17:01:08.407Z"
   },
   {
    "duration": 171,
    "start_time": "2024-11-04T17:01:08.415Z"
   },
   {
    "duration": 22,
    "start_time": "2024-11-04T17:01:08.588Z"
   },
   {
    "duration": 170,
    "start_time": "2024-11-04T17:01:08.612Z"
   },
   {
    "duration": 19,
    "start_time": "2024-11-04T17:01:08.784Z"
   },
   {
    "duration": 150,
    "start_time": "2024-11-04T17:01:08.805Z"
   },
   {
    "duration": 15,
    "start_time": "2024-11-04T17:01:08.956Z"
   },
   {
    "duration": 65,
    "start_time": "2024-11-04T17:01:08.973Z"
   },
   {
    "duration": 41,
    "start_time": "2024-11-04T17:01:09.040Z"
   },
   {
    "duration": 56,
    "start_time": "2024-11-04T17:01:09.084Z"
   },
   {
    "duration": 41,
    "start_time": "2024-11-04T17:01:09.142Z"
   },
   {
    "duration": 251,
    "start_time": "2024-11-04T17:01:09.201Z"
   },
   {
    "duration": 45,
    "start_time": "2024-11-04T17:01:09.454Z"
   },
   {
    "duration": 256,
    "start_time": "2024-11-04T17:01:09.500Z"
   },
   {
    "duration": 52,
    "start_time": "2024-11-04T17:01:09.758Z"
   },
   {
    "duration": 254,
    "start_time": "2024-11-04T17:01:09.811Z"
   },
   {
    "duration": 5,
    "start_time": "2024-11-04T17:01:10.066Z"
   },
   {
    "duration": 49,
    "start_time": "2024-11-04T17:01:10.073Z"
   },
   {
    "duration": 192,
    "start_time": "2024-11-04T17:01:10.125Z"
   },
   {
    "duration": 124,
    "start_time": "2024-11-04T17:01:10.399Z"
   },
   {
    "duration": 5,
    "start_time": "2024-11-04T17:01:10.598Z"
   },
   {
    "duration": 121,
    "start_time": "2024-11-04T17:01:10.605Z"
   },
   {
    "duration": 9,
    "start_time": "2024-11-04T17:01:10.728Z"
   },
   {
    "duration": 20,
    "start_time": "2024-11-04T17:01:10.739Z"
   },
   {
    "duration": 5,
    "start_time": "2024-11-04T17:01:10.761Z"
   },
   {
    "duration": 1589,
    "start_time": "2024-11-04T17:01:10.767Z"
   },
   {
    "duration": 5,
    "start_time": "2024-11-04T17:02:50.786Z"
   },
   {
    "duration": 168,
    "start_time": "2024-11-04T17:02:50.793Z"
   },
   {
    "duration": 15,
    "start_time": "2024-11-04T17:02:50.963Z"
   },
   {
    "duration": 140,
    "start_time": "2024-11-04T17:02:50.979Z"
   },
   {
    "duration": 16,
    "start_time": "2024-11-04T17:02:51.121Z"
   },
   {
    "duration": 144,
    "start_time": "2024-11-04T17:02:51.139Z"
   },
   {
    "duration": 21,
    "start_time": "2024-11-04T17:02:51.284Z"
   },
   {
    "duration": 47,
    "start_time": "2024-11-04T17:02:51.307Z"
   },
   {
    "duration": 63,
    "start_time": "2024-11-04T17:02:51.355Z"
   },
   {
    "duration": 48,
    "start_time": "2024-11-04T17:02:51.420Z"
   },
   {
    "duration": 52,
    "start_time": "2024-11-04T17:02:51.470Z"
   },
   {
    "duration": 242,
    "start_time": "2024-11-04T17:02:51.523Z"
   },
   {
    "duration": 48,
    "start_time": "2024-11-04T17:02:51.767Z"
   },
   {
    "duration": 354,
    "start_time": "2024-11-04T17:02:51.818Z"
   },
   {
    "duration": 52,
    "start_time": "2024-11-04T17:02:52.174Z"
   },
   {
    "duration": 241,
    "start_time": "2024-11-04T17:02:52.228Z"
   },
   {
    "duration": 5,
    "start_time": "2024-11-04T17:02:52.471Z"
   },
   {
    "duration": 48,
    "start_time": "2024-11-04T17:02:52.478Z"
   },
   {
    "duration": 123,
    "start_time": "2024-11-04T17:02:52.599Z"
   },
   {
    "duration": 120,
    "start_time": "2024-11-04T17:02:52.803Z"
   },
   {
    "duration": 4,
    "start_time": "2024-11-04T17:02:52.999Z"
   },
   {
    "duration": 93,
    "start_time": "2024-11-04T17:02:53.007Z"
   },
   {
    "duration": 34,
    "start_time": "2024-11-04T17:02:53.101Z"
   },
   {
    "duration": 30,
    "start_time": "2024-11-04T17:02:53.137Z"
   },
   {
    "duration": 4,
    "start_time": "2024-11-04T17:02:53.169Z"
   },
   {
    "duration": 1580,
    "start_time": "2024-11-04T17:02:53.175Z"
   },
   {
    "duration": 3,
    "start_time": "2024-11-04T17:04:36.836Z"
   },
   {
    "duration": 221,
    "start_time": "2024-11-04T17:04:36.842Z"
   },
   {
    "duration": 17,
    "start_time": "2024-11-04T17:04:37.065Z"
   },
   {
    "duration": 163,
    "start_time": "2024-11-04T17:04:37.084Z"
   },
   {
    "duration": 16,
    "start_time": "2024-11-04T17:04:37.249Z"
   },
   {
    "duration": 151,
    "start_time": "2024-11-04T17:04:37.267Z"
   },
   {
    "duration": 16,
    "start_time": "2024-11-04T17:04:37.420Z"
   },
   {
    "duration": 71,
    "start_time": "2024-11-04T17:04:37.438Z"
   },
   {
    "duration": 46,
    "start_time": "2024-11-04T17:04:37.511Z"
   },
   {
    "duration": 58,
    "start_time": "2024-11-04T17:04:37.558Z"
   },
   {
    "duration": 39,
    "start_time": "2024-11-04T17:04:37.619Z"
   },
   {
    "duration": 314,
    "start_time": "2024-11-04T17:04:37.660Z"
   },
   {
    "duration": 44,
    "start_time": "2024-11-04T17:04:37.976Z"
   },
   {
    "duration": 258,
    "start_time": "2024-11-04T17:04:38.022Z"
   },
   {
    "duration": 46,
    "start_time": "2024-11-04T17:04:38.282Z"
   },
   {
    "duration": 269,
    "start_time": "2024-11-04T17:04:38.329Z"
   },
   {
    "duration": 5,
    "start_time": "2024-11-04T17:04:38.600Z"
   },
   {
    "duration": 91,
    "start_time": "2024-11-04T17:04:38.607Z"
   },
   {
    "duration": 125,
    "start_time": "2024-11-04T17:04:38.701Z"
   },
   {
    "duration": 126,
    "start_time": "2024-11-04T17:04:38.899Z"
   },
   {
    "duration": 4,
    "start_time": "2024-11-04T17:04:39.099Z"
   },
   {
    "duration": 94,
    "start_time": "2024-11-04T17:04:39.106Z"
   },
   {
    "duration": 5,
    "start_time": "2024-11-04T17:04:39.202Z"
   },
   {
    "duration": 24,
    "start_time": "2024-11-04T17:04:39.209Z"
   },
   {
    "duration": 5,
    "start_time": "2024-11-04T17:04:39.235Z"
   },
   {
    "duration": 1600,
    "start_time": "2024-11-04T17:04:39.242Z"
   },
   {
    "duration": 12,
    "start_time": "2024-11-04T17:07:01.059Z"
   },
   {
    "duration": 5,
    "start_time": "2024-11-04T17:07:06.641Z"
   },
   {
    "duration": 9,
    "start_time": "2024-11-04T17:07:15.336Z"
   },
   {
    "duration": 4,
    "start_time": "2024-11-04T17:07:21.064Z"
   },
   {
    "duration": 4,
    "start_time": "2024-11-04T17:10:12.864Z"
   },
   {
    "duration": 166,
    "start_time": "2024-11-04T17:10:12.870Z"
   },
   {
    "duration": 15,
    "start_time": "2024-11-04T17:10:13.037Z"
   },
   {
    "duration": 147,
    "start_time": "2024-11-04T17:10:13.054Z"
   },
   {
    "duration": 15,
    "start_time": "2024-11-04T17:10:13.203Z"
   },
   {
    "duration": 152,
    "start_time": "2024-11-04T17:10:13.220Z"
   },
   {
    "duration": 24,
    "start_time": "2024-11-04T17:10:13.374Z"
   },
   {
    "duration": 71,
    "start_time": "2024-11-04T17:10:13.399Z"
   },
   {
    "duration": 41,
    "start_time": "2024-11-04T17:10:13.471Z"
   },
   {
    "duration": 46,
    "start_time": "2024-11-04T17:10:13.515Z"
   },
   {
    "duration": 52,
    "start_time": "2024-11-04T17:10:13.563Z"
   },
   {
    "duration": 247,
    "start_time": "2024-11-04T17:10:13.616Z"
   },
   {
    "duration": 43,
    "start_time": "2024-11-04T17:10:13.865Z"
   },
   {
    "duration": 263,
    "start_time": "2024-11-04T17:10:13.910Z"
   },
   {
    "duration": 46,
    "start_time": "2024-11-04T17:10:14.174Z"
   },
   {
    "duration": 239,
    "start_time": "2024-11-04T17:10:14.222Z"
   },
   {
    "duration": 5,
    "start_time": "2024-11-04T17:10:14.463Z"
   },
   {
    "duration": 49,
    "start_time": "2024-11-04T17:10:14.469Z"
   },
   {
    "duration": 197,
    "start_time": "2024-11-04T17:10:14.520Z"
   },
   {
    "duration": 279,
    "start_time": "2024-11-04T17:10:14.719Z"
   },
   {
    "duration": 5,
    "start_time": "2024-11-04T17:10:15.000Z"
   },
   {
    "duration": 92,
    "start_time": "2024-11-04T17:10:15.008Z"
   },
   {
    "duration": 70,
    "start_time": "2024-11-04T17:10:15.102Z"
   },
   {
    "duration": 33,
    "start_time": "2024-11-04T17:10:15.174Z"
   },
   {
    "duration": 118,
    "start_time": "2024-11-04T17:10:15.208Z"
   },
   {
    "duration": 1707,
    "start_time": "2024-11-04T17:10:15.327Z"
   },
   {
    "duration": 5,
    "start_time": "2024-11-04T17:10:46.624Z"
   },
   {
    "duration": 4,
    "start_time": "2024-11-04T17:10:51.734Z"
   },
   {
    "duration": 1320,
    "start_time": "2024-11-04T17:11:35.332Z"
   },
   {
    "duration": 172,
    "start_time": "2024-11-04T17:11:36.654Z"
   },
   {
    "duration": 17,
    "start_time": "2024-11-04T17:11:36.827Z"
   },
   {
    "duration": 155,
    "start_time": "2024-11-04T17:11:36.846Z"
   },
   {
    "duration": 17,
    "start_time": "2024-11-04T17:11:37.004Z"
   },
   {
    "duration": 160,
    "start_time": "2024-11-04T17:11:37.023Z"
   },
   {
    "duration": 25,
    "start_time": "2024-11-04T17:11:37.185Z"
   },
   {
    "duration": 66,
    "start_time": "2024-11-04T17:11:37.211Z"
   },
   {
    "duration": 45,
    "start_time": "2024-11-04T17:11:37.279Z"
   },
   {
    "duration": 59,
    "start_time": "2024-11-04T17:11:37.326Z"
   },
   {
    "duration": 49,
    "start_time": "2024-11-04T17:11:37.387Z"
   },
   {
    "duration": 266,
    "start_time": "2024-11-04T17:11:37.437Z"
   },
   {
    "duration": 45,
    "start_time": "2024-11-04T17:11:37.704Z"
   },
   {
    "duration": 254,
    "start_time": "2024-11-04T17:11:37.752Z"
   },
   {
    "duration": 35,
    "start_time": "2024-11-04T17:11:38.008Z"
   },
   {
    "duration": 266,
    "start_time": "2024-11-04T17:11:38.045Z"
   },
   {
    "duration": 4,
    "start_time": "2024-11-04T17:11:38.313Z"
   },
   {
    "duration": 84,
    "start_time": "2024-11-04T17:11:38.319Z"
   },
   {
    "duration": 292,
    "start_time": "2024-11-04T17:11:38.405Z"
   },
   {
    "duration": 125,
    "start_time": "2024-11-04T17:11:38.700Z"
   },
   {
    "duration": 7,
    "start_time": "2024-11-04T17:11:38.899Z"
   },
   {
    "duration": 3,
    "start_time": "2024-11-04T17:11:38.999Z"
   },
   {
    "duration": 6,
    "start_time": "2024-11-04T17:11:39.003Z"
   },
   {
    "duration": 19,
    "start_time": "2024-11-04T17:11:39.011Z"
   },
   {
    "duration": 4,
    "start_time": "2024-11-04T17:11:39.032Z"
   },
   {
    "duration": 1598,
    "start_time": "2024-11-04T17:11:39.038Z"
   },
   {
    "duration": 4,
    "start_time": "2024-11-04T17:20:37.915Z"
   },
   {
    "duration": 227,
    "start_time": "2024-11-04T17:20:37.921Z"
   },
   {
    "duration": 15,
    "start_time": "2024-11-04T17:20:38.150Z"
   },
   {
    "duration": 144,
    "start_time": "2024-11-04T17:20:38.167Z"
   },
   {
    "duration": 14,
    "start_time": "2024-11-04T17:20:38.312Z"
   },
   {
    "duration": 192,
    "start_time": "2024-11-04T17:20:38.327Z"
   },
   {
    "duration": 14,
    "start_time": "2024-11-04T17:20:38.520Z"
   },
   {
    "duration": 51,
    "start_time": "2024-11-04T17:20:38.535Z"
   },
   {
    "duration": 42,
    "start_time": "2024-11-04T17:20:38.599Z"
   },
   {
    "duration": 56,
    "start_time": "2024-11-04T17:20:38.642Z"
   },
   {
    "duration": 39,
    "start_time": "2024-11-04T17:20:38.700Z"
   },
   {
    "duration": 260,
    "start_time": "2024-11-04T17:20:38.741Z"
   },
   {
    "duration": 37,
    "start_time": "2024-11-04T17:20:39.002Z"
   },
   {
    "duration": 288,
    "start_time": "2024-11-04T17:20:39.041Z"
   },
   {
    "duration": 36,
    "start_time": "2024-11-04T17:20:39.331Z"
   },
   {
    "duration": 249,
    "start_time": "2024-11-04T17:20:39.369Z"
   },
   {
    "duration": 5,
    "start_time": "2024-11-04T17:20:39.620Z"
   },
   {
    "duration": 73,
    "start_time": "2024-11-04T17:20:39.626Z"
   },
   {
    "duration": 195,
    "start_time": "2024-11-04T17:20:39.703Z"
   },
   {
    "duration": 196,
    "start_time": "2024-11-04T17:20:39.901Z"
   },
   {
    "duration": 4,
    "start_time": "2024-11-04T17:20:40.099Z"
   },
   {
    "duration": 113,
    "start_time": "2024-11-04T17:20:40.106Z"
   },
   {
    "duration": 12,
    "start_time": "2024-11-04T17:20:40.221Z"
   },
   {
    "duration": 30,
    "start_time": "2024-11-04T17:20:40.236Z"
   },
   {
    "duration": 4,
    "start_time": "2024-11-04T17:20:40.268Z"
   },
   {
    "duration": 1578,
    "start_time": "2024-11-04T17:20:40.274Z"
   },
   {
    "duration": 4,
    "start_time": "2024-11-04T17:21:01.741Z"
   },
   {
    "duration": 176,
    "start_time": "2024-11-04T17:21:01.752Z"
   },
   {
    "duration": 15,
    "start_time": "2024-11-04T17:21:01.931Z"
   },
   {
    "duration": 159,
    "start_time": "2024-11-04T17:21:01.947Z"
   },
   {
    "duration": 15,
    "start_time": "2024-11-04T17:21:02.107Z"
   },
   {
    "duration": 167,
    "start_time": "2024-11-04T17:21:02.124Z"
   },
   {
    "duration": 19,
    "start_time": "2024-11-04T17:21:02.292Z"
   },
   {
    "duration": 74,
    "start_time": "2024-11-04T17:21:02.313Z"
   },
   {
    "duration": 43,
    "start_time": "2024-11-04T17:21:02.389Z"
   },
   {
    "duration": 46,
    "start_time": "2024-11-04T17:21:02.434Z"
   },
   {
    "duration": 55,
    "start_time": "2024-11-04T17:21:02.482Z"
   },
   {
    "duration": 261,
    "start_time": "2024-11-04T17:21:02.538Z"
   },
   {
    "duration": 37,
    "start_time": "2024-11-04T17:21:02.801Z"
   },
   {
    "duration": 264,
    "start_time": "2024-11-04T17:21:02.839Z"
   },
   {
    "duration": 35,
    "start_time": "2024-11-04T17:21:03.106Z"
   },
   {
    "duration": 256,
    "start_time": "2024-11-04T17:21:03.142Z"
   },
   {
    "duration": 5,
    "start_time": "2024-11-04T17:21:03.399Z"
   },
   {
    "duration": 73,
    "start_time": "2024-11-04T17:21:03.406Z"
   },
   {
    "duration": 198,
    "start_time": "2024-11-04T17:21:03.502Z"
   },
   {
    "duration": 123,
    "start_time": "2024-11-04T17:21:03.703Z"
   },
   {
    "duration": 5,
    "start_time": "2024-11-04T17:21:03.899Z"
   },
   {
    "duration": 97,
    "start_time": "2024-11-04T17:21:03.906Z"
   },
   {
    "duration": 11,
    "start_time": "2024-11-04T17:21:04.004Z"
   },
   {
    "duration": 22,
    "start_time": "2024-11-04T17:21:04.017Z"
   },
   {
    "duration": 4,
    "start_time": "2024-11-04T17:21:04.041Z"
   },
   {
    "duration": 1561,
    "start_time": "2024-11-04T17:21:04.047Z"
   },
   {
    "duration": 105,
    "start_time": "2024-11-04T17:21:12.249Z"
   },
   {
    "duration": 3,
    "start_time": "2024-11-04T17:21:23.664Z"
   },
   {
    "duration": 184,
    "start_time": "2024-11-04T17:21:23.669Z"
   },
   {
    "duration": 15,
    "start_time": "2024-11-04T17:21:23.855Z"
   },
   {
    "duration": 143,
    "start_time": "2024-11-04T17:21:23.872Z"
   },
   {
    "duration": 15,
    "start_time": "2024-11-04T17:21:24.018Z"
   },
   {
    "duration": 151,
    "start_time": "2024-11-04T17:21:24.034Z"
   },
   {
    "duration": 23,
    "start_time": "2024-11-04T17:21:24.187Z"
   },
   {
    "duration": 49,
    "start_time": "2024-11-04T17:21:24.212Z"
   },
   {
    "duration": 65,
    "start_time": "2024-11-04T17:21:24.262Z"
   },
   {
    "duration": 45,
    "start_time": "2024-11-04T17:21:24.329Z"
   },
   {
    "duration": 49,
    "start_time": "2024-11-04T17:21:24.376Z"
   },
   {
    "duration": 335,
    "start_time": "2024-11-04T17:21:24.426Z"
   },
   {
    "duration": 45,
    "start_time": "2024-11-04T17:21:24.763Z"
   },
   {
    "duration": 250,
    "start_time": "2024-11-04T17:21:24.810Z"
   },
   {
    "duration": 48,
    "start_time": "2024-11-04T17:21:25.061Z"
   },
   {
    "duration": 250,
    "start_time": "2024-11-04T17:21:25.110Z"
   },
   {
    "duration": 5,
    "start_time": "2024-11-04T17:21:25.361Z"
   },
   {
    "duration": 44,
    "start_time": "2024-11-04T17:21:25.368Z"
   },
   {
    "duration": 208,
    "start_time": "2024-11-04T17:21:25.414Z"
   },
   {
    "duration": 274,
    "start_time": "2024-11-04T17:21:25.624Z"
   },
   {
    "duration": 92,
    "start_time": "2024-11-04T17:21:25.906Z"
   },
   {
    "duration": 5,
    "start_time": "2024-11-04T17:21:26.000Z"
   },
   {
    "duration": 10,
    "start_time": "2024-11-04T17:21:26.007Z"
   },
   {
    "duration": 23,
    "start_time": "2024-11-04T17:21:26.018Z"
   },
   {
    "duration": 64,
    "start_time": "2024-11-04T17:21:26.042Z"
   },
   {
    "duration": 0,
    "start_time": "2024-11-04T17:21:26.107Z"
   },
   {
    "duration": 0,
    "start_time": "2024-11-04T17:21:26.109Z"
   },
   {
    "duration": 3,
    "start_time": "2024-11-04T17:21:31.294Z"
   },
   {
    "duration": 174,
    "start_time": "2024-11-04T17:21:31.300Z"
   },
   {
    "duration": 15,
    "start_time": "2024-11-04T17:21:31.475Z"
   },
   {
    "duration": 163,
    "start_time": "2024-11-04T17:21:31.498Z"
   },
   {
    "duration": 16,
    "start_time": "2024-11-04T17:21:31.663Z"
   },
   {
    "duration": 143,
    "start_time": "2024-11-04T17:21:31.680Z"
   },
   {
    "duration": 15,
    "start_time": "2024-11-04T17:21:31.824Z"
   },
   {
    "duration": 58,
    "start_time": "2024-11-04T17:21:31.841Z"
   },
   {
    "duration": 43,
    "start_time": "2024-11-04T17:21:31.900Z"
   },
   {
    "duration": 59,
    "start_time": "2024-11-04T17:21:31.944Z"
   },
   {
    "duration": 39,
    "start_time": "2024-11-04T17:21:32.004Z"
   },
   {
    "duration": 255,
    "start_time": "2024-11-04T17:21:32.044Z"
   },
   {
    "duration": 36,
    "start_time": "2024-11-04T17:21:32.301Z"
   },
   {
    "duration": 274,
    "start_time": "2024-11-04T17:21:32.341Z"
   },
   {
    "duration": 38,
    "start_time": "2024-11-04T17:21:32.618Z"
   },
   {
    "duration": 262,
    "start_time": "2024-11-04T17:21:32.659Z"
   },
   {
    "duration": 5,
    "start_time": "2024-11-04T17:21:32.924Z"
   },
   {
    "duration": 78,
    "start_time": "2024-11-04T17:21:32.931Z"
   },
   {
    "duration": 119,
    "start_time": "2024-11-04T17:21:33.099Z"
   },
   {
    "duration": 199,
    "start_time": "2024-11-04T17:21:33.220Z"
   },
   {
    "duration": 99,
    "start_time": "2024-11-04T17:21:33.499Z"
   },
   {
    "duration": 38,
    "start_time": "2024-11-04T17:21:33.600Z"
   },
   {
    "duration": 24,
    "start_time": "2024-11-04T17:21:33.640Z"
   },
   {
    "duration": 96,
    "start_time": "2024-11-04T17:21:33.666Z"
   },
   {
    "duration": 97,
    "start_time": "2024-11-04T17:21:33.763Z"
   },
   {
    "duration": 10,
    "start_time": "2024-11-04T17:21:33.862Z"
   },
   {
    "duration": 0,
    "start_time": "2024-11-04T17:21:33.874Z"
   },
   {
    "duration": 3,
    "start_time": "2024-11-04T17:22:06.034Z"
   },
   {
    "duration": 178,
    "start_time": "2024-11-04T17:22:06.039Z"
   },
   {
    "duration": 16,
    "start_time": "2024-11-04T17:22:06.219Z"
   },
   {
    "duration": 156,
    "start_time": "2024-11-04T17:22:06.237Z"
   },
   {
    "duration": 15,
    "start_time": "2024-11-04T17:22:06.397Z"
   },
   {
    "duration": 156,
    "start_time": "2024-11-04T17:22:06.413Z"
   },
   {
    "duration": 15,
    "start_time": "2024-11-04T17:22:06.571Z"
   },
   {
    "duration": 80,
    "start_time": "2024-11-04T17:22:06.588Z"
   },
   {
    "duration": 45,
    "start_time": "2024-11-04T17:22:06.670Z"
   },
   {
    "duration": 43,
    "start_time": "2024-11-04T17:22:06.716Z"
   },
   {
    "duration": 52,
    "start_time": "2024-11-04T17:22:06.761Z"
   },
   {
    "duration": 273,
    "start_time": "2024-11-04T17:22:06.815Z"
   },
   {
    "duration": 44,
    "start_time": "2024-11-04T17:22:07.090Z"
   },
   {
    "duration": 276,
    "start_time": "2024-11-04T17:22:07.136Z"
   },
   {
    "duration": 39,
    "start_time": "2024-11-04T17:22:07.413Z"
   },
   {
    "duration": 269,
    "start_time": "2024-11-04T17:22:07.453Z"
   },
   {
    "duration": 4,
    "start_time": "2024-11-04T17:22:07.724Z"
   },
   {
    "duration": 89,
    "start_time": "2024-11-04T17:22:07.730Z"
   },
   {
    "duration": 125,
    "start_time": "2024-11-04T17:22:07.897Z"
   },
   {
    "duration": 200,
    "start_time": "2024-11-04T17:22:08.099Z"
   },
   {
    "duration": 4,
    "start_time": "2024-11-04T17:22:08.302Z"
   },
   {
    "duration": 35,
    "start_time": "2024-11-04T17:22:08.398Z"
   },
   {
    "duration": 6,
    "start_time": "2024-11-04T17:22:08.435Z"
   },
   {
    "duration": 33,
    "start_time": "2024-11-04T17:22:08.443Z"
   },
   {
    "duration": 7,
    "start_time": "2024-11-04T17:22:08.479Z"
   },
   {
    "duration": 1626,
    "start_time": "2024-11-04T17:22:08.488Z"
   },
   {
    "duration": 5,
    "start_time": "2024-11-04T17:22:10.115Z"
   },
   {
    "duration": 3,
    "start_time": "2024-11-04T17:24:01.603Z"
   },
   {
    "duration": 190,
    "start_time": "2024-11-04T17:24:01.608Z"
   },
   {
    "duration": 15,
    "start_time": "2024-11-04T17:24:01.800Z"
   },
   {
    "duration": 169,
    "start_time": "2024-11-04T17:24:01.816Z"
   },
   {
    "duration": 19,
    "start_time": "2024-11-04T17:24:01.987Z"
   },
   {
    "duration": 178,
    "start_time": "2024-11-04T17:24:02.007Z"
   },
   {
    "duration": 20,
    "start_time": "2024-11-04T17:24:02.187Z"
   },
   {
    "duration": 76,
    "start_time": "2024-11-04T17:24:02.208Z"
   },
   {
    "duration": 46,
    "start_time": "2024-11-04T17:24:02.286Z"
   },
   {
    "duration": 65,
    "start_time": "2024-11-04T17:24:02.334Z"
   },
   {
    "duration": 64,
    "start_time": "2024-11-04T17:24:02.401Z"
   },
   {
    "duration": 246,
    "start_time": "2024-11-04T17:24:02.466Z"
   },
   {
    "duration": 37,
    "start_time": "2024-11-04T17:24:02.715Z"
   },
   {
    "duration": 269,
    "start_time": "2024-11-04T17:24:02.755Z"
   },
   {
    "duration": 36,
    "start_time": "2024-11-04T17:24:03.026Z"
   },
   {
    "duration": 253,
    "start_time": "2024-11-04T17:24:03.064Z"
   },
   {
    "duration": 6,
    "start_time": "2024-11-04T17:24:03.319Z"
   },
   {
    "duration": 78,
    "start_time": "2024-11-04T17:24:03.326Z"
   },
   {
    "duration": 193,
    "start_time": "2024-11-04T17:24:03.406Z"
   },
   {
    "duration": 196,
    "start_time": "2024-11-04T17:24:03.602Z"
   },
   {
    "duration": 5,
    "start_time": "2024-11-04T17:24:03.801Z"
   },
   {
    "duration": 112,
    "start_time": "2024-11-04T17:24:03.808Z"
   },
   {
    "duration": 8,
    "start_time": "2024-11-04T17:24:03.921Z"
   },
   {
    "duration": 29,
    "start_time": "2024-11-04T17:24:03.930Z"
   },
   {
    "duration": 5,
    "start_time": "2024-11-04T17:24:03.961Z"
   },
   {
    "duration": 1421,
    "start_time": "2024-11-04T17:24:03.968Z"
   },
   {
    "duration": 4,
    "start_time": "2024-11-04T17:25:04.772Z"
   },
   {
    "duration": 218,
    "start_time": "2024-11-04T17:25:04.778Z"
   },
   {
    "duration": 15,
    "start_time": "2024-11-04T17:25:04.997Z"
   },
   {
    "duration": 245,
    "start_time": "2024-11-04T17:25:05.014Z"
   },
   {
    "duration": 14,
    "start_time": "2024-11-04T17:25:05.262Z"
   },
   {
    "duration": 160,
    "start_time": "2024-11-04T17:25:05.278Z"
   },
   {
    "duration": 13,
    "start_time": "2024-11-04T17:25:05.440Z"
   },
   {
    "duration": 57,
    "start_time": "2024-11-04T17:25:05.455Z"
   },
   {
    "duration": 43,
    "start_time": "2024-11-04T17:25:05.513Z"
   },
   {
    "duration": 60,
    "start_time": "2024-11-04T17:25:05.565Z"
   },
   {
    "duration": 36,
    "start_time": "2024-11-04T17:25:05.626Z"
   },
   {
    "duration": 257,
    "start_time": "2024-11-04T17:25:05.664Z"
   },
   {
    "duration": 37,
    "start_time": "2024-11-04T17:25:05.922Z"
   },
   {
    "duration": 283,
    "start_time": "2024-11-04T17:25:05.962Z"
   },
   {
    "duration": 38,
    "start_time": "2024-11-04T17:25:06.247Z"
   },
   {
    "duration": 261,
    "start_time": "2024-11-04T17:25:06.286Z"
   },
   {
    "duration": 5,
    "start_time": "2024-11-04T17:25:06.549Z"
   },
   {
    "duration": 48,
    "start_time": "2024-11-04T17:25:06.555Z"
   },
   {
    "duration": 208,
    "start_time": "2024-11-04T17:25:06.606Z"
   },
   {
    "duration": 282,
    "start_time": "2024-11-04T17:25:06.816Z"
   },
   {
    "duration": 94,
    "start_time": "2024-11-04T17:25:07.104Z"
   },
   {
    "duration": 36,
    "start_time": "2024-11-04T17:25:07.200Z"
   },
   {
    "duration": 22,
    "start_time": "2024-11-04T17:25:07.238Z"
   },
   {
    "duration": 76,
    "start_time": "2024-11-04T17:25:07.262Z"
   },
   {
    "duration": 5,
    "start_time": "2024-11-04T17:25:07.339Z"
   },
   {
    "duration": 1400,
    "start_time": "2024-11-04T17:25:07.346Z"
   },
   {
    "duration": 1384,
    "start_time": "2024-11-04T17:25:08.748Z"
   },
   {
    "duration": 3,
    "start_time": "2024-11-04T17:26:53.088Z"
   },
   {
    "duration": 169,
    "start_time": "2024-11-04T17:26:53.092Z"
   },
   {
    "duration": 14,
    "start_time": "2024-11-04T17:26:53.263Z"
   },
   {
    "duration": 142,
    "start_time": "2024-11-04T17:26:53.278Z"
   },
   {
    "duration": 14,
    "start_time": "2024-11-04T17:26:53.422Z"
   },
   {
    "duration": 160,
    "start_time": "2024-11-04T17:26:53.438Z"
   },
   {
    "duration": 14,
    "start_time": "2024-11-04T17:26:53.599Z"
   },
   {
    "duration": 47,
    "start_time": "2024-11-04T17:26:53.615Z"
   },
   {
    "duration": 68,
    "start_time": "2024-11-04T17:26:53.663Z"
   },
   {
    "duration": 48,
    "start_time": "2024-11-04T17:26:53.733Z"
   },
   {
    "duration": 58,
    "start_time": "2024-11-04T17:26:53.782Z"
   },
   {
    "duration": 250,
    "start_time": "2024-11-04T17:26:53.841Z"
   },
   {
    "duration": 36,
    "start_time": "2024-11-04T17:26:54.093Z"
   },
   {
    "duration": 267,
    "start_time": "2024-11-04T17:26:54.131Z"
   },
   {
    "duration": 38,
    "start_time": "2024-11-04T17:26:54.399Z"
   },
   {
    "duration": 254,
    "start_time": "2024-11-04T17:26:54.438Z"
   },
   {
    "duration": 4,
    "start_time": "2024-11-04T17:26:54.697Z"
   },
   {
    "duration": 95,
    "start_time": "2024-11-04T17:26:54.703Z"
   },
   {
    "duration": 196,
    "start_time": "2024-11-04T17:26:54.802Z"
   },
   {
    "duration": 120,
    "start_time": "2024-11-04T17:26:55.000Z"
   },
   {
    "duration": 5,
    "start_time": "2024-11-04T17:26:55.198Z"
   },
   {
    "duration": 98,
    "start_time": "2024-11-04T17:26:55.205Z"
   },
   {
    "duration": 9,
    "start_time": "2024-11-04T17:26:55.305Z"
   },
   {
    "duration": 21,
    "start_time": "2024-11-04T17:26:55.317Z"
   },
   {
    "duration": 6,
    "start_time": "2024-11-04T17:26:55.339Z"
   },
   {
    "duration": 1389,
    "start_time": "2024-11-04T17:26:55.346Z"
   },
   {
    "duration": 1447,
    "start_time": "2024-11-04T17:26:56.737Z"
   },
   {
    "duration": 1396,
    "start_time": "2024-11-04T17:26:58.186Z"
   },
   {
    "duration": 4,
    "start_time": "2024-11-04T17:27:43.896Z"
   },
   {
    "duration": 165,
    "start_time": "2024-11-04T17:27:43.902Z"
   },
   {
    "duration": 15,
    "start_time": "2024-11-04T17:27:44.068Z"
   },
   {
    "duration": 152,
    "start_time": "2024-11-04T17:27:44.085Z"
   },
   {
    "duration": 14,
    "start_time": "2024-11-04T17:27:44.239Z"
   },
   {
    "duration": 148,
    "start_time": "2024-11-04T17:27:44.255Z"
   },
   {
    "duration": 15,
    "start_time": "2024-11-04T17:27:44.404Z"
   },
   {
    "duration": 45,
    "start_time": "2024-11-04T17:27:44.421Z"
   },
   {
    "duration": 60,
    "start_time": "2024-11-04T17:27:44.468Z"
   },
   {
    "duration": 44,
    "start_time": "2024-11-04T17:27:44.531Z"
   },
   {
    "duration": 52,
    "start_time": "2024-11-04T17:27:44.576Z"
   },
   {
    "duration": 341,
    "start_time": "2024-11-04T17:27:44.629Z"
   },
   {
    "duration": 44,
    "start_time": "2024-11-04T17:27:44.972Z"
   },
   {
    "duration": 254,
    "start_time": "2024-11-04T17:27:45.018Z"
   },
   {
    "duration": 39,
    "start_time": "2024-11-04T17:27:45.274Z"
   },
   {
    "duration": 232,
    "start_time": "2024-11-04T17:27:45.314Z"
   },
   {
    "duration": 4,
    "start_time": "2024-11-04T17:27:45.548Z"
   },
   {
    "duration": 47,
    "start_time": "2024-11-04T17:27:45.554Z"
   },
   {
    "duration": 213,
    "start_time": "2024-11-04T17:27:45.603Z"
   },
   {
    "duration": 200,
    "start_time": "2024-11-04T17:27:45.818Z"
   },
   {
    "duration": 80,
    "start_time": "2024-11-04T17:27:46.020Z"
   },
   {
    "duration": 98,
    "start_time": "2024-11-04T17:27:46.102Z"
   },
   {
    "duration": 38,
    "start_time": "2024-11-04T17:27:46.201Z"
   },
   {
    "duration": 27,
    "start_time": "2024-11-04T17:27:46.240Z"
   },
   {
    "duration": 22,
    "start_time": "2024-11-04T17:27:46.270Z"
   },
   {
    "duration": 1347,
    "start_time": "2024-11-04T17:27:46.293Z"
   },
   {
    "duration": 1366,
    "start_time": "2024-11-04T17:27:47.642Z"
   },
   {
    "duration": 1463,
    "start_time": "2024-11-04T17:27:49.011Z"
   },
   {
    "duration": 3,
    "start_time": "2024-11-04T17:28:16.107Z"
   },
   {
    "duration": 188,
    "start_time": "2024-11-04T17:28:16.112Z"
   },
   {
    "duration": 16,
    "start_time": "2024-11-04T17:28:16.302Z"
   },
   {
    "duration": 149,
    "start_time": "2024-11-04T17:28:16.320Z"
   },
   {
    "duration": 14,
    "start_time": "2024-11-04T17:28:16.471Z"
   },
   {
    "duration": 161,
    "start_time": "2024-11-04T17:28:16.487Z"
   },
   {
    "duration": 16,
    "start_time": "2024-11-04T17:28:16.649Z"
   },
   {
    "duration": 60,
    "start_time": "2024-11-04T17:28:16.666Z"
   },
   {
    "duration": 46,
    "start_time": "2024-11-04T17:28:16.727Z"
   },
   {
    "duration": 62,
    "start_time": "2024-11-04T17:28:16.775Z"
   },
   {
    "duration": 39,
    "start_time": "2024-11-04T17:28:16.839Z"
   },
   {
    "duration": 259,
    "start_time": "2024-11-04T17:28:16.879Z"
   },
   {
    "duration": 37,
    "start_time": "2024-11-04T17:28:17.139Z"
   },
   {
    "duration": 260,
    "start_time": "2024-11-04T17:28:17.177Z"
   },
   {
    "duration": 46,
    "start_time": "2024-11-04T17:28:17.439Z"
   },
   {
    "duration": 259,
    "start_time": "2024-11-04T17:28:17.498Z"
   },
   {
    "duration": 5,
    "start_time": "2024-11-04T17:28:17.759Z"
   },
   {
    "duration": 131,
    "start_time": "2024-11-04T17:28:17.766Z"
   },
   {
    "duration": 123,
    "start_time": "2024-11-04T17:28:17.900Z"
   },
   {
    "duration": 199,
    "start_time": "2024-11-04T17:28:18.098Z"
   },
   {
    "duration": 5,
    "start_time": "2024-11-04T17:28:18.300Z"
   },
   {
    "duration": 10,
    "start_time": "2024-11-04T17:28:18.399Z"
   },
   {
    "duration": 25,
    "start_time": "2024-11-04T17:28:18.411Z"
   },
   {
    "duration": 33,
    "start_time": "2024-11-04T17:28:18.438Z"
   },
   {
    "duration": 6,
    "start_time": "2024-11-04T17:28:18.472Z"
   },
   {
    "duration": 1406,
    "start_time": "2024-11-04T17:28:18.479Z"
   },
   {
    "duration": 1344,
    "start_time": "2024-11-04T17:28:19.886Z"
   },
   {
    "duration": 1381,
    "start_time": "2024-11-04T17:28:21.233Z"
   },
   {
    "duration": 4,
    "start_time": "2024-11-04T17:33:52.789Z"
   },
   {
    "duration": 179,
    "start_time": "2024-11-04T17:33:52.795Z"
   },
   {
    "duration": 24,
    "start_time": "2024-11-04T17:33:52.975Z"
   },
   {
    "duration": 145,
    "start_time": "2024-11-04T17:33:53.001Z"
   },
   {
    "duration": 16,
    "start_time": "2024-11-04T17:33:53.149Z"
   },
   {
    "duration": 152,
    "start_time": "2024-11-04T17:33:53.166Z"
   },
   {
    "duration": 16,
    "start_time": "2024-11-04T17:33:53.319Z"
   },
   {
    "duration": 46,
    "start_time": "2024-11-04T17:33:53.336Z"
   },
   {
    "duration": 43,
    "start_time": "2024-11-04T17:33:53.398Z"
   },
   {
    "duration": 60,
    "start_time": "2024-11-04T17:33:53.442Z"
   },
   {
    "duration": 37,
    "start_time": "2024-11-04T17:33:53.504Z"
   },
   {
    "duration": 259,
    "start_time": "2024-11-04T17:33:53.543Z"
   },
   {
    "duration": 40,
    "start_time": "2024-11-04T17:33:53.803Z"
   },
   {
    "duration": 362,
    "start_time": "2024-11-04T17:33:53.847Z"
   },
   {
    "duration": 38,
    "start_time": "2024-11-04T17:33:54.211Z"
   },
   {
    "duration": 261,
    "start_time": "2024-11-04T17:33:54.250Z"
   },
   {
    "duration": 5,
    "start_time": "2024-11-04T17:33:54.512Z"
   },
   {
    "duration": 79,
    "start_time": "2024-11-04T17:33:54.519Z"
   },
   {
    "duration": 123,
    "start_time": "2024-11-04T17:33:54.601Z"
   },
   {
    "duration": 124,
    "start_time": "2024-11-04T17:33:54.803Z"
   },
   {
    "duration": 5,
    "start_time": "2024-11-04T17:33:54.997Z"
   },
   {
    "duration": 5,
    "start_time": "2024-11-04T17:33:55.004Z"
   },
   {
    "duration": 3,
    "start_time": "2024-11-04T17:33:55.099Z"
   },
   {
    "duration": 26,
    "start_time": "2024-11-04T17:33:55.104Z"
   },
   {
    "duration": 5,
    "start_time": "2024-11-04T17:33:55.132Z"
   },
   {
    "duration": 1379,
    "start_time": "2024-11-04T17:33:55.139Z"
   },
   {
    "duration": 1371,
    "start_time": "2024-11-04T17:33:56.520Z"
   },
   {
    "duration": 1424,
    "start_time": "2024-11-04T17:33:57.892Z"
   },
   {
    "duration": 76,
    "start_time": "2024-11-04T23:54:26.121Z"
   },
   {
    "duration": 1595,
    "start_time": "2024-11-04T23:54:41.261Z"
   },
   {
    "duration": 588,
    "start_time": "2024-11-04T23:54:42.858Z"
   },
   {
    "duration": 16,
    "start_time": "2024-11-04T23:54:43.448Z"
   },
   {
    "duration": 297,
    "start_time": "2024-11-04T23:54:43.466Z"
   },
   {
    "duration": 14,
    "start_time": "2024-11-04T23:54:43.765Z"
   },
   {
    "duration": 220,
    "start_time": "2024-11-04T23:54:43.781Z"
   },
   {
    "duration": 15,
    "start_time": "2024-11-04T23:54:44.003Z"
   },
   {
    "duration": 44,
    "start_time": "2024-11-04T23:54:44.020Z"
   },
   {
    "duration": 60,
    "start_time": "2024-11-04T23:54:44.066Z"
   },
   {
    "duration": 48,
    "start_time": "2024-11-04T23:54:44.129Z"
   },
   {
    "duration": 51,
    "start_time": "2024-11-04T23:54:44.179Z"
   },
   {
    "duration": 250,
    "start_time": "2024-11-04T23:54:44.231Z"
   },
   {
    "duration": 42,
    "start_time": "2024-11-04T23:54:44.483Z"
   },
   {
    "duration": 237,
    "start_time": "2024-11-04T23:54:44.528Z"
   },
   {
    "duration": 38,
    "start_time": "2024-11-04T23:54:44.766Z"
   },
   {
    "duration": 257,
    "start_time": "2024-11-04T23:54:44.805Z"
   },
   {
    "duration": 5,
    "start_time": "2024-11-04T23:54:45.063Z"
   },
   {
    "duration": 54,
    "start_time": "2024-11-04T23:54:45.069Z"
   },
   {
    "duration": 300,
    "start_time": "2024-11-04T23:54:45.125Z"
   },
   {
    "duration": 202,
    "start_time": "2024-11-04T23:54:45.428Z"
   },
   {
    "duration": 86,
    "start_time": "2024-11-04T23:54:45.633Z"
   },
   {
    "duration": 97,
    "start_time": "2024-11-04T23:54:45.722Z"
   },
   {
    "duration": 5,
    "start_time": "2024-11-04T23:54:45.821Z"
   },
   {
    "duration": 18,
    "start_time": "2024-11-04T23:54:45.828Z"
   },
   {
    "duration": 4,
    "start_time": "2024-11-04T23:54:45.848Z"
   },
   {
    "duration": 1390,
    "start_time": "2024-11-04T23:54:45.854Z"
   },
   {
    "duration": 1342,
    "start_time": "2024-11-04T23:54:47.246Z"
   },
   {
    "duration": 1307,
    "start_time": "2024-11-04T23:54:48.590Z"
   }
  ],
  "kernelspec": {
   "display_name": "Python 3 (ipykernel)",
   "language": "python",
   "name": "python3"
  },
  "language_info": {
   "codemirror_mode": {
    "name": "ipython",
    "version": 3
   },
   "file_extension": ".py",
   "mimetype": "text/x-python",
   "name": "python",
   "nbconvert_exporter": "python",
   "pygments_lexer": "ipython3",
   "version": "3.12.3"
  },
  "toc": {
   "base_numbering": 1,
   "nav_menu": {},
   "number_sections": true,
   "sideBar": true,
   "skip_h1_title": true,
   "title_cell": "Table of Contents",
   "title_sidebar": "Contents",
   "toc_cell": false,
   "toc_position": {
    "height": "calc(100% - 180px)",
    "left": "10px",
    "top": "150px",
    "width": "384px"
   },
   "toc_section_display": true,
   "toc_window_display": true
  }
 },
 "nbformat": 4,
 "nbformat_minor": 4
}
