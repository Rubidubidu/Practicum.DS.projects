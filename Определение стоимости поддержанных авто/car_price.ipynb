{
 "cells": [
  {
   "cell_type": "markdown",
   "metadata": {},
   "source": [
    "# Определение стоимости автомобилей"
   ]
  },
  {
   "cell_type": "markdown",
   "metadata": {},
   "source": [
    "***Цель исследования:*** Сервис по продаже автомобилей с пробегом «Не бит, не крашен» разрабатывает приложение для привлечения новых клиентов. В нём можно быстро узнать рыночную стоимость своего автомобиля. В нашем распоряжении исторические данные: технические характеристики, комплектации и цены автомобилей. Нужно построить модель для определения стоимости автомобилей на основе требований заказчика.\n",
    "\n",
    "*Заказчику важны:*\n",
    "\n",
    "- качество предсказания;\n",
    "- скорость предсказания;\n",
    "- время обучения.\n",
    "\n",
    "***Описание данных:*** Данные о технических характеристиках, комплектации и ценах других автомобилей находятся в файле `/datasets/autos.csv`\n",
    "\n",
    "*Описание признаков:*\n",
    "\n",
    "- `DateCrawled` — дата скачивания анкеты из базы;\n",
    "- `VehicleType` — тип автомобильного кузова;\n",
    "- `RegistrationYear` — год регистрации автомобиля;\n",
    "- `Gearbox` — тип коробки передач;\n",
    "- `Power` — мощность (л. с.);\n",
    "- `Model` — модель автомобиля;\n",
    "- `Kilometer` — пробег (км);\n",
    "- `RegistrationMonth` — месяц регистрации автомобиля;\n",
    "- `FuelType` — тип топлива;\n",
    "- `Brand` — марка автомобиля;\n",
    "- `Repaired` — была машина в ремонте или нет;\n",
    "- `DateCreated` — дата создания анкеты;\n",
    "- `NumberOfPictures` — количество фотографий автомобиля;\n",
    "- `PostalCode` — почтовый индекс владельца анкеты (пользователя);\n",
    "- `LastSeen` — дата последней активности пользователя;\n",
    "- `Price` — цена (евро) - целевой признак.\n",
    "\n",
    "***Ход исследования:*** Планируется 4 этапа:\n",
    "- Подготовка данных: загрузка и изучение данных;\n",
    "- Обучение моделей, включая подготовку выборок;\n",
    "- Анализ моделей: время обучения, время предсказания и качество моделей;\n",
    "- Общий вывод."
   ]
  },
  {
   "cell_type": "code",
   "execution_count": 113,
   "metadata": {},
   "outputs": [
    {
     "name": "stdout",
     "output_type": "stream",
     "text": [
      "Requirement already satisfied: scikit-learn in /opt/conda/lib/python3.9/site-packages (1.5.2)\n",
      "Requirement already satisfied: scipy>=1.6.0 in /opt/conda/lib/python3.9/site-packages (from scikit-learn) (1.9.1)\n",
      "Requirement already satisfied: threadpoolctl>=3.1.0 in /opt/conda/lib/python3.9/site-packages (from scikit-learn) (3.1.0)\n",
      "Requirement already satisfied: numpy>=1.19.5 in /opt/conda/lib/python3.9/site-packages (from scikit-learn) (1.24.4)\n",
      "Requirement already satisfied: joblib>=1.2.0 in /opt/conda/lib/python3.9/site-packages (from scikit-learn) (1.4.2)\n"
     ]
    }
   ],
   "source": [
    "!pip install -U scikit-learn\n",
    "!pip install matplotlib==3.7.0 -q"
   ]
  },
  {
   "cell_type": "code",
   "execution_count": 114,
   "metadata": {},
   "outputs": [],
   "source": [
    "# Импортируем необходимые библиотеки и методы.\n",
    "import pandas as pd\n",
    "import numpy as np\n",
    "import matplotlib.pyplot as plt\n",
    "\n",
    "from sklearn.model_selection import train_test_split, GridSearchCV, cross_val_score\n",
    "from sklearn.linear_model import LinearRegression\n",
    "from sklearn.tree import DecisionTreeRegressor\n",
    "from lightgbm import LGBMRegressor\n",
    "from sklearn.preprocessing import StandardScaler, OneHotEncoder\n",
    "from sklearn.metrics import mean_squared_error"
   ]
  },
  {
   "cell_type": "markdown",
   "metadata": {},
   "source": [
    "## Подготовка данных"
   ]
  },
  {
   "cell_type": "markdown",
   "metadata": {},
   "source": [
    "### Загрузка данных"
   ]
  },
  {
   "cell_type": "code",
   "execution_count": 115,
   "metadata": {},
   "outputs": [
    {
     "data": {
      "text/html": [
       "<div>\n",
       "<style scoped>\n",
       "    .dataframe tbody tr th:only-of-type {\n",
       "        vertical-align: middle;\n",
       "    }\n",
       "\n",
       "    .dataframe tbody tr th {\n",
       "        vertical-align: top;\n",
       "    }\n",
       "\n",
       "    .dataframe thead th {\n",
       "        text-align: right;\n",
       "    }\n",
       "</style>\n",
       "<table border=\"1\" class=\"dataframe\">\n",
       "  <thead>\n",
       "    <tr style=\"text-align: right;\">\n",
       "      <th></th>\n",
       "      <th>DateCrawled</th>\n",
       "      <th>Price</th>\n",
       "      <th>VehicleType</th>\n",
       "      <th>RegistrationYear</th>\n",
       "      <th>Gearbox</th>\n",
       "      <th>Power</th>\n",
       "      <th>Model</th>\n",
       "      <th>Kilometer</th>\n",
       "      <th>RegistrationMonth</th>\n",
       "      <th>FuelType</th>\n",
       "      <th>Brand</th>\n",
       "      <th>Repaired</th>\n",
       "      <th>DateCreated</th>\n",
       "      <th>NumberOfPictures</th>\n",
       "      <th>PostalCode</th>\n",
       "      <th>LastSeen</th>\n",
       "    </tr>\n",
       "  </thead>\n",
       "  <tbody>\n",
       "    <tr>\n",
       "      <th>0</th>\n",
       "      <td>2016-03-24 11:52:17</td>\n",
       "      <td>480</td>\n",
       "      <td>NaN</td>\n",
       "      <td>1993</td>\n",
       "      <td>manual</td>\n",
       "      <td>0</td>\n",
       "      <td>golf</td>\n",
       "      <td>150000</td>\n",
       "      <td>0</td>\n",
       "      <td>petrol</td>\n",
       "      <td>volkswagen</td>\n",
       "      <td>NaN</td>\n",
       "      <td>2016-03-24 00:00:00</td>\n",
       "      <td>0</td>\n",
       "      <td>70435</td>\n",
       "      <td>2016-04-07 03:16:57</td>\n",
       "    </tr>\n",
       "    <tr>\n",
       "      <th>1</th>\n",
       "      <td>2016-03-24 10:58:45</td>\n",
       "      <td>18300</td>\n",
       "      <td>coupe</td>\n",
       "      <td>2011</td>\n",
       "      <td>manual</td>\n",
       "      <td>190</td>\n",
       "      <td>NaN</td>\n",
       "      <td>125000</td>\n",
       "      <td>5</td>\n",
       "      <td>gasoline</td>\n",
       "      <td>audi</td>\n",
       "      <td>yes</td>\n",
       "      <td>2016-03-24 00:00:00</td>\n",
       "      <td>0</td>\n",
       "      <td>66954</td>\n",
       "      <td>2016-04-07 01:46:50</td>\n",
       "    </tr>\n",
       "    <tr>\n",
       "      <th>2</th>\n",
       "      <td>2016-03-14 12:52:21</td>\n",
       "      <td>9800</td>\n",
       "      <td>suv</td>\n",
       "      <td>2004</td>\n",
       "      <td>auto</td>\n",
       "      <td>163</td>\n",
       "      <td>grand</td>\n",
       "      <td>125000</td>\n",
       "      <td>8</td>\n",
       "      <td>gasoline</td>\n",
       "      <td>jeep</td>\n",
       "      <td>NaN</td>\n",
       "      <td>2016-03-14 00:00:00</td>\n",
       "      <td>0</td>\n",
       "      <td>90480</td>\n",
       "      <td>2016-04-05 12:47:46</td>\n",
       "    </tr>\n",
       "    <tr>\n",
       "      <th>3</th>\n",
       "      <td>2016-03-17 16:54:04</td>\n",
       "      <td>1500</td>\n",
       "      <td>small</td>\n",
       "      <td>2001</td>\n",
       "      <td>manual</td>\n",
       "      <td>75</td>\n",
       "      <td>golf</td>\n",
       "      <td>150000</td>\n",
       "      <td>6</td>\n",
       "      <td>petrol</td>\n",
       "      <td>volkswagen</td>\n",
       "      <td>no</td>\n",
       "      <td>2016-03-17 00:00:00</td>\n",
       "      <td>0</td>\n",
       "      <td>91074</td>\n",
       "      <td>2016-03-17 17:40:17</td>\n",
       "    </tr>\n",
       "    <tr>\n",
       "      <th>4</th>\n",
       "      <td>2016-03-31 17:25:20</td>\n",
       "      <td>3600</td>\n",
       "      <td>small</td>\n",
       "      <td>2008</td>\n",
       "      <td>manual</td>\n",
       "      <td>69</td>\n",
       "      <td>fabia</td>\n",
       "      <td>90000</td>\n",
       "      <td>7</td>\n",
       "      <td>gasoline</td>\n",
       "      <td>skoda</td>\n",
       "      <td>no</td>\n",
       "      <td>2016-03-31 00:00:00</td>\n",
       "      <td>0</td>\n",
       "      <td>60437</td>\n",
       "      <td>2016-04-06 10:17:21</td>\n",
       "    </tr>\n",
       "  </tbody>\n",
       "</table>\n",
       "</div>"
      ],
      "text/plain": [
       "           DateCrawled  Price VehicleType  RegistrationYear Gearbox  Power  \\\n",
       "0  2016-03-24 11:52:17    480         NaN              1993  manual      0   \n",
       "1  2016-03-24 10:58:45  18300       coupe              2011  manual    190   \n",
       "2  2016-03-14 12:52:21   9800         suv              2004    auto    163   \n",
       "3  2016-03-17 16:54:04   1500       small              2001  manual     75   \n",
       "4  2016-03-31 17:25:20   3600       small              2008  manual     69   \n",
       "\n",
       "   Model  Kilometer  RegistrationMonth  FuelType       Brand Repaired  \\\n",
       "0   golf     150000                  0    petrol  volkswagen      NaN   \n",
       "1    NaN     125000                  5  gasoline        audi      yes   \n",
       "2  grand     125000                  8  gasoline        jeep      NaN   \n",
       "3   golf     150000                  6    petrol  volkswagen       no   \n",
       "4  fabia      90000                  7  gasoline       skoda       no   \n",
       "\n",
       "           DateCreated  NumberOfPictures  PostalCode             LastSeen  \n",
       "0  2016-03-24 00:00:00                 0       70435  2016-04-07 03:16:57  \n",
       "1  2016-03-24 00:00:00                 0       66954  2016-04-07 01:46:50  \n",
       "2  2016-03-14 00:00:00                 0       90480  2016-04-05 12:47:46  \n",
       "3  2016-03-17 00:00:00                 0       91074  2016-03-17 17:40:17  \n",
       "4  2016-03-31 00:00:00                 0       60437  2016-04-06 10:17:21  "
      ]
     },
     "execution_count": 115,
     "metadata": {},
     "output_type": "execute_result"
    }
   ],
   "source": [
    "# Откроем и изучим датафрейм.\n",
    "df = pd.read_csv('/datasets/autos.csv')\n",
    "df.head()"
   ]
  },
  {
   "cell_type": "code",
   "execution_count": 116,
   "metadata": {},
   "outputs": [
    {
     "name": "stdout",
     "output_type": "stream",
     "text": [
      "<class 'pandas.core.frame.DataFrame'>\n",
      "RangeIndex: 354369 entries, 0 to 354368\n",
      "Data columns (total 16 columns):\n",
      " #   Column             Non-Null Count   Dtype \n",
      "---  ------             --------------   ----- \n",
      " 0   DateCrawled        354369 non-null  object\n",
      " 1   Price              354369 non-null  int64 \n",
      " 2   VehicleType        316879 non-null  object\n",
      " 3   RegistrationYear   354369 non-null  int64 \n",
      " 4   Gearbox            334536 non-null  object\n",
      " 5   Power              354369 non-null  int64 \n",
      " 6   Model              334664 non-null  object\n",
      " 7   Kilometer          354369 non-null  int64 \n",
      " 8   RegistrationMonth  354369 non-null  int64 \n",
      " 9   FuelType           321474 non-null  object\n",
      " 10  Brand              354369 non-null  object\n",
      " 11  Repaired           283215 non-null  object\n",
      " 12  DateCreated        354369 non-null  object\n",
      " 13  NumberOfPictures   354369 non-null  int64 \n",
      " 14  PostalCode         354369 non-null  int64 \n",
      " 15  LastSeen           354369 non-null  object\n",
      "dtypes: int64(7), object(9)\n",
      "memory usage: 43.3+ MB\n"
     ]
    }
   ],
   "source": [
    "df.info()"
   ]
  },
  {
   "cell_type": "code",
   "execution_count": 117,
   "metadata": {},
   "outputs": [
    {
     "data": {
      "text/html": [
       "<div>\n",
       "<style scoped>\n",
       "    .dataframe tbody tr th:only-of-type {\n",
       "        vertical-align: middle;\n",
       "    }\n",
       "\n",
       "    .dataframe tbody tr th {\n",
       "        vertical-align: top;\n",
       "    }\n",
       "\n",
       "    .dataframe thead th {\n",
       "        text-align: right;\n",
       "    }\n",
       "</style>\n",
       "<table border=\"1\" class=\"dataframe\">\n",
       "  <thead>\n",
       "    <tr style=\"text-align: right;\">\n",
       "      <th></th>\n",
       "      <th>DateCrawled</th>\n",
       "      <th>Price</th>\n",
       "      <th>VehicleType</th>\n",
       "      <th>RegistrationYear</th>\n",
       "      <th>Gearbox</th>\n",
       "      <th>Power</th>\n",
       "      <th>Model</th>\n",
       "      <th>Kilometer</th>\n",
       "      <th>RegistrationMonth</th>\n",
       "      <th>FuelType</th>\n",
       "      <th>Brand</th>\n",
       "      <th>Repaired</th>\n",
       "      <th>DateCreated</th>\n",
       "      <th>NumberOfPictures</th>\n",
       "      <th>PostalCode</th>\n",
       "      <th>LastSeen</th>\n",
       "    </tr>\n",
       "  </thead>\n",
       "  <tbody>\n",
       "    <tr>\n",
       "      <th>count</th>\n",
       "      <td>354369</td>\n",
       "      <td>354369.000000</td>\n",
       "      <td>316879</td>\n",
       "      <td>354369.000000</td>\n",
       "      <td>334536</td>\n",
       "      <td>354369.000000</td>\n",
       "      <td>334664</td>\n",
       "      <td>354369.000000</td>\n",
       "      <td>354369.000000</td>\n",
       "      <td>321474</td>\n",
       "      <td>354369</td>\n",
       "      <td>283215</td>\n",
       "      <td>354369</td>\n",
       "      <td>354369.0</td>\n",
       "      <td>354369.000000</td>\n",
       "      <td>354369</td>\n",
       "    </tr>\n",
       "    <tr>\n",
       "      <th>unique</th>\n",
       "      <td>271174</td>\n",
       "      <td>NaN</td>\n",
       "      <td>8</td>\n",
       "      <td>NaN</td>\n",
       "      <td>2</td>\n",
       "      <td>NaN</td>\n",
       "      <td>250</td>\n",
       "      <td>NaN</td>\n",
       "      <td>NaN</td>\n",
       "      <td>7</td>\n",
       "      <td>40</td>\n",
       "      <td>2</td>\n",
       "      <td>109</td>\n",
       "      <td>NaN</td>\n",
       "      <td>NaN</td>\n",
       "      <td>179150</td>\n",
       "    </tr>\n",
       "    <tr>\n",
       "      <th>top</th>\n",
       "      <td>2016-03-24 14:49:47</td>\n",
       "      <td>NaN</td>\n",
       "      <td>sedan</td>\n",
       "      <td>NaN</td>\n",
       "      <td>manual</td>\n",
       "      <td>NaN</td>\n",
       "      <td>golf</td>\n",
       "      <td>NaN</td>\n",
       "      <td>NaN</td>\n",
       "      <td>petrol</td>\n",
       "      <td>volkswagen</td>\n",
       "      <td>no</td>\n",
       "      <td>2016-04-03 00:00:00</td>\n",
       "      <td>NaN</td>\n",
       "      <td>NaN</td>\n",
       "      <td>2016-04-06 13:45:54</td>\n",
       "    </tr>\n",
       "    <tr>\n",
       "      <th>freq</th>\n",
       "      <td>7</td>\n",
       "      <td>NaN</td>\n",
       "      <td>91457</td>\n",
       "      <td>NaN</td>\n",
       "      <td>268251</td>\n",
       "      <td>NaN</td>\n",
       "      <td>29232</td>\n",
       "      <td>NaN</td>\n",
       "      <td>NaN</td>\n",
       "      <td>216352</td>\n",
       "      <td>77013</td>\n",
       "      <td>247161</td>\n",
       "      <td>13719</td>\n",
       "      <td>NaN</td>\n",
       "      <td>NaN</td>\n",
       "      <td>17</td>\n",
       "    </tr>\n",
       "    <tr>\n",
       "      <th>mean</th>\n",
       "      <td>NaN</td>\n",
       "      <td>4416.656776</td>\n",
       "      <td>NaN</td>\n",
       "      <td>2004.234448</td>\n",
       "      <td>NaN</td>\n",
       "      <td>110.094337</td>\n",
       "      <td>NaN</td>\n",
       "      <td>128211.172535</td>\n",
       "      <td>5.714645</td>\n",
       "      <td>NaN</td>\n",
       "      <td>NaN</td>\n",
       "      <td>NaN</td>\n",
       "      <td>NaN</td>\n",
       "      <td>0.0</td>\n",
       "      <td>50508.689087</td>\n",
       "      <td>NaN</td>\n",
       "    </tr>\n",
       "    <tr>\n",
       "      <th>std</th>\n",
       "      <td>NaN</td>\n",
       "      <td>4514.158514</td>\n",
       "      <td>NaN</td>\n",
       "      <td>90.227958</td>\n",
       "      <td>NaN</td>\n",
       "      <td>189.850405</td>\n",
       "      <td>NaN</td>\n",
       "      <td>37905.341530</td>\n",
       "      <td>3.726421</td>\n",
       "      <td>NaN</td>\n",
       "      <td>NaN</td>\n",
       "      <td>NaN</td>\n",
       "      <td>NaN</td>\n",
       "      <td>0.0</td>\n",
       "      <td>25783.096248</td>\n",
       "      <td>NaN</td>\n",
       "    </tr>\n",
       "    <tr>\n",
       "      <th>min</th>\n",
       "      <td>NaN</td>\n",
       "      <td>0.000000</td>\n",
       "      <td>NaN</td>\n",
       "      <td>1000.000000</td>\n",
       "      <td>NaN</td>\n",
       "      <td>0.000000</td>\n",
       "      <td>NaN</td>\n",
       "      <td>5000.000000</td>\n",
       "      <td>0.000000</td>\n",
       "      <td>NaN</td>\n",
       "      <td>NaN</td>\n",
       "      <td>NaN</td>\n",
       "      <td>NaN</td>\n",
       "      <td>0.0</td>\n",
       "      <td>1067.000000</td>\n",
       "      <td>NaN</td>\n",
       "    </tr>\n",
       "    <tr>\n",
       "      <th>25%</th>\n",
       "      <td>NaN</td>\n",
       "      <td>1050.000000</td>\n",
       "      <td>NaN</td>\n",
       "      <td>1999.000000</td>\n",
       "      <td>NaN</td>\n",
       "      <td>69.000000</td>\n",
       "      <td>NaN</td>\n",
       "      <td>125000.000000</td>\n",
       "      <td>3.000000</td>\n",
       "      <td>NaN</td>\n",
       "      <td>NaN</td>\n",
       "      <td>NaN</td>\n",
       "      <td>NaN</td>\n",
       "      <td>0.0</td>\n",
       "      <td>30165.000000</td>\n",
       "      <td>NaN</td>\n",
       "    </tr>\n",
       "    <tr>\n",
       "      <th>50%</th>\n",
       "      <td>NaN</td>\n",
       "      <td>2700.000000</td>\n",
       "      <td>NaN</td>\n",
       "      <td>2003.000000</td>\n",
       "      <td>NaN</td>\n",
       "      <td>105.000000</td>\n",
       "      <td>NaN</td>\n",
       "      <td>150000.000000</td>\n",
       "      <td>6.000000</td>\n",
       "      <td>NaN</td>\n",
       "      <td>NaN</td>\n",
       "      <td>NaN</td>\n",
       "      <td>NaN</td>\n",
       "      <td>0.0</td>\n",
       "      <td>49413.000000</td>\n",
       "      <td>NaN</td>\n",
       "    </tr>\n",
       "    <tr>\n",
       "      <th>75%</th>\n",
       "      <td>NaN</td>\n",
       "      <td>6400.000000</td>\n",
       "      <td>NaN</td>\n",
       "      <td>2008.000000</td>\n",
       "      <td>NaN</td>\n",
       "      <td>143.000000</td>\n",
       "      <td>NaN</td>\n",
       "      <td>150000.000000</td>\n",
       "      <td>9.000000</td>\n",
       "      <td>NaN</td>\n",
       "      <td>NaN</td>\n",
       "      <td>NaN</td>\n",
       "      <td>NaN</td>\n",
       "      <td>0.0</td>\n",
       "      <td>71083.000000</td>\n",
       "      <td>NaN</td>\n",
       "    </tr>\n",
       "    <tr>\n",
       "      <th>max</th>\n",
       "      <td>NaN</td>\n",
       "      <td>20000.000000</td>\n",
       "      <td>NaN</td>\n",
       "      <td>9999.000000</td>\n",
       "      <td>NaN</td>\n",
       "      <td>20000.000000</td>\n",
       "      <td>NaN</td>\n",
       "      <td>150000.000000</td>\n",
       "      <td>12.000000</td>\n",
       "      <td>NaN</td>\n",
       "      <td>NaN</td>\n",
       "      <td>NaN</td>\n",
       "      <td>NaN</td>\n",
       "      <td>0.0</td>\n",
       "      <td>99998.000000</td>\n",
       "      <td>NaN</td>\n",
       "    </tr>\n",
       "  </tbody>\n",
       "</table>\n",
       "</div>"
      ],
      "text/plain": [
       "                DateCrawled          Price VehicleType  RegistrationYear  \\\n",
       "count                354369  354369.000000      316879     354369.000000   \n",
       "unique               271174            NaN           8               NaN   \n",
       "top     2016-03-24 14:49:47            NaN       sedan               NaN   \n",
       "freq                      7            NaN       91457               NaN   \n",
       "mean                    NaN    4416.656776         NaN       2004.234448   \n",
       "std                     NaN    4514.158514         NaN         90.227958   \n",
       "min                     NaN       0.000000         NaN       1000.000000   \n",
       "25%                     NaN    1050.000000         NaN       1999.000000   \n",
       "50%                     NaN    2700.000000         NaN       2003.000000   \n",
       "75%                     NaN    6400.000000         NaN       2008.000000   \n",
       "max                     NaN   20000.000000         NaN       9999.000000   \n",
       "\n",
       "       Gearbox          Power   Model      Kilometer  RegistrationMonth  \\\n",
       "count   334536  354369.000000  334664  354369.000000      354369.000000   \n",
       "unique       2            NaN     250            NaN                NaN   \n",
       "top     manual            NaN    golf            NaN                NaN   \n",
       "freq    268251            NaN   29232            NaN                NaN   \n",
       "mean       NaN     110.094337     NaN  128211.172535           5.714645   \n",
       "std        NaN     189.850405     NaN   37905.341530           3.726421   \n",
       "min        NaN       0.000000     NaN    5000.000000           0.000000   \n",
       "25%        NaN      69.000000     NaN  125000.000000           3.000000   \n",
       "50%        NaN     105.000000     NaN  150000.000000           6.000000   \n",
       "75%        NaN     143.000000     NaN  150000.000000           9.000000   \n",
       "max        NaN   20000.000000     NaN  150000.000000          12.000000   \n",
       "\n",
       "       FuelType       Brand Repaired          DateCreated  NumberOfPictures  \\\n",
       "count    321474      354369   283215               354369          354369.0   \n",
       "unique        7          40        2                  109               NaN   \n",
       "top      petrol  volkswagen       no  2016-04-03 00:00:00               NaN   \n",
       "freq     216352       77013   247161                13719               NaN   \n",
       "mean        NaN         NaN      NaN                  NaN               0.0   \n",
       "std         NaN         NaN      NaN                  NaN               0.0   \n",
       "min         NaN         NaN      NaN                  NaN               0.0   \n",
       "25%         NaN         NaN      NaN                  NaN               0.0   \n",
       "50%         NaN         NaN      NaN                  NaN               0.0   \n",
       "75%         NaN         NaN      NaN                  NaN               0.0   \n",
       "max         NaN         NaN      NaN                  NaN               0.0   \n",
       "\n",
       "           PostalCode             LastSeen  \n",
       "count   354369.000000               354369  \n",
       "unique            NaN               179150  \n",
       "top               NaN  2016-04-06 13:45:54  \n",
       "freq              NaN                   17  \n",
       "mean     50508.689087                  NaN  \n",
       "std      25783.096248                  NaN  \n",
       "min       1067.000000                  NaN  \n",
       "25%      30165.000000                  NaN  \n",
       "50%      49413.000000                  NaN  \n",
       "75%      71083.000000                  NaN  \n",
       "max      99998.000000                  NaN  "
      ]
     },
     "execution_count": 117,
     "metadata": {},
     "output_type": "execute_result"
    }
   ],
   "source": [
    "df.describe(include='all')"
   ]
  },
  {
   "cell_type": "markdown",
   "metadata": {},
   "source": [
    "**Промежуточный вывод:** Видим данные о технических характеристиках, комплектации и ценах автомобилей. Данные соответствуют описанию задачи с правильными типами данных, за исключением дат. Обзор данных методом info() выявил пропуски."
   ]
  },
  {
   "cell_type": "markdown",
   "metadata": {},
   "source": [
    "### Предобработка данных"
   ]
  },
  {
   "cell_type": "code",
   "execution_count": 118,
   "metadata": {},
   "outputs": [
    {
     "data": {
      "text/plain": [
       "4"
      ]
     },
     "execution_count": 118,
     "metadata": {},
     "output_type": "execute_result"
    }
   ],
   "source": [
    "# Проверим датафрейм на явные дубликаты.\n",
    "df.duplicated().sum()"
   ]
  },
  {
   "cell_type": "code",
   "execution_count": 119,
   "metadata": {},
   "outputs": [],
   "source": [
    "# Так как дубликатов немного, удалим их.\n",
    "df = df.drop_duplicates()"
   ]
  },
  {
   "cell_type": "code",
   "execution_count": 120,
   "metadata": {},
   "outputs": [
    {
     "data": {
      "text/html": [
       "<div>\n",
       "<style scoped>\n",
       "    .dataframe tbody tr th:only-of-type {\n",
       "        vertical-align: middle;\n",
       "    }\n",
       "\n",
       "    .dataframe tbody tr th {\n",
       "        vertical-align: top;\n",
       "    }\n",
       "\n",
       "    .dataframe thead th {\n",
       "        text-align: right;\n",
       "    }\n",
       "</style>\n",
       "<table border=\"1\" class=\"dataframe\">\n",
       "  <thead>\n",
       "    <tr style=\"text-align: right;\">\n",
       "      <th></th>\n",
       "      <th>date_crawled</th>\n",
       "      <th>price</th>\n",
       "      <th>vehicle_type</th>\n",
       "      <th>registration_year</th>\n",
       "      <th>gearbox</th>\n",
       "      <th>power</th>\n",
       "      <th>model</th>\n",
       "      <th>kilometer</th>\n",
       "      <th>registration_month</th>\n",
       "      <th>fuel_type</th>\n",
       "      <th>brand</th>\n",
       "      <th>repaired</th>\n",
       "      <th>date_created</th>\n",
       "      <th>number_of_pictures</th>\n",
       "      <th>postal_code</th>\n",
       "      <th>last_seen</th>\n",
       "    </tr>\n",
       "  </thead>\n",
       "  <tbody>\n",
       "    <tr>\n",
       "      <th>0</th>\n",
       "      <td>2016-03-24 11:52:17</td>\n",
       "      <td>480</td>\n",
       "      <td>NaN</td>\n",
       "      <td>1993</td>\n",
       "      <td>manual</td>\n",
       "      <td>0</td>\n",
       "      <td>golf</td>\n",
       "      <td>150000</td>\n",
       "      <td>0</td>\n",
       "      <td>petrol</td>\n",
       "      <td>volkswagen</td>\n",
       "      <td>NaN</td>\n",
       "      <td>2016-03-24 00:00:00</td>\n",
       "      <td>0</td>\n",
       "      <td>70435</td>\n",
       "      <td>2016-04-07 03:16:57</td>\n",
       "    </tr>\n",
       "    <tr>\n",
       "      <th>1</th>\n",
       "      <td>2016-03-24 10:58:45</td>\n",
       "      <td>18300</td>\n",
       "      <td>coupe</td>\n",
       "      <td>2011</td>\n",
       "      <td>manual</td>\n",
       "      <td>190</td>\n",
       "      <td>NaN</td>\n",
       "      <td>125000</td>\n",
       "      <td>5</td>\n",
       "      <td>gasoline</td>\n",
       "      <td>audi</td>\n",
       "      <td>yes</td>\n",
       "      <td>2016-03-24 00:00:00</td>\n",
       "      <td>0</td>\n",
       "      <td>66954</td>\n",
       "      <td>2016-04-07 01:46:50</td>\n",
       "    </tr>\n",
       "    <tr>\n",
       "      <th>2</th>\n",
       "      <td>2016-03-14 12:52:21</td>\n",
       "      <td>9800</td>\n",
       "      <td>suv</td>\n",
       "      <td>2004</td>\n",
       "      <td>auto</td>\n",
       "      <td>163</td>\n",
       "      <td>grand</td>\n",
       "      <td>125000</td>\n",
       "      <td>8</td>\n",
       "      <td>gasoline</td>\n",
       "      <td>jeep</td>\n",
       "      <td>NaN</td>\n",
       "      <td>2016-03-14 00:00:00</td>\n",
       "      <td>0</td>\n",
       "      <td>90480</td>\n",
       "      <td>2016-04-05 12:47:46</td>\n",
       "    </tr>\n",
       "    <tr>\n",
       "      <th>3</th>\n",
       "      <td>2016-03-17 16:54:04</td>\n",
       "      <td>1500</td>\n",
       "      <td>small</td>\n",
       "      <td>2001</td>\n",
       "      <td>manual</td>\n",
       "      <td>75</td>\n",
       "      <td>golf</td>\n",
       "      <td>150000</td>\n",
       "      <td>6</td>\n",
       "      <td>petrol</td>\n",
       "      <td>volkswagen</td>\n",
       "      <td>no</td>\n",
       "      <td>2016-03-17 00:00:00</td>\n",
       "      <td>0</td>\n",
       "      <td>91074</td>\n",
       "      <td>2016-03-17 17:40:17</td>\n",
       "    </tr>\n",
       "    <tr>\n",
       "      <th>4</th>\n",
       "      <td>2016-03-31 17:25:20</td>\n",
       "      <td>3600</td>\n",
       "      <td>small</td>\n",
       "      <td>2008</td>\n",
       "      <td>manual</td>\n",
       "      <td>69</td>\n",
       "      <td>fabia</td>\n",
       "      <td>90000</td>\n",
       "      <td>7</td>\n",
       "      <td>gasoline</td>\n",
       "      <td>skoda</td>\n",
       "      <td>no</td>\n",
       "      <td>2016-03-31 00:00:00</td>\n",
       "      <td>0</td>\n",
       "      <td>60437</td>\n",
       "      <td>2016-04-06 10:17:21</td>\n",
       "    </tr>\n",
       "  </tbody>\n",
       "</table>\n",
       "</div>"
      ],
      "text/plain": [
       "          date_crawled  price vehicle_type  registration_year gearbox  power  \\\n",
       "0  2016-03-24 11:52:17    480          NaN               1993  manual      0   \n",
       "1  2016-03-24 10:58:45  18300        coupe               2011  manual    190   \n",
       "2  2016-03-14 12:52:21   9800          suv               2004    auto    163   \n",
       "3  2016-03-17 16:54:04   1500        small               2001  manual     75   \n",
       "4  2016-03-31 17:25:20   3600        small               2008  manual     69   \n",
       "\n",
       "   model  kilometer  registration_month fuel_type       brand repaired  \\\n",
       "0   golf     150000                   0    petrol  volkswagen      NaN   \n",
       "1    NaN     125000                   5  gasoline        audi      yes   \n",
       "2  grand     125000                   8  gasoline        jeep      NaN   \n",
       "3   golf     150000                   6    petrol  volkswagen       no   \n",
       "4  fabia      90000                   7  gasoline       skoda       no   \n",
       "\n",
       "          date_created  number_of_pictures  postal_code            last_seen  \n",
       "0  2016-03-24 00:00:00                   0        70435  2016-04-07 03:16:57  \n",
       "1  2016-03-24 00:00:00                   0        66954  2016-04-07 01:46:50  \n",
       "2  2016-03-14 00:00:00                   0        90480  2016-04-05 12:47:46  \n",
       "3  2016-03-17 00:00:00                   0        91074  2016-03-17 17:40:17  \n",
       "4  2016-03-31 00:00:00                   0        60437  2016-04-06 10:17:21  "
      ]
     },
     "execution_count": 120,
     "metadata": {},
     "output_type": "execute_result"
    }
   ],
   "source": [
    "# Переведем столбцы в змеиный регистр.\n",
    "df = df.rename(columns={'DateCrawled':'date_crawled',\n",
    "                        'Price':'price',\n",
    "                        'VehicleType':'vehicle_type',\n",
    "                        'RegistrationYear':'registration_year',\n",
    "                        'Gearbox':'gearbox',\n",
    "                        'Power':'power',\n",
    "                        'Model':'model',\n",
    "                        'Kilometer':'kilometer',\n",
    "                        'RegistrationMonth':'registration_month',\n",
    "                        'FuelType':'fuel_type',\n",
    "                        'Brand':'brand',\n",
    "                        'Repaired':'repaired',\n",
    "                        'DateCreated':'date_created',\n",
    "                        'NumberOfPictures': 'number_of_pictures',\n",
    "                        'PostalCode':'postal_code',\n",
    "                        'LastSeen':'last_seen'})\n",
    "df.head()"
   ]
  },
  {
   "cell_type": "code",
   "execution_count": 121,
   "metadata": {},
   "outputs": [
    {
     "data": {
      "text/html": [
       "<div>\n",
       "<style scoped>\n",
       "    .dataframe tbody tr th:only-of-type {\n",
       "        vertical-align: middle;\n",
       "    }\n",
       "\n",
       "    .dataframe tbody tr th {\n",
       "        vertical-align: top;\n",
       "    }\n",
       "\n",
       "    .dataframe thead th {\n",
       "        text-align: right;\n",
       "    }\n",
       "</style>\n",
       "<table border=\"1\" class=\"dataframe\">\n",
       "  <thead>\n",
       "    <tr style=\"text-align: right;\">\n",
       "      <th></th>\n",
       "      <th>price</th>\n",
       "      <th>vehicle_type</th>\n",
       "      <th>registration_year</th>\n",
       "      <th>gearbox</th>\n",
       "      <th>power</th>\n",
       "      <th>model</th>\n",
       "      <th>kilometer</th>\n",
       "      <th>fuel_type</th>\n",
       "      <th>brand</th>\n",
       "      <th>repaired</th>\n",
       "    </tr>\n",
       "  </thead>\n",
       "  <tbody>\n",
       "    <tr>\n",
       "      <th>0</th>\n",
       "      <td>480</td>\n",
       "      <td>NaN</td>\n",
       "      <td>1993</td>\n",
       "      <td>manual</td>\n",
       "      <td>0</td>\n",
       "      <td>golf</td>\n",
       "      <td>150000</td>\n",
       "      <td>petrol</td>\n",
       "      <td>volkswagen</td>\n",
       "      <td>NaN</td>\n",
       "    </tr>\n",
       "    <tr>\n",
       "      <th>1</th>\n",
       "      <td>18300</td>\n",
       "      <td>coupe</td>\n",
       "      <td>2011</td>\n",
       "      <td>manual</td>\n",
       "      <td>190</td>\n",
       "      <td>NaN</td>\n",
       "      <td>125000</td>\n",
       "      <td>gasoline</td>\n",
       "      <td>audi</td>\n",
       "      <td>yes</td>\n",
       "    </tr>\n",
       "    <tr>\n",
       "      <th>2</th>\n",
       "      <td>9800</td>\n",
       "      <td>suv</td>\n",
       "      <td>2004</td>\n",
       "      <td>auto</td>\n",
       "      <td>163</td>\n",
       "      <td>grand</td>\n",
       "      <td>125000</td>\n",
       "      <td>gasoline</td>\n",
       "      <td>jeep</td>\n",
       "      <td>NaN</td>\n",
       "    </tr>\n",
       "    <tr>\n",
       "      <th>3</th>\n",
       "      <td>1500</td>\n",
       "      <td>small</td>\n",
       "      <td>2001</td>\n",
       "      <td>manual</td>\n",
       "      <td>75</td>\n",
       "      <td>golf</td>\n",
       "      <td>150000</td>\n",
       "      <td>petrol</td>\n",
       "      <td>volkswagen</td>\n",
       "      <td>no</td>\n",
       "    </tr>\n",
       "    <tr>\n",
       "      <th>4</th>\n",
       "      <td>3600</td>\n",
       "      <td>small</td>\n",
       "      <td>2008</td>\n",
       "      <td>manual</td>\n",
       "      <td>69</td>\n",
       "      <td>fabia</td>\n",
       "      <td>90000</td>\n",
       "      <td>gasoline</td>\n",
       "      <td>skoda</td>\n",
       "      <td>no</td>\n",
       "    </tr>\n",
       "  </tbody>\n",
       "</table>\n",
       "</div>"
      ],
      "text/plain": [
       "   price vehicle_type  registration_year gearbox  power  model  kilometer  \\\n",
       "0    480          NaN               1993  manual      0   golf     150000   \n",
       "1  18300        coupe               2011  manual    190    NaN     125000   \n",
       "2   9800          suv               2004    auto    163  grand     125000   \n",
       "3   1500        small               2001  manual     75   golf     150000   \n",
       "4   3600        small               2008  manual     69  fabia      90000   \n",
       "\n",
       "  fuel_type       brand repaired  \n",
       "0    petrol  volkswagen      NaN  \n",
       "1  gasoline        audi      yes  \n",
       "2  gasoline        jeep      NaN  \n",
       "3    petrol  volkswagen       no  \n",
       "4  gasoline       skoda       no  "
      ]
     },
     "execution_count": 121,
     "metadata": {},
     "output_type": "execute_result"
    }
   ],
   "source": [
    "# Удалим неинформативные признаки.\n",
    "df = df.drop(['date_crawled','registration_month', 'date_created', 'number_of_pictures', 'postal_code', 'last_seen'], axis=1)\n",
    "df.head()"
   ]
  },
  {
   "cell_type": "code",
   "execution_count": 122,
   "metadata": {},
   "outputs": [
    {
     "name": "stdout",
     "output_type": "stream",
     "text": [
      "Уникальные значения столбца price\n",
      "[  480 18300  9800 ... 12395 18429 10985]\n",
      "Уникальные значения столбца vehicle_type\n",
      "[nan 'coupe' 'suv' 'small' 'sedan' 'convertible' 'bus' 'wagon' 'other']\n",
      "Уникальные значения столбца registration_year\n",
      "[1993 2011 2004 2001 2008 1995 1980 2014 1998 2005 1910 2016 2007 2009\n",
      " 2002 2018 1997 1990 2017 1981 2003 1994 1991 1984 2006 1999 2012 2010\n",
      " 2000 1992 2013 1996 1985 1989 2015 1982 1976 1983 1973 1111 1969 1971\n",
      " 1987 1986 1988 1970 1965 1945 1925 1974 1979 1955 1978 1972 1968 1977\n",
      " 1961 1960 1966 1975 1963 1964 5000 1954 1958 1967 1959 9999 1956 3200\n",
      " 1000 1941 8888 1500 2200 4100 1962 1929 1957 1940 3000 2066 1949 2019\n",
      " 1937 1951 1800 1953 1234 8000 5300 9000 2900 6000 5900 5911 1933 1400\n",
      " 1950 4000 1948 1952 1200 8500 1932 1255 3700 3800 4800 1942 7000 1935\n",
      " 1936 6500 1923 2290 2500 1930 1001 9450 1944 1943 1934 1938 1688 2800\n",
      " 1253 1928 1919 5555 5600 1600 2222 1039 9996 1300 8455 1931 1915 4500\n",
      " 1920 1602 7800 9229 1947 1927 7100 8200 1946 7500 3500]\n",
      "Уникальные значения столбца gearbox\n",
      "['manual' 'auto' nan]\n",
      "Уникальные значения столбца power\n",
      "[    0   190   163    75    69   102   109    50   125   101   105   140\n",
      "   115   131    60   136   160   231    90   118   193    99   113   218\n",
      "   122   129    70   306    95    61   177    80   170    55   143    64\n",
      "   286   232   150   156    82   155    54   185    87   180    86    84\n",
      "   224   235   200   178   265    77   110   144   120   116   184   126\n",
      "   204    88   194   305   197   179   250    45   313    41   165    98\n",
      "   130   114   211    56   201   213    58   107    83   174   100   220\n",
      "    85    73   192    68    66   299    74    52   147    65   310    71\n",
      "    97   239   203     5   300   103   258   320    63    81   148    44\n",
      "   145   230   280   260   104   188   333   186   117   141    59   132\n",
      "   234   158    39    92    51   135    53   209    43   146    67   106\n",
      "   166   276   344    72   249   237   245   111   326   279    23   138\n",
      "   175    96   226    26    37   301   334   128   133   124    33   219\n",
      "   241   167    94   182   196   238  1398   228   112    48   272   139\n",
      "  1799    40   240    79   256   360   243   375   252   396   340   108\n",
      "   121   345   187   289   222   198   284   450   233   387   152   347\n",
      "   172    57   137   212   476   314    30     7    47   173   290   207\n",
      "   205   171   750    78    91    89   349   325    76   151   350   953\n",
      "    93   142   500   343   199   119   164    16   264   367   208   210\n",
      "    46   435  1001   225   127   176   161   603   307   354    35   206\n",
      "   771   355   273   223   255   123   154   149  7515  1400   268   620\n",
      "   169   400   275    34     2   242  1779   285   162   328  1753   329\n",
      "   134   420   247   168 10317   215    18   330   283    62    10   214\n",
      "   183   254    15   321   322   315   952   600   181   426   599   379\n",
      "   999    22   157    42   195   553     4   309   507   381   271   440\n",
      "   189   401  1111  2729    21   236  1240  1704   521     1  1900   270\n",
      "    24   159   292   808   515  1200   303    29    38  1993    14   216\n",
      "   610   504    49   267   331   363   261   385  1011   253   696 10520\n",
      "   376   227   311    27   217    20  1999    11  1056    25   394    12\n",
      "   298   296  1659   294   551  6920   246    17  1800  1625   368   390\n",
      "   221  1367   259   606   327  2017  1597   266   374   392     9   405\n",
      "    13   262   601   430   295     8   411   900   541  7512   382 10218\n",
      "  7544  1102   287    19   751   297  1090   457   282   602   388     6\n",
      "  1000  5411   335  1360   202  3750   805  1062  1024 11530   364  1796\n",
      "  5000   269   460  1002   288  1780 12012 17932   316  2005  1399   191\n",
      "   278  1300   380   257   449  1256   153  1653   520   560   281 12510\n",
      "     3  1500   386    32  1202  2016  1436  1405   671   274  1288  1055\n",
      " 10912 15016  6226  1115   277  1105   341  1223  2340  8404  1968   338\n",
      "   445  1920   370   517  4400 10710 10522  9010   431  1164 11509   371\n",
      "  1501   428 11635    36   304   348  1703  1910  1995   579 10000   580\n",
      "   408    31  1005   358  1403   489  5575 19211   585   960   365   353\n",
      "   490   352  1801   346   550  3199   800  7508  1312   357  1937   950\n",
      "  4700  1600  3454 19208   251   850   337   700  8011  2331  2789   487\n",
      "   519  2461  6006  3500  5815  6018  1781  1503   612  1596   229  1506\n",
      "  5809 15020  5867  2172  1598 17410  1363   584  1054   851  1339   318\n",
      "   510   525  1700    28  1151   685  6011   317   703  1771 15001   514\n",
      "   362   332   324  6045   530   425   308  6010   475   903   640  2000\n",
      "   248   651  2799 17011   505  1103  1521   351 16051   398  9000  1998\n",
      " 10311   409  1230 17019 12684  8259  1895   901  1317   871   909  2201\n",
      "  1595   776 17700 11011  1199   459  1162  1120 15033  1896   339   361\n",
      "   574  6512   454   650 13616   604   607 16312  1082   336 20000   416\n",
      "   678  6012  1401  1021  1870 13636  1250  9710   323  1158  2009   902\n",
      "  6062  1275   572   244   399  1016   743  1221  2402 16011  1362   544\n",
      "   645   907   702 12512  1986  1003  1432  9013  9011   442  1017  1394\n",
      " 15017 10910  1992   540  2018 11025  1433  1701  2792  1502  1239  1390\n",
      " 14009  1160  1351 11111  1783  9007   923  1149   754  1988   402  2004\n",
      "  5420  1793  1324   356  7511  1299   293 19312  1079  1689   998  1100\n",
      "  9012  1933   508 16311   682  1252  1922  7529   732  2389  2200  1707\n",
      "  1416  8500  1012   485  3000 10110   421  4507  1631  7518   377  1004\n",
      "  2007  2598  1548  1241]\n",
      "Уникальные значения столбца model\n",
      "['golf' nan 'grand' 'fabia' '3er' '2_reihe' 'other' 'c_max' '3_reihe'\n",
      " 'passat' 'navara' 'ka' 'polo' 'twingo' 'a_klasse' 'scirocco' '5er'\n",
      " 'meriva' 'arosa' 'c4' 'civic' 'transporter' 'punto' 'e_klasse' 'clio'\n",
      " 'kadett' 'kangoo' 'corsa' 'one' 'fortwo' '1er' 'b_klasse' 'signum'\n",
      " 'astra' 'a8' 'jetta' 'fiesta' 'c_klasse' 'micra' 'vito' 'sprinter' '156'\n",
      " 'escort' 'forester' 'xc_reihe' 'scenic' 'a4' 'a1' 'insignia' 'combo'\n",
      " 'focus' 'tt' 'a6' 'jazz' 'omega' 'slk' '7er' '80' '147' '100' 'z_reihe'\n",
      " 'sportage' 'sorento' 'v40' 'ibiza' 'mustang' 'eos' 'touran' 'getz' 'a3'\n",
      " 'almera' 'megane' 'lupo' 'r19' 'zafira' 'caddy' 'mondeo' 'cordoba' 'colt'\n",
      " 'impreza' 'vectra' 'berlingo' 'tiguan' 'i_reihe' 'espace' 'sharan'\n",
      " '6_reihe' 'panda' 'up' 'seicento' 'ceed' '5_reihe' 'yeti' 'octavia' 'mii'\n",
      " 'rx_reihe' '6er' 'modus' 'fox' 'matiz' 'beetle' 'c1' 'rio' 'touareg'\n",
      " 'logan' 'spider' 'cuore' 's_max' 'a2' 'galaxy' 'c3' 'viano' 's_klasse'\n",
      " '1_reihe' 'avensis' 'roomster' 'sl' 'kaefer' 'santa' 'cooper' 'leon'\n",
      " '4_reihe' 'a5' '500' 'laguna' 'ptcruiser' 'clk' 'primera' 'x_reihe'\n",
      " 'exeo' '159' 'transit' 'juke' 'qashqai' 'carisma' 'accord' 'corolla'\n",
      " 'lanos' 'phaeton' 'verso' 'swift' 'rav' 'picanto' 'boxster' 'kalos'\n",
      " 'superb' 'stilo' 'alhambra' 'mx_reihe' 'roadster' 'ypsilon' 'cayenne'\n",
      " 'galant' 'justy' '90' 'sirion' 'crossfire' 'agila' 'duster' 'cr_reihe'\n",
      " 'v50' 'c_reihe' 'v_klasse' 'm_klasse' 'yaris' 'c5' 'aygo' 'cc' 'carnival'\n",
      " 'fusion' '911' 'bora' 'forfour' 'm_reihe' 'cl' 'tigra' '300c' 'spark'\n",
      " 'v70' 'kuga' 'x_type' 'ducato' 's_type' 'x_trail' 'toledo' 'altea'\n",
      " 'voyager' 'calibra' 'bravo' 'antara' 'tucson' 'citigo' 'jimny' 'wrangler'\n",
      " 'lybra' 'q7' 'lancer' 'captiva' 'c2' 'discovery' 'freelander' 'sandero'\n",
      " 'note' '900' 'cherokee' 'clubman' 'samara' 'defender' '601' 'cx_reihe'\n",
      " 'legacy' 'pajero' 'auris' 'niva' 's60' 'nubira' 'vivaro' 'g_klasse'\n",
      " 'lodgy' '850' 'range_rover' 'q3' 'serie_2' 'glk' 'charade' 'croma'\n",
      " 'outlander' 'doblo' 'musa' 'move' '9000' 'v60' '145' 'aveo' '200' 'b_max'\n",
      " 'range_rover_sport' 'terios' 'rangerover' 'q5' 'range_rover_evoque'\n",
      " 'materia' 'delta' 'gl' 'kalina' 'amarok' 'elefantino' 'i3' 'kappa'\n",
      " 'serie_3' 'serie_1']\n",
      "Уникальные значения столбца kilometer\n",
      "[150000 125000  90000  40000  30000  70000   5000 100000  60000  20000\n",
      "  80000  50000  10000]\n",
      "Уникальные значения столбца fuel_type\n",
      "['petrol' 'gasoline' nan 'lpg' 'other' 'hybrid' 'cng' 'electric']\n",
      "Уникальные значения столбца brand\n",
      "['volkswagen' 'audi' 'jeep' 'skoda' 'bmw' 'peugeot' 'ford' 'mazda'\n",
      " 'nissan' 'renault' 'mercedes_benz' 'opel' 'seat' 'citroen' 'honda' 'fiat'\n",
      " 'mini' 'smart' 'hyundai' 'sonstige_autos' 'alfa_romeo' 'subaru' 'volvo'\n",
      " 'mitsubishi' 'kia' 'suzuki' 'lancia' 'toyota' 'chevrolet' 'dacia'\n",
      " 'daihatsu' 'trabant' 'saab' 'chrysler' 'jaguar' 'daewoo' 'porsche'\n",
      " 'rover' 'land_rover' 'lada']\n",
      "Уникальные значения столбца repaired\n",
      "[nan 'yes' 'no']\n"
     ]
    }
   ],
   "source": [
    "# Рассмотрим уникальные значения в столбцах датафрейма.\n",
    "for column in df.columns:\n",
    "        print('Уникальные значения столбца', column)\n",
    "        print(df[column].unique())"
   ]
  },
  {
   "cell_type": "code",
   "execution_count": 123,
   "metadata": {},
   "outputs": [],
   "source": [
    "# Уберем строки датафрейма, где цена ниже 100 евро, как неинформативные.\n",
    "df = df.loc[df['price'] >= 100]"
   ]
  },
  {
   "cell_type": "code",
   "execution_count": 124,
   "metadata": {},
   "outputs": [],
   "source": [
    "# Так как скачанные данные датированы 2016 годом, уберем строки с годом регистрации больше.\n",
    "# Также уберем авто с датой регистрации до 1950 года.\n",
    "df = df.query('1949 < registration_year < 2017')"
   ]
  },
  {
   "cell_type": "code",
   "execution_count": 125,
   "metadata": {},
   "outputs": [],
   "source": [
    "# Судя по типам кузова, мощность не может превышать 500 л.с. и не должна быть ниже нуля. Уберем соответствующие строки.\n",
    "df = df.query('0 < power < 500')"
   ]
  },
  {
   "cell_type": "code",
   "execution_count": 126,
   "metadata": {},
   "outputs": [],
   "source": [
    "# Исправим неявный дубликат в model.\n",
    "df['model'] = df['model'].replace(['rangerover'], 'range_rover')"
   ]
  },
  {
   "cell_type": "code",
   "execution_count": 127,
   "metadata": {},
   "outputs": [],
   "source": [
    "# Переименуем gasoline в petrol, поскольку оба означают одно и то же.\n",
    "df['fuel_type'] = df['fuel_type'].replace(['gasoline'], 'petrol')"
   ]
  },
  {
   "cell_type": "code",
   "execution_count": 128,
   "metadata": {},
   "outputs": [
    {
     "data": {
      "text/plain": [
       "manual    231257\n",
       "auto       58726\n",
       "Name: gearbox, dtype: int64"
      ]
     },
     "execution_count": 128,
     "metadata": {},
     "output_type": "execute_result"
    }
   ],
   "source": [
    "# Пропуски в типе коробки передач заменим большим из двух значением.\n",
    "df['gearbox'].value_counts()"
   ]
  },
  {
   "cell_type": "code",
   "execution_count": 129,
   "metadata": {},
   "outputs": [],
   "source": [
    "df['gearbox'] = df['gearbox'].replace(np.nan, 'manual')"
   ]
  },
  {
   "cell_type": "code",
   "execution_count": 130,
   "metadata": {},
   "outputs": [],
   "source": [
    "# Остальные пропуски оставим.\n",
    "df.fillna('unknown', inplace=True)"
   ]
  },
  {
   "cell_type": "markdown",
   "metadata": {},
   "source": [
    "**Промежуточный вывод:** Отобрали информативные признаки, убрали дубликаты и пропуски."
   ]
  },
  {
   "cell_type": "markdown",
   "metadata": {},
   "source": [
    "### Статистический анализ данных"
   ]
  },
  {
   "cell_type": "code",
   "execution_count": 131,
   "metadata": {},
   "outputs": [
    {
     "data": {
      "text/plain": [
       "count    295244.000000\n",
       "mean       4870.626140\n",
       "std        4607.424298\n",
       "min         100.000000\n",
       "25%        1350.000000\n",
       "50%        3200.000000\n",
       "75%        6999.000000\n",
       "max       20000.000000\n",
       "Name: price, dtype: float64"
      ]
     },
     "execution_count": 131,
     "metadata": {},
     "output_type": "execute_result"
    }
   ],
   "source": [
    "# Построим гистограмму распределения цены автомобилей.\n",
    "df['price'].describe()"
   ]
  },
  {
   "cell_type": "code",
   "execution_count": 132,
   "metadata": {},
   "outputs": [
    {
     "data": {
      "image/png": "[encoded data removed]",
      "text/plain": [
       "<Figure size 864x648 with 1 Axes>"
      ]
     },
     "metadata": {
      "needs_background": "light"
     },
     "output_type": "display_data"
    }
   ],
   "source": [
    "df['price'].hist(bins=100, figsize=(12,9))\n",
    "plt.title('Распределение цены автомобилей')\n",
    "plt.xlabel('Цена, евро')\n",
    "plt.ylabel('Число анкет')\n",
    "plt.show()"
   ]
  },
  {
   "cell_type": "markdown",
   "metadata": {},
   "source": [
    "**Описание данных:** Видим распределение цен авто. Так как на продаже могут быть раритетные или особенные модели, большие цены не вызывают подозрений."
   ]
  },
  {
   "cell_type": "code",
   "execution_count": 133,
   "metadata": {},
   "outputs": [
    {
     "data": {
      "text/plain": [
       "count    295244.000000\n",
       "mean       2002.841368\n",
       "std           6.489014\n",
       "min        1950.000000\n",
       "25%        1999.000000\n",
       "50%        2003.000000\n",
       "75%        2007.000000\n",
       "max        2016.000000\n",
       "Name: registration_year, dtype: float64"
      ]
     },
     "execution_count": 133,
     "metadata": {},
     "output_type": "execute_result"
    }
   ],
   "source": [
    "# Построим гистограмму распределения года регистрации автомобилей.\n",
    "df['registration_year'].describe()"
   ]
  },
  {
   "cell_type": "code",
   "execution_count": 134,
   "metadata": {},
   "outputs": [
    {
     "data": {
      "image/png": "[encoded data removed]",
      "text/plain": [
       "<Figure size 864x648 with 1 Axes>"
      ]
     },
     "metadata": {
      "needs_background": "light"
     },
     "output_type": "display_data"
    }
   ],
   "source": [
    "df['registration_year'].hist(bins=100, figsize=(12,9))\n",
    "plt.title('Распределение года регистрации автомобилей')\n",
    "plt.xlabel('Год')\n",
    "plt.ylabel('Число анкет')\n",
    "plt.show()"
   ]
  },
  {
   "cell_type": "markdown",
   "metadata": {},
   "source": [
    "**Описание данных:** Видим год регистрации авто. Так как машины могут перепродавать, выброс в 2016 году (году сбора данных) не вызывает подозрений."
   ]
  },
  {
   "cell_type": "code",
   "execution_count": 135,
   "metadata": {},
   "outputs": [
    {
     "data": {
      "text/plain": [
       "count    295244.000000\n",
       "mean        120.520133\n",
       "std          53.377456\n",
       "min           1.000000\n",
       "25%          75.000000\n",
       "50%         111.000000\n",
       "75%         150.000000\n",
       "max         490.000000\n",
       "Name: power, dtype: float64"
      ]
     },
     "execution_count": 135,
     "metadata": {},
     "output_type": "execute_result"
    }
   ],
   "source": [
    "# Построим гистограмму распределения мощности автомобилей.\n",
    "df['power'].describe()"
   ]
  },
  {
   "cell_type": "code",
   "execution_count": 136,
   "metadata": {},
   "outputs": [
    {
     "data": {
      "image/png": "[encoded data removed]",
      "text/plain": [
       "<Figure size 864x648 with 1 Axes>"
      ]
     },
     "metadata": {
      "needs_background": "light"
     },
     "output_type": "display_data"
    }
   ],
   "source": [
    "df['power'].hist(bins=100, figsize=(12,9))\n",
    "plt.title('Распределение мощности автомобилей')\n",
    "plt.xlabel('Мощность, л.с.')\n",
    "plt.ylabel('Число анкет')\n",
    "plt.show()"
   ]
  },
  {
   "cell_type": "markdown",
   "metadata": {},
   "source": [
    "**Описание данных:** Видим мощность авто. Данных с мощностью ниже 50 л.с. мало, да и такие автомобили, как правило, редкость, если и существуют. Уберем лишние данные."
   ]
  },
  {
   "cell_type": "code",
   "execution_count": 137,
   "metadata": {},
   "outputs": [],
   "source": [
    "df = df.loc[df['power'] >= 50]"
   ]
  },
  {
   "cell_type": "code",
   "execution_count": 138,
   "metadata": {},
   "outputs": [
    {
     "data": {
      "text/plain": [
       "39531"
      ]
     },
     "execution_count": 138,
     "metadata": {},
     "output_type": "execute_result"
    }
   ],
   "source": [
    "# Еще раз проверим датафрейм на явные дубликаты после обработки.\n",
    "df.duplicated().sum()"
   ]
  },
  {
   "cell_type": "code",
   "execution_count": 139,
   "metadata": {},
   "outputs": [],
   "source": [
    "# Удалим дубликаты.\n",
    "df = df.drop_duplicates()"
   ]
  },
  {
   "cell_type": "code",
   "execution_count": 140,
   "metadata": {},
   "outputs": [],
   "source": [
    "# Восстановим индексы для оставшихся данных.\n",
    "df = df.reset_index(drop=True)"
   ]
  },
  {
   "cell_type": "markdown",
   "metadata": {},
   "source": [
    "**Промежуточный вывод:** В ходе статистического анализа проверили распределения количественных признаков датафрейма, убрали лишние данные."
   ]
  },
  {
   "cell_type": "markdown",
   "metadata": {},
   "source": [
    "## Обучение моделей"
   ]
  },
  {
   "cell_type": "markdown",
   "metadata": {},
   "source": [
    "Согласно условию задания, подберем модели машинного обучения, оценим их время обучения и качество метрикой RMSE. Значение метрики RMSE должно быть меньше 2500."
   ]
  },
  {
   "cell_type": "markdown",
   "metadata": {},
   "source": [
    "### Подготовка выборок и признаков"
   ]
  },
  {
   "cell_type": "code",
   "execution_count": 142,
   "metadata": {},
   "outputs": [],
   "source": [
    "RANDOM_STATE = 42\n",
    "TEST_SIZE = 0.25\n",
    "# Разделим данные на обучающую и тестовую выборки.\n",
    "X = df.drop(['price'], axis=1)\n",
    "y = df['price']\n",
    "X_train, X_test, y_train, y_test = train_test_split(\n",
    "    X, y, test_size=TEST_SIZE, random_state=RANDOM_STATE)"
   ]
  },
  {
   "cell_type": "code",
   "execution_count": 143,
   "metadata": {},
   "outputs": [
    {
     "name": "stderr",
     "output_type": "stream",
     "text": [
      "/opt/conda/lib/python3.9/site-packages/sklearn/preprocessing/_encoders.py:242: UserWarning: Found unknown categories in columns [2] during transform. These unknown categories will be encoded as all zeros\n",
      "  warnings.warn(\n"
     ]
    }
   ],
   "source": [
    "# Уточним, какие признаки категоральные, а какие - количественные.\n",
    "cat_col_names = ['vehicle_type', 'gearbox', 'model', 'fuel_type', 'brand', 'repaired']\n",
    "num_col_names = ['registration_year', 'power', 'kilometer']\n",
    "\n",
    "# Масштабируем количественные признаки с помощью стандартизации.\n",
    "scaler = StandardScaler()\n",
    "X_train_scaled = scaler.fit_transform(X_train[num_col_names])\n",
    "X_test_scaled = scaler.transform(X_test[num_col_names])\n",
    "\n",
    "# Закодируем категоральные признаки.\n",
    "encoder = OneHotEncoder(drop='first', handle_unknown='ignore', sparse_output=False)\n",
    "X_train_ohe = encoder.fit_transform(X_train[cat_col_names])\n",
    "X_test_ohe = encoder.transform(X_test[cat_col_names])\n",
    "\n",
    "encoder_col_names = encoder.get_feature_names_out()\n",
    "\n",
    "# Cоздадим тренировочный и тестовый датафреймы из закодированных и отмасштабированных данных.\n",
    "X_train_ohe = pd.DataFrame(X_train_ohe, columns=encoder_col_names)\n",
    "X_test_ohe = pd.DataFrame(X_test_ohe, columns=encoder_col_names)\n",
    "\n",
    "X_train_scaled = pd.DataFrame(X_train_scaled, columns=num_col_names)\n",
    "X_test_scaled = pd.DataFrame(X_test_scaled, columns=num_col_names)\n",
    "\n",
    "# Объединим все преобразованные данные в тренировочный и тестовый датафреймы.\n",
    "X_train = pd.concat([X_train_ohe, X_train_scaled], axis=1)\n",
    "X_test = pd.concat([X_test_ohe, X_test_scaled], axis=1)"
   ]
  },
  {
   "cell_type": "code",
   "execution_count": 144,
   "metadata": {},
   "outputs": [],
   "source": [
    "# Зададим метрику RMSE функцией.\n",
    "def RMSE(target, predictions):\n",
    "    MSE = mean_squared_error(target, predictions)\n",
    "    return MSE ** 0.5\n",
    "RMSE_score = make_scorer(RMSE, greater_is_better=False)"
   ]
  },
  {
   "cell_type": "markdown",
   "metadata": {},
   "source": [
    "### LinearRegression"
   ]
  },
  {
   "cell_type": "code",
   "execution_count": 154,
   "metadata": {},
   "outputs": [
    {
     "name": "stdout",
     "output_type": "stream",
     "text": [
      "Fitting 3 folds for each of 1 candidates, totalling 3 fits\n",
      "[CV 1/3] END ..............................., score=-2626.888 total time=   8.2s\n",
      "[CV 2/3] END ..............................., score=-2636.729 total time=   8.4s\n",
      "[CV 3/3] END ..............................., score=-2629.865 total time=   8.3s\n",
      "-2631.160718756368\n",
      "8.16663153966268\n",
      "CPU times: user 28.1 s, sys: 8.59 s, total: 36.7 s\n",
      "Wall time: 36.6 s\n"
     ]
    }
   ],
   "source": [
    "%%time\n",
    "\n",
    "# Инициализируем модель линейной регрессии.\n",
    "model_lr = LinearRegression()\n",
    "\n",
    "# Воспользуемся GridSearchCV для кросс-валидации модели.\n",
    "param_lr = {}\n",
    "grid_lr = GridSearchCV(model_lr, param_lr, scoring = RMSE_score, cv=3, verbose=3)\n",
    "grid_lr.fit(X_train, y_train)\n",
    "\n",
    "print(grid_lr.best_score_)\n",
    "print(grid_lr.cv_results_['mean_fit_time'][grid_lr.best_index_])"
   ]
  },
  {
   "cell_type": "markdown",
   "metadata": {},
   "source": [
    "**Промежуточный вывод:** Время обучения модели линейной регрессии: 8 сек. RMSE = 2631, что превышает заданное значение."
   ]
  },
  {
   "cell_type": "markdown",
   "metadata": {},
   "source": [
    "### DecisionTreeRegressor"
   ]
  },
  {
   "cell_type": "code",
   "execution_count": 155,
   "metadata": {},
   "outputs": [
    {
     "name": "stdout",
     "output_type": "stream",
     "text": [
      "Fitting 3 folds for each of 19 candidates, totalling 57 fits\n",
      "[CV 1/3] END ...................max_depth=1;, score=-3713.012 total time=   0.4s\n",
      "[CV 2/3] END ...................max_depth=1;, score=-3734.589 total time=   0.4s\n",
      "[CV 3/3] END ...................max_depth=1;, score=-3728.435 total time=   0.4s\n",
      "[CV 1/3] END ...................max_depth=2;, score=-3243.581 total time=   0.6s\n",
      "[CV 2/3] END ...................max_depth=2;, score=-3254.707 total time=   0.6s\n",
      "[CV 3/3] END ...................max_depth=2;, score=-3255.330 total time=   0.6s\n",
      "[CV 1/3] END ...................max_depth=3;, score=-2974.771 total time=   0.7s\n",
      "[CV 2/3] END ...................max_depth=3;, score=-2995.245 total time=   0.7s\n",
      "[CV 3/3] END ...................max_depth=3;, score=-2979.910 total time=   0.7s\n",
      "[CV 1/3] END ...................max_depth=4;, score=-2638.438 total time=   0.9s\n",
      "[CV 2/3] END ...................max_depth=4;, score=-2656.324 total time=   0.9s\n",
      "[CV 3/3] END ...................max_depth=4;, score=-2651.902 total time=   0.9s\n",
      "[CV 1/3] END ...................max_depth=5;, score=-2462.265 total time=   1.1s\n",
      "[CV 2/3] END ...................max_depth=5;, score=-2481.202 total time=   1.1s\n",
      "[CV 3/3] END ...................max_depth=5;, score=-2466.129 total time=   1.0s\n",
      "[CV 1/3] END ...................max_depth=6;, score=-2298.930 total time=   1.2s\n",
      "[CV 2/3] END ...................max_depth=6;, score=-2326.649 total time=   1.2s\n",
      "[CV 3/3] END ...................max_depth=6;, score=-2309.408 total time=   1.2s\n",
      "[CV 1/3] END ...................max_depth=7;, score=-2198.376 total time=   1.3s\n",
      "[CV 2/3] END ...................max_depth=7;, score=-2223.262 total time=   1.3s\n",
      "[CV 3/3] END ...................max_depth=7;, score=-2204.566 total time=   1.3s\n",
      "[CV 1/3] END ...................max_depth=8;, score=-2123.586 total time=   1.5s\n",
      "[CV 2/3] END ...................max_depth=8;, score=-2139.977 total time=   1.5s\n",
      "[CV 3/3] END ...................max_depth=8;, score=-2115.178 total time=   1.5s\n",
      "[CV 1/3] END ...................max_depth=9;, score=-2068.384 total time=   1.6s\n",
      "[CV 2/3] END ...................max_depth=9;, score=-2080.769 total time=   1.6s\n",
      "[CV 3/3] END ...................max_depth=9;, score=-2054.166 total time=   1.5s\n",
      "[CV 1/3] END ..................max_depth=10;, score=-2022.125 total time=   1.6s\n",
      "[CV 2/3] END ..................max_depth=10;, score=-2026.401 total time=   1.7s\n",
      "[CV 3/3] END ..................max_depth=10;, score=-2005.621 total time=   1.7s\n",
      "[CV 1/3] END ..................max_depth=11;, score=-1993.711 total time=   1.7s\n",
      "[CV 2/3] END ..................max_depth=11;, score=-1980.539 total time=   1.8s\n",
      "[CV 3/3] END ..................max_depth=11;, score=-1974.299 total time=   1.7s\n",
      "[CV 1/3] END ..................max_depth=12;, score=-1961.586 total time=   1.9s\n",
      "[CV 2/3] END ..................max_depth=12;, score=-1951.558 total time=   1.8s\n",
      "[CV 3/3] END ..................max_depth=12;, score=-1943.516 total time=   1.9s\n",
      "[CV 1/3] END ..................max_depth=13;, score=-1940.140 total time=   1.9s\n",
      "[CV 2/3] END ..................max_depth=13;, score=-1919.197 total time=   1.9s\n",
      "[CV 3/3] END ..................max_depth=13;, score=-1940.272 total time=   1.9s\n",
      "[CV 1/3] END ..................max_depth=14;, score=-1937.344 total time=   2.0s\n",
      "[CV 2/3] END ..................max_depth=14;, score=-1910.997 total time=   2.0s\n",
      "[CV 3/3] END ..................max_depth=14;, score=-1934.756 total time=   1.9s\n",
      "[CV 1/3] END ..................max_depth=15;, score=-1943.871 total time=   2.0s\n",
      "[CV 2/3] END ..................max_depth=15;, score=-1909.663 total time=   2.0s\n",
      "[CV 3/3] END ..................max_depth=15;, score=-1919.964 total time=   2.0s\n",
      "[CV 1/3] END ..................max_depth=16;, score=-1945.469 total time=   2.1s\n",
      "[CV 2/3] END ..................max_depth=16;, score=-1916.115 total time=   2.1s\n",
      "[CV 3/3] END ..................max_depth=16;, score=-1928.070 total time=   2.1s\n",
      "[CV 1/3] END ..................max_depth=17;, score=-1945.043 total time=   2.2s\n",
      "[CV 2/3] END ..................max_depth=17;, score=-1923.599 total time=   2.2s\n",
      "[CV 3/3] END ..................max_depth=17;, score=-1940.286 total time=   2.1s\n",
      "[CV 1/3] END ..................max_depth=18;, score=-1958.479 total time=   2.2s\n",
      "[CV 2/3] END ..................max_depth=18;, score=-1939.019 total time=   2.2s\n",
      "[CV 3/3] END ..................max_depth=18;, score=-1939.848 total time=   2.4s\n",
      "[CV 1/3] END ..................max_depth=19;, score=-1967.374 total time=   2.4s\n",
      "[CV 2/3] END ..................max_depth=19;, score=-1952.644 total time=   2.3s\n",
      "[CV 3/3] END ..................max_depth=19;, score=-1953.855 total time=   2.3s\n",
      "{'max_depth': 15}\n",
      "-1924.4991808656723\n",
      "1.9732767740885417\n",
      "CPU times: user 1min 24s, sys: 5.86 s, total: 1min 30s\n",
      "Wall time: 1min 30s\n"
     ]
    }
   ],
   "source": [
    "%%time\n",
    "\n",
    "# Инициализируем модель древа решений.\n",
    "model_dt = DecisionTreeRegressor(random_state=RANDOM_STATE)\n",
    "\n",
    "# Зададим параметры и воспользуемся GridSearchCV для определения лучших по метрике.\n",
    "param_dt = {'max_depth':range (1, 20)}\n",
    "grid_dt = GridSearchCV(model_dt, param_dt, scoring = RMSE_score, cv=3, verbose=3)\n",
    "grid_dt.fit(X_train, y_train)\n",
    "\n",
    "print(grid_dt.best_params_)\n",
    "print(grid_dt.best_score_)\n",
    "print(grid_dt.cv_results_['mean_fit_time'][grid_dt.best_index_])"
   ]
  },
  {
   "cell_type": "markdown",
   "metadata": {},
   "source": [
    "**Промежуточный вывод:** Время обучения лучшей модели древа решений: 2 сек. Лучший параметр глубины: 15. RMSE = 1924, что удовлетворяет заданному условию."
   ]
  },
  {
   "cell_type": "markdown",
   "metadata": {},
   "source": [
    "### LightGBM"
   ]
  },
  {
   "cell_type": "code",
   "execution_count": 156,
   "metadata": {},
   "outputs": [],
   "source": [
    "# Разделим данные на обучающую и тестовую выборки заново для LightGBM.\n",
    "features = df.drop('price', axis=1)\n",
    "target = df['price']\n",
    "\n",
    "# Переведем категориальные признаки в тип category, который требуется для LightGBM.\n",
    "for c in features.columns:\n",
    "  col_type = features[c].dtype\n",
    "  if col_type == 'object':\n",
    "    features[c] = features[c].astype('category')\n",
    "\n",
    "features_train, features_test, target_train, target_test = train_test_split(\n",
    "    features, target, test_size=TEST_SIZE, random_state=RANDOM_STATE)"
   ]
  },
  {
   "cell_type": "code",
   "execution_count": 158,
   "metadata": {},
   "outputs": [
    {
     "name": "stdout",
     "output_type": "stream",
     "text": [
      "Fitting 3 folds for each of 4 candidates, totalling 12 fits\n",
      "[CV 1/3] END n_estimators=100, num_leaves=20;, score=-1655.187 total time=   4.1s\n",
      "[CV 2/3] END n_estimators=100, num_leaves=20;, score=-1663.450 total time=   3.8s\n",
      "[CV 3/3] END n_estimators=100, num_leaves=20;, score=-1660.128 total time=   3.2s\n",
      "[CV 1/3] END n_estimators=100, num_leaves=30;, score=-1630.804 total time=   3.8s\n",
      "[CV 2/3] END n_estimators=100, num_leaves=30;, score=-1642.963 total time=   4.0s\n",
      "[CV 3/3] END n_estimators=100, num_leaves=30;, score=-1642.209 total time=   4.4s\n",
      "[CV 1/3] END n_estimators=200, num_leaves=20;, score=-1622.002 total time=   5.4s\n",
      "[CV 2/3] END n_estimators=200, num_leaves=20;, score=-1630.099 total time=   5.5s\n",
      "[CV 3/3] END n_estimators=200, num_leaves=20;, score=-1628.426 total time=   5.3s\n",
      "[CV 1/3] END n_estimators=200, num_leaves=30;, score=-1604.791 total time=   6.2s\n",
      "[CV 2/3] END n_estimators=200, num_leaves=30;, score=-1615.614 total time=   7.9s\n",
      "[CV 3/3] END n_estimators=200, num_leaves=30;, score=-1616.446 total time=  10.3s\n",
      "{'n_estimators': 200, 'num_leaves': 30}\n",
      "-1612.2836014001987\n",
      "6.960036118825276\n",
      "CPU times: user 1min 10s, sys: 0 ns, total: 1min 10s\n",
      "Wall time: 1min 10s\n"
     ]
    }
   ],
   "source": [
    "%%time\n",
    "\n",
    "# Инициализируем модель LightGBM.\n",
    "model_lgbm = LGBMRegressor(random_state=RANDOM_STATE)\n",
    "\n",
    "# Зададим параметры и воспользуемся GridSearchCV для определения лучших по метрике.\n",
    "param_lgbm = {\n",
    "    'n_estimators': [100, 200],\n",
    "    'num_leaves': [20, 30]}\n",
    "grid_lgbm = GridSearchCV(model_lgbm, param_lgbm, scoring = RMSE_score, n_jobs=-1, cv=3, verbose=3)\n",
    "grid_lgbm.fit(features_train, target_train)\n",
    "\n",
    "print(grid_lgbm.best_params_)\n",
    "print(grid_lgbm.best_score_)\n",
    "print(grid_lgbm.cv_results_['mean_fit_time'][grid_lgbm.best_index_])"
   ]
  },
  {
   "cell_type": "markdown",
   "metadata": {},
   "source": [
    "**Промежуточный вывод:** Время обучения лучшей модели LightGBM: 7 сек. Лучший параметр числа эстиматоров: 200, число \"листьев\": 30. RMSE = 1612, что удовлетворяет заданному условию."
   ]
  },
  {
   "cell_type": "markdown",
   "metadata": {},
   "source": [
    "## Анализ моделей"
   ]
  },
  {
   "cell_type": "markdown",
   "metadata": {},
   "source": [
    "Исходя из оценки времени обучения моделей и метрик, остановимся на ***LightGBM***, как лучшей по RMSE. Она обучается немногим дольше древа решений, но зато точнее. Проверим её качество и время предсказания на тестовой выборке."
   ]
  },
  {
   "cell_type": "code",
   "execution_count": 160,
   "metadata": {},
   "outputs": [
    {
     "name": "stdout",
     "output_type": "stream",
     "text": [
      "Fitting 3 folds for each of 1 candidates, totalling 3 fits\n",
      "[CV 1/3] END n_estimators=200, num_leaves=30;, score=-1659.200 total time=   3.4s\n",
      "[CV 2/3] END n_estimators=200, num_leaves=30;, score=-1691.365 total time=   3.7s\n",
      "[CV 3/3] END n_estimators=200, num_leaves=30;, score=-1667.750 total time=   3.6s\n",
      "-1672.7713886568438\n",
      "0.4380403359731038\n",
      "CPU times: user 14.4 s, sys: 0 ns, total: 14.4 s\n",
      "Wall time: 14.3 s\n"
     ]
    }
   ],
   "source": [
    "%%time\n",
    "\n",
    "# Инициализируем модель LightGBM.\n",
    "model_lgbm = LGBMRegressor(random_state=RANDOM_STATE)\n",
    "\n",
    "# Зададим параметры и воспользуемся GridSearchCV.\n",
    "param_lgbm = {\n",
    "    'n_estimators': [200],\n",
    "    'num_leaves': [30]}\n",
    "grid_lgbm = GridSearchCV(model_lgbm, param_lgbm, scoring = RMSE_score, n_jobs=-1, cv=3, verbose=3)\n",
    "grid_lgbm.fit(features_test, target_test)\n",
    "\n",
    "print(grid_lgbm.best_score_)\n",
    "print(grid_lgbm.cv_results_['mean_score_time'][grid_lgbm.best_index_])"
   ]
  },
  {
   "cell_type": "markdown",
   "metadata": {},
   "source": [
    "**Промежуточный вывод:** Время предсказания лучшей модели LightGBM: 0.4 сек. RMSE = 1673."
   ]
  },
  {
   "cell_type": "markdown",
   "metadata": {},
   "source": [
    "## Общий вывод"
   ]
  },
  {
   "cell_type": "markdown",
   "metadata": {},
   "source": [
    "**Цель исследования:** Построили модели машинного обучения для определения стоимости автомобилей. Оценили их по критериям, указанным заказчиком.\n",
    "\n",
    "**Подготовка данных:** Проверили данные на дубликаты, неявные повторы и пропуски, обработали их. Привели данные к одному правильному виду и отобрали только информативные признаки в неамомальных границах.\n",
    "\n",
    "**Обучение моделей:** Обучили 3 модели машинного обучения, подобрав гиперпараметры, оценили время обучения лучших моделей по оценке метрики RMSE, которая по указаниям заказчика должна быть меньше 2500:\n",
    "- LinearRegression: Время обучения модели: 8 сек. RMSE = 2631, что превышает заданное значение.\n",
    "- DecisionTreeRegressor: Время обучения лучшей модели: 2 сек. Лучший параметр глубины: 15. RMSE = 1924, что удовлетворяет заданному условию.\n",
    "- LightGBM: Время обучения лучшей модели: 7 сек. Лучший параметр числа эстиматоров: 200, число \"листьев\": 30. RMSE = 1612, что удовлетворяет заданному условию.\n",
    "\n",
    "**Анализ моделей:** Исходя из оценки времени обучения моделей и метрики RMSE, остановились на ***LightGBM***, как лучшей по RMSE. Она обучается немногим дольше древа решений, но зато точнее. Проверили её качество и время предсказания на тестовой выборке: время предсказания лучшей модели: 0.4 сек. RMSE = 1673.\n",
    "\n",
    "**Рекомендации:** Вместо количества фотографий разумно было бы ввести оценку внешнего вида автомобиля, если возможно."
   ]
  }
 ],
 "metadata": {
  "ExecuteTimeLog": [
   {
    "duration": 48,
    "start_time": "2024-12-05T13:59:41.207Z"
   },
   {
    "duration": 739,
    "start_time": "2024-12-05T13:59:45.265Z"
   },
   {
    "duration": 1090,
    "start_time": "2024-12-05T13:59:46.006Z"
   },
   {
    "duration": 109,
    "start_time": "2024-12-05T14:00:10.659Z"
   },
   {
    "duration": 430,
    "start_time": "2024-12-05T14:06:54.125Z"
   },
   {
    "duration": 415,
    "start_time": "2024-12-05T14:07:18.087Z"
   },
   {
    "duration": 70,
    "start_time": "2024-12-05T14:13:23.248Z"
   },
   {
    "duration": 94,
    "start_time": "2024-12-05T14:16:19.267Z"
   },
   {
    "duration": 703,
    "start_time": "2024-12-05T14:16:28.393Z"
   },
   {
    "duration": 25,
    "start_time": "2024-12-05T14:17:53.309Z"
   },
   {
    "duration": 41,
    "start_time": "2024-12-05T14:17:57.206Z"
   },
   {
    "duration": 2,
    "start_time": "2024-12-05T14:18:28.014Z"
   },
   {
    "duration": 791,
    "start_time": "2024-12-05T14:18:28.019Z"
   },
   {
    "duration": 136,
    "start_time": "2024-12-05T14:18:28.811Z"
   },
   {
    "duration": 766,
    "start_time": "2024-12-05T14:18:28.949Z"
   },
   {
    "duration": 367,
    "start_time": "2024-12-05T14:18:29.718Z"
   },
   {
    "duration": 379,
    "start_time": "2024-12-05T14:18:30.086Z"
   },
   {
    "duration": 74,
    "start_time": "2024-12-05T14:18:30.466Z"
   },
   {
    "duration": 40,
    "start_time": "2024-12-05T14:18:30.542Z"
   },
   {
    "duration": 95,
    "start_time": "2024-12-05T14:22:46.963Z"
   },
   {
    "duration": 12,
    "start_time": "2024-12-05T14:27:19.677Z"
   },
   {
    "duration": 137,
    "start_time": "2024-12-05T14:27:26.158Z"
   },
   {
    "duration": 11,
    "start_time": "2024-12-05T14:39:42.553Z"
   },
   {
    "duration": 84,
    "start_time": "2024-12-05T14:40:26.357Z"
   },
   {
    "duration": 25,
    "start_time": "2024-12-05T14:40:33.916Z"
   },
   {
    "duration": 91,
    "start_time": "2024-12-05T14:41:46.100Z"
   },
   {
    "duration": 32,
    "start_time": "2024-12-05T14:41:49.852Z"
   },
   {
    "duration": 23,
    "start_time": "2024-12-05T14:42:06.280Z"
   },
   {
    "duration": 11,
    "start_time": "2024-12-05T14:43:00.889Z"
   },
   {
    "duration": 24,
    "start_time": "2024-12-05T14:43:05.920Z"
   },
   {
    "duration": 17,
    "start_time": "2024-12-05T14:45:41.980Z"
   },
   {
    "duration": 86,
    "start_time": "2024-12-05T14:45:48.640Z"
   },
   {
    "duration": 23,
    "start_time": "2024-12-05T14:46:23.294Z"
   },
   {
    "duration": 8,
    "start_time": "2024-12-05T14:46:47.443Z"
   },
   {
    "duration": 10,
    "start_time": "2024-12-05T14:46:53.485Z"
   },
   {
    "duration": 21,
    "start_time": "2024-12-05T14:48:00.788Z"
   },
   {
    "duration": 36,
    "start_time": "2024-12-05T14:57:44.827Z"
   },
   {
    "duration": 84,
    "start_time": "2024-12-05T15:01:33.477Z"
   },
   {
    "duration": 29,
    "start_time": "2024-12-05T15:01:38.765Z"
   },
   {
    "duration": 34,
    "start_time": "2024-12-05T15:11:28.404Z"
   },
   {
    "duration": 2,
    "start_time": "2024-12-05T15:13:40.384Z"
   },
   {
    "duration": 796,
    "start_time": "2024-12-05T15:13:40.387Z"
   },
   {
    "duration": 112,
    "start_time": "2024-12-05T15:13:41.184Z"
   },
   {
    "duration": 753,
    "start_time": "2024-12-05T15:13:41.298Z"
   },
   {
    "duration": 357,
    "start_time": "2024-12-05T15:13:42.053Z"
   },
   {
    "duration": 387,
    "start_time": "2024-12-05T15:13:42.412Z"
   },
   {
    "duration": 90,
    "start_time": "2024-12-05T15:13:42.801Z"
   },
   {
    "duration": 22,
    "start_time": "2024-12-05T15:13:42.893Z"
   },
   {
    "duration": 134,
    "start_time": "2024-12-05T15:13:42.917Z"
   },
   {
    "duration": 42,
    "start_time": "2024-12-05T15:13:43.053Z"
   },
   {
    "duration": 32,
    "start_time": "2024-12-05T15:13:43.098Z"
   },
   {
    "duration": 19,
    "start_time": "2024-12-05T15:13:43.132Z"
   },
   {
    "duration": 43,
    "start_time": "2024-12-05T15:13:43.153Z"
   },
   {
    "duration": 28,
    "start_time": "2024-12-05T15:13:43.200Z"
   },
   {
    "duration": 8,
    "start_time": "2024-12-05T15:18:48.200Z"
   },
   {
    "duration": 25,
    "start_time": "2024-12-05T15:18:53.735Z"
   },
   {
    "duration": 19,
    "start_time": "2024-12-05T15:19:30.518Z"
   },
   {
    "duration": 5,
    "start_time": "2024-12-05T15:19:54.530Z"
   },
   {
    "duration": 18,
    "start_time": "2024-12-05T15:19:59.886Z"
   },
   {
    "duration": 16,
    "start_time": "2024-12-05T15:21:53.109Z"
   },
   {
    "duration": 26,
    "start_time": "2024-12-05T15:23:57.217Z"
   },
   {
    "duration": 7,
    "start_time": "2024-12-05T15:24:09.910Z"
   },
   {
    "duration": 3,
    "start_time": "2024-12-05T15:24:12.226Z"
   },
   {
    "duration": 63,
    "start_time": "2024-12-05T15:25:20.977Z"
   },
   {
    "duration": 90,
    "start_time": "2024-12-05T15:25:53.438Z"
   },
   {
    "duration": 94,
    "start_time": "2024-12-05T15:25:58.047Z"
   },
   {
    "duration": 320,
    "start_time": "2024-12-05T15:28:13.328Z"
   },
   {
    "duration": 46,
    "start_time": "2024-12-05T15:29:53.668Z"
   },
   {
    "duration": 2,
    "start_time": "2024-12-05T15:29:56.884Z"
   },
   {
    "duration": 684,
    "start_time": "2024-12-05T15:29:56.888Z"
   },
   {
    "duration": 109,
    "start_time": "2024-12-05T15:29:57.573Z"
   },
   {
    "duration": 707,
    "start_time": "2024-12-05T15:29:57.685Z"
   },
   {
    "duration": 338,
    "start_time": "2024-12-05T15:29:58.394Z"
   },
   {
    "duration": 356,
    "start_time": "2024-12-05T15:29:58.733Z"
   },
   {
    "duration": 66,
    "start_time": "2024-12-05T15:29:59.091Z"
   },
   {
    "duration": 34,
    "start_time": "2024-12-05T15:29:59.159Z"
   },
   {
    "duration": 130,
    "start_time": "2024-12-05T15:29:59.195Z"
   },
   {
    "duration": 17,
    "start_time": "2024-12-05T15:29:59.327Z"
   },
   {
    "duration": 70,
    "start_time": "2024-12-05T15:29:59.346Z"
   },
   {
    "duration": 20,
    "start_time": "2024-12-05T15:29:59.417Z"
   },
   {
    "duration": 21,
    "start_time": "2024-12-05T15:29:59.439Z"
   },
   {
    "duration": 43,
    "start_time": "2024-12-05T15:29:59.462Z"
   },
   {
    "duration": 26,
    "start_time": "2024-12-05T15:29:59.506Z"
   },
   {
    "duration": 27,
    "start_time": "2024-12-05T15:29:59.534Z"
   },
   {
    "duration": 73,
    "start_time": "2024-12-05T15:29:59.563Z"
   },
   {
    "duration": 292,
    "start_time": "2024-12-05T15:29:59.637Z"
   },
   {
    "duration": 66,
    "start_time": "2024-12-05T15:37:42.584Z"
   },
   {
    "duration": 304,
    "start_time": "2024-12-05T15:39:26.437Z"
   },
   {
    "duration": 235,
    "start_time": "2024-12-05T15:46:13.248Z"
   },
   {
    "duration": 281,
    "start_time": "2024-12-05T15:50:52.778Z"
   },
   {
    "duration": 248,
    "start_time": "2024-12-05T15:51:11.143Z"
   },
   {
    "duration": 268,
    "start_time": "2024-12-05T15:51:31.440Z"
   },
   {
    "duration": 3,
    "start_time": "2024-12-05T15:52:30.050Z"
   },
   {
    "duration": 785,
    "start_time": "2024-12-05T15:52:30.054Z"
   },
   {
    "duration": 111,
    "start_time": "2024-12-05T15:52:30.840Z"
   },
   {
    "duration": 685,
    "start_time": "2024-12-05T15:52:30.953Z"
   },
   {
    "duration": 365,
    "start_time": "2024-12-05T15:52:31.640Z"
   },
   {
    "duration": 344,
    "start_time": "2024-12-05T15:52:32.006Z"
   },
   {
    "duration": 71,
    "start_time": "2024-12-05T15:52:32.352Z"
   },
   {
    "duration": 21,
    "start_time": "2024-12-05T15:52:32.424Z"
   },
   {
    "duration": 137,
    "start_time": "2024-12-05T15:52:32.446Z"
   },
   {
    "duration": 19,
    "start_time": "2024-12-05T15:52:32.584Z"
   },
   {
    "duration": 51,
    "start_time": "2024-12-05T15:52:32.604Z"
   },
   {
    "duration": 28,
    "start_time": "2024-12-05T15:52:32.656Z"
   },
   {
    "duration": 19,
    "start_time": "2024-12-05T15:52:32.686Z"
   },
   {
    "duration": 41,
    "start_time": "2024-12-05T15:52:32.707Z"
   },
   {
    "duration": 35,
    "start_time": "2024-12-05T15:52:32.749Z"
   },
   {
    "duration": 57,
    "start_time": "2024-12-05T15:52:32.785Z"
   },
   {
    "duration": 64,
    "start_time": "2024-12-05T15:52:32.844Z"
   },
   {
    "duration": 350,
    "start_time": "2024-12-05T15:52:32.909Z"
   },
   {
    "duration": 288,
    "start_time": "2024-12-05T15:52:33.261Z"
   },
   {
    "duration": 268,
    "start_time": "2024-12-05T15:52:33.550Z"
   },
   {
    "duration": 14,
    "start_time": "2024-12-05T15:53:34.710Z"
   },
   {
    "duration": 2,
    "start_time": "2024-12-05T15:54:10.615Z"
   },
   {
    "duration": 711,
    "start_time": "2024-12-05T15:54:10.619Z"
   },
   {
    "duration": 114,
    "start_time": "2024-12-05T15:54:11.331Z"
   },
   {
    "duration": 711,
    "start_time": "2024-12-05T15:54:11.446Z"
   },
   {
    "duration": 327,
    "start_time": "2024-12-05T15:54:12.159Z"
   },
   {
    "duration": 345,
    "start_time": "2024-12-05T15:54:12.487Z"
   },
   {
    "duration": 66,
    "start_time": "2024-12-05T15:54:12.834Z"
   },
   {
    "duration": 21,
    "start_time": "2024-12-05T15:54:12.901Z"
   },
   {
    "duration": 119,
    "start_time": "2024-12-05T15:54:12.923Z"
   },
   {
    "duration": 18,
    "start_time": "2024-12-05T15:54:13.044Z"
   },
   {
    "duration": 31,
    "start_time": "2024-12-05T15:54:13.071Z"
   },
   {
    "duration": 22,
    "start_time": "2024-12-05T15:54:13.103Z"
   },
   {
    "duration": 18,
    "start_time": "2024-12-05T15:54:13.126Z"
   },
   {
    "duration": 40,
    "start_time": "2024-12-05T15:54:13.147Z"
   },
   {
    "duration": 22,
    "start_time": "2024-12-05T15:54:13.189Z"
   },
   {
    "duration": 17,
    "start_time": "2024-12-05T15:54:13.212Z"
   },
   {
    "duration": 65,
    "start_time": "2024-12-05T15:54:13.230Z"
   },
   {
    "duration": 15,
    "start_time": "2024-12-05T15:54:13.296Z"
   },
   {
    "duration": 270,
    "start_time": "2024-12-05T15:54:13.312Z"
   },
   {
    "duration": 15,
    "start_time": "2024-12-05T15:54:13.585Z"
   },
   {
    "duration": 290,
    "start_time": "2024-12-05T15:54:13.601Z"
   },
   {
    "duration": 14,
    "start_time": "2024-12-05T15:54:13.892Z"
   },
   {
    "duration": 238,
    "start_time": "2024-12-05T15:54:13.907Z"
   },
   {
    "duration": 37,
    "start_time": "2024-12-05T16:00:05.753Z"
   },
   {
    "duration": 17,
    "start_time": "2024-12-05T16:01:09.262Z"
   },
   {
    "duration": 1582,
    "start_time": "2024-12-06T14:45:01.115Z"
   },
   {
    "duration": 1805,
    "start_time": "2024-12-06T14:45:02.699Z"
   },
   {
    "duration": 134,
    "start_time": "2024-12-06T14:45:04.505Z"
   },
   {
    "duration": 850,
    "start_time": "2024-12-06T14:45:04.640Z"
   },
   {
    "duration": 428,
    "start_time": "2024-12-06T14:45:05.493Z"
   },
   {
    "duration": 439,
    "start_time": "2024-12-06T14:45:05.922Z"
   },
   {
    "duration": 71,
    "start_time": "2024-12-06T14:45:06.362Z"
   },
   {
    "duration": 51,
    "start_time": "2024-12-06T14:45:06.434Z"
   },
   {
    "duration": 142,
    "start_time": "2024-12-06T14:45:06.487Z"
   },
   {
    "duration": 27,
    "start_time": "2024-12-06T14:45:06.630Z"
   },
   {
    "duration": 52,
    "start_time": "2024-12-06T14:45:06.659Z"
   },
   {
    "duration": 22,
    "start_time": "2024-12-06T14:45:06.712Z"
   },
   {
    "duration": 25,
    "start_time": "2024-12-06T14:45:06.735Z"
   },
   {
    "duration": 34,
    "start_time": "2024-12-06T14:45:06.762Z"
   },
   {
    "duration": 61,
    "start_time": "2024-12-06T14:45:06.798Z"
   },
   {
    "duration": 30,
    "start_time": "2024-12-06T14:45:06.860Z"
   },
   {
    "duration": 117,
    "start_time": "2024-12-06T14:45:06.894Z"
   },
   {
    "duration": 18,
    "start_time": "2024-12-06T14:45:07.012Z"
   },
   {
    "duration": 313,
    "start_time": "2024-12-06T14:45:07.032Z"
   },
   {
    "duration": 14,
    "start_time": "2024-12-06T14:45:07.346Z"
   },
   {
    "duration": 296,
    "start_time": "2024-12-06T14:45:07.361Z"
   },
   {
    "duration": 24,
    "start_time": "2024-12-06T14:45:07.658Z"
   },
   {
    "duration": 334,
    "start_time": "2024-12-06T14:45:07.684Z"
   },
   {
    "duration": 33,
    "start_time": "2024-12-06T14:45:08.019Z"
   },
   {
    "duration": 28,
    "start_time": "2024-12-06T14:45:08.054Z"
   },
   {
    "duration": 63,
    "start_time": "2024-12-06T14:45:08.087Z"
   },
   {
    "duration": 136,
    "start_time": "2024-12-06T14:45:08.152Z"
   },
   {
    "duration": 0,
    "start_time": "2024-12-06T14:45:08.289Z"
   },
   {
    "duration": 70,
    "start_time": "2024-12-06T14:45:42.028Z"
   },
   {
    "duration": 2098,
    "start_time": "2024-12-06T14:45:42.100Z"
   },
   {
    "duration": 43884,
    "start_time": "2024-12-06T14:45:44.202Z"
   },
   {
    "duration": 47301,
    "start_time": "2024-12-06T14:47:14.191Z"
   },
   {
    "duration": 90,
    "start_time": "2024-12-06T15:22:18.834Z"
   },
   {
    "duration": 54,
    "start_time": "2024-12-06T15:23:14.382Z"
   },
   {
    "duration": 760,
    "start_time": "2024-12-06T15:23:14.438Z"
   },
   {
    "duration": 119,
    "start_time": "2024-12-06T15:23:15.200Z"
   },
   {
    "duration": 792,
    "start_time": "2024-12-06T15:23:15.321Z"
   },
   {
    "duration": 400,
    "start_time": "2024-12-06T15:23:16.116Z"
   },
   {
    "duration": 435,
    "start_time": "2024-12-06T15:23:16.518Z"
   },
   {
    "duration": 81,
    "start_time": "2024-12-06T15:23:16.955Z"
   },
   {
    "duration": 21,
    "start_time": "2024-12-06T15:23:17.037Z"
   },
   {
    "duration": 160,
    "start_time": "2024-12-06T15:23:17.059Z"
   },
   {
    "duration": 19,
    "start_time": "2024-12-06T15:23:17.220Z"
   },
   {
    "duration": 50,
    "start_time": "2024-12-06T15:23:17.241Z"
   },
   {
    "duration": 26,
    "start_time": "2024-12-06T15:23:17.295Z"
   },
   {
    "duration": 21,
    "start_time": "2024-12-06T15:23:17.323Z"
   },
   {
    "duration": 44,
    "start_time": "2024-12-06T15:23:17.346Z"
   },
   {
    "duration": 52,
    "start_time": "2024-12-06T15:23:17.400Z"
   },
   {
    "duration": 15,
    "start_time": "2024-12-06T15:23:17.454Z"
   },
   {
    "duration": 83,
    "start_time": "2024-12-06T15:23:17.470Z"
   },
   {
    "duration": 41,
    "start_time": "2024-12-06T15:23:17.555Z"
   },
   {
    "duration": 302,
    "start_time": "2024-12-06T15:23:17.597Z"
   },
   {
    "duration": 23,
    "start_time": "2024-12-06T15:23:17.900Z"
   },
   {
    "duration": 278,
    "start_time": "2024-12-06T15:23:17.925Z"
   },
   {
    "duration": 17,
    "start_time": "2024-12-06T15:23:18.205Z"
   },
   {
    "duration": 244,
    "start_time": "2024-12-06T15:23:18.223Z"
   },
   {
    "duration": 43,
    "start_time": "2024-12-06T15:23:18.469Z"
   },
   {
    "duration": 11,
    "start_time": "2024-12-06T15:23:18.513Z"
   },
   {
    "duration": 91,
    "start_time": "2024-12-06T15:23:18.526Z"
   },
   {
    "duration": 2328,
    "start_time": "2024-12-06T15:23:18.619Z"
   },
   {
    "duration": 3,
    "start_time": "2024-12-06T15:23:20.949Z"
   },
   {
    "duration": 261940,
    "start_time": "2024-12-06T15:23:20.953Z"
   },
   {
    "duration": 260485,
    "start_time": "2024-12-06T15:31:46.293Z"
   },
   {
    "duration": 244481,
    "start_time": "2024-12-06T15:42:19.943Z"
   },
   {
    "duration": 1345366,
    "start_time": "2024-12-06T15:56:56.488Z"
   },
   {
    "duration": 182,
    "start_time": "2024-12-06T16:23:03.180Z"
   },
   {
    "duration": 2463395,
    "start_time": "2024-12-06T16:27:07.983Z"
   },
   {
    "duration": 336240,
    "start_time": "2024-12-06T17:10:44.573Z"
   },
   {
    "duration": 76,
    "start_time": "2024-12-06T17:17:26.723Z"
   },
   {
    "duration": 2229,
    "start_time": "2024-12-06T17:17:26.801Z"
   },
   {
    "duration": 2,
    "start_time": "2024-12-06T17:17:29.032Z"
   },
   {
    "duration": 31478,
    "start_time": "2024-12-06T17:17:29.036Z"
   },
   {
    "duration": 119099,
    "start_time": "2024-12-06T17:18:00.516Z"
   },
   {
    "duration": 183,
    "start_time": "2024-12-06T17:19:59.616Z"
   },
   {
    "duration": 32067,
    "start_time": "2024-12-06T17:19:59.801Z"
   },
   {
    "duration": 93818,
    "start_time": "2024-12-06T17:20:42.968Z"
   },
   {
    "duration": 7227495,
    "start_time": "2024-12-06T17:22:49.306Z"
   },
   {
    "duration": 150,
    "start_time": "2024-12-07T11:31:20.140Z"
   },
   {
    "duration": 1503,
    "start_time": "2024-12-07T11:31:38.846Z"
   },
   {
    "duration": 1202,
    "start_time": "2024-12-07T11:31:40.351Z"
   },
   {
    "duration": 148,
    "start_time": "2024-12-07T11:31:41.554Z"
   },
   {
    "duration": 936,
    "start_time": "2024-12-07T11:31:41.704Z"
   },
   {
    "duration": 474,
    "start_time": "2024-12-07T11:31:42.642Z"
   },
   {
    "duration": 510,
    "start_time": "2024-12-07T11:31:43.118Z"
   },
   {
    "duration": 80,
    "start_time": "2024-12-07T11:31:43.630Z"
   },
   {
    "duration": 32,
    "start_time": "2024-12-07T11:31:43.712Z"
   },
   {
    "duration": 142,
    "start_time": "2024-12-07T11:31:43.745Z"
   },
   {
    "duration": 29,
    "start_time": "2024-12-07T11:31:43.893Z"
   },
   {
    "duration": 36,
    "start_time": "2024-12-07T11:31:43.924Z"
   },
   {
    "duration": 38,
    "start_time": "2024-12-07T11:31:43.961Z"
   },
   {
    "duration": 25,
    "start_time": "2024-12-07T11:31:44.001Z"
   },
   {
    "duration": 27,
    "start_time": "2024-12-07T11:31:44.028Z"
   },
   {
    "duration": 48,
    "start_time": "2024-12-07T11:31:44.057Z"
   },
   {
    "duration": 21,
    "start_time": "2024-12-07T11:31:44.106Z"
   },
   {
    "duration": 83,
    "start_time": "2024-12-07T11:31:44.129Z"
   },
   {
    "duration": 14,
    "start_time": "2024-12-07T11:31:44.214Z"
   },
   {
    "duration": 314,
    "start_time": "2024-12-07T11:31:44.229Z"
   },
   {
    "duration": 14,
    "start_time": "2024-12-07T11:31:44.544Z"
   },
   {
    "duration": 299,
    "start_time": "2024-12-07T11:31:44.559Z"
   },
   {
    "duration": 14,
    "start_time": "2024-12-07T11:31:44.860Z"
   },
   {
    "duration": 340,
    "start_time": "2024-12-07T11:31:44.891Z"
   },
   {
    "duration": 33,
    "start_time": "2024-12-07T11:31:45.232Z"
   },
   {
    "duration": 28,
    "start_time": "2024-12-07T11:31:45.266Z"
   },
   {
    "duration": 72,
    "start_time": "2024-12-07T11:31:45.296Z"
   },
   {
    "duration": 3380,
    "start_time": "2024-12-07T11:31:45.370Z"
   },
   {
    "duration": 3,
    "start_time": "2024-12-07T11:31:48.753Z"
   },
   {
    "duration": 21016,
    "start_time": "2024-12-07T11:31:56.392Z"
   },
   {
    "duration": 4868,
    "start_time": "2024-12-07T11:35:56.687Z"
   },
   {
    "duration": 166,
    "start_time": "2024-12-07T11:40:11.413Z"
   },
   {
    "duration": 164,
    "start_time": "2024-12-07T11:40:24.172Z"
   },
   {
    "duration": 127606,
    "start_time": "2024-12-07T11:40:27.603Z"
   },
   {
    "duration": 1613,
    "start_time": "2024-12-07T23:11:22.594Z"
   },
   {
    "duration": 1230,
    "start_time": "2024-12-07T23:11:28.266Z"
   },
   {
    "duration": 150,
    "start_time": "2024-12-07T23:11:29.498Z"
   },
   {
    "duration": 955,
    "start_time": "2024-12-07T23:11:29.649Z"
   },
   {
    "duration": 462,
    "start_time": "2024-12-07T23:11:31.781Z"
   },
   {
    "duration": 500,
    "start_time": "2024-12-07T23:11:33.170Z"
   },
   {
    "duration": 76,
    "start_time": "2024-12-07T23:11:36.195Z"
   },
   {
    "duration": 27,
    "start_time": "2024-12-07T23:11:36.718Z"
   },
   {
    "duration": 125,
    "start_time": "2024-12-07T23:11:40.238Z"
   },
   {
    "duration": 29,
    "start_time": "2024-12-07T23:11:40.931Z"
   },
   {
    "duration": 35,
    "start_time": "2024-12-07T23:12:37.831Z"
   },
   {
    "duration": 23,
    "start_time": "2024-12-07T23:13:09.459Z"
   },
   {
    "duration": 24,
    "start_time": "2024-12-07T23:13:51.381Z"
   },
   {
    "duration": 29,
    "start_time": "2024-12-07T23:13:51.703Z"
   },
   {
    "duration": 33,
    "start_time": "2024-12-07T23:14:06.637Z"
   },
   {
    "duration": 19,
    "start_time": "2024-12-07T23:14:13.298Z"
   },
   {
    "duration": 78,
    "start_time": "2024-12-07T23:14:13.637Z"
   },
   {
    "duration": 15,
    "start_time": "2024-12-07T23:14:37.488Z"
   },
   {
    "duration": 312,
    "start_time": "2024-12-07T23:14:38.011Z"
   },
   {
    "duration": 15,
    "start_time": "2024-12-07T23:15:08.314Z"
   },
   {
    "duration": 303,
    "start_time": "2024-12-07T23:15:12.822Z"
   },
   {
    "duration": 16,
    "start_time": "2024-12-07T23:15:14.190Z"
   },
   {
    "duration": 330,
    "start_time": "2024-12-07T23:15:16.270Z"
   },
   {
    "duration": 34,
    "start_time": "2024-12-07T23:15:20.305Z"
   },
   {
    "duration": 11,
    "start_time": "2024-12-07T23:15:20.516Z"
   },
   {
    "duration": 11,
    "start_time": "2024-12-07T23:15:30.130Z"
   },
   {
    "duration": 127,
    "start_time": "2024-12-07T23:15:40.694Z"
   },
   {
    "duration": 68,
    "start_time": "2024-12-07T23:16:10.920Z"
   },
   {
    "duration": 1782,
    "start_time": "2024-12-08T00:10:54.424Z"
   },
   {
    "duration": 2858,
    "start_time": "2024-12-08T00:10:56.208Z"
   },
   {
    "duration": 145,
    "start_time": "2024-12-08T00:10:59.068Z"
   },
   {
    "duration": 948,
    "start_time": "2024-12-08T00:10:59.215Z"
   },
   {
    "duration": 488,
    "start_time": "2024-12-08T00:11:00.165Z"
   },
   {
    "duration": 511,
    "start_time": "2024-12-08T00:11:00.655Z"
   },
   {
    "duration": 89,
    "start_time": "2024-12-08T00:11:01.168Z"
   },
   {
    "duration": 37,
    "start_time": "2024-12-08T00:11:01.258Z"
   },
   {
    "duration": 146,
    "start_time": "2024-12-08T00:11:01.297Z"
   },
   {
    "duration": 41,
    "start_time": "2024-12-08T00:11:01.447Z"
   },
   {
    "duration": 123,
    "start_time": "2024-12-08T00:11:01.490Z"
   },
   {
    "duration": 67,
    "start_time": "2024-12-08T00:11:01.615Z"
   },
   {
    "duration": 25,
    "start_time": "2024-12-08T00:11:01.684Z"
   },
   {
    "duration": 30,
    "start_time": "2024-12-08T00:11:01.710Z"
   },
   {
    "duration": 33,
    "start_time": "2024-12-08T00:11:01.742Z"
   },
   {
    "duration": 98,
    "start_time": "2024-12-08T00:11:01.789Z"
   },
   {
    "duration": 88,
    "start_time": "2024-12-08T00:11:01.889Z"
   },
   {
    "duration": 35,
    "start_time": "2024-12-08T00:11:01.979Z"
   },
   {
    "duration": 333,
    "start_time": "2024-12-08T00:11:02.016Z"
   },
   {
    "duration": 16,
    "start_time": "2024-12-08T00:11:02.350Z"
   },
   {
    "duration": 322,
    "start_time": "2024-12-08T00:11:02.368Z"
   },
   {
    "duration": 15,
    "start_time": "2024-12-08T00:11:02.692Z"
   },
   {
    "duration": 370,
    "start_time": "2024-12-08T00:11:02.708Z"
   },
   {
    "duration": 39,
    "start_time": "2024-12-08T00:11:03.079Z"
   },
   {
    "duration": 141,
    "start_time": "2024-12-08T00:11:03.120Z"
   },
   {
    "duration": 141,
    "start_time": "2024-12-08T00:11:03.263Z"
   },
   {
    "duration": 11,
    "start_time": "2024-12-08T00:11:03.406Z"
   },
   {
    "duration": 127,
    "start_time": "2024-12-08T00:11:03.419Z"
   },
   {
    "duration": 1431,
    "start_time": "2024-12-08T14:38:04.522Z"
   },
   {
    "duration": 978,
    "start_time": "2024-12-08T14:38:05.955Z"
   },
   {
    "duration": 102,
    "start_time": "2024-12-08T14:38:06.935Z"
   },
   {
    "duration": 662,
    "start_time": "2024-12-08T14:38:07.038Z"
   },
   {
    "duration": 355,
    "start_time": "2024-12-08T14:38:07.702Z"
   },
   {
    "duration": 375,
    "start_time": "2024-12-08T14:38:08.059Z"
   },
   {
    "duration": 70,
    "start_time": "2024-12-08T14:38:08.436Z"
   },
   {
    "duration": 27,
    "start_time": "2024-12-08T14:38:08.507Z"
   },
   {
    "duration": 120,
    "start_time": "2024-12-08T14:38:08.535Z"
   },
   {
    "duration": 30,
    "start_time": "2024-12-08T14:38:08.658Z"
   },
   {
    "duration": 33,
    "start_time": "2024-12-08T14:38:08.689Z"
   },
   {
    "duration": 21,
    "start_time": "2024-12-08T14:38:08.723Z"
   },
   {
    "duration": 30,
    "start_time": "2024-12-08T14:38:08.745Z"
   },
   {
    "duration": 25,
    "start_time": "2024-12-08T14:38:08.776Z"
   },
   {
    "duration": 24,
    "start_time": "2024-12-08T14:38:08.802Z"
   },
   {
    "duration": 16,
    "start_time": "2024-12-08T14:38:08.827Z"
   },
   {
    "duration": 70,
    "start_time": "2024-12-08T14:38:08.844Z"
   },
   {
    "duration": 14,
    "start_time": "2024-12-08T14:38:08.915Z"
   },
   {
    "duration": 271,
    "start_time": "2024-12-08T14:38:08.931Z"
   },
   {
    "duration": 15,
    "start_time": "2024-12-08T14:38:09.204Z"
   },
   {
    "duration": 254,
    "start_time": "2024-12-08T14:38:09.221Z"
   },
   {
    "duration": 14,
    "start_time": "2024-12-08T14:38:09.477Z"
   },
   {
    "duration": 294,
    "start_time": "2024-12-08T14:38:09.492Z"
   },
   {
    "duration": 33,
    "start_time": "2024-12-08T14:38:09.788Z"
   },
   {
    "duration": 131,
    "start_time": "2024-12-08T14:38:09.823Z"
   },
   {
    "duration": 134,
    "start_time": "2024-12-08T14:38:09.956Z"
   },
   {
    "duration": 9,
    "start_time": "2024-12-08T14:38:10.091Z"
   },
   {
    "duration": 119,
    "start_time": "2024-12-08T14:38:10.103Z"
   },
   {
    "duration": 50,
    "start_time": "2024-12-08T14:38:10.224Z"
   },
   {
    "duration": 934,
    "start_time": "2024-12-08T14:38:10.276Z"
   },
   {
    "duration": 0,
    "start_time": "2024-12-08T14:38:11.212Z"
   },
   {
    "duration": 3,
    "start_time": "2024-12-08T14:38:51.055Z"
   },
   {
    "duration": 672,
    "start_time": "2024-12-08T14:38:51.059Z"
   },
   {
    "duration": 139,
    "start_time": "2024-12-08T14:38:51.733Z"
   },
   {
    "duration": 661,
    "start_time": "2024-12-08T14:38:51.873Z"
   },
   {
    "duration": 328,
    "start_time": "2024-12-08T14:38:52.536Z"
   },
   {
    "duration": 341,
    "start_time": "2024-12-08T14:38:52.865Z"
   },
   {
    "duration": 66,
    "start_time": "2024-12-08T14:38:53.207Z"
   },
   {
    "duration": 20,
    "start_time": "2024-12-08T14:38:53.274Z"
   },
   {
    "duration": 114,
    "start_time": "2024-12-08T14:38:53.295Z"
   },
   {
    "duration": 16,
    "start_time": "2024-12-08T14:38:53.411Z"
   },
   {
    "duration": 29,
    "start_time": "2024-12-08T14:38:53.428Z"
   },
   {
    "duration": 22,
    "start_time": "2024-12-08T14:38:53.472Z"
   },
   {
    "duration": 40,
    "start_time": "2024-12-08T14:38:53.496Z"
   },
   {
    "duration": 23,
    "start_time": "2024-12-08T14:38:53.538Z"
   },
   {
    "duration": 22,
    "start_time": "2024-12-08T14:38:53.563Z"
   },
   {
    "duration": 16,
    "start_time": "2024-12-08T14:38:53.586Z"
   },
   {
    "duration": 55,
    "start_time": "2024-12-08T14:38:53.603Z"
   },
   {
    "duration": 21,
    "start_time": "2024-12-08T14:38:53.659Z"
   },
   {
    "duration": 257,
    "start_time": "2024-12-08T14:38:53.681Z"
   },
   {
    "duration": 14,
    "start_time": "2024-12-08T14:38:53.940Z"
   },
   {
    "duration": 279,
    "start_time": "2024-12-08T14:38:53.955Z"
   },
   {
    "duration": 13,
    "start_time": "2024-12-08T14:38:54.236Z"
   },
   {
    "duration": 234,
    "start_time": "2024-12-08T14:38:54.251Z"
   },
   {
    "duration": 33,
    "start_time": "2024-12-08T14:38:54.486Z"
   },
   {
    "duration": 128,
    "start_time": "2024-12-08T14:38:54.520Z"
   },
   {
    "duration": 2,
    "start_time": "2024-12-08T14:38:54.649Z"
   },
   {
    "duration": 30,
    "start_time": "2024-12-08T14:38:54.652Z"
   },
   {
    "duration": 114,
    "start_time": "2024-12-08T14:38:54.683Z"
   },
   {
    "duration": 46,
    "start_time": "2024-12-08T14:38:54.799Z"
   },
   {
    "duration": 1949,
    "start_time": "2024-12-08T14:38:54.847Z"
   },
   {
    "duration": 2,
    "start_time": "2024-12-08T14:38:56.798Z"
   },
   {
    "duration": 3,
    "start_time": "2024-12-08T14:39:08.547Z"
   },
   {
    "duration": 665,
    "start_time": "2024-12-08T14:39:08.552Z"
   },
   {
    "duration": 103,
    "start_time": "2024-12-08T14:39:09.219Z"
   },
   {
    "duration": 721,
    "start_time": "2024-12-08T14:39:09.324Z"
   },
   {
    "duration": 325,
    "start_time": "2024-12-08T14:39:10.047Z"
   },
   {
    "duration": 334,
    "start_time": "2024-12-08T14:39:10.373Z"
   },
   {
    "duration": 69,
    "start_time": "2024-12-08T14:39:10.709Z"
   },
   {
    "duration": 22,
    "start_time": "2024-12-08T14:39:10.779Z"
   },
   {
    "duration": 125,
    "start_time": "2024-12-08T14:39:10.803Z"
   },
   {
    "duration": 24,
    "start_time": "2024-12-08T14:39:10.929Z"
   },
   {
    "duration": 34,
    "start_time": "2024-12-08T14:39:10.955Z"
   },
   {
    "duration": 22,
    "start_time": "2024-12-08T14:39:10.990Z"
   },
   {
    "duration": 50,
    "start_time": "2024-12-08T14:39:11.014Z"
   },
   {
    "duration": 29,
    "start_time": "2024-12-08T14:39:11.067Z"
   },
   {
    "duration": 30,
    "start_time": "2024-12-08T14:39:11.097Z"
   },
   {
    "duration": 77,
    "start_time": "2024-12-08T14:39:11.128Z"
   },
   {
    "duration": 84,
    "start_time": "2024-12-08T14:39:11.206Z"
   },
   {
    "duration": 15,
    "start_time": "2024-12-08T14:39:11.291Z"
   },
   {
    "duration": 245,
    "start_time": "2024-12-08T14:39:11.308Z"
   },
   {
    "duration": 22,
    "start_time": "2024-12-08T14:39:11.554Z"
   },
   {
    "duration": 341,
    "start_time": "2024-12-08T14:39:11.577Z"
   },
   {
    "duration": 14,
    "start_time": "2024-12-08T14:39:11.919Z"
   },
   {
    "duration": 239,
    "start_time": "2024-12-08T14:39:11.935Z"
   },
   {
    "duration": 31,
    "start_time": "2024-12-08T14:39:12.175Z"
   },
   {
    "duration": 126,
    "start_time": "2024-12-08T14:39:12.207Z"
   },
   {
    "duration": 129,
    "start_time": "2024-12-08T14:39:12.334Z"
   },
   {
    "duration": 12,
    "start_time": "2024-12-08T14:39:12.465Z"
   },
   {
    "duration": 139,
    "start_time": "2024-12-08T14:39:12.479Z"
   },
   {
    "duration": 41,
    "start_time": "2024-12-08T14:39:12.619Z"
   },
   {
    "duration": 827,
    "start_time": "2024-12-08T14:39:12.661Z"
   },
   {
    "duration": 0,
    "start_time": "2024-12-08T14:39:13.489Z"
   },
   {
    "duration": 3,
    "start_time": "2024-12-08T14:41:59.482Z"
   },
   {
    "duration": 665,
    "start_time": "2024-12-08T14:41:59.487Z"
   },
   {
    "duration": 101,
    "start_time": "2024-12-08T14:42:00.154Z"
   },
   {
    "duration": 668,
    "start_time": "2024-12-08T14:42:00.257Z"
   },
   {
    "duration": 312,
    "start_time": "2024-12-08T14:42:00.927Z"
   },
   {
    "duration": 351,
    "start_time": "2024-12-08T14:42:01.240Z"
   },
   {
    "duration": 67,
    "start_time": "2024-12-08T14:42:01.592Z"
   },
   {
    "duration": 29,
    "start_time": "2024-12-08T14:42:01.661Z"
   },
   {
    "duration": 140,
    "start_time": "2024-12-08T14:42:01.693Z"
   },
   {
    "duration": 18,
    "start_time": "2024-12-08T14:42:01.834Z"
   },
   {
    "duration": 42,
    "start_time": "2024-12-08T14:42:01.853Z"
   },
   {
    "duration": 22,
    "start_time": "2024-12-08T14:42:01.897Z"
   },
   {
    "duration": 36,
    "start_time": "2024-12-08T14:42:01.920Z"
   },
   {
    "duration": 24,
    "start_time": "2024-12-08T14:42:01.958Z"
   },
   {
    "duration": 23,
    "start_time": "2024-12-08T14:42:01.984Z"
   },
   {
    "duration": 28,
    "start_time": "2024-12-08T14:42:02.008Z"
   },
   {
    "duration": 66,
    "start_time": "2024-12-08T14:42:02.038Z"
   },
   {
    "duration": 14,
    "start_time": "2024-12-08T14:42:02.106Z"
   },
   {
    "duration": 250,
    "start_time": "2024-12-08T14:42:02.121Z"
   },
   {
    "duration": 14,
    "start_time": "2024-12-08T14:42:02.372Z"
   },
   {
    "duration": 253,
    "start_time": "2024-12-08T14:42:02.387Z"
   },
   {
    "duration": 13,
    "start_time": "2024-12-08T14:42:02.642Z"
   },
   {
    "duration": 275,
    "start_time": "2024-12-08T14:42:02.656Z"
   },
   {
    "duration": 53,
    "start_time": "2024-12-08T14:42:02.933Z"
   },
   {
    "duration": 121,
    "start_time": "2024-12-08T14:42:02.988Z"
   },
   {
    "duration": 132,
    "start_time": "2024-12-08T14:42:03.111Z"
   },
   {
    "duration": 9,
    "start_time": "2024-12-08T14:42:03.244Z"
   },
   {
    "duration": 127,
    "start_time": "2024-12-08T14:42:03.254Z"
   },
   {
    "duration": 45,
    "start_time": "2024-12-08T14:42:03.383Z"
   },
   {
    "duration": 42,
    "start_time": "2024-12-08T14:42:03.430Z"
   },
   {
    "duration": 0,
    "start_time": "2024-12-08T14:42:03.474Z"
   },
   {
    "duration": 21138,
    "start_time": "2024-12-08T14:42:55.173Z"
   },
   {
    "duration": 4,
    "start_time": "2024-12-08T14:43:16.314Z"
   },
   {
    "duration": 691,
    "start_time": "2024-12-08T14:43:16.319Z"
   },
   {
    "duration": 113,
    "start_time": "2024-12-08T14:43:17.012Z"
   },
   {
    "duration": 638,
    "start_time": "2024-12-08T14:43:17.127Z"
   },
   {
    "duration": 331,
    "start_time": "2024-12-08T14:43:17.767Z"
   },
   {
    "duration": 340,
    "start_time": "2024-12-08T14:43:18.099Z"
   },
   {
    "duration": 71,
    "start_time": "2024-12-08T14:43:18.440Z"
   },
   {
    "duration": 21,
    "start_time": "2024-12-08T14:43:18.512Z"
   },
   {
    "duration": 117,
    "start_time": "2024-12-08T14:43:18.535Z"
   },
   {
    "duration": 28,
    "start_time": "2024-12-08T14:43:18.653Z"
   },
   {
    "duration": 29,
    "start_time": "2024-12-08T14:43:18.682Z"
   },
   {
    "duration": 21,
    "start_time": "2024-12-08T14:43:18.713Z"
   },
   {
    "duration": 35,
    "start_time": "2024-12-08T14:43:18.736Z"
   },
   {
    "duration": 25,
    "start_time": "2024-12-08T14:43:18.772Z"
   },
   {
    "duration": 24,
    "start_time": "2024-12-08T14:43:18.799Z"
   },
   {
    "duration": 15,
    "start_time": "2024-12-08T14:43:18.825Z"
   },
   {
    "duration": 71,
    "start_time": "2024-12-08T14:43:18.842Z"
   },
   {
    "duration": 27,
    "start_time": "2024-12-08T14:43:18.914Z"
   },
   {
    "duration": 253,
    "start_time": "2024-12-08T14:43:18.943Z"
   },
   {
    "duration": 14,
    "start_time": "2024-12-08T14:43:19.198Z"
   },
   {
    "duration": 362,
    "start_time": "2024-12-08T14:43:19.213Z"
   },
   {
    "duration": 15,
    "start_time": "2024-12-08T14:43:19.576Z"
   },
   {
    "duration": 233,
    "start_time": "2024-12-08T14:43:19.593Z"
   },
   {
    "duration": 50,
    "start_time": "2024-12-08T14:43:19.827Z"
   },
   {
    "duration": 117,
    "start_time": "2024-12-08T14:43:19.879Z"
   },
   {
    "duration": 137,
    "start_time": "2024-12-08T14:43:19.998Z"
   },
   {
    "duration": 9,
    "start_time": "2024-12-08T14:43:20.136Z"
   },
   {
    "duration": 163,
    "start_time": "2024-12-08T14:43:20.147Z"
   },
   {
    "duration": 41,
    "start_time": "2024-12-08T14:43:20.312Z"
   },
   {
    "duration": 36,
    "start_time": "2024-12-08T14:43:20.354Z"
   },
   {
    "duration": 0,
    "start_time": "2024-12-08T14:43:20.391Z"
   },
   {
    "duration": 7728,
    "start_time": "2024-12-08T14:44:36.116Z"
   },
   {
    "duration": 4,
    "start_time": "2024-12-08T14:44:43.846Z"
   },
   {
    "duration": 724,
    "start_time": "2024-12-08T14:44:43.851Z"
   },
   {
    "duration": 114,
    "start_time": "2024-12-08T14:44:44.578Z"
   },
   {
    "duration": 652,
    "start_time": "2024-12-08T14:44:44.693Z"
   },
   {
    "duration": 332,
    "start_time": "2024-12-08T14:44:45.346Z"
   },
   {
    "duration": 349,
    "start_time": "2024-12-08T14:44:45.680Z"
   },
   {
    "duration": 66,
    "start_time": "2024-12-08T14:44:46.030Z"
   },
   {
    "duration": 20,
    "start_time": "2024-12-08T14:44:46.097Z"
   },
   {
    "duration": 126,
    "start_time": "2024-12-08T14:44:46.119Z"
   },
   {
    "duration": 17,
    "start_time": "2024-12-08T14:44:46.246Z"
   },
   {
    "duration": 28,
    "start_time": "2024-12-08T14:44:46.272Z"
   },
   {
    "duration": 20,
    "start_time": "2024-12-08T14:44:46.302Z"
   },
   {
    "duration": 18,
    "start_time": "2024-12-08T14:44:46.324Z"
   },
   {
    "duration": 37,
    "start_time": "2024-12-08T14:44:46.344Z"
   },
   {
    "duration": 23,
    "start_time": "2024-12-08T14:44:46.382Z"
   },
   {
    "duration": 17,
    "start_time": "2024-12-08T14:44:46.406Z"
   },
   {
    "duration": 62,
    "start_time": "2024-12-08T14:44:46.425Z"
   },
   {
    "duration": 49,
    "start_time": "2024-12-08T14:44:46.489Z"
   },
   {
    "duration": 260,
    "start_time": "2024-12-08T14:44:46.540Z"
   },
   {
    "duration": 15,
    "start_time": "2024-12-08T14:44:46.802Z"
   },
   {
    "duration": 291,
    "start_time": "2024-12-08T14:44:46.818Z"
   },
   {
    "duration": 15,
    "start_time": "2024-12-08T14:44:47.111Z"
   },
   {
    "duration": 306,
    "start_time": "2024-12-08T14:44:47.127Z"
   },
   {
    "duration": 51,
    "start_time": "2024-12-08T14:44:47.434Z"
   },
   {
    "duration": 144,
    "start_time": "2024-12-08T14:44:47.486Z"
   },
   {
    "duration": 142,
    "start_time": "2024-12-08T14:44:47.631Z"
   },
   {
    "duration": 9,
    "start_time": "2024-12-08T14:44:47.776Z"
   },
   {
    "duration": 115,
    "start_time": "2024-12-08T14:44:47.787Z"
   },
   {
    "duration": 44,
    "start_time": "2024-12-08T14:44:47.904Z"
   },
   {
    "duration": 41,
    "start_time": "2024-12-08T14:44:47.949Z"
   },
   {
    "duration": 0,
    "start_time": "2024-12-08T14:44:47.992Z"
   },
   {
    "duration": 3248,
    "start_time": "2024-12-08T14:45:06.452Z"
   },
   {
    "duration": 4,
    "start_time": "2024-12-08T14:45:09.702Z"
   },
   {
    "duration": 705,
    "start_time": "2024-12-08T14:45:09.708Z"
   },
   {
    "duration": 108,
    "start_time": "2024-12-08T14:45:10.414Z"
   },
   {
    "duration": 685,
    "start_time": "2024-12-08T14:45:10.524Z"
   },
   {
    "duration": 330,
    "start_time": "2024-12-08T14:45:11.211Z"
   },
   {
    "duration": 372,
    "start_time": "2024-12-08T14:45:11.543Z"
   },
   {
    "duration": 73,
    "start_time": "2024-12-08T14:45:11.916Z"
   },
   {
    "duration": 21,
    "start_time": "2024-12-08T14:45:11.991Z"
   },
   {
    "duration": 131,
    "start_time": "2024-12-08T14:45:12.014Z"
   },
   {
    "duration": 26,
    "start_time": "2024-12-08T14:45:12.147Z"
   },
   {
    "duration": 48,
    "start_time": "2024-12-08T14:45:12.175Z"
   },
   {
    "duration": 21,
    "start_time": "2024-12-08T14:45:12.225Z"
   },
   {
    "duration": 20,
    "start_time": "2024-12-08T14:45:12.249Z"
   },
   {
    "duration": 25,
    "start_time": "2024-12-08T14:45:12.271Z"
   },
   {
    "duration": 25,
    "start_time": "2024-12-08T14:45:12.298Z"
   },
   {
    "duration": 17,
    "start_time": "2024-12-08T14:45:12.324Z"
   },
   {
    "duration": 74,
    "start_time": "2024-12-08T14:45:12.343Z"
   },
   {
    "duration": 14,
    "start_time": "2024-12-08T14:45:12.419Z"
   },
   {
    "duration": 357,
    "start_time": "2024-12-08T14:45:12.434Z"
   },
   {
    "duration": 14,
    "start_time": "2024-12-08T14:45:12.793Z"
   },
   {
    "duration": 263,
    "start_time": "2024-12-08T14:45:12.808Z"
   },
   {
    "duration": 14,
    "start_time": "2024-12-08T14:45:13.072Z"
   },
   {
    "duration": 234,
    "start_time": "2024-12-08T14:45:13.087Z"
   },
   {
    "duration": 33,
    "start_time": "2024-12-08T14:45:13.322Z"
   },
   {
    "duration": 127,
    "start_time": "2024-12-08T14:45:13.356Z"
   },
   {
    "duration": 140,
    "start_time": "2024-12-08T14:45:13.484Z"
   },
   {
    "duration": 9,
    "start_time": "2024-12-08T14:45:13.625Z"
   },
   {
    "duration": 117,
    "start_time": "2024-12-08T14:45:13.636Z"
   },
   {
    "duration": 60,
    "start_time": "2024-12-08T14:45:13.754Z"
   },
   {
    "duration": 37,
    "start_time": "2024-12-08T14:45:13.815Z"
   },
   {
    "duration": 0,
    "start_time": "2024-12-08T14:45:13.854Z"
   },
   {
    "duration": 4266,
    "start_time": "2024-12-08T14:45:49.982Z"
   },
   {
    "duration": 4,
    "start_time": "2024-12-08T14:45:54.250Z"
   },
   {
    "duration": 691,
    "start_time": "2024-12-08T14:45:54.255Z"
   },
   {
    "duration": 109,
    "start_time": "2024-12-08T14:45:54.947Z"
   },
   {
    "duration": 685,
    "start_time": "2024-12-08T14:45:55.058Z"
   },
   {
    "duration": 321,
    "start_time": "2024-12-08T14:45:55.744Z"
   },
   {
    "duration": 331,
    "start_time": "2024-12-08T14:45:56.066Z"
   },
   {
    "duration": 61,
    "start_time": "2024-12-08T14:45:56.398Z"
   },
   {
    "duration": 29,
    "start_time": "2024-12-08T14:45:56.460Z"
   },
   {
    "duration": 145,
    "start_time": "2024-12-08T14:45:56.491Z"
   },
   {
    "duration": 17,
    "start_time": "2024-12-08T14:45:56.637Z"
   },
   {
    "duration": 37,
    "start_time": "2024-12-08T14:45:56.655Z"
   },
   {
    "duration": 21,
    "start_time": "2024-12-08T14:45:56.693Z"
   },
   {
    "duration": 18,
    "start_time": "2024-12-08T14:45:56.716Z"
   },
   {
    "duration": 38,
    "start_time": "2024-12-08T14:45:56.735Z"
   },
   {
    "duration": 24,
    "start_time": "2024-12-08T14:45:56.775Z"
   },
   {
    "duration": 17,
    "start_time": "2024-12-08T14:45:56.800Z"
   },
   {
    "duration": 65,
    "start_time": "2024-12-08T14:45:56.818Z"
   },
   {
    "duration": 15,
    "start_time": "2024-12-08T14:45:56.884Z"
   },
   {
    "duration": 261,
    "start_time": "2024-12-08T14:45:56.900Z"
   },
   {
    "duration": 21,
    "start_time": "2024-12-08T14:45:57.162Z"
   },
   {
    "duration": 264,
    "start_time": "2024-12-08T14:45:57.184Z"
   },
   {
    "duration": 13,
    "start_time": "2024-12-08T14:45:57.450Z"
   },
   {
    "duration": 228,
    "start_time": "2024-12-08T14:45:57.464Z"
   },
   {
    "duration": 33,
    "start_time": "2024-12-08T14:45:57.693Z"
   },
   {
    "duration": 149,
    "start_time": "2024-12-08T14:45:57.728Z"
   },
   {
    "duration": 131,
    "start_time": "2024-12-08T14:45:57.879Z"
   },
   {
    "duration": 9,
    "start_time": "2024-12-08T14:45:58.011Z"
   },
   {
    "duration": 114,
    "start_time": "2024-12-08T14:45:58.022Z"
   },
   {
    "duration": 51,
    "start_time": "2024-12-08T14:45:58.138Z"
   },
   {
    "duration": 107,
    "start_time": "2024-12-08T14:45:58.191Z"
   },
   {
    "duration": 0,
    "start_time": "2024-12-08T14:45:58.299Z"
   },
   {
    "duration": 20996,
    "start_time": "2024-12-08T14:47:42.513Z"
   },
   {
    "duration": 4,
    "start_time": "2024-12-08T14:48:03.511Z"
   },
   {
    "duration": 740,
    "start_time": "2024-12-08T14:48:03.517Z"
   },
   {
    "duration": 113,
    "start_time": "2024-12-08T14:48:04.258Z"
   },
   {
    "duration": 674,
    "start_time": "2024-12-08T14:48:04.373Z"
   },
   {
    "duration": 324,
    "start_time": "2024-12-08T14:48:05.048Z"
   },
   {
    "duration": 345,
    "start_time": "2024-12-08T14:48:05.373Z"
   },
   {
    "duration": 73,
    "start_time": "2024-12-08T14:48:05.719Z"
   },
   {
    "duration": 22,
    "start_time": "2024-12-08T14:48:05.794Z"
   },
   {
    "duration": 122,
    "start_time": "2024-12-08T14:48:05.817Z"
   },
   {
    "duration": 18,
    "start_time": "2024-12-08T14:48:05.941Z"
   },
   {
    "duration": 25,
    "start_time": "2024-12-08T14:48:05.971Z"
   },
   {
    "duration": 23,
    "start_time": "2024-12-08T14:48:05.998Z"
   },
   {
    "duration": 26,
    "start_time": "2024-12-08T14:48:06.025Z"
   },
   {
    "duration": 65,
    "start_time": "2024-12-08T14:48:06.052Z"
   },
   {
    "duration": 48,
    "start_time": "2024-12-08T14:48:06.119Z"
   },
   {
    "duration": 86,
    "start_time": "2024-12-08T14:48:06.168Z"
   },
   {
    "duration": 56,
    "start_time": "2024-12-08T14:48:06.255Z"
   },
   {
    "duration": 37,
    "start_time": "2024-12-08T14:48:06.312Z"
   },
   {
    "duration": 240,
    "start_time": "2024-12-08T14:48:06.351Z"
   },
   {
    "duration": 14,
    "start_time": "2024-12-08T14:48:06.592Z"
   },
   {
    "duration": 256,
    "start_time": "2024-12-08T14:48:06.608Z"
   },
   {
    "duration": 19,
    "start_time": "2024-12-08T14:48:06.865Z"
   },
   {
    "duration": 238,
    "start_time": "2024-12-08T14:48:06.886Z"
   },
   {
    "duration": 33,
    "start_time": "2024-12-08T14:48:07.126Z"
   },
   {
    "duration": 130,
    "start_time": "2024-12-08T14:48:07.172Z"
   },
   {
    "duration": 127,
    "start_time": "2024-12-08T14:48:07.304Z"
   },
   {
    "duration": 9,
    "start_time": "2024-12-08T14:48:07.432Z"
   },
   {
    "duration": 121,
    "start_time": "2024-12-08T14:48:07.442Z"
   },
   {
    "duration": 43,
    "start_time": "2024-12-08T14:48:07.565Z"
   },
   {
    "duration": 30,
    "start_time": "2024-12-08T14:48:07.609Z"
   },
   {
    "duration": 0,
    "start_time": "2024-12-08T14:48:07.640Z"
   },
   {
    "duration": 31,
    "start_time": "2024-12-08T14:48:25.734Z"
   },
   {
    "duration": 899,
    "start_time": "2024-12-08T14:49:01.997Z"
   },
   {
    "duration": 23,
    "start_time": "2024-12-08T14:49:11.678Z"
   },
   {
    "duration": 5970,
    "start_time": "2024-12-08T14:52:34.627Z"
   },
   {
    "duration": 5888,
    "start_time": "2024-12-08T14:52:58.703Z"
   },
   {
    "duration": 4,
    "start_time": "2024-12-08T14:53:04.593Z"
   },
   {
    "duration": 711,
    "start_time": "2024-12-08T14:53:04.598Z"
   },
   {
    "duration": 107,
    "start_time": "2024-12-08T14:53:05.311Z"
   },
   {
    "duration": 670,
    "start_time": "2024-12-08T14:53:05.420Z"
   },
   {
    "duration": 327,
    "start_time": "2024-12-08T14:53:06.092Z"
   },
   {
    "duration": 344,
    "start_time": "2024-12-08T14:53:06.421Z"
   },
   {
    "duration": 65,
    "start_time": "2024-12-08T14:53:06.767Z"
   },
   {
    "duration": 22,
    "start_time": "2024-12-08T14:53:06.834Z"
   },
   {
    "duration": 118,
    "start_time": "2024-12-08T14:53:06.871Z"
   },
   {
    "duration": 18,
    "start_time": "2024-12-08T14:53:06.991Z"
   },
   {
    "duration": 35,
    "start_time": "2024-12-08T14:53:07.010Z"
   },
   {
    "duration": 38,
    "start_time": "2024-12-08T14:53:07.047Z"
   },
   {
    "duration": 51,
    "start_time": "2024-12-08T14:53:07.088Z"
   },
   {
    "duration": 31,
    "start_time": "2024-12-08T14:53:07.140Z"
   },
   {
    "duration": 57,
    "start_time": "2024-12-08T14:53:07.172Z"
   },
   {
    "duration": 32,
    "start_time": "2024-12-08T14:53:07.230Z"
   },
   {
    "duration": 55,
    "start_time": "2024-12-08T14:53:07.264Z"
   },
   {
    "duration": 30,
    "start_time": "2024-12-08T14:53:07.320Z"
   },
   {
    "duration": 243,
    "start_time": "2024-12-08T14:53:07.352Z"
   },
   {
    "duration": 14,
    "start_time": "2024-12-08T14:53:07.597Z"
   },
   {
    "duration": 260,
    "start_time": "2024-12-08T14:53:07.613Z"
   },
   {
    "duration": 15,
    "start_time": "2024-12-08T14:53:07.875Z"
   },
   {
    "duration": 321,
    "start_time": "2024-12-08T14:53:07.891Z"
   },
   {
    "duration": 35,
    "start_time": "2024-12-08T14:53:08.213Z"
   },
   {
    "duration": 131,
    "start_time": "2024-12-08T14:53:08.249Z"
   },
   {
    "duration": 134,
    "start_time": "2024-12-08T14:53:08.381Z"
   },
   {
    "duration": 9,
    "start_time": "2024-12-08T14:53:08.517Z"
   },
   {
    "duration": 167,
    "start_time": "2024-12-08T14:53:08.527Z"
   },
   {
    "duration": 47,
    "start_time": "2024-12-08T14:53:08.695Z"
   },
   {
    "duration": 36,
    "start_time": "2024-12-08T14:53:08.743Z"
   },
   {
    "duration": 0,
    "start_time": "2024-12-08T14:53:08.780Z"
   },
   {
    "duration": 7,
    "start_time": "2024-12-08T14:53:39.560Z"
   },
   {
    "duration": 3,
    "start_time": "2024-12-08T14:53:57.071Z"
   },
   {
    "duration": 6456,
    "start_time": "2024-12-08T14:54:28.865Z"
   },
   {
    "duration": 3,
    "start_time": "2024-12-08T14:54:35.324Z"
   },
   {
    "duration": 676,
    "start_time": "2024-12-08T14:54:35.329Z"
   },
   {
    "duration": 110,
    "start_time": "2024-12-08T14:54:36.007Z"
   },
   {
    "duration": 631,
    "start_time": "2024-12-08T14:54:36.120Z"
   },
   {
    "duration": 348,
    "start_time": "2024-12-08T14:54:36.752Z"
   },
   {
    "duration": 339,
    "start_time": "2024-12-08T14:54:37.102Z"
   },
   {
    "duration": 67,
    "start_time": "2024-12-08T14:54:37.442Z"
   },
   {
    "duration": 20,
    "start_time": "2024-12-08T14:54:37.511Z"
   },
   {
    "duration": 122,
    "start_time": "2024-12-08T14:54:37.532Z"
   },
   {
    "duration": 21,
    "start_time": "2024-12-08T14:54:37.655Z"
   },
   {
    "duration": 31,
    "start_time": "2024-12-08T14:54:37.678Z"
   },
   {
    "duration": 22,
    "start_time": "2024-12-08T14:54:37.711Z"
   },
   {
    "duration": 38,
    "start_time": "2024-12-08T14:54:37.737Z"
   },
   {
    "duration": 24,
    "start_time": "2024-12-08T14:54:37.776Z"
   },
   {
    "duration": 23,
    "start_time": "2024-12-08T14:54:37.802Z"
   },
   {
    "duration": 25,
    "start_time": "2024-12-08T14:54:37.826Z"
   },
   {
    "duration": 71,
    "start_time": "2024-12-08T14:54:37.852Z"
   },
   {
    "duration": 15,
    "start_time": "2024-12-08T14:54:37.924Z"
   },
   {
    "duration": 261,
    "start_time": "2024-12-08T14:54:37.940Z"
   },
   {
    "duration": 16,
    "start_time": "2024-12-08T14:54:38.202Z"
   },
   {
    "duration": 255,
    "start_time": "2024-12-08T14:54:38.220Z"
   },
   {
    "duration": 14,
    "start_time": "2024-12-08T14:54:38.477Z"
   },
   {
    "duration": 235,
    "start_time": "2024-12-08T14:54:38.493Z"
   },
   {
    "duration": 31,
    "start_time": "2024-12-08T14:54:38.729Z"
   },
   {
    "duration": 124,
    "start_time": "2024-12-08T14:54:38.761Z"
   },
   {
    "duration": 141,
    "start_time": "2024-12-08T14:54:38.886Z"
   },
   {
    "duration": 10,
    "start_time": "2024-12-08T14:54:39.028Z"
   },
   {
    "duration": 114,
    "start_time": "2024-12-08T14:54:39.039Z"
   },
   {
    "duration": 49,
    "start_time": "2024-12-08T14:54:39.154Z"
   },
   {
    "duration": 39,
    "start_time": "2024-12-08T14:54:39.204Z"
   },
   {
    "duration": 0,
    "start_time": "2024-12-08T14:54:39.244Z"
   },
   {
    "duration": 9192,
    "start_time": "2024-12-08T14:57:46.394Z"
   },
   {
    "duration": 4,
    "start_time": "2024-12-08T14:57:55.588Z"
   },
   {
    "duration": 687,
    "start_time": "2024-12-08T14:57:55.593Z"
   },
   {
    "duration": 202,
    "start_time": "2024-12-08T14:57:56.281Z"
   },
   {
    "duration": 1011,
    "start_time": "2024-12-08T14:57:56.485Z"
   },
   {
    "duration": 685,
    "start_time": "2024-12-08T14:57:57.497Z"
   },
   {
    "duration": 412,
    "start_time": "2024-12-08T14:57:58.183Z"
   },
   {
    "duration": 75,
    "start_time": "2024-12-08T14:57:58.596Z"
   },
   {
    "duration": 21,
    "start_time": "2024-12-08T14:57:58.672Z"
   },
   {
    "duration": 118,
    "start_time": "2024-12-08T14:57:58.694Z"
   },
   {
    "duration": 18,
    "start_time": "2024-12-08T14:57:58.813Z"
   },
   {
    "duration": 54,
    "start_time": "2024-12-08T14:57:58.832Z"
   },
   {
    "duration": 22,
    "start_time": "2024-12-08T14:57:58.888Z"
   },
   {
    "duration": 19,
    "start_time": "2024-12-08T14:57:58.912Z"
   },
   {
    "duration": 53,
    "start_time": "2024-12-08T14:57:58.933Z"
   },
   {
    "duration": 23,
    "start_time": "2024-12-08T14:57:58.987Z"
   },
   {
    "duration": 69,
    "start_time": "2024-12-08T14:57:59.012Z"
   },
   {
    "duration": 130,
    "start_time": "2024-12-08T14:57:59.082Z"
   },
   {
    "duration": 34,
    "start_time": "2024-12-08T14:57:59.214Z"
   },
   {
    "duration": 241,
    "start_time": "2024-12-08T14:57:59.250Z"
   },
   {
    "duration": 14,
    "start_time": "2024-12-08T14:57:59.492Z"
   },
   {
    "duration": 244,
    "start_time": "2024-12-08T14:57:59.507Z"
   },
   {
    "duration": 21,
    "start_time": "2024-12-08T14:57:59.752Z"
   },
   {
    "duration": 317,
    "start_time": "2024-12-08T14:57:59.775Z"
   },
   {
    "duration": 32,
    "start_time": "2024-12-08T14:58:00.093Z"
   },
   {
    "duration": 125,
    "start_time": "2024-12-08T14:58:00.127Z"
   },
   {
    "duration": 129,
    "start_time": "2024-12-08T14:58:00.253Z"
   },
   {
    "duration": 9,
    "start_time": "2024-12-08T14:58:00.383Z"
   },
   {
    "duration": 137,
    "start_time": "2024-12-08T14:58:00.393Z"
   },
   {
    "duration": 42,
    "start_time": "2024-12-08T14:58:00.532Z"
   },
   {
    "duration": 38,
    "start_time": "2024-12-08T14:58:00.575Z"
   },
   {
    "duration": 0,
    "start_time": "2024-12-08T14:58:00.614Z"
   },
   {
    "duration": 32,
    "start_time": "2024-12-08T14:59:01.709Z"
   },
   {
    "duration": 9238,
    "start_time": "2024-12-08T14:59:58.304Z"
   },
   {
    "duration": 4,
    "start_time": "2024-12-08T15:00:07.544Z"
   },
   {
    "duration": 712,
    "start_time": "2024-12-08T15:00:07.549Z"
   },
   {
    "duration": 114,
    "start_time": "2024-12-08T15:00:08.262Z"
   },
   {
    "duration": 645,
    "start_time": "2024-12-08T15:00:08.378Z"
   },
   {
    "duration": 331,
    "start_time": "2024-12-08T15:00:09.025Z"
   },
   {
    "duration": 357,
    "start_time": "2024-12-08T15:00:09.357Z"
   },
   {
    "duration": 77,
    "start_time": "2024-12-08T15:00:09.716Z"
   },
   {
    "duration": 21,
    "start_time": "2024-12-08T15:00:09.794Z"
   },
   {
    "duration": 120,
    "start_time": "2024-12-08T15:00:09.817Z"
   },
   {
    "duration": 17,
    "start_time": "2024-12-08T15:00:09.939Z"
   },
   {
    "duration": 39,
    "start_time": "2024-12-08T15:00:09.958Z"
   },
   {
    "duration": 22,
    "start_time": "2024-12-08T15:00:09.999Z"
   },
   {
    "duration": 21,
    "start_time": "2024-12-08T15:00:10.024Z"
   },
   {
    "duration": 36,
    "start_time": "2024-12-08T15:00:10.047Z"
   },
   {
    "duration": 24,
    "start_time": "2024-12-08T15:00:10.084Z"
   },
   {
    "duration": 39,
    "start_time": "2024-12-08T15:00:10.109Z"
   },
   {
    "duration": 63,
    "start_time": "2024-12-08T15:00:10.149Z"
   },
   {
    "duration": 30,
    "start_time": "2024-12-08T15:00:10.214Z"
   },
   {
    "duration": 254,
    "start_time": "2024-12-08T15:00:10.246Z"
   },
   {
    "duration": 15,
    "start_time": "2024-12-08T15:00:10.501Z"
   },
   {
    "duration": 254,
    "start_time": "2024-12-08T15:00:10.517Z"
   },
   {
    "duration": 13,
    "start_time": "2024-12-08T15:00:10.772Z"
   },
   {
    "duration": 237,
    "start_time": "2024-12-08T15:00:10.786Z"
   },
   {
    "duration": 32,
    "start_time": "2024-12-08T15:00:11.024Z"
   },
   {
    "duration": 121,
    "start_time": "2024-12-08T15:00:11.057Z"
   },
   {
    "duration": 139,
    "start_time": "2024-12-08T15:00:11.179Z"
   },
   {
    "duration": 9,
    "start_time": "2024-12-08T15:00:11.320Z"
   },
   {
    "duration": 123,
    "start_time": "2024-12-08T15:00:11.331Z"
   },
   {
    "duration": 54,
    "start_time": "2024-12-08T15:00:11.456Z"
   },
   {
    "duration": 31,
    "start_time": "2024-12-08T15:00:11.511Z"
   },
   {
    "duration": 0,
    "start_time": "2024-12-08T15:00:11.543Z"
   },
   {
    "duration": 8992,
    "start_time": "2024-12-08T15:03:25.277Z"
   },
   {
    "duration": 2053,
    "start_time": "2024-12-08T15:03:34.271Z"
   },
   {
    "duration": 736,
    "start_time": "2024-12-08T15:03:36.325Z"
   },
   {
    "duration": 100,
    "start_time": "2024-12-08T15:03:37.063Z"
   },
   {
    "duration": 640,
    "start_time": "2024-12-08T15:03:37.164Z"
   },
   {
    "duration": 360,
    "start_time": "2024-12-08T15:03:37.805Z"
   },
   {
    "duration": 388,
    "start_time": "2024-12-08T15:03:38.171Z"
   },
   {
    "duration": 63,
    "start_time": "2024-12-08T15:03:38.560Z"
   },
   {
    "duration": 30,
    "start_time": "2024-12-08T15:03:38.624Z"
   },
   {
    "duration": 112,
    "start_time": "2024-12-08T15:03:38.671Z"
   },
   {
    "duration": 31,
    "start_time": "2024-12-08T15:03:38.785Z"
   },
   {
    "duration": 35,
    "start_time": "2024-12-08T15:03:38.817Z"
   },
   {
    "duration": 36,
    "start_time": "2024-12-08T15:03:38.854Z"
   },
   {
    "duration": 21,
    "start_time": "2024-12-08T15:03:38.891Z"
   },
   {
    "duration": 25,
    "start_time": "2024-12-08T15:03:38.913Z"
   },
   {
    "duration": 40,
    "start_time": "2024-12-08T15:03:38.940Z"
   },
   {
    "duration": 17,
    "start_time": "2024-12-08T15:03:38.981Z"
   },
   {
    "duration": 52,
    "start_time": "2024-12-08T15:03:38.999Z"
   },
   {
    "duration": 31,
    "start_time": "2024-12-08T15:03:39.053Z"
   },
   {
    "duration": 465,
    "start_time": "2024-12-08T15:03:39.086Z"
   },
   {
    "duration": 20,
    "start_time": "2024-12-08T15:03:39.552Z"
   },
   {
    "duration": 399,
    "start_time": "2024-12-08T15:03:39.573Z"
   },
   {
    "duration": 13,
    "start_time": "2024-12-08T15:03:39.974Z"
   },
   {
    "duration": 399,
    "start_time": "2024-12-08T15:03:39.988Z"
   },
   {
    "duration": 36,
    "start_time": "2024-12-08T15:03:40.388Z"
   },
   {
    "duration": 122,
    "start_time": "2024-12-08T15:03:40.425Z"
   },
   {
    "duration": 126,
    "start_time": "2024-12-08T15:03:40.548Z"
   },
   {
    "duration": 13,
    "start_time": "2024-12-08T15:03:40.677Z"
   },
   {
    "duration": 114,
    "start_time": "2024-12-08T15:03:40.691Z"
   },
   {
    "duration": 45,
    "start_time": "2024-12-08T15:03:40.806Z"
   },
   {
    "duration": 1809,
    "start_time": "2024-12-08T15:03:40.853Z"
   },
   {
    "duration": 0,
    "start_time": "2024-12-08T15:03:42.663Z"
   },
   {
    "duration": 5911,
    "start_time": "2024-12-08T15:06:31.491Z"
   },
   {
    "duration": 1202,
    "start_time": "2024-12-08T15:06:37.404Z"
   },
   {
    "duration": 735,
    "start_time": "2024-12-08T15:06:38.608Z"
   },
   {
    "duration": 99,
    "start_time": "2024-12-08T15:06:39.344Z"
   },
   {
    "duration": 653,
    "start_time": "2024-12-08T15:06:39.445Z"
   },
   {
    "duration": 355,
    "start_time": "2024-12-08T15:06:40.099Z"
   },
   {
    "duration": 399,
    "start_time": "2024-12-08T15:06:40.455Z"
   },
   {
    "duration": 64,
    "start_time": "2024-12-08T15:06:40.855Z"
   },
   {
    "duration": 32,
    "start_time": "2024-12-08T15:06:40.920Z"
   },
   {
    "duration": 124,
    "start_time": "2024-12-08T15:06:40.954Z"
   },
   {
    "duration": 30,
    "start_time": "2024-12-08T15:06:41.080Z"
   },
   {
    "duration": 66,
    "start_time": "2024-12-08T15:06:41.111Z"
   },
   {
    "duration": 25,
    "start_time": "2024-12-08T15:06:41.179Z"
   },
   {
    "duration": 22,
    "start_time": "2024-12-08T15:06:41.207Z"
   },
   {
    "duration": 63,
    "start_time": "2024-12-08T15:06:41.230Z"
   },
   {
    "duration": 23,
    "start_time": "2024-12-08T15:06:41.295Z"
   },
   {
    "duration": 16,
    "start_time": "2024-12-08T15:06:41.319Z"
   },
   {
    "duration": 56,
    "start_time": "2024-12-08T15:06:41.337Z"
   },
   {
    "duration": 26,
    "start_time": "2024-12-08T15:06:41.394Z"
   },
   {
    "duration": 416,
    "start_time": "2024-12-08T15:06:41.422Z"
   },
   {
    "duration": 14,
    "start_time": "2024-12-08T15:06:41.840Z"
   },
   {
    "duration": 388,
    "start_time": "2024-12-08T15:06:41.856Z"
   },
   {
    "duration": 14,
    "start_time": "2024-12-08T15:06:42.245Z"
   },
   {
    "duration": 386,
    "start_time": "2024-12-08T15:06:42.260Z"
   },
   {
    "duration": 40,
    "start_time": "2024-12-08T15:06:42.647Z"
   },
   {
    "duration": 119,
    "start_time": "2024-12-08T15:06:42.688Z"
   },
   {
    "duration": 134,
    "start_time": "2024-12-08T15:06:42.808Z"
   },
   {
    "duration": 13,
    "start_time": "2024-12-08T15:06:42.943Z"
   },
   {
    "duration": 115,
    "start_time": "2024-12-08T15:06:42.957Z"
   },
   {
    "duration": 47,
    "start_time": "2024-12-08T15:06:43.073Z"
   },
   {
    "duration": 1162,
    "start_time": "2024-12-08T15:06:43.122Z"
   },
   {
    "duration": 0,
    "start_time": "2024-12-08T15:06:44.286Z"
   },
   {
    "duration": 1714,
    "start_time": "2024-12-08T15:07:01.472Z"
   },
   {
    "duration": 3,
    "start_time": "2024-12-08T15:07:17.587Z"
   },
   {
    "duration": 5815,
    "start_time": "2024-12-08T15:07:22.860Z"
   },
   {
    "duration": 4,
    "start_time": "2024-12-08T15:07:28.677Z"
   },
   {
    "duration": 710,
    "start_time": "2024-12-08T15:07:28.682Z"
   },
   {
    "duration": 94,
    "start_time": "2024-12-08T15:07:29.393Z"
   },
   {
    "duration": 613,
    "start_time": "2024-12-08T15:07:29.489Z"
   },
   {
    "duration": 309,
    "start_time": "2024-12-08T15:07:30.103Z"
   },
   {
    "duration": 335,
    "start_time": "2024-12-08T15:07:30.413Z"
   },
   {
    "duration": 66,
    "start_time": "2024-12-08T15:07:30.750Z"
   },
   {
    "duration": 23,
    "start_time": "2024-12-08T15:07:30.818Z"
   },
   {
    "duration": 120,
    "start_time": "2024-12-08T15:07:30.842Z"
   },
   {
    "duration": 25,
    "start_time": "2024-12-08T15:07:30.963Z"
   },
   {
    "duration": 35,
    "start_time": "2024-12-08T15:07:30.990Z"
   },
   {
    "duration": 24,
    "start_time": "2024-12-08T15:07:31.027Z"
   },
   {
    "duration": 21,
    "start_time": "2024-12-08T15:07:31.070Z"
   },
   {
    "duration": 33,
    "start_time": "2024-12-08T15:07:31.093Z"
   },
   {
    "duration": 25,
    "start_time": "2024-12-08T15:07:31.128Z"
   },
   {
    "duration": 32,
    "start_time": "2024-12-08T15:07:31.154Z"
   },
   {
    "duration": 51,
    "start_time": "2024-12-08T15:07:31.188Z"
   },
   {
    "duration": 47,
    "start_time": "2024-12-08T15:07:31.240Z"
   },
   {
    "duration": 577,
    "start_time": "2024-12-08T15:07:31.288Z"
   },
   {
    "duration": 14,
    "start_time": "2024-12-08T15:07:31.871Z"
   },
   {
    "duration": 420,
    "start_time": "2024-12-08T15:07:31.887Z"
   },
   {
    "duration": 15,
    "start_time": "2024-12-08T15:07:32.309Z"
   },
   {
    "duration": 367,
    "start_time": "2024-12-08T15:07:32.325Z"
   },
   {
    "duration": 36,
    "start_time": "2024-12-08T15:07:32.693Z"
   },
   {
    "duration": 117,
    "start_time": "2024-12-08T15:07:32.731Z"
   },
   {
    "duration": 130,
    "start_time": "2024-12-08T15:07:32.849Z"
   },
   {
    "duration": 11,
    "start_time": "2024-12-08T15:07:32.981Z"
   },
   {
    "duration": 111,
    "start_time": "2024-12-08T15:07:32.993Z"
   },
   {
    "duration": 65,
    "start_time": "2024-12-08T15:07:33.106Z"
   },
   {
    "duration": 1722,
    "start_time": "2024-12-08T15:07:33.172Z"
   },
   {
    "duration": 3,
    "start_time": "2024-12-08T15:07:34.896Z"
   },
   {
    "duration": 91,
    "start_time": "2024-12-08T15:11:35.719Z"
   },
   {
    "duration": 145,
    "start_time": "2024-12-08T15:12:21.014Z"
   },
   {
    "duration": 146,
    "start_time": "2024-12-08T15:13:11.410Z"
   },
   {
    "duration": 88,
    "start_time": "2024-12-08T15:16:05.837Z"
   },
   {
    "duration": 94,
    "start_time": "2024-12-08T15:16:51.201Z"
   },
   {
    "duration": 88,
    "start_time": "2024-12-08T15:16:54.554Z"
   },
   {
    "duration": 84,
    "start_time": "2024-12-08T15:17:13.592Z"
   },
   {
    "duration": 132,
    "start_time": "2024-12-08T15:19:38.261Z"
   },
   {
    "duration": 5965,
    "start_time": "2024-12-08T15:20:46.048Z"
   },
   {
    "duration": 4,
    "start_time": "2024-12-08T15:20:52.016Z"
   },
   {
    "duration": 684,
    "start_time": "2024-12-08T15:20:52.021Z"
   },
   {
    "duration": 103,
    "start_time": "2024-12-08T15:20:52.707Z"
   },
   {
    "duration": 645,
    "start_time": "2024-12-08T15:20:52.813Z"
   },
   {
    "duration": 317,
    "start_time": "2024-12-08T15:20:53.460Z"
   },
   {
    "duration": 352,
    "start_time": "2024-12-08T15:20:53.779Z"
   },
   {
    "duration": 70,
    "start_time": "2024-12-08T15:20:54.133Z"
   },
   {
    "duration": 23,
    "start_time": "2024-12-08T15:20:54.204Z"
   },
   {
    "duration": 120,
    "start_time": "2024-12-08T15:20:54.229Z"
   },
   {
    "duration": 28,
    "start_time": "2024-12-08T15:20:54.351Z"
   },
   {
    "duration": 33,
    "start_time": "2024-12-08T15:20:54.380Z"
   },
   {
    "duration": 24,
    "start_time": "2024-12-08T15:20:54.415Z"
   },
   {
    "duration": 38,
    "start_time": "2024-12-08T15:20:54.442Z"
   },
   {
    "duration": 27,
    "start_time": "2024-12-08T15:20:54.481Z"
   },
   {
    "duration": 26,
    "start_time": "2024-12-08T15:20:54.509Z"
   },
   {
    "duration": 17,
    "start_time": "2024-12-08T15:20:54.537Z"
   },
   {
    "duration": 67,
    "start_time": "2024-12-08T15:20:54.555Z"
   },
   {
    "duration": 21,
    "start_time": "2024-12-08T15:20:54.623Z"
   },
   {
    "duration": 492,
    "start_time": "2024-12-08T15:20:54.645Z"
   },
   {
    "duration": 14,
    "start_time": "2024-12-08T15:20:55.139Z"
   },
   {
    "duration": 454,
    "start_time": "2024-12-08T15:20:55.155Z"
   },
   {
    "duration": 15,
    "start_time": "2024-12-08T15:20:55.610Z"
   },
   {
    "duration": 368,
    "start_time": "2024-12-08T15:20:55.626Z"
   },
   {
    "duration": 34,
    "start_time": "2024-12-08T15:20:55.995Z"
   },
   {
    "duration": 119,
    "start_time": "2024-12-08T15:20:56.030Z"
   },
   {
    "duration": 129,
    "start_time": "2024-12-08T15:20:56.151Z"
   },
   {
    "duration": 12,
    "start_time": "2024-12-08T15:20:56.281Z"
   },
   {
    "duration": 123,
    "start_time": "2024-12-08T15:20:56.295Z"
   },
   {
    "duration": 60,
    "start_time": "2024-12-08T15:20:56.419Z"
   },
   {
    "duration": 1697,
    "start_time": "2024-12-08T15:20:56.480Z"
   },
   {
    "duration": 2,
    "start_time": "2024-12-08T15:20:58.178Z"
   },
   {
    "duration": 101,
    "start_time": "2024-12-08T15:20:58.181Z"
   },
   {
    "duration": 39036,
    "start_time": "2024-12-08T15:22:50.337Z"
   },
   {
    "duration": 38,
    "start_time": "2024-12-08T15:25:07.004Z"
   },
   {
    "duration": 147,
    "start_time": "2024-12-08T15:25:41.349Z"
   },
   {
    "duration": 105319,
    "start_time": "2024-12-08T15:26:13.353Z"
   },
   {
    "duration": 39181,
    "start_time": "2024-12-08T15:28:02.890Z"
   },
   {
    "duration": 39376,
    "start_time": "2024-12-08T15:30:03.301Z"
   },
   {
    "duration": 6160,
    "start_time": "2024-12-08T15:31:09.714Z"
   },
   {
    "duration": 5,
    "start_time": "2024-12-08T15:31:15.877Z"
   },
   {
    "duration": 912,
    "start_time": "2024-12-08T15:31:15.884Z"
   },
   {
    "duration": 105,
    "start_time": "2024-12-08T15:31:16.798Z"
   },
   {
    "duration": 630,
    "start_time": "2024-12-08T15:31:16.904Z"
   },
   {
    "duration": 321,
    "start_time": "2024-12-08T15:31:17.536Z"
   },
   {
    "duration": 349,
    "start_time": "2024-12-08T15:31:17.858Z"
   },
   {
    "duration": 54,
    "start_time": "2024-12-08T15:31:18.209Z"
   },
   {
    "duration": 22,
    "start_time": "2024-12-08T15:31:18.271Z"
   },
   {
    "duration": 113,
    "start_time": "2024-12-08T15:31:18.295Z"
   },
   {
    "duration": 26,
    "start_time": "2024-12-08T15:31:18.409Z"
   },
   {
    "duration": 39,
    "start_time": "2024-12-08T15:31:18.437Z"
   },
   {
    "duration": 23,
    "start_time": "2024-12-08T15:31:18.478Z"
   },
   {
    "duration": 20,
    "start_time": "2024-12-08T15:31:18.503Z"
   },
   {
    "duration": 25,
    "start_time": "2024-12-08T15:31:18.525Z"
   },
   {
    "duration": 40,
    "start_time": "2024-12-08T15:31:18.551Z"
   },
   {
    "duration": 18,
    "start_time": "2024-12-08T15:31:18.592Z"
   },
   {
    "duration": 62,
    "start_time": "2024-12-08T15:31:18.612Z"
   },
   {
    "duration": 15,
    "start_time": "2024-12-08T15:31:18.676Z"
   },
   {
    "duration": 469,
    "start_time": "2024-12-08T15:31:18.692Z"
   },
   {
    "duration": 18,
    "start_time": "2024-12-08T15:31:19.162Z"
   },
   {
    "duration": 521,
    "start_time": "2024-12-08T15:31:19.182Z"
   },
   {
    "duration": 15,
    "start_time": "2024-12-08T15:31:19.704Z"
   },
   {
    "duration": 366,
    "start_time": "2024-12-08T15:31:19.720Z"
   },
   {
    "duration": 38,
    "start_time": "2024-12-08T15:31:20.087Z"
   },
   {
    "duration": 118,
    "start_time": "2024-12-08T15:31:20.126Z"
   },
   {
    "duration": 126,
    "start_time": "2024-12-08T15:31:20.245Z"
   },
   {
    "duration": 12,
    "start_time": "2024-12-08T15:31:20.374Z"
   },
   {
    "duration": 104,
    "start_time": "2024-12-08T15:31:20.387Z"
   },
   {
    "duration": 49,
    "start_time": "2024-12-08T15:31:20.493Z"
   },
   {
    "duration": 1648,
    "start_time": "2024-12-08T15:31:20.543Z"
   },
   {
    "duration": 2,
    "start_time": "2024-12-08T15:31:22.192Z"
   },
   {
    "duration": 39577,
    "start_time": "2024-12-08T15:31:22.196Z"
   },
   {
    "duration": 38614,
    "start_time": "2024-12-08T15:32:08.159Z"
   },
   {
    "duration": 103,
    "start_time": "2024-12-08T15:33:05.309Z"
   },
   {
    "duration": 89,
    "start_time": "2024-12-08T15:33:41.187Z"
   },
   {
    "duration": 188,
    "start_time": "2024-12-08T15:33:46.514Z"
   },
   {
    "duration": 91,
    "start_time": "2024-12-08T15:34:17.750Z"
   },
   {
    "duration": 37449,
    "start_time": "2024-12-08T15:34:57.222Z"
   },
   {
    "duration": 42122,
    "start_time": "2024-12-08T15:35:35.249Z"
   },
   {
    "duration": 39090,
    "start_time": "2024-12-08T15:45:35.827Z"
   },
   {
    "duration": 36613,
    "start_time": "2024-12-08T15:46:34.368Z"
   },
   {
    "duration": 90822,
    "start_time": "2024-12-08T15:48:42.483Z"
   },
   {
    "duration": 138,
    "start_time": "2024-12-08T15:51:12.621Z"
   },
   {
    "duration": 25993,
    "start_time": "2024-12-08T15:52:21.580Z"
   },
   {
    "duration": 70834,
    "start_time": "2024-12-08T15:52:52.645Z"
   },
   {
    "duration": 105,
    "start_time": "2024-12-08T16:15:16.892Z"
   },
   {
    "duration": 14357,
    "start_time": "2024-12-08T16:15:26.515Z"
   }
  ],
  "kernelspec": {
   "display_name": "Python 3 (ipykernel)",
   "language": "python",
   "name": "python3"
  },
  "language_info": {
   "codemirror_mode": {
    "name": "ipython",
    "version": 3
   },
   "file_extension": ".py",
   "mimetype": "text/x-python",
   "name": "python",
   "nbconvert_exporter": "python",
   "pygments_lexer": "ipython3",
   "version": "3.12.3"
  },
  "toc": {
   "base_numbering": 1,
   "nav_menu": {},
   "number_sections": true,
   "sideBar": true,
   "skip_h1_title": true,
   "title_cell": "Table of Contents",
   "title_sidebar": "Contents",
   "toc_cell": false,
   "toc_position": {
    "height": "calc(100% - 180px)",
    "left": "10px",
    "top": "150px",
    "width": "329.188px"
   },
   "toc_section_display": true,
   "toc_window_display": true
  }
 },
 "nbformat": 4,
 "nbformat_minor": 4
}
