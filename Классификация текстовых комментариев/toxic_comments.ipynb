{
 "cells": [
  {
   "cell_type": "markdown",
   "metadata": {},
   "source": [
    "# Классификация текстовых комментариев"
   ]
  },
  {
   "cell_type": "markdown",
   "metadata": {},
   "source": [
    "***Цель исследования:*** Интернет-магазин «Викишоп» запускает новый сервис. Теперь пользователи могут редактировать и дополнять описания товаров, как в вики-сообществах. То есть клиенты предлагают свои правки и комментируют изменения других. Магазину нужен инструмент, который будет искать токсичные комментарии и отправлять их на модерацию. \n",
    "\n",
    "Нам нужно обучить модель классифицировать комментарии на позитивные и негативные. В нашем распоряжении набор данных с разметкой о токсичности правок.\n",
    "\n",
    "Значение метрики качества *F1* должно быть не меньше 0.75. \n",
    "\n",
    "***Ход исследования:*** Планируется 3 этапа:\n",
    "1. Загрузка и подготовка данных.\n",
    "2. Обучение моделей. \n",
    "3. Выводы.\n",
    "\n",
    "**Описание данных:** Данные находятся в файле `toxic_comments.csv`. Столбец *text* в нём содержит текст комментария, а *toxic* — целевой признак."
   ]
  },
  {
   "cell_type": "code",
   "execution_count": 41,
   "metadata": {},
   "outputs": [],
   "source": [
    "# Импортируем необходимые библиотеки и методы.\n",
    "import pandas as pd\n",
    "import numpy as np\n",
    "import matplotlib.pyplot as plt\n",
    "import re\n",
    "import nltk\n",
    "import spacy\n",
    "from nltk.corpus import stopwords\n",
    "from sklearn.feature_extraction.text import TfidfVectorizer\n",
    "from sklearn.linear_model import LogisticRegression\n",
    "from sklearn.tree import DecisionTreeClassifier\n",
    "from sklearn.ensemble import RandomForestClassifier\n",
    "from sklearn.model_selection import train_test_split, GridSearchCV\n",
    "from sklearn.pipeline import Pipeline\n",
    "from sklearn.metrics import f1_score"
   ]
  },
  {
   "cell_type": "markdown",
   "metadata": {},
   "source": [
    "## Подготовка"
   ]
  },
  {
   "cell_type": "code",
   "execution_count": 42,
   "metadata": {},
   "outputs": [
    {
     "data": {
      "text/html": [
       "<div>\n",
       "<style scoped>\n",
       "    .dataframe tbody tr th:only-of-type {\n",
       "        vertical-align: middle;\n",
       "    }\n",
       "\n",
       "    .dataframe tbody tr th {\n",
       "        vertical-align: top;\n",
       "    }\n",
       "\n",
       "    .dataframe thead th {\n",
       "        text-align: right;\n",
       "    }\n",
       "</style>\n",
       "<table border=\"1\" class=\"dataframe\">\n",
       "  <thead>\n",
       "    <tr style=\"text-align: right;\">\n",
       "      <th></th>\n",
       "      <th>text</th>\n",
       "      <th>toxic</th>\n",
       "    </tr>\n",
       "  </thead>\n",
       "  <tbody>\n",
       "    <tr>\n",
       "      <th>0</th>\n",
       "      <td>Explanation\\nWhy the edits made under my usern...</td>\n",
       "      <td>0</td>\n",
       "    </tr>\n",
       "    <tr>\n",
       "      <th>1</th>\n",
       "      <td>D'aww! He matches this background colour I'm s...</td>\n",
       "      <td>0</td>\n",
       "    </tr>\n",
       "    <tr>\n",
       "      <th>2</th>\n",
       "      <td>Hey man, I'm really not trying to edit war. It...</td>\n",
       "      <td>0</td>\n",
       "    </tr>\n",
       "    <tr>\n",
       "      <th>3</th>\n",
       "      <td>\"\\nMore\\nI can't make any real suggestions on ...</td>\n",
       "      <td>0</td>\n",
       "    </tr>\n",
       "    <tr>\n",
       "      <th>4</th>\n",
       "      <td>You, sir, are my hero. Any chance you remember...</td>\n",
       "      <td>0</td>\n",
       "    </tr>\n",
       "  </tbody>\n",
       "</table>\n",
       "</div>"
      ],
      "text/plain": [
       "                                                text  toxic\n",
       "0  Explanation\\nWhy the edits made under my usern...      0\n",
       "1  D'aww! He matches this background colour I'm s...      0\n",
       "2  Hey man, I'm really not trying to edit war. It...      0\n",
       "3  \"\\nMore\\nI can't make any real suggestions on ...      0\n",
       "4  You, sir, are my hero. Any chance you remember...      0"
      ]
     },
     "execution_count": 42,
     "metadata": {},
     "output_type": "execute_result"
    }
   ],
   "source": [
    "# Откроем и изучим датафрейм.\n",
    "df = pd.read_csv('/datasets/toxic_comments.csv', index_col = 0)\n",
    "df.head()"
   ]
  },
  {
   "cell_type": "code",
   "execution_count": 43,
   "metadata": {},
   "outputs": [
    {
     "name": "stdout",
     "output_type": "stream",
     "text": [
      "<class 'pandas.core.frame.DataFrame'>\n",
      "Int64Index: 159292 entries, 0 to 159450\n",
      "Data columns (total 2 columns):\n",
      " #   Column  Non-Null Count   Dtype \n",
      "---  ------  --------------   ----- \n",
      " 0   text    159292 non-null  object\n",
      " 1   toxic   159292 non-null  int64 \n",
      "dtypes: int64(1), object(1)\n",
      "memory usage: 3.6+ MB\n"
     ]
    }
   ],
   "source": [
    "df.info()"
   ]
  },
  {
   "cell_type": "code",
   "execution_count": 44,
   "metadata": {},
   "outputs": [
    {
     "data": {
      "text/plain": [
       "text     0\n",
       "toxic    0\n",
       "dtype: int64"
      ]
     },
     "execution_count": 44,
     "metadata": {},
     "output_type": "execute_result"
    }
   ],
   "source": [
    "# Проверим датафрейм на пропуски.\n",
    "df.isna().sum()"
   ]
  },
  {
   "cell_type": "code",
   "execution_count": 45,
   "metadata": {},
   "outputs": [
    {
     "data": {
      "text/plain": [
       "0    143106\n",
       "1     16186\n",
       "Name: toxic, dtype: int64"
      ]
     },
     "execution_count": 45,
     "metadata": {},
     "output_type": "execute_result"
    }
   ],
   "source": [
    "# Посмотрим на распределение целевого признака.\n",
    "df['toxic'].value_counts()"
   ]
  },
  {
   "cell_type": "markdown",
   "metadata": {},
   "source": [
    "**Промежуточный вывод:** Видим данные о тексте и токсичности комментариев. Данные соответствуют описанию задачи с правильными типами данных. Обзор данных не выявил пропуски."
   ]
  },
  {
   "cell_type": "code",
   "execution_count": 46,
   "metadata": {},
   "outputs": [
    {
     "data": {
      "text/html": [
       "<div>\n",
       "<style scoped>\n",
       "    .dataframe tbody tr th:only-of-type {\n",
       "        vertical-align: middle;\n",
       "    }\n",
       "\n",
       "    .dataframe tbody tr th {\n",
       "        vertical-align: top;\n",
       "    }\n",
       "\n",
       "    .dataframe thead th {\n",
       "        text-align: right;\n",
       "    }\n",
       "</style>\n",
       "<table border=\"1\" class=\"dataframe\">\n",
       "  <thead>\n",
       "    <tr style=\"text-align: right;\">\n",
       "      <th></th>\n",
       "      <th>text</th>\n",
       "      <th>toxic</th>\n",
       "    </tr>\n",
       "  </thead>\n",
       "  <tbody>\n",
       "    <tr>\n",
       "      <th>0</th>\n",
       "      <td>explanation why the edits made under my userna...</td>\n",
       "      <td>0</td>\n",
       "    </tr>\n",
       "    <tr>\n",
       "      <th>1</th>\n",
       "      <td>d aww  he matches this background colour i m s...</td>\n",
       "      <td>0</td>\n",
       "    </tr>\n",
       "    <tr>\n",
       "      <th>2</th>\n",
       "      <td>hey man  i m really not trying to edit war  it...</td>\n",
       "      <td>0</td>\n",
       "    </tr>\n",
       "    <tr>\n",
       "      <th>3</th>\n",
       "      <td>more i can t make any real suggestions on impr...</td>\n",
       "      <td>0</td>\n",
       "    </tr>\n",
       "    <tr>\n",
       "      <th>4</th>\n",
       "      <td>you  sir  are my hero  any chance you remember...</td>\n",
       "      <td>0</td>\n",
       "    </tr>\n",
       "  </tbody>\n",
       "</table>\n",
       "</div>"
      ],
      "text/plain": [
       "                                                text  toxic\n",
       "0  explanation why the edits made under my userna...      0\n",
       "1  d aww  he matches this background colour i m s...      0\n",
       "2  hey man  i m really not trying to edit war  it...      0\n",
       "3  more i can t make any real suggestions on impr...      0\n",
       "4  you  sir  are my hero  any chance you remember...      0"
      ]
     },
     "execution_count": 46,
     "metadata": {},
     "output_type": "execute_result"
    }
   ],
   "source": [
    "# Очистим текст комментариев от разделителей и заглавных символов.\n",
    "def clear_text(text):\n",
    "    text = re.sub(r\"(?:\\n|\\r)\", \" \", text)\n",
    "    text = re.sub(r\"[^a-zA-Z ]+\", \" \", text).strip()\n",
    "    text = text.lower()\n",
    "    return text\n",
    "\n",
    "df['text'] = df['text'].apply(clear_text)\n",
    "df.head()"
   ]
  },
  {
   "cell_type": "code",
   "execution_count": 47,
   "metadata": {},
   "outputs": [
    {
     "data": {
      "text/html": [
       "<div>\n",
       "<style scoped>\n",
       "    .dataframe tbody tr th:only-of-type {\n",
       "        vertical-align: middle;\n",
       "    }\n",
       "\n",
       "    .dataframe tbody tr th {\n",
       "        vertical-align: top;\n",
       "    }\n",
       "\n",
       "    .dataframe thead th {\n",
       "        text-align: right;\n",
       "    }\n",
       "</style>\n",
       "<table border=\"1\" class=\"dataframe\">\n",
       "  <thead>\n",
       "    <tr style=\"text-align: right;\">\n",
       "      <th></th>\n",
       "      <th>text</th>\n",
       "      <th>toxic</th>\n",
       "      <th>lemm</th>\n",
       "    </tr>\n",
       "  </thead>\n",
       "  <tbody>\n",
       "    <tr>\n",
       "      <th>0</th>\n",
       "      <td>explanation why the edits made under my userna...</td>\n",
       "      <td>0</td>\n",
       "      <td>explanation why the edit make under my usernam...</td>\n",
       "    </tr>\n",
       "    <tr>\n",
       "      <th>1</th>\n",
       "      <td>d aww  he matches this background colour i m s...</td>\n",
       "      <td>0</td>\n",
       "      <td>d aww   he match this background colour I m se...</td>\n",
       "    </tr>\n",
       "    <tr>\n",
       "      <th>2</th>\n",
       "      <td>hey man  i m really not trying to edit war  it...</td>\n",
       "      <td>0</td>\n",
       "      <td>hey man   I m really not try to edit war   it ...</td>\n",
       "    </tr>\n",
       "    <tr>\n",
       "      <th>3</th>\n",
       "      <td>more i can t make any real suggestions on impr...</td>\n",
       "      <td>0</td>\n",
       "      <td>more I can t make any real suggestion on impro...</td>\n",
       "    </tr>\n",
       "    <tr>\n",
       "      <th>4</th>\n",
       "      <td>you  sir  are my hero  any chance you remember...</td>\n",
       "      <td>0</td>\n",
       "      <td>you   sir   be my hero   any chance you rememb...</td>\n",
       "    </tr>\n",
       "  </tbody>\n",
       "</table>\n",
       "</div>"
      ],
      "text/plain": [
       "                                                text  toxic  \\\n",
       "0  explanation why the edits made under my userna...      0   \n",
       "1  d aww  he matches this background colour i m s...      0   \n",
       "2  hey man  i m really not trying to edit war  it...      0   \n",
       "3  more i can t make any real suggestions on impr...      0   \n",
       "4  you  sir  are my hero  any chance you remember...      0   \n",
       "\n",
       "                                                lemm  \n",
       "0  explanation why the edit make under my usernam...  \n",
       "1  d aww   he match this background colour I m se...  \n",
       "2  hey man   I m really not try to edit war   it ...  \n",
       "3  more I can t make any real suggestion on impro...  \n",
       "4  you   sir   be my hero   any chance you rememb...  "
      ]
     },
     "execution_count": 47,
     "metadata": {},
     "output_type": "execute_result"
    }
   ],
   "source": [
    "# Лемматизируем текст с помощью английской модели spaCy.\n",
    "nlp = spacy.load('en_core_web_sm', disable=['parser', 'ner'])\n",
    "\n",
    "def lemmatize_text(text):\n",
    "    doc = nlp(text)\n",
    "    lemmatized_text = \" \".join([token.lemma_ for token in doc])\n",
    "    return lemmatized_text\n",
    "\n",
    "df['lemm'] = df['text'].apply(lambda x: lemmatize_text(x))\n",
    "df.head()"
   ]
  },
  {
   "cell_type": "markdown",
   "metadata": {},
   "source": [
    "**Промежуточный вывод:** Данные очищены от разделителей и заглавных символов, лемматизированы и готовы к работе."
   ]
  },
  {
   "cell_type": "markdown",
   "metadata": {},
   "source": [
    "## Обучение"
   ]
  },
  {
   "cell_type": "markdown",
   "metadata": {},
   "source": [
    "### Подготовка данных к обучению"
   ]
  },
  {
   "cell_type": "code",
   "execution_count": 48,
   "metadata": {},
   "outputs": [
    {
     "name": "stderr",
     "output_type": "stream",
     "text": [
      "[nltk_data] Downloading package stopwords to /home/jovyan/nltk_data...\n",
      "[nltk_data]   Package stopwords is already up-to-date!\n"
     ]
    }
   ],
   "source": [
    "# Укажем стоп-слова.\n",
    "nltk.download('stopwords')\n",
    "stopwords = set(stopwords.words('english'))"
   ]
  },
  {
   "cell_type": "code",
   "execution_count": 49,
   "metadata": {},
   "outputs": [],
   "source": [
    "RANDOM_STATE = 42\n",
    "TEST_SIZE = 0.25\n",
    "# Разделим данные на обучающую и тестовую выборки.\n",
    "X = df['lemm']\n",
    "y = df['toxic']\n",
    "X_train, X_test, y_train, y_test = train_test_split(\n",
    "    X, y, test_size=TEST_SIZE, random_state=RANDOM_STATE, stratify=y)"
   ]
  },
  {
   "cell_type": "code",
   "execution_count": 51,
   "metadata": {},
   "outputs": [],
   "source": [
    "# Векторизируем признаки.\n",
    "tf_idf = TfidfVectorizer(stop_words=stopwords)\n",
    "\n",
    "X_train_tf_idf = tf_idf.fit_transform(X_train)\n",
    "X_test_tf_idf = tf_idf.transform(X_test)"
   ]
  },
  {
   "cell_type": "markdown",
   "metadata": {},
   "source": [
    "### LogisticRegression"
   ]
  },
  {
   "cell_type": "code",
   "execution_count": 56,
   "metadata": {},
   "outputs": [
    {
     "name": "stdout",
     "output_type": "stream",
     "text": [
      "Fitting 3 folds for each of 2 candidates, totalling 6 fits\n",
      "[CV 1/3] END ...................................model__C=1.0; total time=  13.6s\n",
      "[CV 2/3] END ...................................model__C=1.0; total time=  12.8s\n",
      "[CV 3/3] END ...................................model__C=1.0; total time=  13.5s\n",
      "[CV 1/3] END ..................................model__C=10.0; total time=  19.4s\n",
      "[CV 2/3] END ..................................model__C=10.0; total time=  17.2s\n",
      "[CV 3/3] END ..................................model__C=10.0; total time=  16.9s\n",
      "Лучшие параметры логистической регрессии: {'model__C': 10.0}\n",
      "F1 логистической регрессии: 0.7750317855676528\n"
     ]
    }
   ],
   "source": [
    "# Воспользуемся Pipeline и GridSearchCV для кросс-валидации модели.\n",
    "pipe_lr = Pipeline([\n",
    "    ('tfidf', TfidfVectorizer(stop_words=stopwords)),\n",
    "    ('model', LogisticRegression(random_state=RANDOM_STATE, solver='liblinear', max_iter=200))])\n",
    "param_lr = {'model__C':[1.0, 10.0]}\n",
    "grid_lr = GridSearchCV(pipe_lr, param_lr, scoring = 'f1', cv=3, verbose=3, n_jobs=-1)\n",
    "grid_lr.fit(X_train, y_train)\n",
    "\n",
    "print('Лучшие параметры логистической регрессии:',grid_lr.best_params_)\n",
    "print('F1 логистической регрессии:', grid_lr.best_score_)"
   ]
  },
  {
   "cell_type": "markdown",
   "metadata": {},
   "source": [
    "**Промежуточный вывод:** Лучший параметр C логистической регрессии: 10. F1 = 0.775, что удовлетворяет заданному условию."
   ]
  },
  {
   "cell_type": "markdown",
   "metadata": {},
   "source": [
    "### DecisionTreeClassifier"
   ]
  },
  {
   "cell_type": "code",
   "execution_count": 13,
   "metadata": {},
   "outputs": [
    {
     "name": "stdout",
     "output_type": "stream",
     "text": [
      "Fitting 3 folds for each of 3 candidates, totalling 9 fits\n",
      "[CV 1/3] END ...................................max_depth=10; total time=  13.1s\n",
      "[CV 2/3] END ...................................max_depth=10; total time=  13.0s\n",
      "[CV 3/3] END ...................................max_depth=10; total time=  13.3s\n",
      "[CV 1/3] END ...................................max_depth=15; total time=  14.7s\n",
      "[CV 2/3] END ...................................max_depth=15; total time=  14.9s\n",
      "[CV 3/3] END ...................................max_depth=15; total time=  14.8s\n",
      "[CV 1/3] END ...................................max_depth=20; total time=  17.1s\n",
      "[CV 2/3] END ...................................max_depth=20; total time=  16.9s\n",
      "[CV 3/3] END ...................................max_depth=20; total time=  16.8s\n",
      "Лучшие параметры древа решений: {'max_depth': 20}\n",
      "F1 древа решений: 0.6434027291336637\n"
     ]
    }
   ],
   "source": [
    "# Инициализируем модель древа решений.\n",
    "model_dt = DecisionTreeClassifier(random_state=RANDOM_STATE)\n",
    "\n",
    "# Зададим параметры и воспользуемся GridSearchCV для определения лучших по метрике.\n",
    "param_dt = {\n",
    "    'max_depth':range (10, 21, 5)}\n",
    "grid_dt = GridSearchCV(model_dt, param_dt, scoring = 'f1', cv=3, verbose=3, n_jobs=-1)\n",
    "grid_dt.fit(X_train_tf_idf, y_train)\n",
    "\n",
    "print('Лучшие параметры древа решений:',grid_dt.best_params_)\n",
    "print('F1 древа решений:', grid_dt.best_score_)"
   ]
  },
  {
   "cell_type": "markdown",
   "metadata": {},
   "source": [
    "**Промежуточный вывод:** Лучший параметр максимальной глубины древа решений: 20. F1 = 0.64, что не удовлетворяет заданному условию."
   ]
  },
  {
   "cell_type": "markdown",
   "metadata": {},
   "source": [
    "### RandomForestClassifier"
   ]
  },
  {
   "cell_type": "code",
   "execution_count": 14,
   "metadata": {},
   "outputs": [
    {
     "name": "stdout",
     "output_type": "stream",
     "text": [
      "Fitting 3 folds for each of 4 candidates, totalling 12 fits\n",
      "[CV 1/3] END ...................max_depth=5, n_estimators=50; total time=   4.6s\n",
      "[CV 2/3] END ...................max_depth=5, n_estimators=50; total time=   4.6s\n",
      "[CV 3/3] END ...................max_depth=5, n_estimators=50; total time=   4.5s\n",
      "[CV 1/3] END ..................max_depth=5, n_estimators=100; total time=   9.1s\n",
      "[CV 2/3] END ..................max_depth=5, n_estimators=100; total time=   9.0s\n",
      "[CV 3/3] END ..................max_depth=5, n_estimators=100; total time=   9.0s\n",
      "[CV 1/3] END ..................max_depth=10, n_estimators=50; total time=   8.9s\n",
      "[CV 2/3] END ..................max_depth=10, n_estimators=50; total time=   8.7s\n",
      "[CV 3/3] END ..................max_depth=10, n_estimators=50; total time=   8.8s\n",
      "[CV 1/3] END .................max_depth=10, n_estimators=100; total time=  17.6s\n",
      "[CV 2/3] END .................max_depth=10, n_estimators=100; total time=  17.4s\n",
      "[CV 3/3] END .................max_depth=10, n_estimators=100; total time=  17.6s\n",
      "Лучшие параметры RandomForest: {'max_depth': 10, 'n_estimators': 100}\n",
      "F1 RandomForest: 0.3452979265827367\n"
     ]
    }
   ],
   "source": [
    "# Инициализируем модель RandomForest.\n",
    "model_rf = RandomForestClassifier(random_state=RANDOM_STATE, class_weight = 'balanced')\n",
    "\n",
    "# Зададим параметры и воспользуемся GridSearchCV для определения лучших по метрике.\n",
    "param_rf = {\n",
    "    'n_estimators': [50, 100],\n",
    "    'max_depth': [5, 10]}\n",
    "grid_rf = GridSearchCV(model_rf, param_rf, scoring = 'f1', cv=3, verbose=3, n_jobs=-1)\n",
    "grid_rf.fit(X_train_tf_idf, y_train)\n",
    "\n",
    "print('Лучшие параметры RandomForest:',grid_rf.best_params_)\n",
    "print('F1 RandomForest:', grid_rf.best_score_)"
   ]
  },
  {
   "cell_type": "markdown",
   "metadata": {},
   "source": [
    "**Промежуточный вывод:** Лучший параметр эстиматоров RandomForest: 100, максимальной глубины: 10. F1 = 0.345, что не удовлетворяет заданному условию."
   ]
  },
  {
   "cell_type": "markdown",
   "metadata": {},
   "source": [
    "### Тестирование лучшей модели"
   ]
  },
  {
   "cell_type": "markdown",
   "metadata": {},
   "source": [
    "Исходя из оценки метрики, остановимся на ***LogisticRegression***, как лучшей по F1. Проверим её качество на тестовой выборке."
   ]
  },
  {
   "cell_type": "code",
   "execution_count": 55,
   "metadata": {},
   "outputs": [
    {
     "name": "stdout",
     "output_type": "stream",
     "text": [
      "F1 для лучшей модели LogisticRegression: 0.7809655172413794\n"
     ]
    }
   ],
   "source": [
    "# Протестируем наилучшую модель на тестовой выборке.\n",
    "predictions = grid_lr.best_estimator_.predict(X_test)\n",
    "test_f1 = f1_score(y_test, predictions)\n",
    "\n",
    "print('F1 для лучшей модели LogisticRegression:', test_f1)"
   ]
  },
  {
   "cell_type": "markdown",
   "metadata": {},
   "source": [
    "**Промежуточный вывод:** F1 для лучшей модели LogisticRegression на тестовой выборке = 0.781, что удовлетворяет заданному условию."
   ]
  },
  {
   "cell_type": "markdown",
   "metadata": {},
   "source": [
    "## Выводы"
   ]
  },
  {
   "cell_type": "markdown",
   "metadata": {},
   "source": [
    "**Цель исследования:** Обучили модели классифицировать комментарии на позитивные и негативные. Оценили их по критериям, указанным заказчиком.\n",
    "\n",
    "**Подготовка данных:** Проверили данные на пропуски. Очистили тексты комментариев от разделителей и заглавных символов и лемматизировали их.\n",
    "\n",
    "**Обучение моделей:** Разделили данные на обучающую и тестовую выборки. Создали пайплайн, в котором векторизировали признаки с использованием стоп-слов. Обучили 3 модели машинного обучения, подобрав гиперпараметры, оценили модели по метрике F1, которая по указаниям заказчика должна быть не меньше 0.75:\n",
    "- LogisticRegression: Лучший параметр C логистической регрессии: 10. F1 = 0.775, что удовлетворяет заданному условию.\n",
    "- DecisionTreeClassifier: Лучший параметр максимальной глубины древа решений: 20. F1 = 0.64, что не удовлетворяет заданному условию.\n",
    "- RandomForestClassifier: Лучший параметр эстиматоров RandomForest: 100, максимальной глубины: 10. F1 = 0.345, что не удовлетворяет заданному условию.\n",
    "\n",
    "Исходя из оценки метрики, остановились на LogisticRegression, как лучшей по F1. F1 для лучшей модели LogisticRegression на тестовой выборке = 0.781, что удовлетворяет заданному условию."
   ]
  }
 ],
 "metadata": {
  "ExecuteTimeLog": [
   {
    "duration": 58579,
    "start_time": "2024-12-27T17:55:16.657Z"
   },
   {
    "duration": 902,
    "start_time": "2024-12-27T17:56:15.239Z"
   },
   {
    "duration": 1425,
    "start_time": "2024-12-27T17:56:16.143Z"
   },
   {
    "duration": 19892,
    "start_time": "2024-12-27T17:56:30.873Z"
   },
   {
    "duration": 588,
    "start_time": "2024-12-27T17:56:50.770Z"
   },
   {
    "duration": 0,
    "start_time": "2024-12-27T17:56:51.360Z"
   },
   {
    "duration": 0,
    "start_time": "2024-12-27T17:56:51.362Z"
   },
   {
    "duration": 9805,
    "start_time": "2024-12-27T17:57:17.341Z"
   },
   {
    "duration": 588,
    "start_time": "2024-12-27T17:57:38.983Z"
   },
   {
    "duration": 0,
    "start_time": "2024-12-27T17:57:39.573Z"
   },
   {
    "duration": 0,
    "start_time": "2024-12-27T17:57:39.575Z"
   },
   {
    "duration": 883,
    "start_time": "2024-12-27T17:57:49.700Z"
   },
   {
    "duration": 1010,
    "start_time": "2024-12-27T17:57:50.585Z"
   },
   {
    "duration": 43,
    "start_time": "2024-12-27T17:57:51.597Z"
   },
   {
    "duration": 32,
    "start_time": "2024-12-27T17:58:32.838Z"
   },
   {
    "duration": 93,
    "start_time": "2024-12-27T17:59:46.933Z"
   },
   {
    "duration": 6,
    "start_time": "2024-12-27T17:59:51.133Z"
   },
   {
    "duration": 1016,
    "start_time": "2024-12-27T18:02:58.222Z"
   },
   {
    "duration": 945,
    "start_time": "2024-12-27T18:03:29.758Z"
   },
   {
    "duration": 976,
    "start_time": "2024-12-27T18:03:30.706Z"
   },
   {
    "duration": 32,
    "start_time": "2024-12-27T18:03:31.683Z"
   },
   {
    "duration": 45,
    "start_time": "2024-12-27T18:03:31.717Z"
   },
   {
    "duration": 17,
    "start_time": "2024-12-27T18:03:31.764Z"
   },
   {
    "duration": 2260,
    "start_time": "2024-12-28T13:58:32.225Z"
   },
   {
    "duration": 1387,
    "start_time": "2024-12-28T13:58:34.487Z"
   },
   {
    "duration": 34,
    "start_time": "2024-12-28T13:58:35.876Z"
   },
   {
    "duration": 63,
    "start_time": "2024-12-28T13:58:35.912Z"
   },
   {
    "duration": 55,
    "start_time": "2024-12-28T13:58:35.977Z"
   },
   {
    "duration": 2663,
    "start_time": "2024-12-28T13:58:36.034Z"
   },
   {
    "duration": 5,
    "start_time": "2024-12-28T14:01:00.192Z"
   },
   {
    "duration": 948,
    "start_time": "2024-12-28T14:01:00.202Z"
   },
   {
    "duration": 30,
    "start_time": "2024-12-28T14:01:01.152Z"
   },
   {
    "duration": 63,
    "start_time": "2024-12-28T14:01:01.184Z"
   },
   {
    "duration": 17,
    "start_time": "2024-12-28T14:01:01.249Z"
   },
   {
    "duration": 2688,
    "start_time": "2024-12-28T14:01:01.268Z"
   },
   {
    "duration": 142,
    "start_time": "2024-12-28T14:01:03.957Z"
   },
   {
    "duration": 3023,
    "start_time": "2024-12-28T14:01:10.373Z"
   },
   {
    "duration": 51,
    "start_time": "2024-12-28T14:01:45.117Z"
   },
   {
    "duration": 1577,
    "start_time": "2024-12-28T14:01:48.270Z"
   },
   {
    "duration": 1433,
    "start_time": "2024-12-28T14:01:49.851Z"
   },
   {
    "duration": 33,
    "start_time": "2024-12-28T14:01:51.285Z"
   },
   {
    "duration": 43,
    "start_time": "2024-12-28T14:01:51.319Z"
   },
   {
    "duration": 6,
    "start_time": "2024-12-28T14:01:51.363Z"
   },
   {
    "duration": 2638,
    "start_time": "2024-12-28T14:01:51.370Z"
   },
   {
    "duration": 3089,
    "start_time": "2024-12-28T14:01:54.009Z"
   },
   {
    "duration": 3,
    "start_time": "2024-12-28T14:12:10.348Z"
   },
   {
    "duration": 962,
    "start_time": "2024-12-28T14:12:10.353Z"
   },
   {
    "duration": 33,
    "start_time": "2024-12-28T14:12:11.316Z"
   },
   {
    "duration": 29,
    "start_time": "2024-12-28T14:12:11.350Z"
   },
   {
    "duration": 5,
    "start_time": "2024-12-28T14:12:11.382Z"
   },
   {
    "duration": 2757,
    "start_time": "2024-12-28T14:12:11.389Z"
   },
   {
    "duration": 1658,
    "start_time": "2024-12-28T14:21:36.196Z"
   },
   {
    "duration": 1392,
    "start_time": "2024-12-28T14:21:37.856Z"
   },
   {
    "duration": 34,
    "start_time": "2024-12-28T14:21:39.249Z"
   },
   {
    "duration": 46,
    "start_time": "2024-12-28T14:21:39.285Z"
   },
   {
    "duration": 6,
    "start_time": "2024-12-28T14:21:39.334Z"
   },
   {
    "duration": 2670,
    "start_time": "2024-12-28T14:21:39.342Z"
   },
   {
    "duration": 2331,
    "start_time": "2024-12-28T14:21:42.014Z"
   },
   {
    "duration": 0,
    "start_time": "2024-12-28T14:21:44.347Z"
   },
   {
    "duration": 0,
    "start_time": "2024-12-28T14:21:44.348Z"
   },
   {
    "duration": 1630,
    "start_time": "2024-12-28T14:22:54.269Z"
   },
   {
    "duration": 1394,
    "start_time": "2024-12-28T14:22:55.902Z"
   },
   {
    "duration": 33,
    "start_time": "2024-12-28T14:22:57.298Z"
   },
   {
    "duration": 47,
    "start_time": "2024-12-28T14:22:57.333Z"
   },
   {
    "duration": 7,
    "start_time": "2024-12-28T14:22:57.382Z"
   },
   {
    "duration": 2712,
    "start_time": "2024-12-28T14:22:57.390Z"
   },
   {
    "duration": 90224,
    "start_time": "2024-12-28T14:23:00.104Z"
   },
   {
    "duration": 0,
    "start_time": "2024-12-28T14:24:30.330Z"
   },
   {
    "duration": 0,
    "start_time": "2024-12-28T14:24:30.332Z"
   },
   {
    "duration": 3,
    "start_time": "2024-12-28T14:27:06.050Z"
   },
   {
    "duration": 908,
    "start_time": "2024-12-28T14:27:06.055Z"
   },
   {
    "duration": 31,
    "start_time": "2024-12-28T14:27:06.965Z"
   },
   {
    "duration": 50,
    "start_time": "2024-12-28T14:27:06.998Z"
   },
   {
    "duration": 14,
    "start_time": "2024-12-28T14:27:07.049Z"
   },
   {
    "duration": 2697,
    "start_time": "2024-12-28T14:27:07.065Z"
   },
   {
    "duration": 1654,
    "start_time": "2024-12-28T14:27:21.097Z"
   },
   {
    "duration": 1421,
    "start_time": "2024-12-28T14:27:22.753Z"
   },
   {
    "duration": 34,
    "start_time": "2024-12-28T14:27:24.176Z"
   },
   {
    "duration": 32,
    "start_time": "2024-12-28T14:27:24.213Z"
   },
   {
    "duration": 11,
    "start_time": "2024-12-28T14:27:24.247Z"
   },
   {
    "duration": 2738,
    "start_time": "2024-12-28T14:27:24.259Z"
   },
   {
    "duration": 49581,
    "start_time": "2024-12-28T14:27:27.000Z"
   },
   {
    "duration": 0,
    "start_time": "2024-12-28T14:28:16.584Z"
   },
   {
    "duration": 0,
    "start_time": "2024-12-28T14:28:16.586Z"
   },
   {
    "duration": 3,
    "start_time": "2024-12-28T14:30:03.746Z"
   },
   {
    "duration": 959,
    "start_time": "2024-12-28T14:30:03.751Z"
   },
   {
    "duration": 45,
    "start_time": "2024-12-28T14:30:04.712Z"
   },
   {
    "duration": 31,
    "start_time": "2024-12-28T14:30:04.759Z"
   },
   {
    "duration": 19,
    "start_time": "2024-12-28T14:30:04.792Z"
   },
   {
    "duration": 2689,
    "start_time": "2024-12-28T14:30:04.813Z"
   },
   {
    "duration": 1595,
    "start_time": "2024-12-28T14:30:30.161Z"
   },
   {
    "duration": 1413,
    "start_time": "2024-12-28T14:30:31.760Z"
   },
   {
    "duration": 34,
    "start_time": "2024-12-28T14:30:33.175Z"
   },
   {
    "duration": 40,
    "start_time": "2024-12-28T14:30:33.211Z"
   },
   {
    "duration": 25,
    "start_time": "2024-12-28T14:30:33.253Z"
   },
   {
    "duration": 2647,
    "start_time": "2024-12-28T14:30:33.279Z"
   },
   {
    "duration": 2320,
    "start_time": "2024-12-28T14:30:35.930Z"
   },
   {
    "duration": 0,
    "start_time": "2024-12-28T14:30:38.252Z"
   },
   {
    "duration": 0,
    "start_time": "2024-12-28T14:30:38.254Z"
   },
   {
    "duration": 1397,
    "start_time": "2024-12-28T14:32:44.998Z"
   },
   {
    "duration": 1704,
    "start_time": "2024-12-28T14:33:10.856Z"
   },
   {
    "duration": 1565,
    "start_time": "2024-12-28T14:33:12.562Z"
   },
   {
    "duration": 45,
    "start_time": "2024-12-28T14:33:14.129Z"
   },
   {
    "duration": 35,
    "start_time": "2024-12-28T14:33:14.176Z"
   },
   {
    "duration": 36,
    "start_time": "2024-12-28T14:33:14.213Z"
   },
   {
    "duration": 2835,
    "start_time": "2024-12-28T14:33:14.252Z"
   },
   {
    "duration": 2385,
    "start_time": "2024-12-28T14:33:17.089Z"
   },
   {
    "duration": 0,
    "start_time": "2024-12-28T14:33:19.475Z"
   },
   {
    "duration": 0,
    "start_time": "2024-12-28T14:33:19.477Z"
   },
   {
    "duration": 1647,
    "start_time": "2024-12-28T14:34:15.742Z"
   },
   {
    "duration": 1508,
    "start_time": "2024-12-28T14:34:17.391Z"
   },
   {
    "duration": 41,
    "start_time": "2024-12-28T14:34:18.901Z"
   },
   {
    "duration": 30,
    "start_time": "2024-12-28T14:34:18.945Z"
   },
   {
    "duration": 18,
    "start_time": "2024-12-28T14:34:18.977Z"
   },
   {
    "duration": 2776,
    "start_time": "2024-12-28T14:34:18.997Z"
   },
   {
    "duration": 3267,
    "start_time": "2024-12-28T14:34:21.775Z"
   },
   {
    "duration": 0,
    "start_time": "2024-12-28T14:34:25.044Z"
   },
   {
    "duration": 0,
    "start_time": "2024-12-28T14:34:25.045Z"
   },
   {
    "duration": 1694,
    "start_time": "2024-12-28T14:35:39.094Z"
   },
   {
    "duration": 1496,
    "start_time": "2024-12-28T14:35:40.790Z"
   },
   {
    "duration": 33,
    "start_time": "2024-12-28T14:35:42.288Z"
   },
   {
    "duration": 32,
    "start_time": "2024-12-28T14:35:42.323Z"
   },
   {
    "duration": 6,
    "start_time": "2024-12-28T14:35:42.357Z"
   },
   {
    "duration": 2823,
    "start_time": "2024-12-28T14:35:42.365Z"
   },
   {
    "duration": 2337,
    "start_time": "2024-12-28T14:35:45.189Z"
   },
   {
    "duration": 0,
    "start_time": "2024-12-28T14:35:47.532Z"
   },
   {
    "duration": 0,
    "start_time": "2024-12-28T14:35:47.533Z"
   },
   {
    "duration": 1651,
    "start_time": "2024-12-28T14:36:03.921Z"
   },
   {
    "duration": 1475,
    "start_time": "2024-12-28T14:36:05.574Z"
   },
   {
    "duration": 33,
    "start_time": "2024-12-28T14:36:07.051Z"
   },
   {
    "duration": 42,
    "start_time": "2024-12-28T14:36:07.086Z"
   },
   {
    "duration": 25,
    "start_time": "2024-12-28T14:36:07.134Z"
   },
   {
    "duration": 2884,
    "start_time": "2024-12-28T14:36:07.160Z"
   },
   {
    "duration": 3559,
    "start_time": "2024-12-28T14:36:10.046Z"
   },
   {
    "duration": 0,
    "start_time": "2024-12-28T14:36:13.607Z"
   },
   {
    "duration": 0,
    "start_time": "2024-12-28T14:36:13.608Z"
   },
   {
    "duration": 1601,
    "start_time": "2024-12-28T14:38:26.954Z"
   },
   {
    "duration": 1423,
    "start_time": "2024-12-28T14:38:28.557Z"
   },
   {
    "duration": 36,
    "start_time": "2024-12-28T14:38:29.982Z"
   },
   {
    "duration": 77,
    "start_time": "2024-12-28T14:38:30.019Z"
   },
   {
    "duration": 64,
    "start_time": "2024-12-28T14:38:30.098Z"
   },
   {
    "duration": 2672,
    "start_time": "2024-12-28T14:38:30.164Z"
   },
   {
    "duration": 3188,
    "start_time": "2024-12-28T14:38:32.838Z"
   },
   {
    "duration": 0,
    "start_time": "2024-12-28T14:38:36.030Z"
   },
   {
    "duration": 0,
    "start_time": "2024-12-28T14:38:36.031Z"
   },
   {
    "duration": 1615,
    "start_time": "2024-12-28T14:41:49.518Z"
   },
   {
    "duration": 1361,
    "start_time": "2024-12-28T14:41:51.135Z"
   },
   {
    "duration": 33,
    "start_time": "2024-12-28T14:41:52.498Z"
   },
   {
    "duration": 29,
    "start_time": "2024-12-28T14:41:52.533Z"
   },
   {
    "duration": 29,
    "start_time": "2024-12-28T14:41:52.565Z"
   },
   {
    "duration": 2671,
    "start_time": "2024-12-28T14:41:52.596Z"
   },
   {
    "duration": 3957,
    "start_time": "2024-12-28T14:41:55.270Z"
   },
   {
    "duration": 0,
    "start_time": "2024-12-28T14:41:59.229Z"
   },
   {
    "duration": 0,
    "start_time": "2024-12-28T14:41:59.230Z"
   },
   {
    "duration": 1602,
    "start_time": "2024-12-28T14:42:31.032Z"
   },
   {
    "duration": 1394,
    "start_time": "2024-12-28T14:42:32.636Z"
   },
   {
    "duration": 34,
    "start_time": "2024-12-28T14:42:34.032Z"
   },
   {
    "duration": 39,
    "start_time": "2024-12-28T14:42:34.067Z"
   },
   {
    "duration": 16,
    "start_time": "2024-12-28T14:42:34.108Z"
   },
   {
    "duration": 2639,
    "start_time": "2024-12-28T14:42:34.126Z"
   },
   {
    "duration": 82862,
    "start_time": "2024-12-28T14:42:36.766Z"
   },
   {
    "duration": 0,
    "start_time": "2024-12-28T14:43:59.630Z"
   },
   {
    "duration": 0,
    "start_time": "2024-12-28T14:43:59.631Z"
   },
   {
    "duration": 11,
    "start_time": "2024-12-28T14:46:13.431Z"
   },
   {
    "duration": 14,
    "start_time": "2024-12-28T14:46:22.780Z"
   },
   {
    "duration": 82465,
    "start_time": "2024-12-28T14:46:34.019Z"
   },
   {
    "duration": 8,
    "start_time": "2024-12-28T14:55:03.149Z"
   },
   {
    "duration": 1009,
    "start_time": "2024-12-28T14:55:03.160Z"
   },
   {
    "duration": 32,
    "start_time": "2024-12-28T14:55:04.170Z"
   },
   {
    "duration": 71,
    "start_time": "2024-12-28T14:55:04.204Z"
   },
   {
    "duration": 40,
    "start_time": "2024-12-28T14:55:04.277Z"
   },
   {
    "duration": 3000,
    "start_time": "2024-12-28T14:55:04.319Z"
   },
   {
    "duration": 89213,
    "start_time": "2024-12-28T14:55:07.322Z"
   },
   {
    "duration": 142,
    "start_time": "2024-12-28T14:56:36.540Z"
   },
   {
    "duration": 0,
    "start_time": "2024-12-28T14:56:36.684Z"
   },
   {
    "duration": 4,
    "start_time": "2024-12-28T14:56:53.916Z"
   },
   {
    "duration": 12,
    "start_time": "2024-12-28T14:56:56.785Z"
   },
   {
    "duration": 4,
    "start_time": "2024-12-28T14:57:21.254Z"
   },
   {
    "duration": 80,
    "start_time": "2024-12-28T14:57:24.415Z"
   },
   {
    "duration": 70,
    "start_time": "2024-12-28T15:05:31.272Z"
   },
   {
    "duration": 1745,
    "start_time": "2024-12-28T15:05:47.312Z"
   },
   {
    "duration": 1539,
    "start_time": "2024-12-28T15:05:49.059Z"
   },
   {
    "duration": 44,
    "start_time": "2024-12-28T15:05:50.600Z"
   },
   {
    "duration": 29,
    "start_time": "2024-12-28T15:05:50.654Z"
   },
   {
    "duration": 14,
    "start_time": "2024-12-28T15:05:50.684Z"
   },
   {
    "duration": 3025,
    "start_time": "2024-12-28T15:05:50.700Z"
   },
   {
    "duration": 95743,
    "start_time": "2024-12-28T15:05:53.726Z"
   },
   {
    "duration": 230,
    "start_time": "2024-12-28T15:07:29.470Z"
   },
   {
    "duration": 75,
    "start_time": "2024-12-28T15:07:29.702Z"
   },
   {
    "duration": 2336,
    "start_time": "2024-12-28T15:07:29.780Z"
   },
   {
    "duration": 11092,
    "start_time": "2024-12-28T15:07:32.117Z"
   },
   {
    "duration": 154,
    "start_time": "2024-12-28T15:41:32.770Z"
   },
   {
    "duration": 37,
    "start_time": "2024-12-28T15:41:50.681Z"
   },
   {
    "duration": 39,
    "start_time": "2024-12-28T15:43:04.931Z"
   },
   {
    "duration": 36,
    "start_time": "2024-12-28T15:43:27.100Z"
   },
   {
    "duration": 37,
    "start_time": "2024-12-28T15:43:47.318Z"
   },
   {
    "duration": 101244,
    "start_time": "2024-12-28T15:44:08.207Z"
   },
   {
    "duration": 100333,
    "start_time": "2024-12-28T15:46:17.421Z"
   },
   {
    "duration": 11,
    "start_time": "2024-12-28T15:50:53.765Z"
   },
   {
    "duration": 77,
    "start_time": "2024-12-28T15:51:00.781Z"
   },
   {
    "duration": 172844,
    "start_time": "2024-12-28T15:51:03.878Z"
   },
   {
    "duration": 79427,
    "start_time": "2024-12-28T15:54:21.595Z"
   },
   {
    "duration": 122151,
    "start_time": "2024-12-28T15:55:55.024Z"
   },
   {
    "duration": 1731,
    "start_time": "2024-12-28T16:05:33.328Z"
   },
   {
    "duration": 1411,
    "start_time": "2024-12-28T16:05:35.061Z"
   },
   {
    "duration": 34,
    "start_time": "2024-12-28T16:05:36.474Z"
   },
   {
    "duration": 60,
    "start_time": "2024-12-28T16:05:36.509Z"
   },
   {
    "duration": 50,
    "start_time": "2024-12-28T16:05:36.571Z"
   },
   {
    "duration": 3451,
    "start_time": "2024-12-28T16:05:36.623Z"
   },
   {
    "duration": 84794,
    "start_time": "2024-12-28T16:05:40.076Z"
   },
   {
    "duration": 220,
    "start_time": "2024-12-28T16:07:04.871Z"
   },
   {
    "duration": 65,
    "start_time": "2024-12-28T16:07:05.093Z"
   },
   {
    "duration": 2321,
    "start_time": "2024-12-28T16:07:05.160Z"
   },
   {
    "duration": 9847,
    "start_time": "2024-12-28T16:07:07.484Z"
   },
   {
    "duration": 99526,
    "start_time": "2024-12-28T16:07:17.332Z"
   },
   {
    "duration": 123315,
    "start_time": "2024-12-28T16:08:56.861Z"
   },
   {
    "duration": 51,
    "start_time": "2024-12-28T16:11:41.283Z"
   },
   {
    "duration": 1711,
    "start_time": "2024-12-28T16:12:12.995Z"
   },
   {
    "duration": 1419,
    "start_time": "2024-12-28T16:12:14.708Z"
   },
   {
    "duration": 34,
    "start_time": "2024-12-28T16:12:16.129Z"
   },
   {
    "duration": 30,
    "start_time": "2024-12-28T16:12:16.165Z"
   },
   {
    "duration": 21,
    "start_time": "2024-12-28T16:12:16.198Z"
   },
   {
    "duration": 2678,
    "start_time": "2024-12-28T16:12:16.221Z"
   },
   {
    "duration": 87000,
    "start_time": "2024-12-28T16:12:18.900Z"
   },
   {
    "duration": 125,
    "start_time": "2024-12-28T16:13:45.902Z"
   },
   {
    "duration": 66,
    "start_time": "2024-12-28T16:13:46.029Z"
   },
   {
    "duration": 3025,
    "start_time": "2024-12-28T16:13:46.096Z"
   },
   {
    "duration": 10074,
    "start_time": "2024-12-28T16:13:49.130Z"
   },
   {
    "duration": 99647,
    "start_time": "2024-12-28T16:13:59.206Z"
   },
   {
    "duration": 176858,
    "start_time": "2024-12-28T16:15:38.856Z"
   },
   {
    "duration": 1708,
    "start_time": "2024-12-28T16:19:23.206Z"
   },
   {
    "duration": 1418,
    "start_time": "2024-12-28T16:19:24.916Z"
   },
   {
    "duration": 36,
    "start_time": "2024-12-28T16:19:26.336Z"
   },
   {
    "duration": 42,
    "start_time": "2024-12-28T16:19:26.374Z"
   },
   {
    "duration": 6,
    "start_time": "2024-12-28T16:19:26.418Z"
   },
   {
    "duration": 2684,
    "start_time": "2024-12-28T16:19:26.426Z"
   },
   {
    "duration": 85973,
    "start_time": "2024-12-28T16:19:29.112Z"
   },
   {
    "duration": 903,
    "start_time": "2024-12-28T16:20:55.087Z"
   },
   {
    "duration": 65,
    "start_time": "2024-12-28T16:20:55.992Z"
   },
   {
    "duration": 2234,
    "start_time": "2024-12-28T16:20:56.059Z"
   },
   {
    "duration": 9656,
    "start_time": "2024-12-28T16:20:58.294Z"
   },
   {
    "duration": 83410,
    "start_time": "2024-12-28T16:21:07.952Z"
   },
   {
    "duration": 146367,
    "start_time": "2024-12-28T16:22:31.363Z"
   },
   {
    "duration": 52,
    "start_time": "2024-12-28T16:26:23.240Z"
   },
   {
    "duration": 1742,
    "start_time": "2024-12-28T16:26:35.256Z"
   },
   {
    "duration": 1426,
    "start_time": "2024-12-28T16:26:37.000Z"
   },
   {
    "duration": 36,
    "start_time": "2024-12-28T16:26:38.427Z"
   },
   {
    "duration": 33,
    "start_time": "2024-12-28T16:26:38.466Z"
   },
   {
    "duration": 8,
    "start_time": "2024-12-28T16:26:38.501Z"
   },
   {
    "duration": 2746,
    "start_time": "2024-12-28T16:26:38.511Z"
   },
   {
    "duration": 85055,
    "start_time": "2024-12-28T16:26:41.259Z"
   },
   {
    "duration": 319,
    "start_time": "2024-12-28T16:28:06.317Z"
   },
   {
    "duration": 62,
    "start_time": "2024-12-28T16:28:06.637Z"
   },
   {
    "duration": 2249,
    "start_time": "2024-12-28T16:28:06.701Z"
   },
   {
    "duration": 9926,
    "start_time": "2024-12-28T16:28:08.951Z"
   },
   {
    "duration": 1681,
    "start_time": "2024-12-28T16:31:13.424Z"
   },
   {
    "duration": 1384,
    "start_time": "2024-12-28T16:31:15.108Z"
   },
   {
    "duration": 42,
    "start_time": "2024-12-28T16:31:16.494Z"
   },
   {
    "duration": 51,
    "start_time": "2024-12-28T16:31:16.538Z"
   },
   {
    "duration": 11,
    "start_time": "2024-12-28T16:31:16.592Z"
   },
   {
    "duration": 2652,
    "start_time": "2024-12-28T16:31:16.605Z"
   },
   {
    "duration": 83645,
    "start_time": "2024-12-28T16:31:19.259Z"
   },
   {
    "duration": 525,
    "start_time": "2024-12-28T16:32:42.905Z"
   },
   {
    "duration": 64,
    "start_time": "2024-12-28T16:32:43.432Z"
   },
   {
    "duration": 2264,
    "start_time": "2024-12-28T16:32:43.497Z"
   },
   {
    "duration": 9634,
    "start_time": "2024-12-28T16:32:45.762Z"
   },
   {
    "duration": 1835,
    "start_time": "2024-12-28T21:32:47.608Z"
   },
   {
    "duration": 1253,
    "start_time": "2024-12-28T21:32:49.445Z"
   },
   {
    "duration": 33,
    "start_time": "2024-12-28T21:32:50.699Z"
   },
   {
    "duration": 64,
    "start_time": "2024-12-28T21:32:50.733Z"
   },
   {
    "duration": 7,
    "start_time": "2024-12-28T21:32:50.800Z"
   },
   {
    "duration": 2566,
    "start_time": "2024-12-28T21:32:50.809Z"
   },
   {
    "duration": 78795,
    "start_time": "2024-12-28T21:32:53.377Z"
   },
   {
    "duration": 137,
    "start_time": "2024-12-28T21:34:12.175Z"
   },
   {
    "duration": 88,
    "start_time": "2024-12-28T21:34:12.314Z"
   },
   {
    "duration": 2394,
    "start_time": "2024-12-28T21:34:12.404Z"
   },
   {
    "duration": 9504,
    "start_time": "2024-12-28T21:34:14.799Z"
   },
   {
    "duration": 56,
    "start_time": "2024-12-28T21:37:34.739Z"
   },
   {
    "duration": 1684,
    "start_time": "2024-12-28T21:39:15.305Z"
   },
   {
    "duration": 1270,
    "start_time": "2024-12-28T21:39:16.990Z"
   },
   {
    "duration": 40,
    "start_time": "2024-12-28T21:39:18.262Z"
   },
   {
    "duration": 43,
    "start_time": "2024-12-28T21:39:18.304Z"
   },
   {
    "duration": 6,
    "start_time": "2024-12-28T21:39:18.349Z"
   },
   {
    "duration": 2513,
    "start_time": "2024-12-28T21:39:18.357Z"
   },
   {
    "duration": 83523,
    "start_time": "2024-12-28T21:39:20.871Z"
   },
   {
    "duration": 203,
    "start_time": "2024-12-28T21:40:44.396Z"
   },
   {
    "duration": 77,
    "start_time": "2024-12-28T21:40:44.601Z"
   },
   {
    "duration": 2284,
    "start_time": "2024-12-28T21:40:44.680Z"
   },
   {
    "duration": 4,
    "start_time": "2024-12-28T21:40:56.046Z"
   },
   {
    "duration": 827,
    "start_time": "2024-12-28T21:40:56.051Z"
   },
   {
    "duration": 28,
    "start_time": "2024-12-28T21:40:56.880Z"
   },
   {
    "duration": 50,
    "start_time": "2024-12-28T21:40:56.909Z"
   },
   {
    "duration": 14,
    "start_time": "2024-12-28T21:40:56.961Z"
   },
   {
    "duration": 2545,
    "start_time": "2024-12-28T21:40:56.977Z"
   },
   {
    "duration": 80324,
    "start_time": "2024-12-28T21:40:59.524Z"
   },
   {
    "duration": 5,
    "start_time": "2024-12-28T21:42:19.850Z"
   },
   {
    "duration": 115,
    "start_time": "2024-12-28T21:42:19.857Z"
   },
   {
    "duration": 62,
    "start_time": "2024-12-28T21:47:13.013Z"
   },
   {
    "duration": 1578,
    "start_time": "2024-12-28T21:47:24.855Z"
   },
   {
    "duration": 1382,
    "start_time": "2024-12-28T21:47:26.435Z"
   },
   {
    "duration": 41,
    "start_time": "2024-12-28T21:47:27.819Z"
   },
   {
    "duration": 103,
    "start_time": "2024-12-28T21:47:27.862Z"
   },
   {
    "duration": 8,
    "start_time": "2024-12-28T21:47:27.968Z"
   },
   {
    "duration": 2637,
    "start_time": "2024-12-28T21:47:27.978Z"
   },
   {
    "duration": 80332,
    "start_time": "2024-12-28T21:47:30.616Z"
   },
   {
    "duration": 128,
    "start_time": "2024-12-28T21:48:50.950Z"
   },
   {
    "duration": 71,
    "start_time": "2024-12-28T21:48:51.080Z"
   },
   {
    "duration": 2326,
    "start_time": "2024-12-28T21:48:51.153Z"
   },
   {
    "duration": 9183,
    "start_time": "2024-12-28T21:48:53.481Z"
   },
   {
    "duration": 1951,
    "start_time": "2024-12-29T09:56:25.252Z"
   },
   {
    "duration": 1736,
    "start_time": "2024-12-29T09:56:27.205Z"
   },
   {
    "duration": 38,
    "start_time": "2024-12-29T09:56:28.950Z"
   },
   {
    "duration": 54,
    "start_time": "2024-12-29T09:56:28.991Z"
   },
   {
    "duration": 11,
    "start_time": "2024-12-29T09:56:29.050Z"
   },
   {
    "duration": 3246,
    "start_time": "2024-12-29T09:56:29.062Z"
   },
   {
    "duration": 129797,
    "start_time": "2024-12-29T09:56:32.309Z"
   },
   {
    "duration": 167,
    "start_time": "2024-12-29T09:58:42.107Z"
   },
   {
    "duration": 79,
    "start_time": "2024-12-29T09:58:42.280Z"
   },
   {
    "duration": 2458,
    "start_time": "2024-12-29T09:58:42.367Z"
   },
   {
    "duration": 13305,
    "start_time": "2024-12-29T09:58:44.827Z"
   },
   {
    "duration": 1628,
    "start_time": "2024-12-29T22:10:11.473Z"
   },
   {
    "duration": 1193,
    "start_time": "2024-12-29T22:10:13.103Z"
   },
   {
    "duration": 32,
    "start_time": "2024-12-29T22:10:14.297Z"
   },
   {
    "duration": 38,
    "start_time": "2024-12-29T22:10:14.330Z"
   },
   {
    "duration": 25,
    "start_time": "2024-12-29T22:10:14.370Z"
   },
   {
    "duration": 2327,
    "start_time": "2024-12-29T22:10:14.396Z"
   },
   {
    "duration": 72078,
    "start_time": "2024-12-29T22:10:16.725Z"
   },
   {
    "duration": 221,
    "start_time": "2024-12-29T22:11:28.804Z"
   },
   {
    "duration": 56,
    "start_time": "2024-12-29T22:11:29.027Z"
   },
   {
    "duration": 2029,
    "start_time": "2024-12-29T22:11:29.085Z"
   },
   {
    "duration": 8435,
    "start_time": "2024-12-29T22:11:31.116Z"
   },
   {
    "duration": 13,
    "start_time": "2024-12-29T22:12:40.127Z"
   },
   {
    "duration": 1421,
    "start_time": "2024-12-29T22:16:34.865Z"
   },
   {
    "duration": 1242,
    "start_time": "2024-12-29T22:16:36.288Z"
   },
   {
    "duration": 33,
    "start_time": "2024-12-29T22:16:37.531Z"
   },
   {
    "duration": 35,
    "start_time": "2024-12-29T22:16:37.566Z"
   },
   {
    "duration": 18,
    "start_time": "2024-12-29T22:16:37.603Z"
   },
   {
    "duration": 2419,
    "start_time": "2024-12-29T22:16:37.623Z"
   },
   {
    "duration": 74020,
    "start_time": "2024-12-29T22:16:40.043Z"
   },
   {
    "duration": 133,
    "start_time": "2024-12-29T22:17:54.065Z"
   },
   {
    "duration": 61,
    "start_time": "2024-12-29T22:17:54.199Z"
   },
   {
    "duration": 2057,
    "start_time": "2024-12-29T22:17:54.261Z"
   },
   {
    "duration": 8863,
    "start_time": "2024-12-29T22:17:56.322Z"
   },
   {
    "duration": 116,
    "start_time": "2024-12-29T22:18:11.587Z"
   },
   {
    "duration": 123613,
    "start_time": "2024-12-29T22:18:30.031Z"
   },
   {
    "duration": 125568,
    "start_time": "2024-12-29T22:21:08.120Z"
   },
   {
    "duration": 122646,
    "start_time": "2024-12-29T22:24:29.702Z"
   },
   {
    "duration": 4,
    "start_time": "2024-12-29T22:27:36.887Z"
   },
   {
    "duration": 836,
    "start_time": "2024-12-29T22:27:36.893Z"
   },
   {
    "duration": 25,
    "start_time": "2024-12-29T22:27:37.730Z"
   },
   {
    "duration": 27,
    "start_time": "2024-12-29T22:27:37.757Z"
   },
   {
    "duration": 30,
    "start_time": "2024-12-29T22:27:37.786Z"
   },
   {
    "duration": 2469,
    "start_time": "2024-12-29T22:27:37.818Z"
   },
   {
    "duration": 75687,
    "start_time": "2024-12-29T22:27:40.289Z"
   },
   {
    "duration": 4,
    "start_time": "2024-12-29T22:28:55.978Z"
   },
   {
    "duration": 95,
    "start_time": "2024-12-29T22:28:55.984Z"
   },
   {
    "duration": 1542,
    "start_time": "2024-12-29T22:29:16.825Z"
   },
   {
    "duration": 1229,
    "start_time": "2024-12-29T22:29:18.369Z"
   },
   {
    "duration": 28,
    "start_time": "2024-12-29T22:29:19.600Z"
   },
   {
    "duration": 24,
    "start_time": "2024-12-29T22:29:19.629Z"
   },
   {
    "duration": 6,
    "start_time": "2024-12-29T22:29:19.654Z"
   },
   {
    "duration": 2376,
    "start_time": "2024-12-29T22:29:19.661Z"
   },
   {
    "duration": 74551,
    "start_time": "2024-12-29T22:29:22.039Z"
   },
   {
    "duration": 212,
    "start_time": "2024-12-29T22:30:36.591Z"
   },
   {
    "duration": 59,
    "start_time": "2024-12-29T22:30:36.805Z"
   },
   {
    "duration": 2069,
    "start_time": "2024-12-29T22:30:36.866Z"
   },
   {
    "duration": 8484,
    "start_time": "2024-12-29T22:30:38.937Z"
   },
   {
    "duration": 122312,
    "start_time": "2024-12-29T22:30:56.292Z"
   },
   {
    "duration": 120241,
    "start_time": "2024-12-29T22:33:21.397Z"
   },
   {
    "duration": 122604,
    "start_time": "2024-12-29T22:35:43.689Z"
   },
   {
    "duration": 14527,
    "start_time": "2024-12-29T22:41:25.229Z"
   },
   {
    "duration": 5482,
    "start_time": "2024-12-30T11:16:34.886Z"
   },
   {
    "duration": 1338,
    "start_time": "2024-12-30T11:16:40.371Z"
   },
   {
    "duration": 39,
    "start_time": "2024-12-30T11:16:41.712Z"
   },
   {
    "duration": 55,
    "start_time": "2024-12-30T11:16:41.753Z"
   },
   {
    "duration": 32,
    "start_time": "2024-12-30T11:16:41.811Z"
   },
   {
    "duration": 2840,
    "start_time": "2024-12-30T11:16:41.846Z"
   },
   {
    "duration": 409,
    "start_time": "2024-12-30T11:16:44.688Z"
   },
   {
    "duration": 496034,
    "start_time": "2024-12-30T11:17:49.816Z"
   },
   {
    "duration": 4,
    "start_time": "2024-12-30T11:26:14.955Z"
   },
   {
    "duration": 953,
    "start_time": "2024-12-30T11:26:14.962Z"
   },
   {
    "duration": 41,
    "start_time": "2024-12-30T11:26:15.916Z"
   },
   {
    "duration": 29,
    "start_time": "2024-12-30T11:26:15.959Z"
   },
   {
    "duration": 11,
    "start_time": "2024-12-30T11:26:15.990Z"
   },
   {
    "duration": 2907,
    "start_time": "2024-12-30T11:26:16.003Z"
   },
   {
    "duration": 1120226,
    "start_time": "2024-12-30T11:26:18.911Z"
   },
   {
    "duration": 139,
    "start_time": "2024-12-30T11:47:13.396Z"
   },
   {
    "duration": 67,
    "start_time": "2024-12-30T11:47:17.456Z"
   },
   {
    "duration": 7879,
    "start_time": "2024-12-30T11:47:21.298Z"
   },
   {
    "duration": 73366,
    "start_time": "2024-12-30T12:49:19.693Z"
   },
   {
    "duration": 20,
    "start_time": "2024-12-30T12:51:37.476Z"
   },
   {
    "duration": 27,
    "start_time": "2024-12-30T12:52:04.379Z"
   },
   {
    "duration": 27,
    "start_time": "2024-12-30T13:31:47.719Z"
   },
   {
    "duration": 6,
    "start_time": "2024-12-30T13:31:56.484Z"
   },
   {
    "duration": 57,
    "start_time": "2024-12-30T13:32:03.128Z"
   },
   {
    "duration": 163,
    "start_time": "2024-12-30T13:32:57.174Z"
   },
   {
    "duration": 6,
    "start_time": "2024-12-30T13:33:36.129Z"
   },
   {
    "duration": 977,
    "start_time": "2024-12-30T13:33:36.142Z"
   },
   {
    "duration": 35,
    "start_time": "2024-12-30T13:33:37.121Z"
   },
   {
    "duration": 29,
    "start_time": "2024-12-30T13:33:37.158Z"
   },
   {
    "duration": 12,
    "start_time": "2024-12-30T13:33:37.189Z"
   },
   {
    "duration": 2860,
    "start_time": "2024-12-30T13:33:37.203Z"
   },
   {
    "duration": 1115344,
    "start_time": "2024-12-30T13:33:40.065Z"
   },
   {
    "duration": 143,
    "start_time": "2024-12-30T13:52:15.411Z"
   },
   {
    "duration": 74,
    "start_time": "2024-12-30T13:52:15.555Z"
   },
   {
    "duration": 8,
    "start_time": "2024-12-30T13:52:15.634Z"
   },
   {
    "duration": 7993,
    "start_time": "2024-12-30T13:52:15.648Z"
   },
   {
    "duration": 112,
    "start_time": "2024-12-30T13:52:23.643Z"
   },
   {
    "duration": 0,
    "start_time": "2024-12-30T13:52:23.757Z"
   },
   {
    "duration": 162,
    "start_time": "2024-12-30T13:57:54.311Z"
   },
   {
    "duration": 159,
    "start_time": "2024-12-30T14:01:28.621Z"
   },
   {
    "duration": 164,
    "start_time": "2024-12-30T14:02:23.410Z"
   },
   {
    "duration": 5,
    "start_time": "2024-12-30T14:03:38.168Z"
   },
   {
    "duration": 929,
    "start_time": "2024-12-30T14:03:38.176Z"
   },
   {
    "duration": 42,
    "start_time": "2024-12-30T14:03:39.107Z"
   },
   {
    "duration": 28,
    "start_time": "2024-12-30T14:03:39.151Z"
   },
   {
    "duration": 19,
    "start_time": "2024-12-30T14:03:39.181Z"
   },
   {
    "duration": 2892,
    "start_time": "2024-12-30T14:03:39.202Z"
   },
   {
    "duration": 1124417,
    "start_time": "2024-12-30T14:03:42.095Z"
   },
   {
    "duration": 5,
    "start_time": "2024-12-30T14:22:26.514Z"
   },
   {
    "duration": 81,
    "start_time": "2024-12-30T14:22:26.534Z"
   },
   {
    "duration": 2,
    "start_time": "2024-12-30T14:22:26.617Z"
   },
   {
    "duration": 21,
    "start_time": "2024-12-30T14:22:26.621Z"
   },
   {
    "duration": 6,
    "start_time": "2024-12-30T14:22:26.645Z"
   },
   {
    "duration": 142504,
    "start_time": "2024-12-30T14:22:26.652Z"
   },
   {
    "duration": 26,
    "start_time": "2024-12-30T14:27:52.478Z"
   },
   {
    "duration": 1876,
    "start_time": "2024-12-30T14:28:50.194Z"
   },
   {
    "duration": 114145,
    "start_time": "2024-12-30T14:29:43.413Z"
   }
  ],
  "kernelspec": {
   "display_name": "Python 3 (ipykernel)",
   "language": "python",
   "name": "python3"
  },
  "language_info": {
   "codemirror_mode": {
    "name": "ipython",
    "version": 3
   },
   "file_extension": ".py",
   "mimetype": "text/x-python",
   "name": "python",
   "nbconvert_exporter": "python",
   "pygments_lexer": "ipython3",
   "version": "3.12.3"
  },
  "toc": {
   "base_numbering": 1,
   "nav_menu": {},
   "number_sections": true,
   "sideBar": true,
   "skip_h1_title": true,
   "title_cell": "Содержание",
   "title_sidebar": "Contents",
   "toc_cell": true,
   "toc_position": {
    "height": "calc(100% - 180px)",
    "left": "10px",
    "top": "150px",
    "width": "327.391px"
   },
   "toc_section_display": true,
   "toc_window_display": true
  }
 },
 "nbformat": 4,
 "nbformat_minor": 4
}
